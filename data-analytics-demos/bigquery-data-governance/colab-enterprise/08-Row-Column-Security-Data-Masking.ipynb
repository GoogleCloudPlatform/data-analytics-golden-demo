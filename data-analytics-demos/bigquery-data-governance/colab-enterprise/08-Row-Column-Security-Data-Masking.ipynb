{
  "cells": [
    {
      "cell_type": "markdown",
      "metadata": {
        "id": "kY_30Rx34OUq"
      },
      "source": [
        "### <font color='#4285f4'>Overview</font>"
      ]
    },
    {
      "cell_type": "markdown",
      "metadata": {
        "id": "G9q1DyNd4OUr"
      },
      "source": [
        "Overview: Demostrates Row and Column security along with Data Masking\n",
        "\n",
        "Process Flow:\n",
        "1.  Create the Taxonomy\n",
        "2.  Create the Parent Policy\n",
        "    a.  Create Child Policy Tags under the Parent Policy Tag (these are hierarchical, you can nest many levels)\n",
        "        i.  Credit Card\n",
        "        ii. Predicted Credit Amount\n",
        "        iii. SSN\n",
        "        iv. IP Address\n",
        "        v.  Email\n",
        "        vi. Address\n",
        "    b.  Create Data Masking Policies\n",
        "    c.  Assign Column Level Security and Data Masking Security (you should understand the rule hierarchy - [link](link_placeholder))\n",
        "3.  Update each BigQuery table setting the policy tag on each column\n",
        "4.  Run test queries (separate tables are used for demo purposes)\n",
        "    a.  You can optionally use a separate user to see how security works for a second user.\n",
        "\n",
        "\n",
        "Notes:\n",
        "* RLS, CLS and Data Masking work on BigLake tables (CSV, Parquet, etc), Native Tables and BigLake tables on OMNI\n",
        "\n",
        "Cost:\n",
        "* Approximate cost: less than $1\n",
        "\n",
        "Author:\n",
        "* Adam Paternostro"
      ]
    },
    {
      "cell_type": "code",
      "execution_count": null,
      "metadata": {
        "id": "wMI5OPnjmNTB"
      },
      "outputs": [],
      "source": [
        "# Architecture Diagram\n",
        "from IPython.display import Image\n",
        "Image(url='https://storage.googleapis.com/data-analytics-golden-demo/colab-diagrams/BigQuery-Data-Governance-CLS-RLS-DM.png', width=1000)"
      ]
    },
    {
      "cell_type": "markdown",
      "metadata": {
        "id": "arZT5tiq4OUs"
      },
      "source": [
        "### <font color='#4285f4'>Video Walkthrough</font>"
      ]
    },
    {
      "cell_type": "markdown",
      "metadata": {
        "id": "w3KQlz4l4OUs"
      },
      "source": [
        "[Video](https://storage.googleapis.com/REPLACE-ME.mp4)\n"
      ]
    },
    {
      "cell_type": "code",
      "execution_count": null,
      "metadata": {
        "id": "GSgqFV844OUs"
      },
      "outputs": [],
      "source": [
        "from IPython.display import HTML\n",
        "\n",
        "HTML(\"\"\"\n",
        "<video width=\"800\" height=\"600\" controls>\n",
        "  <source src=\"https://storage.googleapis.com/REPLACE-ME.mp4\" type=\"video/mp4\">\n",
        "  Your browser does not support the video tag.\n",
        "</video>\n",
        "\"\"\")"
      ]
    },
    {
      "cell_type": "markdown",
      "metadata": {
        "id": "HMsUvoF4BP7Y"
      },
      "source": [
        "### <font color='#4285f4'>License</font>"
      ]
    },
    {
      "cell_type": "markdown",
      "metadata": {
        "id": "jQgQkbOvj55d"
      },
      "source": [
        "```\n",
        "# Copyright 2024 Google LLC\n",
        "#\n",
        "# Licensed under the Apache License, Version 2.0 (the \"License\");\n",
        "# you may not use this file except in compliance with the License.\n",
        "# You may obtain a copy of the License at\n",
        "#\n",
        "#     https://www.apache.org/licenses/LICENSE-2.0\n",
        "#\n",
        "# Unless required by applicable law or agreed to in writing, software\n",
        "# distributed under the License is distributed on an \"AS IS\" BASIS,\n",
        "# WITHOUT WARRANTIES OR CONDITIONS OF ANY KIND, either express or implied.\n",
        "# See the License for the specific language governing permissions and\n",
        "# limitations under the License.\n",
        "```"
      ]
    },
    {
      "cell_type": "markdown",
      "metadata": {
        "id": "m65vp54BUFRi"
      },
      "source": [
        "### <font color='#4285f4'>Pip installs</font>"
      ]
    },
    {
      "cell_type": "code",
      "execution_count": null,
      "metadata": {
        "id": "5MaWM6H5i6rX"
      },
      "outputs": [],
      "source": [
        "# PIP Installs (if necessary)\n",
        "import sys\n",
        "\n",
        "# !{sys.executable} -m pip install REPLACE-ME"
      ]
    },
    {
      "cell_type": "markdown",
      "metadata": {
        "id": "UmyL-Rg4Dr_f"
      },
      "source": [
        "### <font color='#4285f4'>Initialize</font>"
      ]
    },
    {
      "cell_type": "code",
      "execution_count": null,
      "metadata": {
        "id": "xOYsEVSXp6IP"
      },
      "outputs": [],
      "source": [
        "from PIL import Image\n",
        "from IPython.display import HTML\n",
        "import IPython.display\n",
        "import google.auth\n",
        "import requests\n",
        "import json\n",
        "import uuid\n",
        "import base64\n",
        "import os\n",
        "import cv2\n",
        "import random\n",
        "import time\n",
        "import datetime\n",
        "import base64\n",
        "import random\n",
        "\n",
        "import logging\n",
        "from tenacity import retry, wait_exponential, stop_after_attempt, before_sleep_log, retry_if_exception"
      ]
    },
    {
      "cell_type": "code",
      "execution_count": null,
      "metadata": {
        "id": "wMlHl3bnkFPZ"
      },
      "outputs": [],
      "source": [
        "# Set these (run this cell to verify the output)\n",
        "\n",
        "bigquery_location = \"${bigquery_location}\"\n",
        "dataplex_region = \"${dataplex_region}\"\n",
        "location = \"${dataplex_region}\"\n",
        "\n",
        "# Get the current date and time\n",
        "now = datetime.datetime.now()\n",
        "\n",
        "# Format the date and time as desired\n",
        "formatted_date = now.strftime(\"%Y-%m-%d-%H-%M\")\n",
        "\n",
        "# Get some values using gcloud\n",
        "project_id = os.environ[\"GOOGLE_CLOUD_PROJECT\"]\n",
        "user = !(gcloud auth list --filter=status:ACTIVE --format=\"value(account)\")\n",
        "\n",
        "if len(user) != 1:\n",
        "  raise RuntimeError(f\"user is not set: {user}\")\n",
        "user = user[0]\n",
        "\n",
        "print(f\"project_id = {project_id}\")\n",
        "print(f\"user = {user}\")"
      ]
    },
    {
      "cell_type": "markdown",
      "metadata": {
        "id": "sZ6m_wGrK0YG"
      },
      "source": [
        "### <font color='#4285f4'>Helper Methods</font>"
      ]
    },
    {
      "cell_type": "markdown",
      "metadata": {
        "id": "JbOjdSP1kN9T"
      },
      "source": [
        "#### restAPIHelper\n",
        "Calls the Google Cloud REST API using the current users credentials."
      ]
    },
    {
      "cell_type": "code",
      "execution_count": null,
      "metadata": {
        "id": "40wlwnY4kM11"
      },
      "outputs": [],
      "source": [
        "def restAPIHelper(url: str, http_verb: str, request_body: str) -> str:\n",
        "  \"\"\"Calls the Google Cloud REST API passing in the current users credentials\"\"\"\n",
        "\n",
        "  import requests\n",
        "  import google.auth\n",
        "  import json\n",
        "\n",
        "  # Get an access token based upon the current user\n",
        "  creds, project = google.auth.default()\n",
        "  auth_req = google.auth.transport.requests.Request()\n",
        "  creds.refresh(auth_req)\n",
        "  access_token=creds.token\n",
        "\n",
        "  headers = {\n",
        "    \"Content-Type\" : \"application/json\",\n",
        "    \"Authorization\" : \"Bearer \" + access_token\n",
        "  }\n",
        "\n",
        "  if http_verb == \"GET\":\n",
        "    response = requests.get(url, headers=headers)\n",
        "  elif http_verb == \"POST\":\n",
        "    response = requests.post(url, json=request_body, headers=headers)\n",
        "  elif http_verb == \"PUT\":\n",
        "    response = requests.put(url, json=request_body, headers=headers)\n",
        "  elif http_verb == \"PATCH\":\n",
        "    response = requests.patch(url, json=request_body, headers=headers)\n",
        "  elif http_verb == \"DELETE\":\n",
        "    response = requests.delete(url, headers=headers)\n",
        "  else:\n",
        "    raise RuntimeError(f\"Unknown HTTP verb: {http_verb}\")\n",
        "\n",
        "  if response.status_code == 200:\n",
        "    return json.loads(response.content)\n",
        "    #image_data = json.loads(response.content)[\"predictions\"][0][\"bytesBase64Encoded\"]\n",
        "  else:\n",
        "    error = f\"Error restAPIHelper -> ' Status: '{response.status_code}' Text: '{response.text}'\"\n",
        "    raise RuntimeError(error)"
      ]
    },
    {
      "cell_type": "markdown",
      "metadata": {
        "id": "KO5yslrP4OUt"
      },
      "source": [
        "#### RetryCondition (for retrying LLM calls)"
      ]
    },
    {
      "cell_type": "code",
      "execution_count": null,
      "metadata": {
        "id": "O654oWMp4OUt"
      },
      "outputs": [],
      "source": [
        "def RetryCondition(error):\n",
        "  error_string = str(error)\n",
        "  print(error_string)\n",
        "\n",
        "  retry_errors = [\n",
        "      \"RESOURCE_EXHAUSTED\",\n",
        "      \"No content in candidate\",\n",
        "      # Add more error messages here as needed\n",
        "  ]\n",
        "\n",
        "  for retry_error in retry_errors:\n",
        "    if retry_error in error_string:\n",
        "      print(\"Retrying...\")\n",
        "      return True\n",
        "\n",
        "  return False"
      ]
    },
    {
      "cell_type": "markdown",
      "metadata": {
        "id": "vOFTk6sj1YIV"
      },
      "source": [
        "#### Gemini LLM"
      ]
    },
    {
      "cell_type": "code",
      "execution_count": null,
      "metadata": {
        "id": "xHit3Hh-1ZAW"
      },
      "outputs": [],
      "source": [
        "@retry(wait=wait_exponential(multiplier=1, min=1, max=60), stop=stop_after_attempt(10), retry=retry_if_exception(RetryCondition), before_sleep=before_sleep_log(logging.getLogger(), logging.INFO))\n",
        "def GeminiLLM(prompt, model = \"gemini-2.0-flash\", response_schema = None,\n",
        "                 temperature = 1, topP = 1, topK = 32):\n",
        "\n",
        "  # https://cloud.google.com/vertex-ai/generative-ai/docs/model-reference/inference#supported_models\n",
        "\n",
        "  llm_response = None\n",
        "  if temperature < 0:\n",
        "    temperature = 0\n",
        "\n",
        "  creds, project = google.auth.default()\n",
        "  auth_req = google.auth.transport.requests.Request() # required to acess access token\n",
        "  creds.refresh(auth_req)\n",
        "  access_token=creds.token\n",
        "\n",
        "  headers = {\n",
        "      \"Content-Type\" : \"application/json\",\n",
        "      \"Authorization\" : \"Bearer \" + access_token\n",
        "  }\n",
        "\n",
        "  # https://cloud.google.com/vertex-ai/generative-ai/docs/model-reference/inference\n",
        "  url = f\"https://{location}-aiplatform.googleapis.com/v1/projects/{project_id}/locations/{location}/publishers/google/models/{model}:generateContent\"\n",
        "\n",
        "  generation_config = {\n",
        "    \"temperature\": temperature,\n",
        "    \"topP\": topP,\n",
        "    \"maxOutputTokens\": 8192,\n",
        "    \"candidateCount\": 1,\n",
        "    \"responseMimeType\": \"application/json\",\n",
        "  }\n",
        "\n",
        "  # Add inthe response schema for when it is provided\n",
        "  if response_schema is not None:\n",
        "    generation_config[\"responseSchema\"] = response_schema\n",
        "\n",
        "  if model == \"gemini-2.0-flash\":\n",
        "    generation_config[\"topK\"] = topK\n",
        "\n",
        "  payload = {\n",
        "    \"contents\": {\n",
        "      \"role\": \"user\",\n",
        "      \"parts\": {\n",
        "          \"text\": prompt\n",
        "      },\n",
        "    },\n",
        "    \"generation_config\": {\n",
        "      **generation_config\n",
        "    },\n",
        "    \"safety_settings\": {\n",
        "      \"category\": \"HARM_CATEGORY_SEXUALLY_EXPLICIT\",\n",
        "      \"threshold\": \"BLOCK_LOW_AND_ABOVE\"\n",
        "    }\n",
        "  }\n",
        "\n",
        "  response = requests.post(url, json=payload, headers=headers)\n",
        "\n",
        "  if response.status_code == 200:\n",
        "    try:\n",
        "      json_response = json.loads(response.content)\n",
        "    except Exception as error:\n",
        "      raise RuntimeError(f\"An error occurred parsing the JSON: {error}\")\n",
        "\n",
        "    if \"candidates\" in json_response:\n",
        "      candidates = json_response[\"candidates\"]\n",
        "      if len(candidates) > 0:\n",
        "        candidate = candidates[0]\n",
        "        if \"content\" in candidate:\n",
        "          content = candidate[\"content\"]\n",
        "          if \"parts\" in content:\n",
        "            parts = content[\"parts\"]\n",
        "            if len(parts):\n",
        "              part = parts[0]\n",
        "              if \"text\" in part:\n",
        "                text = part[\"text\"]\n",
        "                llm_response = text\n",
        "              else:\n",
        "                raise RuntimeError(\"No text in part: {response.content}\")\n",
        "            else:\n",
        "              raise RuntimeError(\"No parts in content: {response.content}\")\n",
        "          else:\n",
        "            raise RuntimeError(\"No parts in content: {response.content}\")\n",
        "        else:\n",
        "          raise RuntimeError(\"No content in candidate: {response.content}\")\n",
        "      else:\n",
        "        raise RuntimeError(\"No candidates: {response.content}\")\n",
        "    else:\n",
        "      raise RuntimeError(\"No candidates: {response.content}\")\n",
        "\n",
        "    # Remove some typically response characters (if asking for a JSON reply)\n",
        "    llm_response = llm_response.replace(\"```json\",\"\")\n",
        "    llm_response = llm_response.replace(\"```\",\"\")\n",
        "    llm_response = llm_response.replace(\"\\n\",\"\")\n",
        "\n",
        "    return llm_response\n",
        "\n",
        "  else:\n",
        "    raise RuntimeError(f\"Error with prompt:'{prompt}'  Status:'{response.status_code}' Text:'{response.text}'\")"
      ]
    },
    {
      "cell_type": "code",
      "execution_count": null,
      "metadata": {
        "id": "rWXSCd5VCPjf"
      },
      "outputs": [],
      "source": [
        "@retry(wait=wait_exponential(multiplier=1, min=1, max=60), stop=stop_after_attempt(10), retry=retry_if_exception(RetryCondition), before_sleep=before_sleep_log(logging.getLogger(), logging.INFO))\n",
        "def GeminiLLM_VerifyImage(prompt, imageBase64, model = \"gemini-2.0-flash\", response_schema = None,\n",
        "                 temperature = 1, topP = 1, topK = 32):\n",
        "\n",
        "  # https://cloud.google.com/vertex-ai/generative-ai/docs/model-reference/inference#supported_models\n",
        "\n",
        "  llm_response = None\n",
        "  if temperature < 0:\n",
        "    temperature = 0\n",
        "\n",
        "  creds, project = google.auth.default()\n",
        "  auth_req = google.auth.transport.requests.Request() # required to acess access token\n",
        "  creds.refresh(auth_req)\n",
        "  access_token=creds.token\n",
        "\n",
        "  headers = {\n",
        "      \"Content-Type\" : \"application/json\",\n",
        "      \"Authorization\" : \"Bearer \" + access_token\n",
        "  }\n",
        "\n",
        "  # https://cloud.google.com/vertex-ai/generative-ai/docs/model-reference/inference\n",
        "  url = f\"https://{location}-aiplatform.googleapis.com/v1/projects/{project_id}/locations/{location}/publishers/google/models/{model}:generateContent\"\n",
        "\n",
        "  generation_config = {\n",
        "    \"temperature\": temperature,\n",
        "    \"topP\": topP,\n",
        "    \"maxOutputTokens\": 8192,\n",
        "    \"candidateCount\": 1,\n",
        "    \"responseMimeType\": \"application/json\",\n",
        "  }\n",
        "\n",
        "  # Add inthe response schema for when it is provided\n",
        "  if response_schema is not None:\n",
        "    generation_config[\"responseSchema\"] = response_schema\n",
        "\n",
        "  if model == \"gemini-2.0-flash\":\n",
        "    generation_config[\"topK\"] = topK\n",
        "\n",
        "  payload = {\n",
        "    \"contents\": {\n",
        "      \"role\": \"user\",\n",
        "      \"parts\": [\n",
        "          { \"text\": prompt },\n",
        "          { \"inlineData\": {  \"mimeType\": \"image/png\", \"data\": f\"{imageBase64}\" } }\n",
        "        ]\n",
        "    },\n",
        "    \"generation_config\": {\n",
        "      **generation_config\n",
        "    },\n",
        "    \"safety_settings\": {\n",
        "      \"category\": \"HARM_CATEGORY_SEXUALLY_EXPLICIT\",\n",
        "      \"threshold\": \"BLOCK_LOW_AND_ABOVE\"\n",
        "    }\n",
        "  }\n",
        "\n",
        "  response = requests.post(url, json=payload, headers=headers)\n",
        "\n",
        "  if response.status_code == 200:\n",
        "    try:\n",
        "      json_response = json.loads(response.content)\n",
        "    except Exception as error:\n",
        "      raise RuntimeError(f\"An error occurred parsing the JSON: {error}\")\n",
        "\n",
        "    if \"candidates\" in json_response:\n",
        "      candidates = json_response[\"candidates\"]\n",
        "      if len(candidates) > 0:\n",
        "        candidate = candidates[0]\n",
        "        if \"content\" in candidate:\n",
        "          content = candidate[\"content\"]\n",
        "          if \"parts\" in content:\n",
        "            parts = content[\"parts\"]\n",
        "            if len(parts):\n",
        "              part = parts[0]\n",
        "              if \"text\" in part:\n",
        "                text = part[\"text\"]\n",
        "                llm_response = text\n",
        "              else:\n",
        "                raise RuntimeError(\"No text in part: {response.content}\")\n",
        "            else:\n",
        "              raise RuntimeError(\"No parts in content: {response.content}\")\n",
        "          else:\n",
        "            raise RuntimeError(\"No parts in content: {response.content}\")\n",
        "        else:\n",
        "          raise RuntimeError(\"No content in candidate: {response.content}\")\n",
        "      else:\n",
        "        raise RuntimeError(\"No candidates: {response.content}\")\n",
        "    else:\n",
        "      raise RuntimeError(\"No candidates: {response.content}\")\n",
        "\n",
        "    # Remove some typically response characters (if asking for a JSON reply)\n",
        "    llm_response = llm_response.replace(\"```json\",\"\")\n",
        "    llm_response = llm_response.replace(\"```\",\"\")\n",
        "    llm_response = llm_response.replace(\"\\n\",\"\")\n",
        "\n",
        "    return llm_response\n",
        "\n",
        "  else:\n",
        "    raise RuntimeError(f\"Error with prompt:'{prompt}'  Status:'{response.status_code}' Text:'{response.text}'\")"
      ]
    },
    {
      "cell_type": "markdown",
      "metadata": {
        "id": "bI-KJELZ1jgt"
      },
      "source": [
        "#### Helper Functions"
      ]
    },
    {
      "cell_type": "code",
      "execution_count": null,
      "metadata": {
        "id": "pmnCwYvA1kZv"
      },
      "outputs": [],
      "source": [
        "def RunQuery(sql):\n",
        "  import time\n",
        "  from google.cloud import bigquery\n",
        "  client = bigquery.Client()\n",
        "\n",
        "  if (sql.startswith(\"SELECT\") or sql.startswith(\"WITH\")):\n",
        "      df_result = client.query(sql).to_dataframe()\n",
        "      return df_result\n",
        "  else:\n",
        "    job_config = bigquery.QueryJobConfig(priority=bigquery.QueryPriority.INTERACTIVE)\n",
        "    query_job = client.query(sql, job_config=job_config)\n",
        "\n",
        "    # Check on the progress by getting the job's updated state.\n",
        "    query_job = client.get_job(\n",
        "        query_job.job_id, location=query_job.location\n",
        "    )\n",
        "    print(\"Job {} is currently in state {} with error result of {}\".format(query_job.job_id, query_job.state, query_job.error_result))\n",
        "\n",
        "    while query_job.state != \"DONE\":\n",
        "      time.sleep(2)\n",
        "      query_job = client.get_job(\n",
        "          query_job.job_id, location=query_job.location\n",
        "          )\n",
        "      print(\"Job {} is currently in state {} with error result of {}\".format(query_job.job_id, query_job.state, query_job.error_result))\n",
        "\n",
        "    if query_job.error_result == None:\n",
        "      return True\n",
        "    else:\n",
        "      raise Exception(query_job.error_result)"
      ]
    },
    {
      "cell_type": "code",
      "execution_count": null,
      "metadata": {
        "id": "VNAmwvAf1knl"
      },
      "outputs": [],
      "source": [
        "def PrettyPrintJson(json_string):\n",
        "  json_object = json.loads(json_string)\n",
        "  json_formatted_str = json.dumps(json_object, indent=2)\n",
        "  return json_formatted_str"
      ]
    },
    {
      "cell_type": "code",
      "execution_count": null,
      "metadata": {
        "id": "IBH7sIg3XlGv"
      },
      "outputs": [],
      "source": [
        "def GetNextPrimaryKey(fully_qualified_table_name, field_name):\n",
        "  from google.cloud import bigquery\n",
        "  client = bigquery.Client()\n",
        "  sql = f\"\"\"\n",
        "  SELECT IFNULL(MAX({field_name}),0) AS result\n",
        "    FROM `{fully_qualified_table_name}`\n",
        "  \"\"\"\n",
        "  # print(sql)\n",
        "  df_result = client.query(sql).to_dataframe()\n",
        "  # display(df_result)\n",
        "  return df_result['result'].iloc[0] + 1"
      ]
    },
    {
      "cell_type": "markdown",
      "metadata": {
        "id": "EYRHDPdVKBzd"
      },
      "source": [
        "### <font color='#4285f4'>Taxonomy / Policy Helper Functions</font>"
      ]
    },
    {
      "cell_type": "markdown",
      "metadata": {
        "id": "sW5lCEFG7UiL"
      },
      "source": [
        "#### createTaxonomy\n",
        "Creates the top level Taxonomy"
      ]
    },
    {
      "cell_type": "code",
      "execution_count": null,
      "metadata": {
        "id": "WAMkURwV7VEe"
      },
      "outputs": [],
      "source": [
        "def createTaxonomy(project_id, bigquery_location, taxonomy_name, description):\n",
        "  \"\"\"Creates a Taxonomy.\"\"\"\n",
        "\n",
        "  # First find the connection\n",
        "  # https://cloud.google.com/data-catalog/docs/reference/rest/v1/projects.locations.taxonomies/list\n",
        "  url = f\"https://datacatalog.googleapis.com/v1/projects/{project_id}/locations/{bigquery_location}/taxonomies\"\n",
        "\n",
        "\n",
        "  # Gather existing connections\n",
        "  json_result = restAPIHelper(url, \"GET\", None)\n",
        "  print(f\"createTaxonomy (GET) json_result: {json_result}\")\n",
        "\n",
        "  # Test to see if connection exists, if so return\n",
        "  if \"taxonomies\" in json_result:\n",
        "    for item in json_result[\"taxonomies\"]:\n",
        "      print(f\"displayName: {item['displayName']}\")\n",
        "      # \"projects/test/locations/us/taxonomies/2620666826070342226\"\n",
        "      # NOTE: We cannot test the complete name since it contains the an unknown number\n",
        "      if item[\"displayName\"] == taxonomy_name:\n",
        "        print(\"Taxonomy already exists\")\n",
        "        name = item[\"name\"]\n",
        "        return name\n",
        "\n",
        "  # Create the taxonomy\n",
        "  # https://cloud.google.com/data-catalog/docs/reference/rest/v1/projects.locations.taxonomies/create\n",
        "  print(\"Creating Taxonomy\")\n",
        "\n",
        "  url = f\"https://datacatalog.googleapis.com/v1/projects/{project_id}/locations/{bigquery_location}/taxonomies\"\n",
        "\n",
        "  request_body = {\n",
        "      \"displayName\": taxonomy_name,\n",
        "      \"description\": description,\n",
        "  }\n",
        "\n",
        "  json_result = restAPIHelper(url, \"POST\", request_body)\n",
        "\n",
        "  name = json_result[\"name\"]\n",
        "  print(\"Taxonomy created: \", name)\n",
        "  return name"
      ]
    },
    {
      "cell_type": "markdown",
      "metadata": {
        "id": "-OQlbb5Z49RH"
      },
      "source": [
        "#### createPolicyTag\n",
        "Creates a Taxonomy Policy Tag or Child Policy Tag"
      ]
    },
    {
      "cell_type": "code",
      "execution_count": null,
      "metadata": {
        "id": "X91sdSOG49kQ"
      },
      "outputs": [],
      "source": [
        "def createPolicyTag(project_id, taxonomy_name, policy_parent, policy_name):\n",
        "  \"\"\"Creates Taxonomy Policy Tag or Sub-Policy Tag\"\"\"\n",
        "\n",
        "  # First find the connection\n",
        "  # https://cloud.google.com/data-catalog/docs/reference/rest/v1/projects.locations.taxonomies/list\n",
        "\n",
        "\n",
        "  url = f\"https://datacatalog.googleapis.com/v1/{taxonomy_name}/policyTags\"\n",
        "\n",
        "  # Gather existing connections\n",
        "  json_result = restAPIHelper(url, \"GET\", None)\n",
        "  print(f\"createTaxonomyPolicyTags (GET) json_result: {json_result}\")\n",
        "\n",
        "  # Test to see if connection exists, if so returns\n",
        "  if \"policyTags\" in json_result:\n",
        "    for item in json_result[\"policyTags\"]:\n",
        "      # print(f\"displayName: {item['displayName']}\")\n",
        "      # \"projects/test/locations/us/taxonomies/2620666826070342226\"\n",
        "      # NOTE: We cannot test the complete name since it contains the an unknown number\n",
        "      if item[\"displayName\"] == policy_name:\n",
        "        print(f\"{policy_name} already exists\")\n",
        "        return item[\"name\"]\n",
        "\n",
        "\n",
        "  # Create the taxonomy (High)\n",
        "  # https://cloud.google.com/data-catalog/docs/reference/rest/v1/projects.locations.taxonomies.policyTags/create\n",
        "  print(f\"Creating Policy {policy_name}\")\n",
        "\n",
        "  url = f\"https://datacatalog.googleapis.com/v1/{taxonomy_name}/policyTags\"\n",
        "\n",
        "  if policy_parent is  None:\n",
        "    request_body = {\n",
        "        \"displayName\": policy_name,\n",
        "        \"description\": \"BigQuery Data Governance Demo - \" + policy_name,\n",
        "    }\n",
        "  else:\n",
        "    request_body = {\n",
        "        \"parentPolicyTag\" : policy_parent,\n",
        "        \"displayName\": policy_name,\n",
        "        \"description\": \"BigQuery Data Governance Demo - \" + policy_name,\n",
        "    }\n",
        "\n",
        "  json_result = restAPIHelper(url, \"POST\", request_body)\n",
        "\n",
        "  policy_full_name = json_result[\"name\"]\n",
        "  print(\"Policy created: \", policy_full_name)\n",
        "\n",
        "  return policy_full_name"
      ]
    },
    {
      "cell_type": "markdown",
      "metadata": {
        "id": "n3QxRR6r4laE"
      },
      "source": [
        "#### securePolicyTag\n",
        "Secures a policy (column level security)"
      ]
    },
    {
      "cell_type": "code",
      "execution_count": null,
      "metadata": {
        "id": "PJsTtUbD5SsQ"
      },
      "outputs": [],
      "source": [
        "def secureDataPolicy(project_id, bigquery_location, user, data_policy_name):\n",
        "  \"\"\"Secure a Data Policy.\"\"\"\n",
        "\n",
        "  # First find the IAM Permission\n",
        "  # https://cloud.google.com/bigquery/docs/reference/bigquerydatapolicy/rest/v1/projects.locations.dataPolicies/getIamPolicy\n",
        "\n",
        "  url = f\"https://bigquerydatapolicy.googleapis.com/v1/{data_policy_name}:getIamPolicy\"\n",
        "\n",
        "  # Gather existing data policies\n",
        "  request_body = { }\n",
        "  json_result = restAPIHelper(url, \"POST\", request_body)\n",
        "  print(f\"getIamPolicy (POST) json_result: {json_result}\")\n",
        "\n",
        "  # Test for existance\n",
        "  members = []\n",
        "  if \"bindings\" in json_result:\n",
        "    for item in json_result[\"bindings\"]:\n",
        "      print(f\"role: {item['role']}\") # I should check the role here too \"roles/bigquerydatapolicy.maskedReader\"\n",
        "      for member in item[\"members\"]:\n",
        "        print(f\"member: {member}\")\n",
        "        if member == \"user:\" + user:\n",
        "          print(f\"secureDataPolicy: Permissions exist member: {member}\")\n",
        "          return\n",
        "        else:\n",
        "          members.append(member)\n",
        "\n",
        "  members.append(\"user:\" + user)\n",
        "  \n",
        "  print(f\"members: {members}\")\n",
        "\n",
        "  # Set IAM\n",
        "  # https://cloud.google.com/bigquery/docs/reference/bigquerydatapolicy/rest/v1/projects.locations.dataPolicies/setIamPolicy\n",
        "  url = f\"https://bigquerydatapolicy.googleapis.com/v1/{data_policy_name}:setIamPolicy\"\n",
        "\n",
        "  request_body = {\n",
        "        \"policy\": {\n",
        "            \"bindings\":[\n",
        "                {\n",
        "                    \"members\": members,\n",
        "                    \"role\": \"roles/bigquerydatapolicy.maskedReader\"\n",
        "                    }\n",
        "                ]\n",
        "            },\n",
        "        \"updateMask\" : \"bindings\"\n",
        "        }\n",
        "\n",
        "  json_result = restAPIHelper(url, \"POST\", request_body)\n",
        "  print(\"IAM Security Set: \", data_policy_name)"
      ]
    },
    {
      "cell_type": "markdown",
      "metadata": {
        "id": "5Z-xYuxK4wVQ"
      },
      "source": [
        "#### createDataPolicy\n",
        "Create a data masking policy"
      ]
    },
    {
      "cell_type": "code",
      "execution_count": null,
      "metadata": {
        "id": "XzZPi_Im4xcu"
      },
      "outputs": [],
      "source": [
        "def createDataPolicy(project_id, bigquery_location, policyTag, policy_name, dataPolicyType, predefinedExpression):\n",
        "  \"\"\"Creates a Data Policy.\"\"\"\n",
        "\n",
        "  # First find the connection\n",
        "  # https://cloud.google.com/bigquery/docs/reference/bigquerydatapolicy/rest/v1/projects.locations.dataPolicies/list?\n",
        "\n",
        "  url = f\"https://bigquerydatapolicy.googleapis.com/v1/projects/{project_id}/locations/{bigquery_location}/dataPolicies\"\n",
        "\n",
        "  # Gather existing data policies\n",
        "  json_result = restAPIHelper(url, \"GET\", None)\n",
        "  print(f\"createDataPolicies (GET) json_result: {json_result}\")\n",
        "\n",
        "  # Test for policy_name\n",
        "  if \"dataPolicies\" in json_result:\n",
        "    for item in json_result[\"dataPolicies\"]:\n",
        "      # print(f\"name: {item['name']}\")\n",
        "      if item[\"name\"] == f\"projects/{project_id}/locations/{bigquery_location}/dataPolicies/{policy_name}\":\n",
        "        print(f\"createDataPolicy policy exists: {policy_name}\")\n",
        "        return item[\"name\"]\n",
        "\n",
        "  # Create Data Policy\n",
        "  # https://cloud.google.com/bigquery/docs/reference/bigquerydatapolicy/rest/v1/projects.locations.dataPolicies/create\n",
        "  url = f\"https://bigquerydatapolicy.googleapis.com/v1/projects/{project_id}/locations/{bigquery_location}/dataPolicies\"\n",
        "\n",
        "  # Create\n",
        "  print(f\"Creating Data Policy {policy_name}\")\n",
        "\n",
        "  request_body = {\n",
        "      \"dataPolicyId\": policy_name,\n",
        "      \"dataPolicyType\": dataPolicyType,\n",
        "      \"policyTag\" : policyTag,\n",
        "      \"dataMaskingPolicy\": {\n",
        "          \"predefinedExpression\": predefinedExpression\n",
        "          }\n",
        "  }\n",
        "\n",
        "  json_result = restAPIHelper(url, \"POST\", request_body)\n",
        "\n",
        "  policy_name = json_result[\"name\"]\n",
        "  print(\"Data Policy created: \", policy_name)\n",
        "\n",
        "  return policy_name"
      ]
    },
    {
      "cell_type": "markdown",
      "metadata": {
        "id": "3K6UEHDG40HA"
      },
      "source": [
        "#### secureDataPolicy\n",
        "Secures a data policy (masking) tag"
      ]
    },
    {
      "cell_type": "code",
      "execution_count": null,
      "metadata": {
        "id": "fQGPNPaI40ye"
      },
      "outputs": [],
      "source": [
        "def secureDataPolicy(project_id, bigquery_location, user, data_policy_name):\n",
        "  \"\"\"Secure a Data Policy.\"\"\"\n",
        "\n",
        "  # First find the IAM Permission\n",
        "  # https://cloud.google.com/bigquery/docs/reference/bigquerydatapolicy/rest/v1/projects.locations.dataPolicies/getIamPolicy\n",
        "\n",
        "  url = f\"https://bigquerydatapolicy.googleapis.com/v1/{data_policy_name}:getIamPolicy\"\n",
        "\n",
        "  # Gather existing data policies\n",
        "  request_body = { }\n",
        "  json_result = restAPIHelper(url, \"POST\", request_body)\n",
        "  print(f\"getIamPolicy (POST) json_result: {json_result}\")\n",
        "\n",
        "  # Test for existance\n",
        "  if \"bindings\" in json_result:\n",
        "    for item in json_result[\"bindings\"]:\n",
        "      print(f\"role: {item['role']}\") # I should check the role here too \"roles/bigquerydatapolicy.maskedReader\"\n",
        "      for member in item[\"members\"]:\n",
        "        print(f\"member: {member}\")\n",
        "        if member == \"user:\" + user:\n",
        "          print(f\"secureDataPolicy: Permissions exist member: {member}\")\n",
        "          return\n",
        "\n",
        "  # Set IAM\n",
        "  # https://cloud.google.com/bigquery/docs/reference/bigquerydatapolicy/rest/v1/projects.locations.dataPolicies/setIamPolicy\n",
        "  url = f\"https://bigquerydatapolicy.googleapis.com/v1/{data_policy_name}:setIamPolicy\"\n",
        "\n",
        "  request_body = {\n",
        "        \"policy\": {\n",
        "            \"bindings\":[\n",
        "                {\n",
        "                    \"members\": [ \"user:\" + user ],\n",
        "                    \"role\": \"roles/bigquerydatapolicy.maskedReader\"\n",
        "                    }\n",
        "                ]\n",
        "            },\n",
        "        \"updateMask\" : \"bindings\"\n",
        "        }\n",
        "\n",
        "  json_result = restAPIHelper(url, \"POST\", request_body)\n",
        "  print(\"IAM Security Set: \", data_policy_name)"
      ]
    },
    {
      "cell_type": "markdown",
      "metadata": {
        "id": "_QhDfSfYOcb6"
      },
      "source": [
        "#### getTableSchema\n",
        "Retrieve a BigQuery table schema as JSON"
      ]
    },
    {
      "cell_type": "code",
      "execution_count": null,
      "metadata": {
        "id": "dbthEHwPOcuP"
      },
      "outputs": [],
      "source": [
        "def getTableSchema(project_id, dataset_name, table_name):\n",
        "  import io\n",
        "  import google.cloud.bigquery as bigquery\n",
        "\n",
        "  client = bigquery.Client()\n",
        "\n",
        "  dataset_ref = client.dataset(dataset_name, project=project_id)\n",
        "  table_ref = dataset_ref.table(table_name)\n",
        "  table = client.get_table(table_ref)\n",
        "\n",
        "  f = io.StringIO(\"\")\n",
        "  client.schema_to_json(table.schema, f)\n",
        "  return f.getvalue()"
      ]
    },
    {
      "cell_type": "markdown",
      "metadata": {
        "id": "eyYcxZirOWMX"
      },
      "source": [
        "#### updateTableSchema\n",
        "Sets the schema for a BigQuery table (CLS , Data Masking)"
      ]
    },
    {
      "cell_type": "code",
      "execution_count": null,
      "metadata": {
        "id": "bApk9lFOOWfX"
      },
      "outputs": [],
      "source": [
        "def updateTableSchema(project_id, dataset_name, table_name, new_schema):\n",
        "  import io\n",
        "  import google.cloud.bigquery as bigquery\n",
        "\n",
        "  client = bigquery.Client()\n",
        "\n",
        "  dataset_ref = client.dataset(dataset_name, project=project_id)\n",
        "  table_ref = dataset_ref.table(table_name)\n",
        "  table = client.get_table(table_ref)\n",
        "\n",
        "  table.schema = new_schema\n",
        "  table = client.update_table(table, [\"schema\"])\n",
        "\n",
        "  print(f\"Table {table_name} schema updated!\")"
      ]
    },
    {
      "cell_type": "markdown",
      "metadata": {
        "id": "c51M89g0Ejmz"
      },
      "source": [
        "### <font color='#4285f4'>Configure Policies</font>"
      ]
    },
    {
      "cell_type": "markdown",
      "metadata": {
        "id": "KRJp6_xBHA-r"
      },
      "source": [
        "| Column                  | Manager               | Employee             |\n",
        "|-------------------------|-----------------------|----------------------|\n",
        "| credit_card_number      | Last 4                | No Access            |\n",
        "| predicted_credit_amount | Access                | No Access            |\n",
        "| ssn                     | Last 4                | Nullify              |\n",
        "| ip_address              | Last 4                | Hash (SHA-256)       |\n",
        "| email                   | Email mask            | Email mask           |\n",
        "| address                 | First four characters | Last four characters |"
      ]
    },
    {
      "cell_type": "code",
      "execution_count": null,
      "metadata": {
        "id": "EogdhTFeZW8S"
      },
      "outputs": [],
      "source": [
        "################################################################################\n",
        "# Create Hierarchical Data Policies\n",
        "################################################################################\n",
        "taxonomy_name = project_id.lower()\n",
        "\n",
        "################################################################################\n",
        "# To see the Taxonomy open this link in a new tab: https://console.cloud.google.com/bigquery/policy-tags\n",
        "################################################################################\n",
        "taxonomy_name = createTaxonomy(project_id, bigquery_location, taxonomy_name, \"BigQuery Data Governance Demo\")\n",
        "print(f\"taxonomy_name: {taxonomy_name}\")"
      ]
    },
    {
      "cell_type": "code",
      "execution_count": null,
      "metadata": {
        "id": "cZl_sJt02Oa5"
      },
      "outputs": [],
      "source": [
        "################################################################################\n",
        "# Policies [create policies on columns we want to security and/or perform data masking]\n",
        "################################################################################\n",
        "policy = createPolicyTag(project_id, taxonomy_name, None, \"data-security\")\n",
        "print(f\"policy: {policy}\")\n",
        "\n",
        "# Credit Card\n",
        "policy_credit_card_number = createPolicyTag(project_id, taxonomy_name, policy, \"policy_credit_card_number\")\n",
        "print(f\"policy_credit_card_number: {policy_credit_card_number}\")\n",
        "\n",
        "# Predicted Credit Amount\n",
        "policy_predicted_credit_amount = createPolicyTag(project_id, taxonomy_name, policy, \"policy_predicted_credit_amount\")\n",
        "print(f\"policy_predicted_credit_amount: {policy_predicted_credit_amount}\")\n",
        "\n",
        "# SSN\n",
        "policy_ssn = createPolicyTag(project_id, taxonomy_name, policy, \"policy_ssn\")\n",
        "print(f\"policy_ssn: {policy_ssn}\")\n",
        "\n",
        "# IP Address\n",
        "policy_ip_address = createPolicyTag(project_id, taxonomy_name, policy, \"policy_ip_address\")\n",
        "print(f\"policy_ip_address: {policy_ip_address}\")\n",
        "#\n",
        "\n",
        "# Email\n",
        "policy_email = createPolicyTag(project_id, taxonomy_name, policy, \"policy_email\")\n",
        "print(f\"policy_email: {policy_email}\")\n",
        "\n",
        "# Address\n",
        "policy_address = createPolicyTag(project_id, taxonomy_name, policy, \"policy_address\")\n",
        "print(f\"policy_address: {policy_address}\")"
      ]
    },
    {
      "cell_type": "code",
      "execution_count": null,
      "metadata": {
        "id": "AP35uoJZ3Lid"
      },
      "outputs": [],
      "source": [
        "################################################################################\n",
        "# Data Masking Policies\n",
        "################################################################################\n",
        "\n",
        "# Credit Card: LAST_FOUR_CHARACTERS\n",
        "datamask_policy_credit_card_number_last_four = createDataPolicy(project_id, bigquery_location, policy_credit_card_number, \"datamask_policy_credit_card_number_last_four\", \"DATA_MASKING_POLICY\", \"LAST_FOUR_CHARACTERS\")\n",
        "\n",
        "# Predicted Credit Amount\n",
        "# No data masking needed\n",
        "\n",
        "# SSN: LAST_FOUR_CHARACTERS\n",
        "datamask_policy_ssn_last_four = createDataPolicy(project_id, bigquery_location, policy_ssn, \"datamask_policy_ssn_last_four\", \"DATA_MASKING_POLICY\", \"LAST_FOUR_CHARACTERS\")\n",
        "\n",
        "# IP Address: LAST_FOUR_CHARACTERS\n",
        "datamask_policy_ip_address_last_four = createDataPolicy(project_id, bigquery_location, policy_ip_address, \"datamask_policy_ip_address_last_four\", \"DATA_MASKING_POLICY\", \"LAST_FOUR_CHARACTERS\")\n",
        "\n",
        "# Email\n",
        "datamask_policy_email_email_mask = createDataPolicy(project_id, bigquery_location, policy_email, \"datamask_policy_email_email_mask\", \"DATA_MASKING_POLICY\", \"EMAIL_MASK\")\n",
        "\n",
        "# Address\n",
        "datamask_policy_address_first_four = createDataPolicy(project_id, bigquery_location, policy_address, \"datamask_policy_address_first_four\", \"DATA_MASKING_POLICY\", \"FIRST_FOUR_CHARACTERS\")\n",
        "datamask_policy_address_last_four = createDataPolicy(project_id, bigquery_location, policy_address, \"datamask_policy_address_last_four\", \"DATA_MASKING_POLICY\", \"LAST_FOUR_CHARACTERS\")\n"
      ]
    },
    {
      "cell_type": "code",
      "execution_count": null,
      "metadata": {},
      "outputs": [],
      "source": [
        "print(\"################################################################################\")\n",
        "print(f\"To view policies: https://console.cloud.google.com/bigquery/policy-tags?inv=1&project={project_id}\")\n",
        "print(\"################################################################################\")"
      ]
    },
    {
      "cell_type": "markdown",
      "metadata": {
        "id": "GRZPdhdiI1s4"
      },
      "source": [
        "### <font color='#4285f4'>Set Permissions</font>\n"
      ]
    },
    {
      "cell_type": "code",
      "execution_count": null,
      "metadata": {
        "id": "cYpBE3B_2OXG"
      },
      "outputs": [],
      "source": [
        "################################################################################\n",
        "# Manager Permissions\n",
        "################################################################################\n",
        "\n",
        "# Credit Card Data Masking Last 4\n",
        "secureDataPolicy(project_id, bigquery_location, user, datamask_policy_credit_card_number_last_four)\n",
        "\n",
        "# Predicted Credit Amount (we set this at the policy level, not the data mask)\n",
        "securePolicyTag(project_id, bigquery_location, user, policy_predicted_credit_amount)\n",
        "\n",
        "# SSN\n",
        "secureDataPolicy(project_id, bigquery_location, user, datamask_policy_ssn_last_four)\n",
        "\n",
        "# IP Address\n",
        "secureDataPolicy(project_id, bigquery_location, user, datamask_policy_ip_address_last_four)\n",
        "\n",
        "# Email\n",
        "secureDataPolicy(project_id, bigquery_location, user, datamask_policy_email_email_mask)\n",
        "\n",
        "# Address\n",
        "secureDataPolicy(project_id, bigquery_location, user, datamask_policy_address_first_four)"
      ]
    },
    {
      "cell_type": "code",
      "execution_count": null,
      "metadata": {
        "id": "xLk2xQkw2OTN"
      },
      "outputs": [],
      "source": [
        "employee_user = \"gemini@paternostro.altostrat.com\""
      ]
    },
    {
      "cell_type": "code",
      "execution_count": null,
      "metadata": {
        "id": "Oyd_FDB92OPW"
      },
      "outputs": [],
      "source": [
        "################################################################################\n",
        "# Employee Permissions\n",
        "################################################################################\n",
        "\n",
        "# Credit Card\n",
        "# No access allowed\n",
        "\n",
        "# Predicted Credit Amount\n",
        "# No access allowed\n",
        "\n",
        "# SSN\n",
        "secureDataPolicy(project_id, bigquery_location, employee_user, datamask_policy_ssn_last_four)\n",
        "\n",
        "# IP Address\n",
        "secureDataPolicy(project_id, bigquery_location, employee_user, datamask_policy_ip_address_last_four)\n",
        "\n",
        "# Email\n",
        "secureDataPolicy(project_id, bigquery_location, employee_user, datamask_policy_email_email_mask)\n",
        "\n",
        "# Address\n",
        "secureDataPolicy(project_id, bigquery_location, employee_user, datamask_policy_address_last_four)"
      ]
    },
    {
      "cell_type": "code",
      "execution_count": null,
      "metadata": {
        "id": "CA8ZVHBvZSWS"
      },
      "outputs": [],
      "source": [
        "print(\"################################################################################\")\n",
        "print(f\"To view policies: https://console.cloud.google.com/bigquery/policy-tags?inv=1&project={project_id}\")\n",
        "print(\"################################################################################\")"
      ]
    },
    {
      "cell_type": "markdown",
      "metadata": {
        "id": "tZOGIEpQD7fD"
      },
      "source": [
        "### <font color='#4285f4'>Update the BigQuery table with the Policy Tags</font>"
      ]
    },
    {
      "cell_type": "code",
      "execution_count": null,
      "metadata": {
        "id": "XXkuWuIlN7G0"
      },
      "outputs": [],
      "source": [
        "%%bigquery\n",
        "\n",
        "CREATE OR REPLACE TABLE governed_data_curated.customer_policy_demo AS\n",
        "SELECT * FROM governed_data_curated.customer;"
      ]
    },
    {
      "cell_type": "code",
      "execution_count": null,
      "metadata": {
        "id": "1YM2qtmUOhI3"
      },
      "outputs": [],
      "source": [
        "# To see the existing schema\n",
        "# print(getTableSchema(project_id, \"governed_data_curated\", \"customer_policy_demo\"))"
      ]
    },
    {
      "cell_type": "code",
      "execution_count": null,
      "metadata": {
        "id": "nMZ3Vi9VOwhc"
      },
      "outputs": [],
      "source": [
        "customer_policy_demo_schema = [\n",
        "  {\n",
        "    \"mode\": \"NULLABLE\",\n",
        "    \"name\": \"customer_id\",\n",
        "    \"type\": \"INTEGER\"\n",
        "  },\n",
        "  {\n",
        "    \"mode\": \"NULLABLE\",\n",
        "    \"name\": \"first_name\",\n",
        "    \"type\": \"STRING\"\n",
        "  },\n",
        "  {\n",
        "    \"mode\": \"NULLABLE\",\n",
        "    \"name\": \"last_name\",\n",
        "    \"type\": \"STRING\"\n",
        "  },\n",
        "  {\n",
        "    \"mode\": \"NULLABLE\",\n",
        "    \"name\": \"email\",\n",
        "    \"type\": \"STRING\",\n",
        "    \"policyTags\": {\n",
        "      \"names\": [\n",
        "          policy_email\n",
        "      ]\n",
        "    }\n",
        "  },\n",
        "  {\n",
        "    \"mode\": \"NULLABLE\",\n",
        "    \"name\": \"phone\",\n",
        "    \"type\": \"STRING\"\n",
        "  },\n",
        "  {\n",
        "    \"mode\": \"NULLABLE\",\n",
        "    \"name\": \"gender\",\n",
        "    \"type\": \"STRING\"\n",
        "  },\n",
        "  {\n",
        "    \"mode\": \"NULLABLE\",\n",
        "    \"name\": \"ip_address\",\n",
        "    \"type\": \"STRING\",\n",
        "    \"policyTags\": {\n",
        "      \"names\": [\n",
        "          policy_ip_address\n",
        "      ]\n",
        "    }\n",
        "  },\n",
        "  {\n",
        "    \"mode\": \"NULLABLE\",\n",
        "    \"name\": \"ssn\",\n",
        "    \"type\": \"STRING\",\n",
        "    \"policyTags\": {\n",
        "      \"names\": [\n",
        "          policy_ssn\n",
        "      ]\n",
        "    }\n",
        "  },\n",
        "  {\n",
        "    \"mode\": \"NULLABLE\",\n",
        "    \"name\": \"address\",\n",
        "    \"type\": \"STRING\",\n",
        "    \"policyTags\": {\n",
        "      \"names\": [\n",
        "          policy_address\n",
        "      ]\n",
        "    }\n",
        "  },\n",
        "  {\n",
        "    \"mode\": \"NULLABLE\",\n",
        "    \"name\": \"city\",\n",
        "    \"type\": \"STRING\"\n",
        "  },\n",
        "  {\n",
        "    \"mode\": \"NULLABLE\",\n",
        "    \"name\": \"state\",\n",
        "    \"type\": \"STRING\"\n",
        "  },\n",
        "  {\n",
        "    \"mode\": \"NULLABLE\",\n",
        "    \"name\": \"zip\",\n",
        "    \"type\": \"INTEGER\"\n",
        "  },\n",
        "  {\n",
        "    \"mode\": \"NULLABLE\",\n",
        "    \"name\": \"credit_card_number\",\n",
        "    \"type\": \"STRING\",\n",
        "    \"policyTags\": {\n",
        "      \"names\": [\n",
        "          policy_credit_card_number\n",
        "      ]\n",
        "    },\n",
        "  },\n",
        "  {\n",
        "    \"mode\": \"NULLABLE\",\n",
        "    \"name\": \"predicted_credit_amount\",\n",
        "    \"type\": \"FLOAT\",\n",
        "    \"policyTags\": {\n",
        "      \"names\": [\n",
        "          policy_predicted_credit_amount\n",
        "      ]\n",
        "    }\n",
        "  }\n",
        "]"
      ]
    },
    {
      "cell_type": "code",
      "execution_count": null,
      "metadata": {
        "id": "tAGCMhkCPDyh"
      },
      "outputs": [],
      "source": [
        "updateTableSchema(project_id, \"governed_data_curated\", \"customer_policy_demo\",customer_policy_demo_schema)"
      ]
    },
    {
      "cell_type": "markdown",
      "metadata": {
        "id": "8F2R5kqPPs7r"
      },
      "source": [
        "### <font color='#4285f4'>Manager Access</font>"
      ]
    },
    {
      "cell_type": "markdown",
      "metadata": {
        "id": "N5VYHR8FaSwS"
      },
      "source": [
        "| Column                  | Manager               | Employee             |\n",
        "|-------------------------|-----------------------|----------------------|\n",
        "| credit_card_number      | Last 4                | No Access            |\n",
        "| predicted_credit_amount | Access                | No Access            |\n",
        "| ssn                     | Last 4                | Nullify              |\n",
        "| ip_address              | Last 4                | Hash (SHA-256)       |\n",
        "| email                   | Email mask            | Email mask           |\n",
        "| address                 | First four characters | Last four characters |"
      ]
    },
    {
      "cell_type": "code",
      "execution_count": null,
      "metadata": {
        "id": "_TCXJQowPU0p"
      },
      "outputs": [],
      "source": [
        "%%bigquery\n",
        "\n",
        "-- We query the entire table since\n",
        "SELECT * FROM governed_data_curated.customer_policy_demo;"
      ]
    },
    {
      "cell_type": "markdown",
      "metadata": {
        "id": "WQW5n7ScRtGy"
      },
      "source": [
        "### <font color='#4285f4'>Employee Access</font>\n",
        "\n",
        "Grant access to this project to another user and then login as that user and run the below query."
      ]
    },
    {
      "cell_type": "markdown",
      "metadata": {
        "id": "4xDlgMJS59sO"
      },
      "source": [
        "| Column                  | Manager               | Employee             |\n",
        "|-------------------------|-----------------------|----------------------|\n",
        "| credit_card_number      | Last 4                | No Access            |\n",
        "| predicted_credit_amount | Access                | No Access            |\n",
        "| ssn                     | Last 4                | Nullify              |\n",
        "| ip_address              | Last 4                | Hash (SHA-256)       |\n",
        "| email                   | Email mask            | Email mask           |\n",
        "| address                 | First four characters | Last four characters |"
      ]
    },
    {
      "cell_type": "markdown",
      "metadata": {
        "id": "AhAK4YSo5jxb"
      },
      "source": [
        "```\n",
        "-- You will get an error since you do not have access to the credit card or predicted credit amount\n",
        "SELECT *\n",
        "  FROM `${project_id}.governed_data_curated.customer_policy_demo`;\n",
        "```"
      ]
    },
    {
      "cell_type": "markdown",
      "metadata": {
        "id": "avCB625c5xUa"
      },
      "source": [
        "```\n",
        "-- We can exclude the CLS fields\n",
        "-- We will get data masking.\n",
        "-- NOTE: The data masking for Address (last 4) compared to a manager that gets the first 4.\n",
        "SELECT * EXCEPT (credit_card_number,predicted_credit_amount)\n",
        "  FROM `${project_id}.governed_data_curated.customer_policy_demo`;\n",
        "```"
      ]
    },
    {
      "cell_type": "markdown",
      "metadata": {
        "id": "vBL-KlUfaoGH"
      },
      "source": [
        "### <font color='#4285f4'>Row Level Security</font>"
      ]
    },
    {
      "cell_type": "code",
      "execution_count": null,
      "metadata": {
        "id": "IUzio1OlanK2"
      },
      "outputs": [],
      "source": [
        "# Only allow states FL/NY for the current user\n",
        "sql = f\"\"\"\n",
        "CREATE OR REPLACE ROW ACCESS POLICY customer_employee_example_rls\n",
        "    ON `governed_data_curated.customer_policy_demo`\n",
        "    GRANT TO (\"user:{user}\")\n",
        "FILTER USING (state = 'FL' OR state = 'NY');\"\"\"\n",
        "\n",
        "RunQuery(sql)"
      ]
    },
    {
      "cell_type": "code",
      "execution_count": null,
      "metadata": {
        "id": "ZK5hNyS8bGqj"
      },
      "outputs": [],
      "source": [
        "%%bigquery\n",
        "\n",
        "-- We query the fields we hace access to with Data Masking and Row Level Security\n",
        "SELECT * EXCEPT (credit_card_number,predicted_credit_amount) FROM governed_data_curated.customer_policy_demo;"
      ]
    },
    {
      "cell_type": "markdown",
      "metadata": {
        "id": "42IxhtRRrvR-"
      },
      "source": [
        "### <font color='#4285f4'>Clean Up</font>"
      ]
    },
    {
      "cell_type": "code",
      "execution_count": null,
      "metadata": {
        "id": "6lF2Z7skFbvf"
      },
      "outputs": [],
      "source": [
        "%%bigquery\n",
        "\n",
        "# Remove the row level policy\n",
        "DROP ALL ROW ACCESS POLICIES ON `governed_data_curated.customer_policy_demo`;"
      ]
    },
    {
      "cell_type": "markdown",
      "metadata": {
        "id": "ASQ2BPisXDA0"
      },
      "source": [
        "### <font color='#4285f4'>Reference Links</font>\n"
      ]
    },
    {
      "cell_type": "markdown",
      "metadata": {
        "id": "rTY6xJdZ3ul8"
      },
      "source": [
        "- [REPLACE-ME](https://REPLACE-ME)"
      ]
    }
  ],
  "metadata": {
    "colab": {
      "collapsed_sections": [
        "kY_30Rx34OUq",
        "arZT5tiq4OUs",
        "HMsUvoF4BP7Y",
        "m65vp54BUFRi",
        "UmyL-Rg4Dr_f",
        "sZ6m_wGrK0YG",
        "JbOjdSP1kN9T",
        "KO5yslrP4OUt",
        "vOFTk6sj1YIV",
        "bI-KJELZ1jgt",
        "sW5lCEFG7UiL",
        "-OQlbb5Z49RH",
        "n3QxRR6r4laE",
        "5Z-xYuxK4wVQ",
        "_QhDfSfYOcb6",
        "eyYcxZirOWMX",
        "GRZPdhdiI1s4",
        "tZOGIEpQD7fD",
        "WQW5n7ScRtGy",
        "ASQ2BPisXDA0"
      ],
      "name": "08-Row-Column-Security-Data-Masking",
      "private_outputs": true,
      "provenance": []
    },
    "kernelspec": {
      "display_name": "Python 3",
      "name": "python3"
    },
    "language_info": {
      "name": "python"
    }
  },
  "nbformat": 4,
  "nbformat_minor": 0
}
