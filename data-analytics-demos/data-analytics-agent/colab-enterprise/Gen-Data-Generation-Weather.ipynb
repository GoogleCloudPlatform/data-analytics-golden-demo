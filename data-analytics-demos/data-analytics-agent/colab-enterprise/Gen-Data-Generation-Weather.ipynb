{
  "cells": [
    {
      "cell_type": "markdown",
      "metadata": {
        "id": "u8Cfv65rW2b7"
      },
      "source": [
        "### <font color='#4285f4'>Overview</font>"
      ]
    },
    {
      "cell_type": "markdown",
      "metadata": {
        "id": "5MpBBxscW2b7"
      },
      "source": [
        "Overview: Generates weather data (from past history and future synthetic data)\n",
        "\n",
        "Author:\n",
        "* Adam Paternostro"
      ]
    },
    {
      "cell_type": "code",
      "execution_count": null,
      "metadata": {
        "id": "Zif_s3KyW2b7"
      },
      "outputs": [],
      "source": [
        "# Architecture Diagram\n",
        "from IPython.display import Image\n",
        "Image(url='https://storage.googleapis.com/?.png', width=1200)"
      ]
    },
    {
      "cell_type": "markdown",
      "metadata": {
        "id": "H_1zfUNMW2b8"
      },
      "source": [
        "### <font color='#4285f4'>Video Walkthrough</font>"
      ]
    },
    {
      "cell_type": "markdown",
      "metadata": {
        "id": "WvkpAZl4W2b8"
      },
      "source": [
        "[Video](https://storage.googleapis.com/REPLACE-ME.mp4)\n"
      ]
    },
    {
      "cell_type": "code",
      "execution_count": null,
      "metadata": {
        "id": "KG4o00riW2b8"
      },
      "outputs": [],
      "source": [
        "from IPython.display import HTML\n",
        "\n",
        "HTML(\"\"\"\n",
        "<video width=\"800\" height=\"600\" controls>\n",
        "  <source src=\"https://storage.googleapis.com/REPLACE-ME.mp4\" type=\"video/mp4\">\n",
        "  Your browser does not support the video tag.\n",
        "</video>\n",
        "\"\"\")"
      ]
    },
    {
      "cell_type": "markdown",
      "metadata": {
        "id": "HMsUvoF4BP7Y"
      },
      "source": [
        "### <font color='#4285f4'>License</font>"
      ]
    },
    {
      "cell_type": "markdown",
      "metadata": {
        "id": "jQgQkbOvj55d"
      },
      "source": [
        "```\n",
        "# Copyright 2025 Google LLC\n",
        "#\n",
        "# Licensed under the Apache License, Version 2.0 (the \"License\");\n",
        "# you may not use this file except in compliance with the License.\n",
        "# You may obtain a copy of the License at\n",
        "#\n",
        "#     https://www.apache.org/licenses/LICENSE-2.0\n",
        "#\n",
        "# Unless required by applicable law or agreed to in writing, software\n",
        "# distributed under the License is distributed on an \"AS IS\" BASIS,\n",
        "# WITHOUT WARRANTIES OR CONDITIONS OF ANY KIND, either express or implied.\n",
        "# See the License for the specific language governing permissions and\n",
        "# limitations under the License.\n",
        "```"
      ]
    },
    {
      "cell_type": "markdown",
      "metadata": {
        "id": "m65vp54BUFRi"
      },
      "source": [
        "### <font color='#4285f4'>Pip installs</font>"
      ]
    },
    {
      "cell_type": "code",
      "execution_count": null,
      "metadata": {
        "id": "5MaWM6H5i6rX"
      },
      "outputs": [],
      "source": [
        "# PIP Installs (if necessary)\n",
        "import sys\n",
        "\n",
        "# !{sys.executable} -m pip install REPLACE-ME"
      ]
    },
    {
      "cell_type": "markdown",
      "metadata": {
        "id": "UmyL-Rg4Dr_f"
      },
      "source": [
        "### <font color='#4285f4'>Initialize</font>"
      ]
    },
    {
      "cell_type": "code",
      "execution_count": null,
      "metadata": {
        "id": "xOYsEVSXp6IP"
      },
      "outputs": [],
      "source": [
        "from PIL import Image\n",
        "from IPython.display import HTML\n",
        "import IPython.display\n",
        "import google.auth\n",
        "import requests\n",
        "import json\n",
        "import uuid\n",
        "import base64\n",
        "import os\n",
        "import cv2\n",
        "import random\n",
        "import time\n",
        "import datetime\n",
        "import base64\n",
        "import random\n",
        "\n",
        "import logging\n",
        "from tenacity import retry, wait_exponential, stop_after_attempt, before_sleep_log, retry_if_exception"
      ]
    },
    {
      "cell_type": "code",
      "execution_count": null,
      "metadata": {
        "id": "wMlHl3bnkFPZ"
      },
      "outputs": [],
      "source": [
        "# Set these (run this cell to verify the output)\n",
        "\n",
        "bigquery_location = \"${bigquery_non_multi_region}\"\n",
        "region = \"${region}\"\n",
        "location = \"${location}\"\n",
        "\n",
        "\n",
        "# Get the current date and time\n",
        "now = datetime.datetime.now()\n",
        "\n",
        "# Format the date and time as desired\n",
        "formatted_date = now.strftime(\"%Y-%m-%d-%H-%M\")\n",
        "\n",
        "# Get some values using gcloud\n",
        "project_id = os.environ[\"GOOGLE_CLOUD_PROJECT\"]\n",
        "user = !(gcloud auth list --filter=status:ACTIVE --format=\"value(account)\")\n",
        "\n",
        "if len(user) != 1:\n",
        "  raise RuntimeError(f\"user is not set: {user}\")\n",
        "user = user[0]\n",
        "\n",
        "print(f\"project_id = {project_id}\")\n",
        "print(f\"user = {user}\")"
      ]
    },
    {
      "cell_type": "markdown",
      "metadata": {
        "id": "c51M89g0Ejmz"
      },
      "source": [
        "### <font color='#4285f4'>MAIN CODE - Create Product Categories</font>"
      ]
    },
    {
      "cell_type": "code",
      "execution_count": null,
      "metadata": {
        "id": "urKhNc2NYzFy"
      },
      "outputs": [],
      "source": [
        "%%bigquery\n",
        "\n",
        "CREATE SCHEMA IF NOT EXISTS `agentic_beans_raw` OPTIONS(location = 'us-central1');"
      ]
    },
    {
      "cell_type": "code",
      "execution_count": null,
      "metadata": {
        "id": "ThaNTLFHbEm7"
      },
      "outputs": [],
      "source": [
        "%%bigquery\n",
        "\n",
        "CREATE TABLE IF NOT EXISTS agentic_beans_raw.weather (\n",
        "  weather_id STRING OPTIONS(description=\"A unique identifier for each weather record.\"),\n",
        "  weather_location STRING OPTIONS(description=\"The specific neighborhood or area in Manhattan (e.g., 'Upper East Side', 'Midtown').\"),\n",
        "  latitude FLOAT64 OPTIONS(description=\"The latitude of the weather observation's assigned neighborhood center.\"),\n",
        "  longitude FLOAT64 OPTIONS(description=\"The longitude of the weather observation's assigned neighborhood center.\"),\n",
        "  observation_datetime TIMESTAMP OPTIONS(description=\"The date and hour of the weather reading (in UTC).\"),\n",
        "  weather_description STRING OPTIONS(description=\"A human-readable description of the weather (e.g., 'Sunny', 'Rain', 'Snow').\"),\n",
        "  temperature_fahrenheit FLOAT64 OPTIONS(description=\"Temperature in degrees Fahrenheit.\"),\n",
        "  temp_celsius FLOAT64 OPTIONS(description=\"Temperature in degrees Celsius.\"),\n",
        "  feels_like_fahrenheit FLOAT64 OPTIONS(description=\"The 'feels like' temperature in Fahrenheit, accounting for wind chill or heat index.\"),\n",
        "  feels_like_celsius FLOAT64 OPTIONS(description=\"The 'feels like' temperature in Celsius, accounting for wind chill or heat index.\"),\n",
        "  humidity FLOAT64 OPTIONS(description=\"Relative humidity as a percentage.\"),\n",
        "  wind_speed_mph FLOAT64 OPTIONS(description=\"Wind speed in miles per hour.\"),\n",
        "  total_precipitation FLOAT64 OPTIONS(description=\"Total precipitation in millimeters (mm)\"),\n",
        "  is_day BOOL OPTIONS(description=\"A flag to indicate whether it is daytime or nighttime in the local timezone (America/New_York).\"),\n",
        "  data_source STRING OPTIONS(description=\"Indicates whether the data is 'historical' or 'forecasted'.\")\n",
        ")\n",
        "CLUSTER BY observation_datetime, weather_location\n",
        "OPTIONS(\n",
        "  description=\"A table containing historical and forecasted weather data for various neighborhoods in Manhattan, designed for AI/ML demonstrations.\"\n",
        ");"
      ]
    },
    {
      "cell_type": "code",
      "execution_count": null,
      "metadata": {
        "id": "jVzqjvbcUgMF"
      },
      "outputs": [],
      "source": [
        "%%bigquery --location us\n",
        "\n",
        "EXPORT DATA\n",
        "OPTIONS (uri = 'gs://gcs-bucket-namet/agentic-beans/data-export/weather/weather_*.avro' ,\n",
        " format = 'AVRO',\n",
        " overwrite = true,\n",
        " use_avro_logical_types = true) AS\n",
        "\n",
        "WITH\n",
        "  -- Step 1: Get the polygon boundaries and center point for all Manhattan neighborhoods\n",
        "  ManhattanNeighborhoods AS (\n",
        "  SELECT\n",
        "    zone_name,\n",
        "    zone_geom,\n",
        "    ST_CENTROID(zone_geom) AS neighborhood_centroid\n",
        "  FROM\n",
        "    `bigquery-public-data.new_york_taxi_trips.taxi_zone_geom`\n",
        "  WHERE\n",
        "    borough = 'Manhattan' ),\n",
        "  -- Step 2: Get all hourly GFS forecast data in a wide box around Manhattan\n",
        "  RawForecastData AS (\n",
        "  SELECT\n",
        "    gfs.geography AS grid_geography,\n",
        "    f.*\n",
        "  FROM\n",
        "    `bigquery-public-data.noaa_global_forecast_system.NOAA_GFS0P25` AS gfs,\n",
        "    UNNEST(gfs.forecast) AS f\n",
        "  WHERE\n",
        "    --gfs.creation_time >= '2025-07-22'\n",
        "    gfs.creation_time >= '2020-01-01'\n",
        "    AND ST_DWITHIN(gfs.geography, ST_GEOGFROMTEXT('POINT(-73.935242 40.730610)'), 100000) -- 100km box around NYC\n",
        "    --AND f.time > '2025-07-22 06:00:00'\n",
        "    AND f.time < CURRENT_DATETIME() -- UTC\n",
        "    AND f.hours BETWEEN 0\n",
        "    AND 23 ),\n",
        "  -- Step 3: For each neighborhood and each hour, find the SINGLE closest weather grid point\n",
        "  NearestWeatherData AS (\n",
        "  SELECT\n",
        "    n.zone_name,\n",
        "    n.neighborhood_centroid,\n",
        "    r.*\n",
        "  FROM\n",
        "    ManhattanNeighborhoods AS n\n",
        "  CROSS JOIN\n",
        "    RawForecastData AS r\n",
        "    -- This QUALIFY statement is the key: it keeps only the single closest point for each neighborhood at each time.\n",
        "  QUALIFY\n",
        "    RANK() OVER(PARTITION BY n.zone_name, r.time ORDER BY ST_DISTANCE(n.zone_geom, r.grid_geography)) = 1 ),\n",
        "  AllHours AS (\n",
        "  SELECT\n",
        "    zone_name,\n",
        "    neighborhood_centroid,\n",
        "    time,\n",
        "    temperature_2m_above_ground,\n",
        "    relative_humidity_2m_above_ground,\n",
        "    total_precipitation_surface,\n",
        "    u_component_of_wind_10m_above_ground,\n",
        "    total_cloud_cover_entire_atmosphere,\n",
        "    v_component_of_wind_10m_above_ground,\n",
        "    ROW_NUMBER() OVER (PARTITION BY zone_name, time ORDER BY hours) AS ranking\n",
        "  FROM\n",
        "    NearestWeatherData ),\n",
        "  -- Step 4: Perform conversions to make the final select statement cleaner\n",
        "  ConvertedData AS (\n",
        "  SELECT\n",
        "    w.zone_name,\n",
        "    w.neighborhood_centroid,\n",
        "    w.time AS observation_datetime,\n",
        "    w.temperature_2m_above_ground AS temp_celsius,\n",
        "    w.temperature_2m_above_ground * 9/5 + 32 AS temperature_fahrenheit,\n",
        "    w.relative_humidity_2m_above_ground AS humidity_pct,\n",
        "    w.total_precipitation_surface AS precip_kg_m2,\n",
        "    SQRT(POW(w.u_component_of_wind_10m_above_ground, 2) + POW(w.v_component_of_wind_10m_above_ground, 2)) * 2.23694 AS wind_speed_mph,\n",
        "    w.total_cloud_cover_entire_atmosphere AS cloud_cover_pct,\n",
        "    w.total_precipitation_surface\n",
        "  FROM\n",
        "    AllHours w\n",
        "  WHERE\n",
        "    w.Ranking = 1 )\n",
        "  -- Step 5: Final selection and calculation\n",
        "SELECT\n",
        "  GENERATE_UUID() AS weather_id,\n",
        "  c.zone_name AS weather_location,\n",
        "  ST_Y(c.neighborhood_centroid) AS latitude,\n",
        "  ST_X(c.neighborhood_centroid) AS longitude,\n",
        "  CAST(c.observation_datetime AS TIMESTAMP) AS observation_datetime,\n",
        "  CASE\n",
        "    WHEN COALESCE(c.precip_kg_m2, 0) > 0 AND c.temp_celsius <= 0 THEN 'Snow'\n",
        "    WHEN COALESCE(c.precip_kg_m2, 0) > 0.5 THEN 'Heavy Rain'\n",
        "    WHEN COALESCE(c.precip_kg_m2, 0) > 0 THEN 'Rain'\n",
        "    WHEN c.cloud_cover_pct > 80 THEN 'Overcast'\n",
        "    WHEN c.cloud_cover_pct > 50 THEN 'Cloudy'\n",
        "    WHEN c.wind_speed_mph > 25 THEN 'Windy'\n",
        "    ELSE 'Clear'\n",
        "END\n",
        "  AS weather_description,\n",
        "  c.temperature_fahrenheit,\n",
        "  c.temp_celsius,\n",
        "  CASE\n",
        "    WHEN c.temperature_fahrenheit < 50 AND c.wind_speed_mph > 3 THEN 35.74 + (0.6215 * c.temperature_fahrenheit) - (35.75 * POW(c.wind_speed_mph, 0.16)) + (0.4275 * c.temperature_fahrenheit * POW(c.wind_speed_mph, 0.16))\n",
        "    WHEN c.temperature_fahrenheit > 80\n",
        "  AND c.humidity_pct > 40 THEN -42.379 + 2.04901523*c.temperature_fahrenheit + 10.14333127*c.humidity_pct - .22475541*c.temperature_fahrenheit*c.humidity_pct - .00683783*POW(c.temperature_fahrenheit,2) - .05481717*POW(c.humidity_pct,2) + .00122874*POW(c.temperature_fahrenheit,2)*c.humidity_pct + .00085282*c.temperature_fahrenheit*POW(c.humidity_pct,2) - .00000199*POW(c.temperature_fahrenheit,2)*POW(c.humidity_pct,2)\n",
        "    ELSE c.temperature_fahrenheit\n",
        "END\n",
        "  AS feels_like_fahrenheit,\n",
        "  ((CASE\n",
        "        WHEN c.temperature_fahrenheit < 50 AND c.wind_speed_mph > 3 THEN 35.74 + (0.6215 * c.temperature_fahrenheit) - (35.75 * POW(c.wind_speed_mph, 0.16)) + (0.4275 * c.temperature_fahrenheit * POW(c.wind_speed_mph, 0.16))\n",
        "        WHEN c.temperature_fahrenheit > 80\n",
        "      AND c.humidity_pct > 40 THEN -42.379 + 2.04901523*c.temperature_fahrenheit + 10.14333127*c.humidity_pct - .22475541*c.temperature_fahrenheit*c.humidity_pct - .00683783*POW(c.temperature_fahrenheit,2) - .05481717*POW(c.humidity_pct,2) + .00122874*POW(c.temperature_fahrenheit,2)*c.humidity_pct + .00085282*c.temperature_fahrenheit*POW(c.humidity_pct,2) - .00000199*POW(c.temperature_fahrenheit,2)*POW(c.humidity_pct,2)\n",
        "        ELSE c.temperature_fahrenheit\n",
        "    END\n",
        "      ) - 32) * 5/9 AS feels_like_celsius,\n",
        "  c.humidity_pct AS humidity,\n",
        "  IFNULL(c.total_precipitation_surface,0) AS total_precipitation,\n",
        "  c.wind_speed_mph,\n",
        "  EXTRACT(HOUR\n",
        "  FROM\n",
        "    c.observation_datetime) BETWEEN 7\n",
        "  AND 19 AS is_day,\n",
        "  'historical_gfs' AS data_source\n",
        "FROM\n",
        "  ConvertedData c\n",
        "--ORDER BY c.observation_datetime, c.zone_name;"
      ]
    },
    {
      "cell_type": "markdown",
      "metadata": {
        "id": "1YEzyQpvOyfZ"
      },
      "source": [
        "#### Move data from US multiregion to US-CENTRAL1 region using GCS"
      ]
    },
    {
      "cell_type": "code",
      "execution_count": null,
      "metadata": {
        "id": "Jzw34Z_XOeQn"
      },
      "outputs": [],
      "source": [
        "%%bigquery --location us-central1\n",
        "\n",
        "LOAD DATA INTO `agentic_beans_raw.weather`\n",
        "FROM FILES ( format = 'AVRO', enable_logical_types = true, uris = ['gs://gcs-bucket-namet/agentic-beans/data-export/weather/weather_*.avro']);"
      ]
    }
  ],
  "metadata": {
    "colab": {
      "collapsed_sections": [
        "u8Cfv65rW2b7",
        "H_1zfUNMW2b8",
        "HMsUvoF4BP7Y",
        "m65vp54BUFRi",
        "UmyL-Rg4Dr_f",
        "ASQ2BPisXDA0"
      ],
      "name": "Agentic Beans - Data Generation: Weather",
      "private_outputs": true,
      "provenance": []
    },
    "kernelspec": {
      "display_name": "Python 3",
      "name": "python3"
    },
    "language_info": {
      "name": "python"
    }
  },
  "nbformat": 4,
  "nbformat_minor": 0
}
