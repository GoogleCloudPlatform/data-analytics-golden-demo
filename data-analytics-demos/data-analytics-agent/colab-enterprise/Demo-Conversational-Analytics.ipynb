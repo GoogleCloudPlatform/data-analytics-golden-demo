{
  "cells": [
    {
      "cell_type": "markdown",
      "metadata": {
        "id": "UqY4r2Jfl5a0"
      },
      "source": [
        "### <font color='#4285f4'>Overview</font>"
      ]
    },
    {
      "cell_type": "markdown",
      "metadata": {
        "id": "pnortxMyl5a1"
      },
      "source": [
        "Overview: Creates and runs Conversational Analytics Agents.  \n",
        "\n",
        "\n",
        "Cost:\n",
        "* Approximate cost: $1$\n",
        "\n",
        "Author:\n",
        "* Adam Paternostro"
      ]
    },
    {
      "cell_type": "markdown",
      "metadata": {
        "id": "hAI0CcpAl5a1"
      },
      "source": [
        "### <font color='#4285f4'>Video Walkthrough</font>"
      ]
    },
    {
      "cell_type": "markdown",
      "metadata": {
        "id": "WNeX3VQUl5a1"
      },
      "source": [
        "[Video](https://storage.googleapis.com/data-analytics-golden-demo/colab-videos/Demo-Conversational-Analytics.mp4)\n"
      ]
    },
    {
      "cell_type": "code",
      "execution_count": null,
      "metadata": {
        "id": "DdGOVMzfl5a1"
      },
      "outputs": [],
      "source": [
        "from IPython.display import HTML\n",
        "\n",
        "HTML(\"\"\"\n",
        "<video width=\"800\" height=\"600\" controls>\n",
        "  <source src=\"https://storage.googleapis.com/data-analytics-golden-demo/colab-videos/Demo-Conversational-Analytics.mp4\" type=\"video/mp4\">\n",
        "  Your browser does not support the video tag.\n",
        "</video>\n",
        "\"\"\")"
      ]
    },
    {
      "cell_type": "markdown",
      "metadata": {
        "id": "HMsUvoF4BP7Y"
      },
      "source": [
        "### <font color='#4285f4'>License</font>"
      ]
    },
    {
      "cell_type": "markdown",
      "metadata": {
        "id": "jQgQkbOvj55d"
      },
      "source": [
        "```\n",
        "# Copyright 2025 Google LLC\n",
        "#\n",
        "# Licensed under the Apache License, Version 2.0 (the \"License\");\n",
        "# you may not use this file except in compliance with the License.\n",
        "# You may obtain a copy of the License at\n",
        "#\n",
        "#     https://www.apache.org/licenses/LICENSE-2.0\n",
        "#\n",
        "# Unless required by applicable law or agreed to in writing, software\n",
        "# distributed under the License is distributed on an \"AS IS\" BASIS,\n",
        "# WITHOUT WARRANTIES OR CONDITIONS OF ANY KIND, either express or implied.\n",
        "# See the License for the specific language governing permissions and\n",
        "# limitations under the License.\n",
        "```"
      ]
    },
    {
      "cell_type": "markdown",
      "metadata": {
        "id": "m65vp54BUFRi"
      },
      "source": [
        "### <font color='#4285f4'>Pip installs</font>"
      ]
    },
    {
      "cell_type": "code",
      "execution_count": null,
      "metadata": {
        "id": "5MaWM6H5i6rX"
      },
      "outputs": [],
      "source": [
        "# PIP Installs (if necessary)\n",
        "import sys\n",
        "\n",
        "!{sys.executable} -m pip install json_stream\n",
        "!{sys.executable} -m pip install vega"
      ]
    },
    {
      "cell_type": "markdown",
      "metadata": {
        "id": "UmyL-Rg4Dr_f"
      },
      "source": [
        "### <font color='#4285f4'>Initialize</font>"
      ]
    },
    {
      "cell_type": "code",
      "execution_count": null,
      "metadata": {
        "id": "xOYsEVSXp6IP"
      },
      "outputs": [],
      "source": [
        "from PIL import Image\n",
        "from IPython.display import HTML\n",
        "import IPython.display\n",
        "import google.auth\n",
        "import requests\n",
        "import json\n",
        "import uuid\n",
        "import base64\n",
        "import os\n",
        "import cv2\n",
        "import random\n",
        "import time\n",
        "import datetime\n",
        "import base64\n",
        "import random\n",
        "\n",
        "import logging\n",
        "from tenacity import retry, wait_exponential, stop_after_attempt, before_sleep_log, retry_if_exception"
      ]
    },
    {
      "cell_type": "code",
      "execution_count": null,
      "metadata": {
        "id": "wMlHl3bnkFPZ"
      },
      "outputs": [],
      "source": [
        "# Set these (run this cell to verify the output)\n",
        "\n",
        "dataset_name = \"agentic_beans_curated\"\n",
        "global_location = \"global\"\n",
        "data_agent_id = f\"da-coffee-demo-{datetime.datetime.now().strftime('%Y-%m-%d-%H-%M')}\"\n",
        "taxi_data_agent_id = f\"da-taxi-demo-{datetime.datetime.now().strftime('%Y-%m-%d-%H-%M')}\"\n",
        "\n",
        "conversation_id = f\"{data_agent_id}-01\"\n",
        "agentic_beans_conversation_id = f\"{data_agent_id}-02\"\n",
        "\n",
        "# Get the current date and time\n",
        "now = datetime.datetime.now()\n",
        "\n",
        "# Format the date and time as desired\n",
        "formatted_date = now.strftime(\"%Y-%m-%d-%H-%M\")\n",
        "\n",
        "# Get some values using gcloud\n",
        "project_id = os.environ[\"GOOGLE_CLOUD_PROJECT\"]\n",
        "user = !(gcloud auth list --filter=status:ACTIVE --format=\"value(account)\")\n",
        "\n",
        "if len(user) != 1:\n",
        "  raise RuntimeError(f\"user is not set: {user}\")\n",
        "user = user[0]\n",
        "\n",
        "print(f\"project_id = {project_id}\")\n",
        "print(f\"user = {user}\")"
      ]
    },
    {
      "cell_type": "markdown",
      "metadata": {
        "id": "sZ6m_wGrK0YG"
      },
      "source": [
        "### <font color='#4285f4'>Helper Methods</font>"
      ]
    },
    {
      "cell_type": "markdown",
      "metadata": {
        "id": "JbOjdSP1kN9T"
      },
      "source": [
        "#### restAPIHelper\n",
        "Calls the Google Cloud REST API using the current users credentials."
      ]
    },
    {
      "cell_type": "code",
      "execution_count": null,
      "metadata": {
        "id": "40wlwnY4kM11"
      },
      "outputs": [],
      "source": [
        "def restAPIHelper(url: str, http_verb: str, request_body: str) -> str:\n",
        "  \"\"\"Calls the Google Cloud REST API passing in the current users credentials\"\"\"\n",
        "\n",
        "  import google.auth.transport.requests\n",
        "  import requests\n",
        "  import google.auth\n",
        "  import json\n",
        "\n",
        "  # Get an access token based upon the current user\n",
        "  creds, project = google.auth.default()\n",
        "  auth_req = google.auth.transport.requests.Request()\n",
        "  creds.refresh(auth_req)\n",
        "  access_token=creds.token\n",
        "\n",
        "  headers = {\n",
        "    \"Content-Type\" : \"application/json\",\n",
        "    \"Authorization\" : \"Bearer \" + access_token\n",
        "  }\n",
        "\n",
        "  if http_verb == \"GET\":\n",
        "    response = requests.get(url, headers=headers)\n",
        "  elif http_verb == \"POST\":\n",
        "    response = requests.post(url, json=request_body, headers=headers)\n",
        "  elif http_verb == \"PUT\":\n",
        "    response = requests.put(url, json=request_body, headers=headers)\n",
        "  elif http_verb == \"PATCH\":\n",
        "    response = requests.patch(url, json=request_body, headers=headers)\n",
        "  elif http_verb == \"DELETE\":\n",
        "    response = requests.delete(url, headers=headers)\n",
        "  else:\n",
        "    raise RuntimeError(f\"Unknown HTTP verb: {http_verb}\")\n",
        "\n",
        "  if response.status_code == 200:\n",
        "    return json.loads(response.content)\n",
        "    #image_data = json.loads(response.content)[\"predictions\"][0][\"bytesBase64Encoded\"]\n",
        "  else:\n",
        "    error = f\"Error restAPIHelper -> ' Status: '{response.status_code}' Text: '{response.text}'\"\n",
        "    raise RuntimeError(error)"
      ]
    },
    {
      "cell_type": "markdown",
      "metadata": {
        "id": "aAq1LLmPoFtO"
      },
      "source": [
        "### <font color='#4285f4'>MAIN CODE - Conversational Analytics - REST API Methods</font>"
      ]
    },
    {
      "cell_type": "markdown",
      "metadata": {
        "id": "gyxaUowpv7UT"
      },
      "source": [
        "#### Display Helpers"
      ]
    },
    {
      "cell_type": "markdown",
      "metadata": {
        "id": "IPwr56F0NtXC"
      },
      "source": [
        "##### conversational_analytics_display_html"
      ]
    },
    {
      "cell_type": "code",
      "execution_count": null,
      "metadata": {
        "id": "ei-AOyRkNruB"
      },
      "outputs": [],
      "source": [
        "def conversational_analytics_display_html(json_object):\n",
        "  import json\n",
        "  from IPython.display import display, HTML\n",
        "\n",
        "  # Find the part of the JSON that contains the result data\n",
        "  result_rows = None\n",
        "  for item in json_object:\n",
        "      # Safely navigate the nested structure using .get() to avoid errors\n",
        "      # if a key is missing in one of the log entries.\n",
        "      try:\n",
        "          # This path finds the list of data rows we care about\n",
        "          data_rows = item['systemMessage']['data']['result']['data']\n",
        "          # If we find a non-empty list of results, we store it and stop looking\n",
        "          if data_rows:\n",
        "              result_rows = data_rows\n",
        "              break\n",
        "      except (KeyError, TypeError):\n",
        "          # This will catch entries that don't have the 'result' structure\n",
        "          continue\n",
        "\n",
        "  #print(f\"result_rows: {result_rows}\")\n",
        "\n",
        "  # Build the HTML table from the found results\n",
        "  html_output = \"\"\"\n",
        "  <style>\n",
        "      table {\n",
        "          border-collapse: collapse;\n",
        "          width: 60%;\n",
        "          font-family: Arial, sans-serif;\n",
        "          margin-top: 20px;\n",
        "      }\n",
        "      th, td {\n",
        "          border: 1px solid #dddddd;\n",
        "          text-align: left;\n",
        "          padding: 12px;\n",
        "      }\n",
        "      th {\n",
        "          background-color: #f2f2f2;\n",
        "          text-transform: capitalize;\n",
        "      }\n",
        "      tr:nth-child(even) {\n",
        "          background-color: #f9f9f9;\n",
        "      }\n",
        "  </style>\n",
        "  \"\"\"\n",
        "\n",
        "  # Proceed only if we found the result data\n",
        "  if result_rows:\n",
        "      #print(f\"result_rows[0].keys(): {result_rows[0].keys()}\")\n",
        "      # Step 3a: Determine the headers from the keys of the first data row\n",
        "      headers = list(result_rows[0].keys())\n",
        "\n",
        "      html_output += \"<table><thead><tr>\"\n",
        "\n",
        "      # Create header cells (<th>)\n",
        "      for header in headers:\n",
        "          # A little formatting to make headers look nice (e.g., \"user_id\" -> \"User Id\")\n",
        "          formatted_header = header.replace('_', ' ').title()\n",
        "          html_output += f\"<th>{formatted_header}</th>\"\n",
        "\n",
        "      html_output += \"</tr></thead><tbody>\"\n",
        "\n",
        "      # Step 3b: Loop through the data to create the rows\n",
        "      for row in result_rows:\n",
        "          html_output += \"<tr>\"\n",
        "          # Use the 'headers' list to ensure column order is consistent\n",
        "          for header in headers:\n",
        "              html_output += f\"<td>{row.get(header, 'N/A')}</td>\"\n",
        "          html_output += \"</tr>\"\n",
        "\n",
        "      html_output += \"</tbody></table>\"\n",
        "  else:\n",
        "      html_output += \"<p>No result data found in the provided JSON.</p>\"\n",
        "\n",
        "  # 4. Display the generated HTML in the Colab notebook\n",
        "  return html_output"
      ]
    },
    {
      "cell_type": "markdown",
      "metadata": {
        "id": "jPkCQegQNv_r"
      },
      "source": [
        "##### conversational_analytics_display_chart (Vega Chart)"
      ]
    },
    {
      "cell_type": "code",
      "execution_count": null,
      "metadata": {
        "id": "PyKbTch7NwSM"
      },
      "outputs": [],
      "source": [
        "def conversational_analytics_display_chart(json_object):\n",
        "    import json\n",
        "    import altair as alt\n",
        "    try:\n",
        "        if not isinstance(json_object, list):\n",
        "            print(\"Error: The provided JSON does not represent a list of entries.\")\n",
        "            return None\n",
        "    except json.JSONDecodeError as e:\n",
        "        print(f\"Error decoding JSON: {e}\")\n",
        "        return None\n",
        "\n",
        "    vega_spec = None\n",
        "    for entry in json_object:\n",
        "        if isinstance(entry, dict):\n",
        "            try:\n",
        "                vega_spec = entry.get('systemMessage', {}).get('chart', {}).get('result', {}).get('vegaConfig')\n",
        "                if vega_spec:\n",
        "                    # print(\"Found vegaConfig, generating chart...\")\n",
        "                    break\n",
        "            except AttributeError:\n",
        "                continue\n",
        "\n",
        "    if not vega_spec:\n",
        "        print(\"No chart configuration ('vegaConfig') found in the provided JSON data.\")\n",
        "        return None\n",
        "\n",
        "    try:\n",
        "        vega_spec['width'] = 700\n",
        "        vega_spec['height'] = 400\n",
        "        chart = alt.Chart.from_dict(vega_spec)\n",
        "        return chart\n",
        "    except Exception as e:\n",
        "        print(f\"An error occurred while creating the chart with Altair: {e}\")\n",
        "        return None"
      ]
    },
    {
      "cell_type": "markdown",
      "metadata": {
        "id": "J9DCqOeNNwpE"
      },
      "source": [
        "##### conversational_analytics_display_sql"
      ]
    },
    {
      "cell_type": "code",
      "execution_count": null,
      "metadata": {
        "id": "q2JPuyITNw5t"
      },
      "outputs": [],
      "source": [
        "def conversational_analytics_display_sql(json_object) -> str | None:\n",
        "    \"\"\"\n",
        "    Parses a JSON string OR a Python list to find the 'generatedSql' value.\n",
        "\n",
        "    Returns:\n",
        "        The SQL query string if found, otherwise None.\n",
        "    \"\"\"\n",
        "    import json\n",
        "    # Now, proceed with the original logic on the parsed list\n",
        "    for item in json_object:\n",
        "        if isinstance(item, dict):\n",
        "            sql_query = item.get('systemMessage', {}).get('data', {}).get('generatedSql')\n",
        "            if sql_query:\n",
        "                return sql_query\n",
        "\n",
        "    return None"
      ]
    },
    {
      "cell_type": "markdown",
      "metadata": {
        "id": "fUp7wt0NZNJf"
      },
      "source": [
        "#### Data Agents: List, Exists, Create, Get, Delete"
      ]
    },
    {
      "cell_type": "code",
      "execution_count": null,
      "metadata": {
        "id": "3s8ZozcHeYfG"
      },
      "outputs": [],
      "source": [
        "def data_agent_list(project_id, global_location):\n",
        "  \"\"\"Lists all the data agents\"\"\"\n",
        "\n",
        "  # Gather existing items\n",
        "  # https://cloud.google.com/gemini/docs/conversational-analytics-api/reference/rest/v1alpha/projects.locations.dataAgents/list\n",
        "  url = f\"https://geminidataanalytics.googleapis.com/v1alpha/projects/{project_id}/locations/{global_location}/dataAgents\"\n",
        "  json_result = restAPIHelper(url, \"GET\", None)\n",
        "  return json_result"
      ]
    },
    {
      "cell_type": "code",
      "execution_count": null,
      "metadata": {
        "id": "kIevnKT_ZNeE"
      },
      "outputs": [],
      "source": [
        "def data_agent_exists(project_id, global_location, data_agent_id):\n",
        "  \"\"\"Tests to see if a data agent already exists\"\"\"\n",
        "\n",
        "  # Gather existing items\n",
        "  json_result = data_agent_list(project_id, global_location)\n",
        "\n",
        "  # Test to see if exists\n",
        "  if \"dataAgents\" in json_result:\n",
        "    for item in json_result[\"dataAgents\"]:\n",
        "      if item[\"name\"] == f\"projects/{project_id}/locations/{global_location}/dataAgents/{data_agent_id}\":\n",
        "        print(f\"data_agent_exists: {data_agent_id} already exists\")\n",
        "        return True\n",
        "\n",
        "  return False"
      ]
    },
    {
      "cell_type": "code",
      "execution_count": null,
      "metadata": {
        "id": "3viQEfrqccZt"
      },
      "outputs": [],
      "source": [
        "def data_agent_get(project_id, global_location, data_agent_id):\n",
        "  \"\"\"Gets a data agent (assumes it exists)\"\"\"\n",
        "\n",
        "  # https://cloud.google.com/gemini/docs/conversational-analytics-api/reference/rest/v1alpha/projects.locations.dataAgents/get\n",
        "  url = f\"https://geminidataanalytics.googleapis.com/v1alpha/projects/{project_id}/locations/{global_location}/dataAgents/{data_agent_id}\"\n",
        "\n",
        "  response = restAPIHelper(url, \"GET\", request_body = None)\n",
        "  return response"
      ]
    },
    {
      "cell_type": "code",
      "execution_count": null,
      "metadata": {
        "id": "R2vXwjd2bBeD"
      },
      "outputs": [],
      "source": [
        "def data_agent_create(project_id, global_location, data_agent_id, system_instruction, bigquery_data_source, enable_python = False):\n",
        "  \"\"\"Creates a data agent if it does not exist\"\"\"\n",
        "\n",
        "  if data_agent_exists(project_id, global_location, data_agent_id) == True:\n",
        "    print(\"data_agent_create: Not created since it exists\")\n",
        "    return data_agent_get(project_id, global_location, data_agent_id)\n",
        "\n",
        "  # https://cloud.google.com/gemini/docs/conversational-analytics-api/reference/rest/v1alpha/projects.locations.dataAgents/create\n",
        "  url = f\"https://geminidataanalytics.googleapis.com/v1alpha/projects/{project_id}/locations/{global_location}/dataAgents?data_agent_id={data_agent_id}\"\n",
        "\n",
        "  request_body = {\n",
        "        \"name\": f\"projects/{project_id}/locations/{global_location}/dataAgents/{data_agent_id}\",\n",
        "        \"description\": f\"This is the description of {data_agent_id}.\",\n",
        "        \"data_analytics_agent\": {\n",
        "            \"published_context\": {\n",
        "                \"datasource_references\": bigquery_data_source,\n",
        "                \"system_instruction\": system_instruction,\n",
        "                \"options\": {\n",
        "                    \"analysis\": {\n",
        "                        \"python\": {\n",
        "                            \"enabled\": enable_python\n",
        "                        }\n",
        "                    }\n",
        "                }\n",
        "            }\n",
        "          }\n",
        "      }\n",
        "\n",
        "  response = restAPIHelper(url, \"POST\", request_body)\n",
        "  return response"
      ]
    },
    {
      "cell_type": "code",
      "execution_count": null,
      "metadata": {
        "id": "SCD72m_ea2B4"
      },
      "outputs": [],
      "source": [
        "def data_agent_delete(project_id, global_location, data_agent_id):\n",
        "  \"\"\"Deletes a data agent (assumes it exists)\"\"\"\n",
        "\n",
        "  # https://cloud.google.com/gemini/docs/conversational-analytics-api/reference/rest/v1alpha/projects.locations.dataAgents/delete\n",
        "  url = f\"https://geminidataanalytics.googleapis.com/v1alpha/projects/{project_id}/locations/{global_location}/dataAgents/{data_agent_id}\"\n",
        "\n",
        "  response = restAPIHelper(url, \"DELETE\", request_body = None)\n",
        "  return response"
      ]
    },
    {
      "cell_type": "markdown",
      "metadata": {
        "id": "yFEQgLm2gC9S"
      },
      "source": [
        "#### Data Agent Conversation: List, Exists, Create, Get, Delete"
      ]
    },
    {
      "cell_type": "code",
      "execution_count": null,
      "metadata": {
        "id": "lnhgvVwtf_YI"
      },
      "outputs": [],
      "source": [
        "def data_agent_conversations_list(project_id, global_location):\n",
        "  \"\"\"Lists all the conversations for a data agent\"\"\"\n",
        "\n",
        "  # Gather existing items\n",
        "  # https://cloud.google.com/gemini/docs/conversational-analytics-api/reference/rest/v1alpha/projects.locations.conversations/list\n",
        "  url = f\"https://geminidataanalytics.googleapis.com/v1alpha/projects/{project_id}/locations/{global_location}/conversations\"\n",
        "  json_result = restAPIHelper(url, \"GET\", None)\n",
        "  return json_result"
      ]
    },
    {
      "cell_type": "code",
      "execution_count": null,
      "metadata": {
        "id": "kwI_DqTogssx"
      },
      "outputs": [],
      "source": [
        "def data_agent_conversations_get(project_id, global_location, conversation_id):\n",
        "  \"\"\"Gets a conversation for a data agent\"\"\"\n",
        "\n",
        "  # https://cloud.google.com/gemini/docs/conversational-analytics-api/reference/rest/v1alpha/projects.locations.dataAgents/get\n",
        "  url = f\"https://geminidataanalytics.googleapis.com/v1alpha/projects/{project_id}/locations/{global_location}/conversations/{conversation_id}\"\n",
        "\n",
        "  response = restAPIHelper(url, \"GET\", request_body = None)\n",
        "  return response"
      ]
    },
    {
      "cell_type": "code",
      "execution_count": null,
      "metadata": {
        "id": "nq_ELbGgh8WJ"
      },
      "outputs": [],
      "source": [
        "def data_agent_conversations_exists(project_id, global_location, conversation_id):\n",
        "  \"\"\"Tests to see if a conversation for data agent already exists\"\"\"\n",
        "\n",
        "  # Gather existing items\n",
        "  json_result = data_agent_conversations_list(project_id, global_location)\n",
        "\n",
        "  # Test to see if exists\n",
        "  if \"conversations\" in json_result:\n",
        "    for item in json_result[\"conversations\"]:\n",
        "      if item[\"name\"] == f\"projects/{project_id}/locations/{global_location}/conversations/{conversation_id}\":\n",
        "        print(f\"data_agent_conversations_exists: {conversation_id} already exists\")\n",
        "        return True\n",
        "\n",
        "  return False"
      ]
    },
    {
      "cell_type": "code",
      "execution_count": null,
      "metadata": {
        "id": "A52WuLJhgTdA"
      },
      "outputs": [],
      "source": [
        "def data_agent_conversations_create(project_id, global_location, data_agent_id, conversation_id):\n",
        "  \"\"\"Creates a conversation within a data agent if it does not exist.\n",
        "\n",
        "  Note: Conversation ids must be unique accross data agents.\n",
        "  \"\"\"\n",
        "\n",
        "  if data_agent_conversations_exists(project_id, global_location, conversation_id) == True:\n",
        "    print(\"data_agent_conversations_create: Not created since it exists\")\n",
        "    return data_agent_conversations_get(project_id, global_location, conversation_id)\n",
        "\n",
        "  url = f\"https://geminidataanalytics.googleapis.com/v1alpha/projects/{project_id}/locations/{global_location}/conversations?conversation_id={conversation_id}\"\n",
        "\n",
        "  request_body = {\n",
        "      \"agents\": [\n",
        "          f\"projects/{project_id}/locations/{global_location}/dataAgents/{data_agent_id}\"\n",
        "      ],\n",
        "      \"name\": f\"projects/{project_id}/locations/{global_location}/conversations/{conversation_id}\"\n",
        "  }\n",
        "\n",
        "  response = restAPIHelper(url, \"POST\", request_body)\n",
        "  return response"
      ]
    },
    {
      "cell_type": "markdown",
      "metadata": {
        "id": "cfWTHKtFk3Pi"
      },
      "source": [
        "##### Data Agent Conversation: Chat"
      ]
    },
    {
      "cell_type": "code",
      "execution_count": null,
      "metadata": {
        "id": "2qNw6zu7k5DX"
      },
      "outputs": [],
      "source": [
        "def data_agent_chat(project_id, global_location, data_agent_id, chat_message, conversation_id = None):\n",
        "  \"\"\"Chats with a data agent.\n",
        "  If a conversation id is supplied then we will use our conversation (memory) for the chat.\"\"\"\n",
        "\n",
        "  # https://cloud.google.com/gemini/docs/conversational-analytics-api/reference/rest/v1alpha/projects.locations/chat\n",
        "  url = f\"https://geminidataanalytics.googleapis.com/v1alpha/projects/{project_id}/locations/{global_location}:chat\"\n",
        "\n",
        "\n",
        "  request_body = None\n",
        "  if conversation_id is not None:\n",
        "    # Stateful conversation\n",
        "    # print(\"Stateful conversation\")\n",
        "    request_body = {\n",
        "        \"parent\": f\"projects/{project_id}/locations/{global_location}\",\n",
        "        \"messages\": [\n",
        "            {\n",
        "                \"userMessage\": {\n",
        "                    \"text\": chat_message\n",
        "                }\n",
        "            }\n",
        "        ],\n",
        "        \"conversation_reference\": {\n",
        "            \"conversation\": f\"projects/{project_id}/locations/{global_location}/conversations/{conversation_id}\",\n",
        "            \"data_agent_context\": {\n",
        "                \"data_agent\": f\"projects/{project_id}/locations/{global_location}/dataAgents/{data_agent_id}\",\n",
        "            }\n",
        "        }\n",
        "    }\n",
        "  else:\n",
        "    # Stateless chat\n",
        "    # print(\"Stateless conversation\")\n",
        "    request_body = {\n",
        "        \"parent\": f\"projects/{project_id}/locations/{global_location}\",\n",
        "        \"messages\": [\n",
        "            {\n",
        "                \"userMessage\": {\n",
        "                    \"text\": chat_message\n",
        "                }\n",
        "            }\n",
        "        ],\n",
        "        \"data_agent_context\": {\n",
        "            \"data_agent\": f\"projects/{project_id}/locations/{global_location}/dataAgents/{data_agent_id}\",\n",
        "        }\n",
        "    }\n",
        "\n",
        "  response = restAPIHelper(url, \"POST\", request_body)\n",
        "  return response"
      ]
    },
    {
      "cell_type": "code",
      "execution_count": null,
      "metadata": {
        "id": "tYhFNxUqdW_t"
      },
      "outputs": [],
      "source": [
        "def process_message(message_dict):\n",
        "    \"\"\"\n",
        "    Processes a single, NORMAL Python dictionary representing a message.\n",
        "    We can safely use .get() here because it's no longer a transient object.\n",
        "    \"\"\"\n",
        "    # Check if the message is a system message\n",
        "    system_message = message_dict.get(\"systemMessage\")\n",
        "    if not system_message:\n",
        "        # If it's not a system message (e.g., userMessage), we can ignore or handle it\n",
        "        return\n",
        "\n",
        "    # Now we work with the content of the system_message\n",
        "\n",
        "    # 1. Check for the initial user question\n",
        "    question = system_message.get(\"schema\", {}).get(\"query\", {}).get(\"question\")\n",
        "    if question:\n",
        "        print(f\"-> User Question: {question}\")\n",
        "        return\n",
        "\n",
        "    # 2. Check for the 'data' container\n",
        "    data = system_message.get(\"data\")\n",
        "    if data:\n",
        "        generated_sql = data.get(\"generatedSql\")\n",
        "        if generated_sql:\n",
        "            print(f\"\\n-> Generated SQL:\\n{generated_sql.strip()}\")\n",
        "            return\n",
        "\n",
        "    # 3. Check for the 'chart' container\n",
        "    chart = system_message.get(\"chart\")\n",
        "    if chart:\n",
        "        instructions = chart.get(\"query\", {}).get(\"instructions\")\n",
        "        if instructions:\n",
        "            print(f\"\\n-> Charting Task: {instructions}\")\n",
        "            return\n",
        "\n",
        "    # 4. Check for the 'text' container (final summary)\n",
        "    text = system_message.get(\"text\")\n",
        "    if text:\n",
        "        parts = text.get(\"parts\")\n",
        "        if parts:\n",
        "            final_summary = \" \".join(parts)\n",
        "            print(f\"\\n-> Final Summary: {final_summary}\")\n",
        "            return\n",
        "\n",
        "def convert_to_native(obj):\n",
        "    \"\"\"\n",
        "    Recursively converts json-stream's custom objects into native Python\n",
        "    dictionaries and lists.\n",
        "    \"\"\"\n",
        "    import json_stream\n",
        "    import collections.abc\n",
        "\n",
        "    # Check if the object behaves like a dictionary (a \"Mapping\")\n",
        "    if isinstance(obj, collections.abc.Mapping):\n",
        "        return {key: convert_to_native(value) for key, value in obj.items()}\n",
        "    # Check if the object behaves like a list/tuple (a \"Sequence\"),\n",
        "    # but explicitly exclude strings, which are also sequences.\n",
        "    elif isinstance(obj, collections.abc.Sequence) and not isinstance(obj, str):\n",
        "        return [convert_to_native(item) for item in obj]\n",
        "    # Otherwise, it's a primitive type (str, int, float, bool, None), so return it directly\n",
        "    else:\n",
        "        return obj\n",
        "\n",
        "\n",
        "def data_agent_chat_streaming(project_id, global_location, data_agent_id, chat_message, conversation_id = None):\n",
        "  \"\"\"Chats with a data agent.\n",
        "  If a conversation id is supplied then we will use our conversation (memory) for the chat.\"\"\"\n",
        "\n",
        "  # https://cloud.google.com/gemini/docs/conversational-analytics-api/reference/rest/v1alpha/projects.locations/chat\n",
        "  url = f\"https://geminidataanalytics.googleapis.com/v1alpha/projects/{project_id}/locations/{global_location}:chat\"\n",
        "\n",
        "  request_body = None\n",
        "  if conversation_id is not None:\n",
        "    # Stateful conversation\n",
        "    print(\"Stateful conversation\")\n",
        "    request_body = {\n",
        "        \"parent\": f\"projects/{project_id}/locations/{global_location}\",\n",
        "        \"messages\": [\n",
        "            {\n",
        "                \"userMessage\": {\n",
        "                    \"text\": chat_message\n",
        "                }\n",
        "            }\n",
        "        ],\n",
        "        \"conversation_reference\": {\n",
        "            \"conversation\": f\"projects/{project_id}/locations/{global_location}/conversations/{conversation_id}\",\n",
        "            \"data_agent_context\": {\n",
        "                \"data_agent\": f\"projects/{project_id}/locations/{global_location}/dataAgents/{data_agent_id}\",\n",
        "            }\n",
        "        }\n",
        "    }\n",
        "  else:\n",
        "    # Stateless chat\n",
        "    print(\"Stateless conversation\")\n",
        "    request_body = {\n",
        "        \"parent\": f\"projects/{project_id}/locations/{global_location}\",\n",
        "        \"messages\": [\n",
        "            {\n",
        "                \"userMessage\": {\n",
        "                    \"text\": chat_message\n",
        "                }\n",
        "            }\n",
        "        ],\n",
        "        \"data_agent_context\": {\n",
        "            \"data_agent\": f\"projects/{project_id}/locations/{global_location}/dataAgents/{data_agent_id}\",\n",
        "        }\n",
        "    }\n",
        "\n",
        "  import google.auth.transport.requests\n",
        "  import requests\n",
        "  import google.auth\n",
        "  import json\n",
        "  import ijson\n",
        "  import json_stream # You'll need to pip install json-stream\n",
        "\n",
        "  # Get an access token based upon the current user\n",
        "  creds, project = google.auth.default()\n",
        "  auth_req = google.auth.transport.requests.Request()\n",
        "  creds.refresh(auth_req)\n",
        "  access_token=creds.token\n",
        "\n",
        "  headers = {\n",
        "    \"Content-Type\" : \"application/json\",\n",
        "    \"Authorization\" : \"Bearer \" + access_token\n",
        "  }\n",
        "\n",
        "  try:\n",
        "      all_messages_custom_objects = []\n",
        "      with requests.post(url, json=request_body, headers=headers, stream=True) as response:\n",
        "        response.raise_for_status()\n",
        "        print(\"Connection successful. Receiving and decompressing stream...\\n\")\n",
        "\n",
        "        message_stream = json_stream.load(response.iter_content(), persistent=True)\n",
        "\n",
        "        for message_obj in message_stream:\n",
        "            process_message(message_obj)\n",
        "            all_messages_custom_objects.append(message_obj)\n",
        "\n",
        "      print(\"\\n\\nStream finished.\")\n",
        "\n",
        "      # --- Step 2: Apply the conversion function ---\n",
        "      print(\"Converting custom objects to native Python types...\")\n",
        "      native_python_list = convert_to_native(all_messages_custom_objects)\n",
        "\n",
        "      return native_python_list\n",
        "\n",
        "\n",
        "  except requests.exceptions.RequestException as e:\n",
        "      print(f\"An API error occurred: {e}\")\n",
        "      return None\n",
        "  except Exception as e:\n",
        "      print(f\"An unexpected error occurred: {e}\")\n",
        "      import traceback\n",
        "      traceback.print_exc()\n",
        "      return None"
      ]
    },
    {
      "cell_type": "markdown",
      "metadata": {
        "id": "KT4LdwgzgBbX"
      },
      "source": [
        "\n",
        "          # Raise an exception for bad status codes (4xx or 5xx)\n",
        "          response.raise_for_status()\n",
        "          print(\"Connection successful. Waiting for messages...\")\n",
        "\n",
        "          # 2. Iterate over the response line by line\n",
        "          # iter_lines() is perfect for line-delimited data\n",
        "          for line in response.iter_lines():\n",
        "              # The iterator yields bytes, so we need to decode them\n",
        "              if line:\n",
        "                  try:\n",
        "                      # 3. Parse each line as a JSON object\n",
        "                      data = json.loads(line.decode('utf-8'))\n",
        "\n",
        "                      # 4. Handle the message based on its content\n",
        "                      if data.get(\"status\") == \"processing\":\n",
        "                          progress = data.get(\"progress\", 0)\n",
        "                          message = data.get(\"message\", \"\")\n",
        "                          print(f\"PROGRESS UPDATE: [{progress}%] {message}\")\n",
        "                      elif data.get(\"status\") == \"complete\":\n",
        "                          message = data.get(\"message\", \"\")\n",
        "                          result_file = data.get(\"result_file\", \"N/A\")\n",
        "                          print(f\"\\nFINAL MESSAGE: {message}\")\n",
        "                          print(f\"Result file is at: {result_file}\")\n",
        "                          # You can break the loop once the final message is received\n",
        "                          break\n",
        "                      else:\n",
        "                          # Handle other message types, like the initial 'started' message\n",
        "                          print(f\"INFO: {data.get('message')}\")\n",
        "\n",
        "                  except json.JSONDecodeError:\n",
        "                      print(f\"Warning: Could not decode JSON from line: {line}\")"
      ]
    },
    {
      "cell_type": "markdown",
      "metadata": {
        "id": "c51M89g0Ejmz"
      },
      "source": [
        "### <font color='#4285f4'>MAIN CODE - Conversational Analytics - Chat</font>"
      ]
    },
    {
      "cell_type": "markdown",
      "metadata": {
        "id": "pz0YEcdJLmiD"
      },
      "source": [
        "#### Conversational Analytics Class"
      ]
    },
    {
      "cell_type": "code",
      "execution_count": null,
      "metadata": {
        "id": "1dr56hXW5TSY"
      },
      "outputs": [],
      "source": [
        "import os\n",
        "import json\n",
        "import collections.abc\n",
        "import html\n",
        "import requests\n",
        "import google.auth\n",
        "import google.auth.transport.requests\n",
        "import json_stream\n",
        "import altair as alt\n",
        "from IPython.display import display, HTML\n",
        "import pandas as pd  # This is NEW\n",
        "\n",
        "# _ConversationalAnalyticsStyler class remains unchanged from the previous version.\n",
        "class _ConversationalAnalyticsStyler:\n",
        "    ICONS = {'Agent':'https://storage.googleapis.com/data-analytics-golden-demo/images/BigQuery-32-color.svg','Error':'https://storage.googleapis.com/data-analytics-golden-demo/images/error.svg'}\n",
        "    @staticmethod\n",
        "    def _get_full_html_style_and_script()->str:\n",
        "        script='<script>function renderVegaChart(spec){if(typeof vegaEmbed===\"function\"){vegaEmbed(\"#vega-chart-container\",spec,{\"actions\":true}).catch(console.error)}else{console.error(\"vega-embed.js is not loaded.\")}}</script><script src=\"https://cdn.jsdelivr.net/npm/vega@5\"></script><script src=\"https://cdn.jsdelivr.net/npm/vega-lite@5\"></script><script src=\"https://cdn.jsdelivr.net/npm/vega-embed@6\"></script>';style='<style>body{background-color:#f8f9fa;font-family:\"Roboto\",Arial,sans-serif;color:#202124}.conversation-container{width:95%;max-width:1200px;margin:auto}.message-container{display:flex;align-items:flex-start;margin-bottom:12px}.avatar{width:32px;height:32px;border-radius:50%;margin-right:15px;flex-shrink:0;margin-top:5px}.message-content{display:flex;flex-direction:column;align-items:flex-start;width:100%}.thought-bubble{background-color:#3c4043;color:#e8eaed;border:none;border-radius:18px;padding:10px 15px;max-width:95%;box-shadow:0 1px 2px 0 rgba(60,64,67,.3),0 1px 3px 1px rgba(60,64,67,.15);margin-bottom:8px;box-sizing:border-box}.thought-bubble.error-bubble{background-color:#f2dede;color:#a94442}.thought-bubble p,.thought-bubble pre{margin:5px 0;font-size:.9em;white-space:pre-wrap;word-break:break-word}.thought-bubble.error-bubble p,.thought-bubble.error-bubble pre{color:#a94442}.thought-chip{display:inline-block;padding:3px 10px;font-size:.8em;font-weight:500;border-radius:12px;margin-bottom:8px}.thought-chip.thought-chip-main{background-color:#8ab4f8;color:#202124}.thought-chip.error-chip{background-color:#d9534f;color:#fff}.formatted-result-container{margin-top:20px;border:1px solid #dfe1e5;border-radius:8px;background-color:#fff;box-shadow:0 1px 2px 0 rgba(60,64,67,.3),0 1px 3px 1px rgba(60,64,67,.15)}.formatted-result-header{padding:12px 16px;font-size:1.1em;font-weight:500;color:#202124;border-bottom:1px solid #dfe1e5;background-color:#f8f9fa;border-radius:8px 8px 0 0}.formatted-result-content{padding:16px}.sql-query-display{background-color:#f1f3f4;padding:15px;border-radius:8px;margin-bottom:20px}.sql-query-display pre code{white-space:pre-wrap;word-break:break-all}.google-table{border-collapse:collapse;width:100%;border:1px solid #dfe1e5;box-shadow:0 2px 2px rgba(0,0,0,.14);margin-bottom:20px}.google-table thead tr{background-color:#4285f4;color:#fff}.google-table th,.google-table td{padding:12px 15px;text-align:left;border:1px solid #dfe1e5}.google-table tbody tr:nth-of-type(even){background-color:#f8f9fa}.google-table tbody tr:hover{background-color:#e8f0fe}#vega-chart-container{width:100%}</style>'\n",
        "        return style+script\n",
        "    def create_thought_bubble_html(self,chip_text:str,content_text:str)->str:\n",
        "        return f'<div class=\"conversation-container\"><div class=\"message-container agent\"><img src=\"{self.ICONS[\"Agent\"]}\" alt=\"Agent icon\" class=\"avatar\"><div class=\"message-content\"><div class=\"thought-bubble\"><div class=\"thought-chip thought-chip-main\">{chip_text}</div><pre>{html.escape(content_text)}</pre></div></div></div></div>'\n",
        "    def create_error_bubble_html(self,error_text:str)->str:\n",
        "        return f'<div class=\"conversation-container\"><div class=\"message-container agent\"><img src=\"{self.ICONS[\"Error\"]}\" alt=\"Error icon\" class=\"avatar\"><div class=\"message-content\"><div class=\"thought-bubble error-bubble\"><div class=\"thought-chip error-chip\">Error</div><pre>{html.escape(error_text)}</pre></div></div></div></div>'\n",
        "    def create_formatted_result_html(self,sql:str|None,table_html:str|None,chart_json:str|None)->str:\n",
        "        content_parts=[]\n",
        "        if sql:content_parts.append(f'<div class=\"sql-query-display\"><pre><code>{html.escape(sql)}</code></pre></div>')\n",
        "        if table_html:content_parts.append(table_html.replace(\"<table\",'<table class=\"google-table\"',1))\n",
        "        if chart_json:content_parts.append('<div id=\"vega-chart-container\"></div><script>renderVegaChart('+chart_json+\");</script>\")\n",
        "        if not content_parts:return\"\"\n",
        "        return f'<div class=\"formatted-result-container\"><div class=\"formatted-result-header\">Formatted Result</div><div class=\"formatted-result-content\">{\"\".join(content_parts)}</div></div>'\n",
        "\n",
        "\n",
        "\n",
        "class ConversationalAnalytics:\n",
        "    \"\"\"\n",
        "    A class to interact with the Google Cloud Conversational Analytics API,\n",
        "    providing a rich, styled, and streaming notebook experience with conversation memory.\n",
        "    \"\"\"\n",
        "    def __init__(self, project_id: str = None, location: str = \"global\"):\n",
        "        self.project_id = project_id or os.environ.get(\"GOOGLE_CLOUD_PROJECT\")\n",
        "        if not self.project_id:\n",
        "            raise ValueError(\"Project ID not found. Provide it or set GOOGLE_CLOUD_PROJECT.\")\n",
        "        self.location = location\n",
        "        self._styler = _ConversationalAnalyticsStyler()\n",
        "        self._conversation_cache = set() # In-memory cache for existing conversations\n",
        "        self.dataframe = pd.DataFrame() # This is NEW\n",
        "        self._reset_results()\n",
        "\n",
        "    # --- Public Properties ---\n",
        "    @property\n",
        "    def sql(self) -> str | None: return self._sql_query\n",
        "    @property\n",
        "    def html(self) -> str | None: return self._html_table\n",
        "    @property\n",
        "    def chart(self) -> alt.Chart | None: return self._chart_obj\n",
        "    @property\n",
        "    def errors(self) -> list[str]: return self._errors\n",
        "\n",
        "    # --- Main Chat Method ---\n",
        "    def chat(self, agent_id: str, prompt: str, conversation_id: str = None) -> None:\n",
        "        self._reset_results()\n",
        "        display(HTML(self._styler._get_full_html_style_and_script()))\n",
        "\n",
        "        if conversation_id:\n",
        "            self._ensure_conversation_exists(agent_id, conversation_id)\n",
        "\n",
        "        api_url = f\"https://geminidataanalytics.googleapis.com/v1alpha/projects/{self.project_id}/locations/{self.location}:chat\"\n",
        "        base_payload = {\"messages\": [{\"userMessage\": {\"text\": prompt}}]}\n",
        "        agent_context = {\"data_agent\": f\"projects/{self.project_id}/locations/{self.location}/dataAgents/{agent_id}\"}\n",
        "\n",
        "        if conversation_id:\n",
        "          base_payload[\"conversation_reference\"] = {\"conversation\": f\"projects/{self.project_id}/locations/{self.location}/conversations/{conversation_id}\", \"data_agent_context\": agent_context}\n",
        "        else:\n",
        "          base_payload[\"data_agent_context\"] = agent_context\n",
        "\n",
        "        creds, _ = google.auth.default(); creds.refresh(google.auth.transport.requests.Request())\n",
        "        headers = {\"Content-Type\": \"application/json\", \"Authorization\": \"Bearer \" + creds.token}\n",
        "\n",
        "        try:\n",
        "            all_messages = []\n",
        "            with requests.post(api_url, json=base_payload, headers=headers, stream=True) as response:\n",
        "                response.raise_for_status()\n",
        "                for message_obj in json_stream.load(response.iter_content(), persistent=True):\n",
        "                    self._stream_and_display_message(message_obj)\n",
        "                    all_messages.append(message_obj)\n",
        "            self.response_json = self._convert_to_native(all_messages)\n",
        "            self._parse_final_response()\n",
        "            if self.html or self.chart:\n",
        "                chart_json = self.chart.to_json(indent=2) if self.chart else None\n",
        "                final_html = self._styler.create_formatted_result_html(self.sql, self.html, chart_json)\n",
        "                display(HTML(final_html))\n",
        "        except requests.exceptions.RequestException as e:\n",
        "            error_msg = f\"API Request Error: {e.response.text if e.response else e}\"\n",
        "            self._errors.append(error_msg)\n",
        "            display(HTML(self._styler.create_error_bubble_html(error_msg)))\n",
        "        except Exception as e:\n",
        "            import traceback\n",
        "            error_msg = f\"Client-side Error: {traceback.format_exc()}\"\n",
        "            self._errors.append(error_msg)\n",
        "            display(HTML(self._styler.create_error_bubble_html(error_msg)))\n",
        "\n",
        "    # --- Conversation Management Methods ---\n",
        "    def _ensure_conversation_exists(self, agent_id: str, conversation_id: str):\n",
        "        cache_key = (conversation_id, agent_id)\n",
        "        if cache_key in self._conversation_cache:\n",
        "            return\n",
        "\n",
        "        print(f\"Checking for conversation '{conversation_id}'...\")\n",
        "        if not self._conversation_exists_api(conversation_id):\n",
        "            print(f\"Conversation not found. Creating '{conversation_id}' for agent '{agent_id}'...\")\n",
        "            self._create_conversation_api(agent_id, conversation_id)\n",
        "            print(\"Conversation created successfully.\")\n",
        "        else:\n",
        "            print(\"Conversation found on server.\")\n",
        "\n",
        "        self._conversation_cache.add(cache_key)\n",
        "\n",
        "    def _conversation_exists_api(self, conversation_id: str) -> bool:\n",
        "        url = f\"https://geminidataanalytics.googleapis.com/v1alpha/projects/{self.project_id}/locations/{self.location}/conversations/{conversation_id}\"\n",
        "        try:\n",
        "            self._rest_api_helper(url, \"GET\", None)\n",
        "            return True\n",
        "        except RuntimeError as e:\n",
        "            if \"404\" in str(e):\n",
        "                return False\n",
        "            raise e\n",
        "\n",
        "    def _create_conversation_api(self, agent_id: str, conversation_id: str) -> dict:\n",
        "        url = f\"https://geminidataanalytics.googleapis.com/v1alpha/projects/{self.project_id}/locations/{self.location}/conversations?conversation_id={conversation_id}\"\n",
        "        request_body = {\n",
        "            \"agents\": [f\"projects/{self.project_id}/locations/{self.location}/dataAgents/{agent_id}\"],\n",
        "            \"name\": f\"projects/{self.project_id}/locations/{self.location}/conversations/{conversation_id}\"\n",
        "        }\n",
        "        return self._rest_api_helper(url, \"POST\", request_body)\n",
        "\n",
        "    # --- Internal Helper and Parsing Methods ---\n",
        "    @staticmethod\n",
        "    def _rest_api_helper(url: str, http_verb: str, request_body: dict = None) -> dict:\n",
        "        creds, _ = google.auth.default()\n",
        "        auth_req = google.auth.transport.requests.Request()\n",
        "        creds.refresh(auth_req)\n",
        "        headers = {\"Content-Type\": \"application/json\", \"Authorization\": \"Bearer \" + creds.token}\n",
        "        try:\n",
        "            if http_verb == \"GET\": response = requests.get(url, headers=headers)\n",
        "            elif http_verb == \"POST\": response = requests.post(url, json=request_body, headers=headers)\n",
        "            else: raise ValueError(f\"Unsupported HTTP verb: {http_verb}\")\n",
        "            response.raise_for_status()\n",
        "            return response.json() if response.content else {}\n",
        "        except requests.exceptions.HTTPError as e:\n",
        "            raise RuntimeError(f\"Error restAPIHelper -> '{e.response.status_code}': {e.response.text}\") from e\n",
        "\n",
        "    def _reset_results(self):\n",
        "        self.response_json=None; self._sql_query=None; self._html_table=None; self._chart_obj=None; self._errors=[]\n",
        "        self.dataframe = pd.DataFrame() # This is MODIFIED\n",
        "\n",
        "    def _stream_and_display_message(self, message_dict: dict) -> None:\n",
        "        chip, content, is_err = None, None, False\n",
        "        if err := message_dict.get(\"error\"): is_err, content = True, err.get('message','Unspecified err.')\n",
        "        elif sm := message_dict.get(\"systemMessage\"):\n",
        "            if err := sm.get(\"error\"): is_err, content = True, err.get(\"text\")\n",
        "            elif q := sm.get(\"schema\",{}).get(\"query\",{}).get(\"question\"): chip, content=\"Analyzing Query\", q\n",
        "            elif d := sm.get(\"data\"):\n",
        "                if sql := d.get(\"generatedSql\"): chip, content=\"Generating SQL\", sql.strip()\n",
        "            elif c := sm.get(\"chart\"):\n",
        "                if i := c.get(\"query\",{}).get(\"instructions\"): chip, content=\"Preparing Chart\", i\n",
        "            elif t := sm.get(\"text\"):\n",
        "                if p := t.get(\"parts\"): chip, content=\"Summary\", ' '.join(p)\n",
        "        if content:\n",
        "            if is_err: self._errors.append(content); bubble = self._styler.create_error_bubble_html(content)\n",
        "            else: bubble = self._styler.create_thought_bubble_html(chip, content)\n",
        "            display(HTML(bubble))\n",
        "    def _parse_final_response(self):\n",
        "        if not self.response_json: return\n",
        "        self._sql_query = self._extract_sql(self.response_json)\n",
        "        self._html_table = self._create_html_table(self.response_json)\n",
        "        self._chart_obj = self._create_chart(self.response_json)\n",
        "    @staticmethod\n",
        "    def _convert_to_native(obj):\n",
        "        if isinstance(obj, collections.abc.Mapping): return {k:ConversationalAnalytics._convert_to_native(v) for k, v in obj.items()}\n",
        "        if isinstance(obj, collections.abc.Sequence) and not isinstance(obj, str): return [ConversationalAnalytics._convert_to_native(i) for i in obj]\n",
        "        return obj\n",
        "    def _extract_sql(self, json_object: list) -> str | None:\n",
        "        return next((item[\"systemMessage\"][\"data\"][\"generatedSql\"] for item in reversed(json_object) if isinstance(item,dict) and item.get(\"systemMessage\",{}).get(\"data\",{}).get(\"generatedSql\")), None)\n",
        "\n",
        "    def _create_html_table(self, json_object: list) -> str | None:\n",
        "        result_rows = None\n",
        "        for item in reversed(json_object):\n",
        "            try:\n",
        "                if data_rows := item['systemMessage']['data']['result']['data']:\n",
        "                    result_rows = data_rows\n",
        "                    break\n",
        "            except (KeyError, TypeError):\n",
        "                continue\n",
        "\n",
        "        if not result_rows:\n",
        "            return None\n",
        "\n",
        "        # This is NEW and what I want\n",
        "        self.dataframe = pd.DataFrame(result_rows)\n",
        "\n",
        "        headers = list(result_rows[0].keys())\n",
        "        html_str = \"<table><thead><tr>\"\n",
        "        for header in headers:\n",
        "            html_str += f\"<th>{header.replace('_', ' ').title()}</th>\"\n",
        "        html_str += \"</tr></thead><tbody>\"\n",
        "        for row in result_rows:\n",
        "            html_str += \"<tr>\"\n",
        "            for header in headers:\n",
        "                html_str += f\"<td>{row.get(header, 'N/A')}</td>\"\n",
        "            html_str += \"</tr>\"\n",
        "        html_str += \"</tbody></table>\"\n",
        "        return html_str\n",
        "\n",
        "    def _create_chart(self, json_object: list) -> alt.Chart | None:\n",
        "        for entry in json_object:\n",
        "            try:\n",
        "                if spec := entry.get('systemMessage',{}).get('chart',{}).get('result',{}).get('vegaConfig'):\n",
        "                    spec['width'] = 'container'; spec['height'] = 400\n",
        "                    return alt.Chart.from_dict(spec)\n",
        "            except (AttributeError, TypeError, KeyError, Exception) as e:\n",
        "                if isinstance(e, (AttributeError, TypeError, KeyError)): continue\n",
        "                self._errors.append(f\"Altair Chart Error: {e}\"); return None\n",
        "        return None"
      ]
    },
    {
      "cell_type": "markdown",
      "metadata": {
        "id": "qZ-YA5FVopSE"
      },
      "source": [
        "### <font color='#4285f4'>MAIN CODE - Conversational Analytics - Demo - REST APIs</font>"
      ]
    },
    {
      "cell_type": "markdown",
      "metadata": {
        "id": "a_a_g4ALrMVI"
      },
      "source": [
        "#### **Create Conversation Agent**"
      ]
    },
    {
      "cell_type": "markdown",
      "metadata": {
        "id": "Abl7luQcrSOt"
      },
      "source": [
        "##### System Instruction - for tables to query"
      ]
    },
    {
      "cell_type": "code",
      "execution_count": null,
      "metadata": {
        "id": "Xi_oS5CAp6EE"
      },
      "outputs": [],
      "source": [
        "system_instruction = f\"\"\"\n",
        "- system_description: \"You are an expert data analyst for a coffee truck business and can answer questions about customer, order, product, and truck data.\"\n",
        "- tables:\n",
        "    - table:\n",
        "        - name: {project_id}.agentic_beans_curated.customer\n",
        "        - description: Customer information for Agentic Beans coffee truck customers, including their demographics and purchase behavior.\n",
        "        - synonyms: customers, coffee_lovers\n",
        "        - tags: 'personal_data, demographics, sales_performance'\n",
        "        - fields:\n",
        "            - field:\n",
        "                - name: customer_id\n",
        "                - description: The unique identifier and primary key for each customer across all transactions.\n",
        "            - field:\n",
        "                - name: customer_name\n",
        "                - description: The full name of the customer, used for personalized interactions.\n",
        "                - tag: person\n",
        "                - sample_values: 'Alice Wonderland, Bob The Builder, Charlie Chaplin'\n",
        "            - field:\n",
        "                - name: customer_yob\n",
        "                - description: The customer's year of birth, useful for age-based demographic segmentation.\n",
        "            - field:\n",
        "                - name: customer_email\n",
        "                - description: The unique email address of the customer, primarily used for direct marketing and sending receipts.\n",
        "                - tag: contact\n",
        "                - sample_values: 'alice.w@example.com, bob.b@mail.com, c.chaplin@email.net'\n",
        "            - field:\n",
        "                - name: customer_inception_date\n",
        "                - description: The date when the customer made their very first transaction, indicating their tenure.\n",
        "            - field:\n",
        "                - name: country_code\n",
        "                - description: The two-letter ISO 3166-1 alpha-2 country code where the customer is located (e.g., 'US' for United States, 'CA' for Canada).\n",
        "                - sample_values: 'US, CA, GB, AU'\n",
        "            - field:\n",
        "                - name: customer_total_spend\n",
        "                - description: The cumulative amount of money the customer has spent across all their orders.\n",
        "                - aggregations: 'sum, avg'\n",
        "            - field:\n",
        "                - name: customer_average_transaction_value\n",
        "                - description: The average value of a single order placed by this customer.\n",
        "                - aggregations: 'sum, avg'\n",
        "            - field:\n",
        "                - name: customer_number_of_transactions\n",
        "                - description: The total count of orders placed by the customer.\n",
        "                - aggregations: 'sum, avg'\n",
        "            - field:\n",
        "                - name: customer_favorite_product_id\n",
        "                - description: The identifier of the product that this customer has purchased most frequently.\n",
        "            - field:\n",
        "                - name: customer_favorite_product_category_id\n",
        "                - description: The identifier of the product category that this customer has purchased most frequently.\n",
        "    - table:\n",
        "        - name: {project_id}.agentic_beans_curated.order_detail\n",
        "        - description: Detailed line items for each order, specifying products, quantities, and individual prices.\n",
        "        - synonyms: order_items, line_items, purchased_items\n",
        "        - fields:\n",
        "            - field:\n",
        "                - name: order_detail_id\n",
        "                - description: Unique identifier for each individual item entry in an order.\n",
        "            - field:\n",
        "                - name: order_header_id\n",
        "                - description: Foreign key linking to the order_header table, indicating which main order this detail belongs to.\n",
        "            - field:\n",
        "                - name: truck_menu_id\n",
        "                - description: Identifier for the specific menu item as it appeared on the truck's menu at the time of order.\n",
        "            - field:\n",
        "                - name: order_quantity\n",
        "                - description: The number of units of this specific menu item purchased in the order.\n",
        "                - aggregations: 'sum, avg'\n",
        "            - field:\n",
        "                - name: product_id\n",
        "                - description: Foreign key referencing the 'product_id' from the 'product' table, identifying the core product offering.\n",
        "            - field:\n",
        "                - name: product_category_id\n",
        "                - description: Foreign key referencing the 'product_category_id' from the 'product_category' table, identifying the category of the purchased product.\n",
        "            - field:\n",
        "                - name: size\n",
        "                - description: The specific size of the product offering, e.g., 'S', 'M', 'L', or 'N/A' for items without a size option.\n",
        "                - sample_values: 'S, M, L, N/A'\n",
        "            - field:\n",
        "                - name: price\n",
        "                - description: The price of this specific product item as listed on the truck's menu for this order.\n",
        "                - aggregations: 'sum, avg'\n",
        "            - field:\n",
        "                - name: order_detail_total\n",
        "                - description: The calculated total cost for this line item (order_quantity * price).\n",
        "                - aggregations: 'sum, avg'\n",
        "    - table:\n",
        "        - name: {project_id}.agentic_beans_curated.order_header\n",
        "        - description: Main information for each customer order, including timestamp, customer, truck, and total cost.\n",
        "        - synonyms: orders, transactions, sales\n",
        "        - tags: 'sales, order_processing, revenue'\n",
        "        - fields:\n",
        "            - field:\n",
        "                - name: order_header_id\n",
        "                - description: Unique identifier for each order placed at a coffee truck.\n",
        "            - field:\n",
        "                - name: order_header_timestamp\n",
        "                - description: The exact date and time when the order was successfully completed.\n",
        "            - field:\n",
        "                - name: truck_id\n",
        "                - description: The identifier of the coffee truck where this order was placed.\n",
        "            - field:\n",
        "                - name: customer_id\n",
        "                - description: The identifier of the customer who placed this order.\n",
        "            - field:\n",
        "                - name: order_neighborhood\n",
        "                - description: The geographical area or neighborhood where the order was fulfilled, important for location-based analysis.\n",
        "                - sample_values: 'Downtown, Financial District, East Village, West Loop'\n",
        "            - field:\n",
        "                - name: order_header_total\n",
        "                - description: The grand total amount for the entire order, including all items.\n",
        "                - aggregations: 'sum, avg'\n",
        "            - field:\n",
        "                - name: payment_method\n",
        "                - description: The method used by the customer to pay for the order, e.g., 'Credit Card', 'Cash', 'Mobile App'.\n",
        "                - sample_values: 'Credit Card, Cash, Mobile App, Digital Wallet'\n",
        "    - table:\n",
        "        - name: {project_id}.agentic_beans_curated.product\n",
        "        - description: Definitions and details for all individual products offered by Agentic Beans, regardless of specific truck menus.\n",
        "        - synonyms: products, coffee_items, food_items\n",
        "        - fields:\n",
        "            - field:\n",
        "                - name: product_id\n",
        "                - description: The unique identifier and primary key for each distinct product.\n",
        "            - field:\n",
        "                - name: product_category_id\n",
        "                - description: A foreign key that links this product to its broader category in the product_category table.\n",
        "            - field:\n",
        "                - name: product_name\n",
        "                - description: The public-facing name of the individual product, as it appears on general menus (e.g., 'Latte', 'Croissant', 'Espresso').\n",
        "                - tag: item_name\n",
        "                - sample_values: 'Latte, Cold Brew, Cappuccino, Blueberry Muffin'\n",
        "            - field:\n",
        "                - name: product_description\n",
        "                - description: A detailed, customer-facing description of the product, useful for marketing materials and menus.\n",
        "            - field:\n",
        "                - name: product_image_prompt\n",
        "                - description: The specific textual prompt used to generate the visual representation of the product via AI.\n",
        "            - field:\n",
        "                - name: product_image_uri\n",
        "                - description: The URI (Uniform Resource Identifier) indicating the storage location of the product's image in Google Cloud Storage.\n",
        "            - field:\n",
        "                - name: product_image_obj_ref\n",
        "                - description: Contains detailed BigLake Object Reference Data for the product image, if applicable.\n",
        "    - table:\n",
        "        - name: {project_id}.agentic_beans_curated.product_category\n",
        "        - description: Categories used to group and organize various products offered by Agentic Beans.\n",
        "        - synonyms: categories, product_groups\n",
        "        - fields:\n",
        "            - field:\n",
        "                - name: product_category_id\n",
        "                - description: The unique identifier and primary key for each product category.\n",
        "            - field:\n",
        "                - name: product_category_name\n",
        "                - description: The public-facing name of the product category, such as 'Espresso & Milk Drinks' or 'Pastries'.\n",
        "                - sample_values: 'Espresso & Milk, Brewed Coffee, Pastries, Teas'\n",
        "            - field:\n",
        "                - name: product_category_description\n",
        "                - description: A detailed description of the product category, providing context for products within it.\n",
        "            - field:\n",
        "                - name: product_category_image_prompt\n",
        "                - description: A GenAI prompt used to generate the image associated with this product category.\n",
        "            - field:\n",
        "                - name: product_category_image_uri\n",
        "                - description: The URI location of the product category's image in Google Cloud Storage.\n",
        "            - field:\n",
        "                - name: product_category_image_obj_ref\n",
        "                - description: Contains detailed BigLake Object Reference Data for the product category image, if applicable.\n",
        "    - table:\n",
        "        - name: {project_id}.agentic_beans_curated.truck\n",
        "        - description: Comprehensive details about each individual coffee truck in the Agentic Beans fleet.\n",
        "        - synonyms: trucks, coffee_trucks, fleet_vehicles\n",
        "        - tags: 'operations, assets, logistics'\n",
        "        - fields:\n",
        "            - field:\n",
        "                - name: truck_id\n",
        "                - description: The unique identifier and primary key for each operational coffee truck.\n",
        "            - field:\n",
        "                - name: truck_name\n",
        "                - description: A unique, memorable name assigned to each truck, e.g., 'Bean Machine', 'The Daily Grind'.\n",
        "                - sample_values: 'Bean Machine, Roaming Roast, Espresso Express, Grind House'\n",
        "            - field:\n",
        "                - name: truck_license_plate\n",
        "                - description: The official vehicle license plate number for identification and compliance.\n",
        "            - field:\n",
        "                - name: truck_vin\n",
        "                - description: The Vehicle Identification Number, a unique serial number for the truck's manufacturing and registration.\n",
        "            - field:\n",
        "                - name: truck_acquisition_timestamp\n",
        "                - description: The date and time when the truck was integrated into the Agentic Beans fleet.\n",
        "    - table:\n",
        "        - name: {project_id}.agentic_beans_curated.truck_menu\n",
        "        - description: A mapping of which products are available on which trucks, including truck-specific pricing and sizes.\n",
        "        - synonyms: menu, truck_offerings, daily_specials\n",
        "        - fields:\n",
        "            - field:\n",
        "                - name: truck_menu_id\n",
        "                - description: The unique identifier and primary key for each distinct menu entry on a specific truck.\n",
        "            - field:\n",
        "                - name: truck_id\n",
        "                - description: Foreign key referencing the 'truck' table, indicating which truck offers this menu item.\n",
        "            - field:\n",
        "                - name: product_id\n",
        "                - description: Foreign key referencing the 'product' table, identifying the core product of this menu item.\n",
        "            - field:\n",
        "                - name: size\n",
        "                - description: The specific size available for this product on this truck's menu, e.g., 'S', 'M', 'L', or 'N/A'.\n",
        "                - sample_values: 'S, M, L, N/A'\n",
        "            - field:\n",
        "                - name: price\n",
        "                - description: The price at which this specific product and size is sold on this particular truck's menu.\n",
        "                - aggregations: 'sum, avg'\n",
        "- golden_queries:\n",
        "    - golden_query:\n",
        "        - natural_language_query: How many unique customers have placed an order?\n",
        "        - sql_query: SELECT COUNT(DISTINCT customer_id) FROM {project_id}.agentic_beans_curated.customer\n",
        "    - golden_query:\n",
        "        - natural_language_query: What is the total revenue generated from all orders?\n",
        "        - sql_query: SELECT SUM(order_header_total) FROM {project_id}.agentic_beans_curated.order_header\n",
        "    - golden_query:\n",
        "        - natural_language_query: Which product category has the highest number of distinct products?\n",
        "        - sql_query: >-\n",
        "            SELECT\n",
        "            pc.product_category_name,\n",
        "            COUNT(p.product_id)\n",
        "            FROM {project_id}.agentic_beans_curated.product_category pc\n",
        "            JOIN {project_id}.agentic_beans_curated.product p\n",
        "            ON pc.product_category_id = p.product_category_id\n",
        "            GROUP BY pc.product_category_name\n",
        "            ORDER BY COUNT(p.product_id) DESC\n",
        "            LIMIT 1\n",
        "    - golden_query:\n",
        "        - natural_language_query: How many orders were placed through the 'Bean Machine' truck?\n",
        "        - sql_query: >-\n",
        "            SELECT\n",
        "            COUNT(oh.order_header_id)\n",
        "            FROM {project_id}.agentic_beans_curated.order_header oh\n",
        "            JOIN {project_id}.agentic_beans_curated.truck t\n",
        "            ON oh.truck_id = t.truck_id\n",
        "            WHERE t.truck_name = 'Bean Machine'\n",
        "    - golden_query:\n",
        "        - natural_language_query: What is the average price of a 'Latte' across all trucks and sizes?\n",
        "        - sql_query: >-\n",
        "            SELECT AVG(tm.price)\n",
        "            FROM {project_id}.agentic_beans_curated.truck_menu tm\n",
        "            JOIN {project_id}.agentic_beans_curated.product p\n",
        "            ON tm.product_id = p.product_id\n",
        "            WHERE p.product_name = 'Latte'\n",
        "- golden_action_plans:\n",
        "    - golden_action_plan:\n",
        "        - natural_language_query: Show me the total number of orders broken down by payment method.\n",
        "        - action_plan:\n",
        "            - step: >-\n",
        "                Run a SQL query on the table {project_id}.agentic_beans_curated.order_header\n",
        "                to get the count of orders grouped by their 'payment_method'.\n",
        "            - step: >-\n",
        "                Create a bar chart or pie chart using the retrieved data,\n",
        "                where each slice/bar represents a payment method and its corresponding order count.\n",
        "    - golden_action_plan:\n",
        "        - natural_language_query: Display the average order value for customers from each country.\n",
        "        - action_plan:\n",
        "            - step: >-\n",
        "                Run a SQL query joining the {project_id}.agentic_beans_curated.customer table\n",
        "                to calculate the average of 'customer_average_transaction_value' for each 'country_code'.\n",
        "            - step: >-\n",
        "                Create a bar chart or geo map showing the average transaction value for each country code.\n",
        "    - golden_action_plan:\n",
        "        - natural_language_query: Analyze which trucks are selling the most of 'Espresso' products.\n",
        "        - action_plan:\n",
        "            - step: >-\n",
        "                Run a SQL query that joins 'truck_menu', 'product', and 'order_detail' tables.\n",
        "                Filter for 'Espresso' products, sum 'order_quantity', and group by 'truck_name'.\n",
        "            - step: >-\n",
        "                Visualize the results using a bar chart showing each truck's total 'Espresso' quantity sold.\n",
        "- relationships:\n",
        "    - relationship:\n",
        "        - name: customer_places_order\n",
        "        - description: Each customer can place multiple orders, and each order is associated with one customer.\n",
        "        - relationship_type: one-to-many\n",
        "        - join_type: left\n",
        "        - left_table: {project_id}.agentic_beans_curated.customer\n",
        "        - right_table: {project_id}.agentic_beans_curated.order_header\n",
        "        - relationship_columns: \"// Join columns - left_column: 'customer_id' - right_column: 'customer_id'\"\n",
        "    - relationship:\n",
        "        - name: order_header_has_details\n",
        "        - description: Each order header can have multiple detailed line items, and each detail belongs to one order header.\n",
        "        - relationship_type: one-to-many\n",
        "        - join_type: left\n",
        "        - left_table: {project_id}.agentic_beans_curated.order_header\n",
        "        - right_table: {project_id}.agentic_beans_curated.order_detail\n",
        "        - relationship_columns: \"// Join columns - left_column: 'order_header_id' - right_column: 'order_header_id'\"\n",
        "    - relationship:\n",
        "        - name: product_in_order_detail\n",
        "        - description: A product can appear as a line item in multiple order details.\n",
        "        - relationship_type: one-to-many\n",
        "        - join_type: left\n",
        "        - left_table: {project_id}.agentic_beans_curated.product\n",
        "        - right_table: {project_id}.agentic_beans_curated.order_detail\n",
        "        - relationship_columns: \"// Join columns - left_column: 'product_id' - right_column: 'product_id'\"\n",
        "    - relationship:\n",
        "        - name: product_belongs_to_category\n",
        "        - description: Each product belongs to a single product category, and a category can contain many products.\n",
        "        - relationship_type: one-to-many\n",
        "        - join_type: left\n",
        "        - left_table: {project_id}.agentic_beans_curated.product_category\n",
        "        - right_table: {project_id}.agentic_beans_curated.product\n",
        "        - relationship_columns: \"// Join columns - left_column: 'product_category_id' - right_column: 'product_category_id'\"\n",
        "    - relationship:\n",
        "        - name: truck_has_menu\n",
        "        - description: Each truck has its own menu with multiple offerings.\n",
        "        - relationship_type: one-to-many\n",
        "        - join_type: left\n",
        "        - left_table: {project_id}.agentic_beans_curated.truck\n",
        "        - right_table: {project_id}.agentic_beans_curated.truck_menu\n",
        "        - relationship_columns: \"// Join columns - left_column: 'truck_id' - right_column: 'truck_id'\"\n",
        "    - relationship:\n",
        "        - name: truck_menu_item_in_order_detail\n",
        "        - description: A specific truck menu item can be chosen in many order details.\n",
        "        - relationship_type: one-to-many\n",
        "        - join_type: left\n",
        "        - left_table: {project_id}.agentic_beans_curated.truck_menu\n",
        "        - right_table: {project_id}.agentic_beans_curated.order_detail\n",
        "        - relationship_columns: \"// Join columns - left_column: 'truck_menu_id' - right_column: 'truck_menu_id'\"\n",
        "    - relationship:\n",
        "        - name: order_from_truck\n",
        "        - description: Each order is placed at a specific coffee truck.\n",
        "        - relationship_type: one-to-many\n",
        "        - join_type: left\n",
        "        - left_table: {project_id}.agentic_beans_curated.truck\n",
        "        - right_table: {project_id}.agentic_beans_curated.order_header\n",
        "        - relationship_columns: \"// Join columns - left_column: 'truck_id' - right_column: 'truck_id'\"\n",
        "- glossaries:\n",
        "    - glossary:\n",
        "        - term: customer\n",
        "        - description: A patron who purchases products or services from Agentic Beans coffee trucks.\n",
        "    - glossary:\n",
        "        - term: product\n",
        "        - description: Any item, such as a coffee beverage, pastry, or merchandise, offered for sale by Agentic Beans.\n",
        "    - glossary:\n",
        "        - term: truck\n",
        "        - description: A mobile retail unit operated by Agentic Beans for selling coffee and related products.\n",
        "    - glossary:\n",
        "        - term: order\n",
        "        - description: A completed transaction initiated by a customer at an Agentic Beans coffee truck.\n",
        "    - glossary:\n",
        "        - term: menu item\n",
        "        - description: A specific product configuration (product, size, price) as listed on an individual truck's offerings.\n",
        "    - glossary:\n",
        "        - term: revenue\n",
        "        - description: The total income generated from the sale of goods and services before expenses.\n",
        "- additional_instructions:\n",
        "    - text: All inquiries and analyses should be grounded in the context of Agentic Beans coffee truck operations.\n",
        "    - text: Focus on providing insights that help understand sales performance, customer preferences, and truck efficiency.\n",
        "\"\"\""
      ]
    },
    {
      "cell_type": "markdown",
      "metadata": {
        "id": "AS1w7wK1regk"
      },
      "source": [
        "##### Data Source - for tables to query"
      ]
    },
    {
      "cell_type": "code",
      "execution_count": null,
      "metadata": {
        "id": "ASKIVnzwp9Yf"
      },
      "outputs": [],
      "source": [
        "bigquery_data_source = {\n",
        "    \"bq\": {\n",
        "        \"tableReferences\": [\n",
        "            {\n",
        "                \"projectId\": project_id,\n",
        "                \"datasetId\": dataset_name,\n",
        "                \"tableId\": \"customer\",\n",
        "            },\n",
        "            {\n",
        "                \"projectId\": project_id,\n",
        "                \"datasetId\": dataset_name,\n",
        "                \"tableId\": \"order_detail\",\n",
        "            },\n",
        "            {\n",
        "                \"projectId\": project_id,\n",
        "                \"datasetId\": dataset_name,\n",
        "                \"tableId\": \"order_header\",\n",
        "            },\n",
        "            {\n",
        "                \"projectId\": project_id,\n",
        "                \"datasetId\": dataset_name,\n",
        "                \"tableId\": \"product\",\n",
        "            },\n",
        "            {\n",
        "                \"projectId\": project_id,\n",
        "                \"datasetId\": dataset_name,\n",
        "                \"tableId\": \"product_category\",\n",
        "            },\n",
        "            {\n",
        "                \"projectId\": project_id,\n",
        "                \"datasetId\": dataset_name,\n",
        "                \"tableId\": \"truck\",\n",
        "            }\n",
        "        ]\n",
        "    }\n",
        "}"
      ]
    },
    {
      "cell_type": "markdown",
      "metadata": {
        "id": "CYnI0fwCrnct"
      },
      "source": [
        "##### **Create the Conversational Analytics Agent**"
      ]
    },
    {
      "cell_type": "code",
      "execution_count": null,
      "metadata": {
        "id": "Rf2RqiI8qubC"
      },
      "outputs": [],
      "source": [
        "response_data_agent_create = data_agent_create(project_id, global_location, data_agent_id,\n",
        "                                               system_instruction, bigquery_data_source, False)"
      ]
    },
    {
      "cell_type": "code",
      "execution_count": null,
      "metadata": {
        "id": "iXMFb3nWquX5"
      },
      "outputs": [],
      "source": [
        "print(f\"formatted_json: {json.dumps(response_data_agent_create, indent=2)}\")"
      ]
    },
    {
      "cell_type": "markdown",
      "metadata": {
        "id": "mYoG06H44R3q"
      },
      "source": [
        "#### **Create Conversation**"
      ]
    },
    {
      "cell_type": "code",
      "execution_count": null,
      "metadata": {
        "id": "M36rq5eX4Rei"
      },
      "outputs": [],
      "source": [
        "# Show our conversation id\n",
        "print(f\"conversation_id = {conversation_id}\")\n",
        "\n",
        "response_data_agent_conversations_create = data_agent_conversations_create(project_id, global_location, data_agent_id, conversation_id)"
      ]
    },
    {
      "cell_type": "code",
      "execution_count": null,
      "metadata": {
        "id": "QaJnQu-X8Zqw"
      },
      "outputs": [],
      "source": [
        "print(f\"formatted_json: {json.dumps(response_data_agent_conversations_create, indent=2)}\")"
      ]
    },
    {
      "cell_type": "markdown",
      "metadata": {
        "id": "0GUn_4_a4tZB"
      },
      "source": [
        "#### **Stateful Chat**"
      ]
    },
    {
      "cell_type": "markdown",
      "metadata": {
        "id": "IuxSrUglkrRh"
      },
      "source": [
        "- Create a stateful chat where we can ask follow up questions to.\n",
        "- We will use the conversation that we created."
      ]
    },
    {
      "cell_type": "markdown",
      "metadata": {
        "id": "VIQValx9qHDC"
      },
      "source": [
        "##### Stateful Chat: Ask initial question"
      ]
    },
    {
      "cell_type": "code",
      "execution_count": null,
      "metadata": {
        "id": "qiXvekIk4Rbw"
      },
      "outputs": [],
      "source": [
        "chat_message = \"How many orders are there by product?\"\n",
        "stateful_chat_response_01 = data_agent_chat(project_id, global_location, data_agent_id, chat_message, conversation_id)"
      ]
    },
    {
      "cell_type": "code",
      "execution_count": null,
      "metadata": {
        "id": "07a1Eor7u9HV"
      },
      "outputs": [],
      "source": [
        "# You get back a python dictionary which you can display\n",
        "# print(json.dumps(stateful_chat_response_01, indent=2))\n",
        "\n",
        "display(HTML(conversational_analytics_display_html(stateful_chat_response_01)))"
      ]
    },
    {
      "cell_type": "markdown",
      "metadata": {
        "id": "3JzGuDSpRO2i"
      },
      "source": [
        "##### Stateful Chat: Ask follow-up conversation"
      ]
    },
    {
      "cell_type": "code",
      "execution_count": null,
      "metadata": {
        "id": "p54ATVR-QxHw"
      },
      "outputs": [],
      "source": [
        "# Ask a follow up\n",
        "chat_message = \"Now just show me the top 3.\"\n",
        "stateful_chat_response_02 = data_agent_chat(project_id, global_location, data_agent_id, chat_message, conversation_id)"
      ]
    },
    {
      "cell_type": "code",
      "execution_count": null,
      "metadata": {
        "id": "a7-1aesfQ9t6"
      },
      "outputs": [],
      "source": [
        "# You get back a python dictionary which you can display\n",
        "# print(json.dumps(stateful_chat_response_02, indent=2))\n",
        "display(HTML(conversational_analytics_display_html(stateful_chat_response_02)))"
      ]
    },
    {
      "cell_type": "markdown",
      "metadata": {
        "id": "Hp_R0hFV4xN8"
      },
      "source": [
        "#### **Stateless Chat**"
      ]
    },
    {
      "cell_type": "markdown",
      "metadata": {
        "id": "dwW4av-3qQZZ"
      },
      "source": [
        "##### Stateless Chat: Join tables"
      ]
    },
    {
      "cell_type": "code",
      "execution_count": null,
      "metadata": {
        "id": "xRcE_tuvoNnJ"
      },
      "outputs": [],
      "source": [
        "# Do a stateless chat (you will need to manually manage history if you are not doing one-shot prompting)\n",
        "\n",
        "# Cause the agent to join the tables\n",
        "chat_message = \"Count the order by user first name and show the top 10 highest order count.\"\n",
        "\n",
        "stateless_chat_response_01 = data_agent_chat(project_id, global_location, data_agent_id, chat_message, None)"
      ]
    },
    {
      "cell_type": "code",
      "execution_count": null,
      "metadata": {
        "id": "oDaMnAO4pi5S"
      },
      "outputs": [],
      "source": [
        "# You get back a python dictionary which you can display\n",
        "# print(json.dumps(stateless_chat_response_01, indent=2))\n",
        "\n",
        "display(HTML(conversational_analytics_display_html(stateless_chat_response_01)))"
      ]
    },
    {
      "cell_type": "markdown",
      "metadata": {
        "id": "wgIsgv5Lxfec"
      },
      "source": [
        "##### Stateless Chat: Draw a bar chart from the JSON (Vega Config)"
      ]
    },
    {
      "cell_type": "code",
      "execution_count": null,
      "metadata": {
        "id": "2imgokwixdff"
      },
      "outputs": [],
      "source": [
        "chat_message = \"Create a bar chart of orders by product category\"\n",
        "\n",
        "stateless_chat_response_02 = data_agent_chat(project_id, global_location, data_agent_id, chat_message, None)"
      ]
    },
    {
      "cell_type": "code",
      "execution_count": null,
      "metadata": {
        "id": "Qpu5v1Auz3Zj"
      },
      "outputs": [],
      "source": [
        "# You get back a python dictionary which you can display\n",
        "# print(json.dumps(stateless_chat_response_02, indent=2))\n",
        "\n",
        "display(conversational_analytics_display_sql(stateless_chat_response_02))\n",
        "print()\n",
        "\n",
        "display(HTML(conversational_analytics_display_html(stateless_chat_response_02)))\n",
        "print()\n",
        "\n",
        "display(conversational_analytics_display_chart(stateless_chat_response_02))"
      ]
    },
    {
      "cell_type": "markdown",
      "metadata": {
        "id": "YVhjLoShmZ60"
      },
      "source": [
        "### <font color='#4285f4'>MAIN CODE - Conversational Analytics - Demo - Streaming and Displaying Results</font>"
      ]
    },
    {
      "cell_type": "code",
      "execution_count": null,
      "metadata": {
        "id": "TwxqnyPothOJ"
      },
      "outputs": [],
      "source": [
        "ca = ConversationalAnalytics()"
      ]
    },
    {
      "cell_type": "code",
      "execution_count": null,
      "metadata": {
        "id": "yUcMp3Ulmbxo"
      },
      "outputs": [],
      "source": [
        "ca.chat(\n",
        "    agent_id=data_agent_id,\n",
        "    prompt=\"What are my sales by product and product category\"\n",
        ")"
      ]
    },
    {
      "cell_type": "code",
      "execution_count": null,
      "metadata": {
        "id": "2Uy_8vfc5mKt"
      },
      "outputs": [],
      "source": [
        "# We also can access the results in a dataframe so we can use in our code\n",
        "\n",
        "ca.dataframe"
      ]
    },
    {
      "cell_type": "code",
      "execution_count": null,
      "metadata": {
        "id": "dSDn-RpanP8O"
      },
      "outputs": [],
      "source": [
        "ca.chat(\n",
        "    agent_id=data_agent_id,\n",
        "    prompt=\"What are my top 10 sales by user first and last name\"\n",
        ")"
      ]
    },
    {
      "cell_type": "code",
      "execution_count": null,
      "metadata": {
        "id": "8aiTH2f-na5s"
      },
      "outputs": [],
      "source": [
        "# Stateful, we will create the conversation automatically if it does not exist\n",
        "ca.chat(\n",
        "    agent_id=data_agent_id,\n",
        "    prompt=\"What are my sales by product and product category.\",\n",
        "    conversation_id= agentic_beans_conversation_id\n",
        ")"
      ]
    },
    {
      "cell_type": "code",
      "execution_count": null,
      "metadata": {
        "id": "8dHaTuEungPN"
      },
      "outputs": [],
      "source": [
        "# Ask a follow-up questions since our agent has memory (conversation)\n",
        "ca.chat(\n",
        "    agent_id=data_agent_id,\n",
        "    prompt=\"Now show me the bottom 5\",\n",
        "    conversation_id= agentic_beans_conversation_id\n",
        ")"
      ]
    },
    {
      "cell_type": "markdown",
      "metadata": {
        "id": "LQug67utUip9"
      },
      "source": [
        "### <font color='#4285f4'>MAIN CODE - Conversational Analytics - Taxi Data</font>"
      ]
    },
    {
      "cell_type": "markdown",
      "metadata": {
        "id": "wG6dQt59V0RA"
      },
      "source": [
        "##### System Instruction - for tables to query"
      ]
    },
    {
      "cell_type": "code",
      "execution_count": null,
      "metadata": {
        "id": "3KhzGrafU4v5"
      },
      "outputs": [],
      "source": [
        "taxi_system_instruction = f\"\"\"\n",
        "- system_description: You are an expert in New York City taxi trip data, capable of\n",
        "    analyzing and answering questions related to taxi ride statistics, payment methods,\n",
        "    vendor performance, and location-based insights for yellow and green taxis.\n",
        "- tables:\n",
        "  - table:\n",
        "    - name: {project_id}.nyc_taxi_curated.taxi_trips\n",
        "    - description: Recorded taxi trip details in New York City, including fare amounts,\n",
        "        distances, and timestamps.\n",
        "    - synonyms: rides, cabs, journeys\n",
        "    - tags: transportation, fares, trips\n",
        "    - fields:\n",
        "      - field:\n",
        "        - name: Vendor_Id\n",
        "        - description: A unique identifier for the taxi vendor.\n",
        "      - field:\n",
        "        - name: Pickup_DateTime\n",
        "        - description: The date and time when the taxi ride began.\n",
        "      - field:\n",
        "        - name: Dropoff_DateTime\n",
        "        - description: The date and time when the taxi ride ended.\n",
        "      - field:\n",
        "        - name: Passenger_Count\n",
        "        - description: The number of passengers in the taxi during the trip.\n",
        "        - aggregations: sum, avg, count\n",
        "      - field:\n",
        "        - name: Trip_Distance\n",
        "        - description: The distance traveled during the taxi ride in miles.\n",
        "        - aggregations: sum, avg, max\n",
        "      - field:\n",
        "        - name: Rate_Code_Id\n",
        "        - description: The rate code ID applicable to the taxi ride.\n",
        "      - field:\n",
        "        - name: Store_And_Forward\n",
        "        - description: A flag indicating whether the trip record was stored and forwarded\n",
        "            to the vendor.\n",
        "        - sample_values: Y, N\n",
        "      - field:\n",
        "        - name: PULocationID\n",
        "        - description: The ID of the location where the passenger was picked up.\n",
        "      - field:\n",
        "        - name: DOLocationID\n",
        "        - description: The ID of the location where the passenger was dropped off.\n",
        "      - field:\n",
        "        - name: Payment_Type_Id\n",
        "        - description: The ID representing the payment type used for the taxi ride.\n",
        "      - field:\n",
        "        - name: Fare_Amount\n",
        "        - description: The amount of the fare for the taxi ride.\n",
        "        - aggregations: sum, avg, max\n",
        "      - field:\n",
        "        - name: Surcharge\n",
        "        - description: Any additional surcharge applied to the fare.\n",
        "        - aggregations: sum, avg\n",
        "      - field:\n",
        "        - name: MTA_Tax\n",
        "        - description: The Metropolitan Transportation Authority tax amount.\n",
        "        - aggregations: sum, avg\n",
        "      - field:\n",
        "        - name: Tip_Amount\n",
        "        - description: The amount of tip given by the passenger.\n",
        "        - aggregations: sum, avg\n",
        "      - field:\n",
        "        - name: Tolls_Amount\n",
        "        - description: The amount of tolls paid during the taxi ride.\n",
        "        - aggregations: sum, avg\n",
        "      - field:\n",
        "        - name: Improvement_Surcharge\n",
        "        - description: The improvement surcharge amount.\n",
        "        - aggregations: sum, avg\n",
        "      - field:\n",
        "        - name: Total_Amount\n",
        "        - description: The total amount charged for the taxi ride.\n",
        "        - aggregations: sum, avg\n",
        "      - field:\n",
        "        - name: Congestion_Surcharge\n",
        "        - description: The congestion surcharge amount.\n",
        "        - aggregations: sum, avg\n",
        "  - table:\n",
        "    - name: {project_id}.nyc_taxi_curated.payment_type\n",
        "    - description: Lookup table for payment types used in taxi rides.\n",
        "    - synonyms: payment_methods\n",
        "    - tags: payment\n",
        "    - fields:\n",
        "      - field:\n",
        "        - name: Payment_Type_Id\n",
        "        - description: Unique identifier for the payment type used for a taxi ride.\n",
        "      - field:\n",
        "        - name: Payment_Type_Description\n",
        "        - description: Description of the payment type used (e.g., credit card, cash).\n",
        "        - sample_values:\n",
        "          - Credit card\n",
        "          - Cash\n",
        "          - No charge\n",
        "          - Dispute\n",
        "          - Unknown\n",
        "          - Voided trip\n",
        "  - table:\n",
        "    - name: {project_id}.nyc_taxi_curated.rate_code\n",
        "    - description: Lookup table for various rate codes applicable to taxi rides.\n",
        "    - synonyms: fares, pricing\n",
        "    - tags: rate\n",
        "    - fields:\n",
        "      - field:\n",
        "        - name: Rate_Code_Id\n",
        "        - description: The Rate Code ID associated with a taxi ride.\n",
        "      - field:\n",
        "        - name: Rate_Code_Description\n",
        "        - description: A textual description of the Rate Code ID.\n",
        "        - sample_values:\n",
        "          - Standard rate\n",
        "          - JFK\n",
        "          - Newark\n",
        "          - Nassau or Westchester\n",
        "          - Negotiated fare\n",
        "          - Group ride\n",
        "  - table:\n",
        "    - name: {project_id}.nyc_taxi_curated.trip_type\n",
        "    - description: Defines various categories or types for taxi trips.\n",
        "    - synonyms: ride_categories\n",
        "    - tags: trip_classification\n",
        "    - fields:\n",
        "      - field:\n",
        "        - name: Trip_Type_Id\n",
        "        - description: A unique identifier for the trip type.\n",
        "      - field:\n",
        "        - name: Trip_Type_Description\n",
        "        - description: A textual description of the trip type.\n",
        "        - sample_values:\n",
        "          - Street-hail\n",
        "          - Dispatch\n",
        "  - table:\n",
        "    - name: {project_id}.nyc_taxi_curated.vendor\n",
        "    - description: Information about different taxi vendors.\n",
        "    - synonyms: taxi_companies, operators\n",
        "    - tags: vendor\n",
        "    - fields:\n",
        "      - field:\n",
        "        - name: Vendor_Id\n",
        "        - description: The ID of the taxi vendor.\n",
        "      - field:\n",
        "        - name: Vendor_Description\n",
        "        - description: A description of the taxi vendor.\n",
        "        - sample_values:\n",
        "          - Creative Mobile Technologies, LLC\n",
        "          - VeriFone Inc.\n",
        "  - table:\n",
        "    - name: {project_id}.nyc_taxi_curated.location\n",
        "    - description: Geographical location data for taxi pickup and dropoff points in\n",
        "        NYC.\n",
        "    - synonyms: zones, areas, districts\n",
        "    - tags: geography, location\n",
        "    - fields:\n",
        "      - field:\n",
        "        - name: location_id\n",
        "        - description: The unique identifier for the location.\n",
        "      - field:\n",
        "        - name: borough\n",
        "        - description: The borough in New York City where the location is situated.\n",
        "        - sample_values:\n",
        "          - Manhattan\n",
        "          - Queens\n",
        "          - Bronx\n",
        "          - Brooklyn\n",
        "          - EWR\n",
        "          - Staten Island\n",
        "      - field:\n",
        "        - name: zone\n",
        "        - description: The specific zone within the borough.\n",
        "      - field:\n",
        "        - name: service_zone\n",
        "        - description: Categorization of the zone based on the service provided.\n",
        "      - field:\n",
        "        - name: latitude\n",
        "        - description: The latitude coordinate of the location.\n",
        "      - field:\n",
        "        - name: longitude\n",
        "        - description: The longitude coordinate of the location.\n",
        "- golden_queries:\n",
        "  - golden_query:\n",
        "    - natural_language_query: How many taxi trips were recorded?\n",
        "    - sql_query: SELECT COUNT(*) FROM {project_id}.nyc_taxi_curated.taxi_trips\n",
        "  - golden_query:\n",
        "    - natural_language_query: What was the total fare amount for all trips?\n",
        "    - sql_query: SELECT SUM(Fare_Amount) FROM {project_id}.nyc_taxi_curated.taxi_trips\n",
        "  - golden_query:\n",
        "    - natural_language_query: How many trips were paid by credit card?\n",
        "    - sql_query: SELECT COUNT(t.Payment_Type_Id) FROM {project_id}.nyc_taxi_curated.taxi_trips\n",
        "        AS t JOIN {project_id}.nyc_taxi_curated.payment_type AS pt ON t.Payment_Type_Id\n",
        "        = pt.Payment_Type_Id WHERE pt.Payment_Type_Description = 'Credit card'\n",
        "  - golden_query:\n",
        "    - natural_language_query: What is the average trip distance?\n",
        "    - sql_query: SELECT AVG(Trip_Distance) FROM {project_id}.nyc_taxi_curated.taxi_trips\n",
        "  - golden_query:\n",
        "    - natural_language_query: What is the most common payment type description?\n",
        "    - sql_query: SELECT pt.Payment_Type_Description, COUNT(*) FROM {project_id}.nyc_taxi_curated.taxi_trips\n",
        "        AS t JOIN {project_id}.nyc_taxi_curated.payment_type AS pt ON t.Payment_Type_Id\n",
        "        = pt.Payment_Type_Id GROUP BY pt.Payment_Type_Description ORDER BY COUNT(*)\n",
        "        DESC LIMIT 1\n",
        "  - golden_query:\n",
        "    - natural_language_query: What were the top 5 pickup locations by count of trips?\n",
        "    - sql_query: SELECT l.zone, COUNT(t.PULocationID) FROM {project_id}.nyc_taxi_curated.taxi_trips\n",
        "        AS t JOIN {project_id}.nyc_taxi_curated.location AS l ON t.PULocationID\n",
        "        = l.location_id GROUP BY l.zone ORDER BY COUNT(t.PULocationID) DESC LIMIT\n",
        "        5\n",
        "  - golden_query:\n",
        "    - natural_language_query: Show total amount by vendor description.\n",
        "    - sql_query: SELECT v.Vendor_Description, SUM(t.Total_Amount) FROM {project_id}.nyc_taxi_curated.taxi_trips\n",
        "        AS t JOIN {project_id}.nyc_taxi_curated.vendor AS v ON t.Vendor_Id\n",
        "        = v.Vendor_Id GROUP BY v.Vendor_Description\n",
        "- golden_action_plans:\n",
        "  - golden_action_plan:\n",
        "    - natural_language_query: Show me the number of trips by payment type.\n",
        "    - action_plan:\n",
        "      - step: Run a SQL query joining {project_id}.nyc_taxi_curated.taxi_trips\n",
        "          and {project_id}.nyc_taxi_curated.payment_type tables to count trips\n",
        "          per payment type description.\n",
        "      - step: Create a bar chart showing trip counts for each payment type.\n",
        "  - golden_action_plan:\n",
        "    - natural_language_query: What is the average fare amount per rate code?\n",
        "    - action_plan:\n",
        "      - step: Run a SQL query joining {project_id}.nyc_taxi_curated.taxi_trips\n",
        "          and {project_id}.nyc_taxi_curated.rate_code tables to calculate\n",
        "          the average Fare_Amount for each Rate_Code_Description.\n",
        "      - step: Present the results as a table or bar chart.\n",
        "- relationships:\n",
        "  - relationship:\n",
        "    - name: taxi_trips_to_payment_type\n",
        "    - description: Maps taxi trips to their payment method details.\n",
        "    - relationship_type: many-to-one\n",
        "    - join_type: left\n",
        "    - left_table: {project_id}.nyc_taxi_curated.taxi_trips\n",
        "    - right_table: {project_id}.nyc_taxi_curated.payment_type\n",
        "    - relationship_columns:\n",
        "      - left_column: Payment_Type_Id\n",
        "      - right_column: Payment_Type_Id\n",
        "  - relationship:\n",
        "    - name: taxi_trips_to_rate_code\n",
        "    - description: Connects taxi trips to the rate code under which they were charged.\n",
        "    - relationship_type: many-to-type\n",
        "    - join_type: left\n",
        "    - left_table: {project_id}.nyc_taxi_curated.taxi_trips\n",
        "    - right_table: {project_id}.nyc_taxi_curated.rate_code\n",
        "    - relationship_columns:\n",
        "      - left_column: Rate_Code_Id\n",
        "      - right_column: Rate_Code_Id\n",
        "  - relationship:\n",
        "    - name: taxi_trips_to_vendor\n",
        "    - description: Links taxi trips to the specific vendor providing the service.\n",
        "    - relationship_type: many-to-one\n",
        "    - join_type: left\n",
        "    - left_table: {project_id}.nyc_taxi_curated.taxi_trips\n",
        "    - right_table: {project_id}.nyc_taxi_curated.vendor\n",
        "    - relationship_columns:\n",
        "      - left_column: Vendor_Id\n",
        "      - right_column: Vendor_Id\n",
        "  - relationship:\n",
        "    - name: taxi_trips_to_pickup_location\n",
        "    - description: Associates taxi trips with their pickup location details.\n",
        "    - relationship_type: many-to-one\n",
        "    - join_type: left\n",
        "    - left_table: {project_id}.nyc_taxi_curated.taxi_trips\n",
        "    - right_table: {project_id}.nyc_taxi_curated.location\n",
        "    - relationship_columns:\n",
        "      - left_column: PULocationID\n",
        "      - right_column: location_id\n",
        "  - relationship:\n",
        "    - name: taxi_trips_to_dropoff_location\n",
        "    - description: Associates taxi trips with their dropoff location details.\n",
        "    - relationship_type: many-to-one\n",
        "    - join_type: left\n",
        "    - left_table: {project_id}.nyc_taxi_curated.taxi_trips\n",
        "    - right_table: {project_id}.nyc_taxi_curated.location\n",
        "    - relationship_columns:\n",
        "      - left_column: DOLocationID\n",
        "      - right_column: location_id\n",
        "- glossaries:\n",
        "  - glossary:\n",
        "    - term: PULocationID\n",
        "    - description: Pick-up Location ID\n",
        "  - glossary:\n",
        "    - term: DOLocationID\n",
        "    - description: Drop-off Location ID\n",
        "  - glossary:\n",
        "    - term: MTA\n",
        "    - description: Metropolitan Transportation Authority\n",
        "- additional_instructions:\n",
        "  - text: All taxi trip data pertains to yellow and green taxi trips in New York City.\n",
        "  - text: Times are recorded in Eastern Time (ET).\n",
        "\"\"\""
      ]
    },
    {
      "cell_type": "markdown",
      "metadata": {
        "id": "0ZjZ7FeRV2B3"
      },
      "source": [
        "##### Data Source - for tables to query"
      ]
    },
    {
      "cell_type": "code",
      "execution_count": null,
      "metadata": {
        "id": "gft-gYsoVk6I"
      },
      "outputs": [],
      "source": [
        "taxi_bigquery_data_source = {\n",
        "    \"bq\": {\n",
        "        \"tableReferences\": [\n",
        "            {\n",
        "                \"projectId\": project_id,\n",
        "                \"datasetId\": \"nyc_taxi_curated\",\n",
        "                \"tableId\": \"taxi_trips\",\n",
        "            },\n",
        "            {\n",
        "                \"projectId\": project_id,\n",
        "                \"datasetId\": \"nyc_taxi_curated\",\n",
        "                \"tableId\": \"payment_type\",\n",
        "            },\n",
        "            {\n",
        "                \"projectId\": project_id,\n",
        "                \"datasetId\": \"nyc_taxi_curated\",\n",
        "                \"tableId\": \"rate_code\",\n",
        "            },\n",
        "            {\n",
        "                \"projectId\": project_id,\n",
        "                \"datasetId\": \"nyc_taxi_curated\",\n",
        "                \"tableId\": \"trip_type\",\n",
        "            },\n",
        "            {\n",
        "                \"projectId\": project_id,\n",
        "                \"datasetId\": \"nyc_taxi_curated\",\n",
        "                \"tableId\": \"vendor\",\n",
        "            },\n",
        "            {\n",
        "                \"projectId\": project_id,\n",
        "                \"datasetId\": \"nyc_taxi_curated\",\n",
        "                \"tableId\": \"location\",\n",
        "            }\n",
        "        ]\n",
        "    }\n",
        "}"
      ]
    },
    {
      "cell_type": "markdown",
      "metadata": {
        "id": "QIOzfCx5V4jN"
      },
      "source": [
        "##### **Demo**"
      ]
    },
    {
      "cell_type": "code",
      "execution_count": null,
      "metadata": {
        "id": "QtDN7fFdVabz"
      },
      "outputs": [],
      "source": [
        "response_taxi_data_agent_create = data_agent_create(project_id, global_location, taxi_data_agent_id,\n",
        "                                               taxi_system_instruction, taxi_bigquery_data_source, False)"
      ]
    },
    {
      "cell_type": "code",
      "execution_count": null,
      "metadata": {
        "id": "Sha1f4lwYZHQ"
      },
      "outputs": [],
      "source": [
        "ca_taxi = ConversationalAnalytics()"
      ]
    },
    {
      "cell_type": "code",
      "execution_count": null,
      "metadata": {
        "id": "dvHwxvvMXPMW"
      },
      "outputs": [],
      "source": [
        "ca_taxi.chat(\n",
        "    agent_id=taxi_data_agent_id,\n",
        "    prompt=\"Count the taxi trips for by year and borough. Show the year field as an int.\"\n",
        ")"
      ]
    },
    {
      "cell_type": "code",
      "execution_count": null,
      "metadata": {
        "id": "J4_zRl9R6uEt"
      },
      "outputs": [],
      "source": [
        "ca_taxi.dataframe"
      ]
    },
    {
      "cell_type": "code",
      "execution_count": null,
      "metadata": {
        "id": "6zW5SdNjVaUb"
      },
      "outputs": [],
      "source": [
        "ca_taxi.chat(\n",
        "    agent_id=taxi_data_agent_id,\n",
        "    prompt=\"Show me the number of taxi trips by borough.\"\n",
        ")"
      ]
    },
    {
      "cell_type": "code",
      "execution_count": null,
      "metadata": {
        "id": "MBUHAG1zY5eI"
      },
      "outputs": [],
      "source": [
        "ca_taxi.chat(\n",
        "    agent_id=taxi_data_agent_id,\n",
        "    prompt=\"Show me the number of taxi trips by borough and year. Extract the Year as an Integer.\"\n",
        ")"
      ]
    },
    {
      "cell_type": "code",
      "execution_count": null,
      "metadata": {
        "id": "tQq0g-McVaKh"
      },
      "outputs": [],
      "source": [
        "ca_taxi.chat(\n",
        "    agent_id=taxi_data_agent_id,\n",
        "    prompt=\"Show me 5 taxi trips for Manhattan for January 2025\"\n",
        ")"
      ]
    },
    {
      "cell_type": "markdown",
      "metadata": {
        "id": "uTQe7mM9C-q3"
      },
      "source": [
        "### <font color='#4285f4'>MAIN CODE - Test CA Agents created by the DA Agent</font>"
      ]
    },
    {
      "cell_type": "code",
      "execution_count": null,
      "metadata": {
        "id": "cM5NwOxu0kVB"
      },
      "outputs": [],
      "source": [
        "# This is created by the DA Agent (this is another notebook)\n",
        "created_ca_agent_by_agent_id = \"ca-agent-100\"\n",
        "data_agent_get(project_id, global_location, created_ca_agent_by_agent_id)"
      ]
    },
    {
      "cell_type": "code",
      "execution_count": null,
      "metadata": {
        "id": "8AFTSIw70kaa"
      },
      "outputs": [],
      "source": [
        "ca_taxi.chat(\n",
        "    agent_id=created_ca_agent_by_agent_id,\n",
        "    prompt=\"Count the taxi trips for by year and borough. Show the year field as an int.\"\n",
        ")"
      ]
    },
    {
      "cell_type": "code",
      "execution_count": null,
      "metadata": {
        "id": "WBHU0M1P6XQ-"
      },
      "outputs": [],
      "source": [
        "# The year column might be named differently\n",
        "ca_taxi.dataframe.query('borough == \"Manhattan\" and trip_year == \"2025\"')"
      ]
    },
    {
      "cell_type": "code",
      "execution_count": null,
      "metadata": {
        "id": "y7M6Oioe0kX2"
      },
      "outputs": [],
      "source": [
        "ca_taxi.chat(\n",
        "    agent_id=created_ca_agent_by_agent_id,\n",
        "    prompt=\"Count the taxi trips for Manhattan for January 2025.\"\n",
        ")"
      ]
    },
    {
      "cell_type": "code",
      "execution_count": null,
      "metadata": {
        "id": "JD-dnLBkIbEW"
      },
      "outputs": [],
      "source": [
        "ca_taxi.chat(\n",
        "    agent_id=created_ca_agent_by_agent_id,\n",
        "    prompt=\"How many trips in 2025 in borough Manhattan.  First get all the Manhatten location codes, then do the main query.\"\n",
        ")"
      ]
    },
    {
      "cell_type": "code",
      "execution_count": null,
      "metadata": {
        "id": "YjIFK85TJSR4"
      },
      "outputs": [],
      "source": [
        "ca_taxi.response_json\n"
      ]
    },
    {
      "cell_type": "code",
      "execution_count": null,
      "metadata": {
        "id": "Xyt9uzKpK4Mm"
      },
      "outputs": [],
      "source": [
        "ca_taxi_2 = ConversationalAnalytics()"
      ]
    },
    {
      "cell_type": "code",
      "execution_count": null,
      "metadata": {
        "id": "tMhCm5adKuQl"
      },
      "outputs": [],
      "source": [
        "ca_taxi_2.chat(\n",
        "    agent_id=created_ca_agent_by_agent_id,\n",
        "    prompt=\"How many trips in 2025 in borough Manhattan.  First get all the Manhatten location codes, then do the main query. Do this in two steps.\"\n",
        ")"
      ]
    },
    {
      "cell_type": "markdown",
      "metadata": {
        "id": "42IxhtRRrvR-"
      },
      "source": [
        "### <font color='#4285f4'>Clean Up</font>"
      ]
    },
    {
      "cell_type": "code",
      "execution_count": null,
      "metadata": {
        "id": "6lF2Z7skFbvf"
      },
      "outputs": [],
      "source": [
        "# Delete the CA API Agent\n",
        "\n",
        "user_input = input(f\"Do you want to delete your agents ({data_agent_id}, {taxi_data_agent_id}) (Y/n)?\")\n",
        "if user_input == \"Y\":\n",
        "  #data_agent_conversations_delete() -> this gets deleted after a TTL\n",
        "  data_agent_delete(project_id, global_location, data_agent_id)\n",
        "  data_agent_delete(project_id, global_location, taxi_data_agent_id)"
      ]
    }
  ],
  "metadata": {
    "colab": {
      "collapsed_sections": [
        "UqY4r2Jfl5a0",
        "hAI0CcpAl5a1",
        "HMsUvoF4BP7Y",
        "m65vp54BUFRi",
        "UmyL-Rg4Dr_f",
        "E2TbIZ0ya912",
        "sZ6m_wGrK0YG",
        "JbOjdSP1kN9T",
        "aAq1LLmPoFtO",
        "gyxaUowpv7UT",
        "IPwr56F0NtXC",
        "jPkCQegQNv_r",
        "J9DCqOeNNwpE",
        "yFEQgLm2gC9S",
        "cfWTHKtFk3Pi",
        "XI0FXe9RmTde",
        "1s6rTIY3mXvW",
        "pz0YEcdJLmiD",
        "Abl7luQcrSOt",
        "AS1w7wK1regk",
        "mYoG06H44R3q",
        "0GUn_4_a4tZB",
        "VIQValx9qHDC",
        "3JzGuDSpRO2i",
        "Hp_R0hFV4xN8",
        "LQug67utUip9",
        "wG6dQt59V0RA",
        "0ZjZ7FeRV2B3",
        "42IxhtRRrvR-",
        "ASQ2BPisXDA0"
      ],
      "name": "10 - Conversational Analytics",
      "private_outputs": true,
      "provenance": []
    },
    "kernelspec": {
      "display_name": "Python 3",
      "name": "python3"
    },
    "language_info": {
      "name": "python"
    }
  },
  "nbformat": 4,
  "nbformat_minor": 0
}
