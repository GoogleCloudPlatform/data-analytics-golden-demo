{
  "cells": [
    {
      "cell_type": "markdown",
      "id": "aefd9caf",
      "metadata": {},
      "source": [
        "### <font color='#4285f4'>Overview</font>"
      ]
    },
    {
      "cell_type": "markdown",
      "id": "e7c09591",
      "metadata": {},
      "source": [
        "Overview: This notebook will call the custom Data Analytics Agent in this notebook.  It will use the Cloud Run endpoint to interact with the agent.\n",
        "\n",
        "Cost:\n",
        "* Approximate cost: $1 \n",
        "\n",
        "Author:\n",
        "* Adam Paternostro"
      ]
    },
    {
      "cell_type": "code",
      "execution_count": null,
      "id": "458940f5",
      "metadata": {},
      "outputs": [],
      "source": [
        "# Architecture Diagram\n",
        "from IPython.display import Image\n",
        "Image(url='https://storage.googleapis.com/data-analytics-golden-demo/colab-diagrams/colab-agent-architecture.png', width=1200)"
      ]
    },
    {
      "cell_type": "markdown",
      "id": "0c92d148",
      "metadata": {},
      "source": [
        "### <font color='#4285f4'>Video Walkthrough</font>"
      ]
    },
    {
      "cell_type": "markdown",
      "id": "d55b07fa",
      "metadata": {},
      "source": [
        "[Video](https://storage.googleapis.com/data-analytics-golden-demo/colab-videos/Demo-Agent-Data-Analytics-Agent.mp4)"
      ]
    },
    {
      "cell_type": "code",
      "execution_count": null,
      "id": "fecabd57",
      "metadata": {},
      "outputs": [],
      "source": [
        "from IPython.display import HTML\n",
        "\n",
        "HTML(\"\"\"\n",
        "<video width=\"800\" height=\"600\" controls>\n",
        "  <source src=\"https://storage.googleapis.com/data-analytics-golden-demo/colab-videos/Demo-Agent-Data-Analytics-Agent.mp4\" type=\"video/mp4\">\n",
        "  Your browser does not support the video tag.\n",
        "</video>\n",
        "\"\"\")"
      ]
    },
    {
      "cell_type": "markdown",
      "id": "x-p2XOGrxWW5",
      "metadata": {
        "id": "x-p2XOGrxWW5"
      },
      "source": [
        "### <font color='#4285f4'>License</font>"
      ]
    },
    {
      "cell_type": "code",
      "execution_count": null,
      "id": "Y9zllqeKxZpT",
      "metadata": {
        "id": "Y9zllqeKxZpT"
      },
      "outputs": [],
      "source": [
        "# Copyright 2025 Google LLC\n",
        "#\n",
        "# Licensed under the Apache License, Version 2.0 (the \"License\");\n",
        "# you may not use this file except in compliance with the License.\n",
        "# You may obtain a copy of the License at\n",
        "#\n",
        "#     https://www.apache.org/licenses/LICENSE-2.0\n",
        "#\n",
        "# Unless required by applicable law or agreed to in writing, software\n",
        "# distributed under the License is distributed on an \"AS IS\" BASIS,\n",
        "# WITHOUT WARRANTIES OR CONDITIONS OF ANY KIND, either express or implied.\n",
        "# See the License for the specific language governing permissions and\n",
        "# limitations under the License."
      ]
    },
    {
      "cell_type": "markdown",
      "id": "EdzzAlilYDWZ",
      "metadata": {
        "id": "EdzzAlilYDWZ"
      },
      "source": [
        "### <font color='#4285f4'>PIP Install</font>"
      ]
    },
    {
      "cell_type": "code",
      "execution_count": null,
      "id": "XBA0gpl6aUreq0CByNwjclJL",
      "metadata": {
        "id": "XBA0gpl6aUreq0CByNwjclJL",
        "tags": []
      },
      "outputs": [],
      "source": [
        "# PIP Installs (if necessary)\n",
        "import sys\n",
        "\n",
        "# Commented out for testing, so it speeds things up\n",
        "\n",
        "# Needed to show the charts returned by conversational analytics\n",
        "!{sys.executable} -m pip install \\\n",
        "  ijson \\\n",
        "  json-stream \\\n",
        "  vega"
      ]
    },
    {
      "cell_type": "markdown",
      "id": "l_ccJ7KlYCqe",
      "metadata": {
        "id": "l_ccJ7KlYCqe"
      },
      "source": [
        "### <font color='#4285f4'>Initialize</font>"
      ]
    },
    {
      "cell_type": "code",
      "execution_count": null,
      "id": "w6pcS4JmnPkQ",
      "metadata": {
        "id": "w6pcS4JmnPkQ"
      },
      "outputs": [],
      "source": [
        "from PIL import Image\n",
        "from IPython.display import HTML\n",
        "import IPython.display\n",
        "import google.auth\n",
        "import requests\n",
        "import json\n",
        "import uuid\n",
        "import base64\n",
        "import os\n",
        "import cv2\n",
        "import random\n",
        "import time\n",
        "import datetime\n",
        "import base64\n",
        "import random\n",
        "\n",
        "import logging\n",
        "from tenacity import retry, wait_exponential, stop_after_attempt, before_sleep_log, retry_if_exception"
      ]
    },
    {
      "cell_type": "code",
      "execution_count": null,
      "id": "00f2f509",
      "metadata": {},
      "outputs": [],
      "source": [
        "# Set these (run this cell to verify the output)\n",
        "\n",
        "global_cloud_run_endpoint = \"${cloud_run_service_data_analytics_agent_api}\"\n",
        "global_service_account_to_impersonate = \"${colab_enterprise_notebook_service_account_email}\"\n",
        "\n",
        "# Get the current date and time\n",
        "now = datetime.datetime.now()\n",
        "\n",
        "# Format the date and time as desired\n",
        "formatted_date = now.strftime(\"%Y-%m-%d-%H-%M\")\n",
        "\n",
        "# Get some values using gcloud\n",
        "project_id = os.environ[\"GOOGLE_CLOUD_PROJECT\"]\n",
        "user = !(gcloud auth list --filter=status:ACTIVE --format=\"value(account)\")\n",
        "\n",
        "if len(user) != 1:\n",
        "  raise RuntimeError(f\"user is not set: {user}\")\n",
        "user = user[0]\n",
        "\n",
        "print(f\"project_id = {project_id}\")\n",
        "print(f\"user = {user}\")"
      ]
    },
    {
      "cell_type": "markdown",
      "id": "h1ehhpc0YP-T",
      "metadata": {
        "id": "h1ehhpc0YP-T"
      },
      "source": [
        "### <font color='#4285f4'>Configure Data Analytics Agent</font>"
      ]
    },
    {
      "cell_type": "markdown",
      "id": "EPlnWz-vIC1S",
      "metadata": {
        "id": "EPlnWz-vIC1S"
      },
      "source": [
        "##### Current Version"
      ]
    },
    {
      "cell_type": "code",
      "execution_count": null,
      "id": "M2kIhvtTHKgl",
      "metadata": {
        "id": "M2kIhvtTHKgl"
      },
      "outputs": [],
      "source": [
        "import json\n",
        "import html\n",
        "import markdown\n",
        "from datetime import datetime\n",
        "from IPython.display import display, HTML\n",
        "import requests\n",
        "import google.auth\n",
        "import google.auth.transport.requests\n",
        "import pandas as pd\n",
        "\n",
        "# --- Icon Definitions (Unchanged) ---\n",
        "ICONS = {\n",
        "    'Agent': 'https://storage.googleapis.com/data-analytics-golden-demo/images/ADK-512-color.svg',\n",
        "    'BigQuery': 'https://storage.googleapis.com/data-analytics-golden-demo/images/BigQuery-32-color.svg',\n",
        "    'User': 'https://storage.googleapis.com/data-analytics-golden-demo/images/person.svg',\n",
        "    'Gemini': 'https://storage.googleapis.com/data-analytics-golden-demo/images/Gemini-24-color.svg',\n",
        "    'VertexAI': 'https://storage.googleapis.com/data-analytics-golden-demo/images/VertexAI-24-color.svg',\n",
        "    'FactCheck': 'https://storage.googleapis.com/data-analytics-golden-demo/images/fact-check.svg'\n",
        "}\n",
        "\n",
        "\n",
        "# --- Dataplex Display Function (Unchanged) ---\n",
        "def display_catalog_results_as_compact_list(response_data: dict) -> str:\n",
        "    if not response_data or not response_data.get(\"results\"): return \"\"\n",
        "    DATAPLEX_ICONS = {'BIGQUERY': 'https://storage.googleapis.com/data-analytics-golden-demo/images/BigQuery-32-color.svg', 'DATAPLEX': 'https://storage.googleapis.com/data-analytics-golden-demo/images/dataplex.png', 'DEFAULT': 'https://storage.googleapis.com/data-analytics-golden-demo/images/dataplex.png'}\n",
        "    def format_timestamp(ts):\n",
        "        if not ts: return \"N/A\"\n",
        "        try:\n",
        "            if ts.endswith('Z'): ts = ts[:-1] + '+00:00'\n",
        "            return datetime.fromisoformat(ts).strftime('%b %d, %Y, %H:%M:%S UTC')\n",
        "        except (ValueError, TypeError): return ts\n",
        "    def to_title_case(s):\n",
        "        if not s or not isinstance(s, str): return \"\"\n",
        "        return html.escape(s).replace('_', ' ').title()\n",
        "    def parse_entry_type(path: str) -> str:\n",
        "        if not path or not isinstance(path, str): return \"N/A\"\n",
        "        return path.split('/')[-1]\n",
        "    primary_fields, monospace_fields, list_items_html = {\"system\", \"displayName\", \"location\", \"description\", \"fullyQualifiedName\", \"entryType\"}, {\"linkedResource\", \"fullyQualifiedName\", \"resource\", \"name\", \"parentEntry\"}, \"\"\n",
        "    for result in response_data.get(\"results\", []):\n",
        "        dataplex_entry, entry_source = result.get(\"dataplexEntry\", {}), result.get(\"dataplexEntry\", {}).get(\"entrySource\", {})\n",
        "        if not entry_source: continue\n",
        "        system, display_name, fqn = entry_source.get(\"system\", \"UNKNOWN\"), entry_source.get(\"displayName\"), dataplex_entry.get(\"fullyQualifiedName\", \"No qualified name\")\n",
        "        card_title, location, description = (display_name if display_name else fqn), entry_source.get(\"location\", \"N/A\"), entry_source.get(\"description\")\n",
        "        entry_type, icon_url = parse_entry_type(dataplex_entry.get(\"entryType\")), DATAPLEX_ICONS.get(system.upper(), DATAPLEX_ICONS['DEFAULT'])\n",
        "        description_html, additional_details_html = (f'<div class=\"item-description-row\">{html.escape(description)}</div>' if description else \"\"), \"\"\n",
        "        all_details, excluded_keys = {**result, **entry_source, **{\"entryType_full_path\": dataplex_entry.get(\"entryType\")}}, primary_fields | {\"dataplexEntry\", \"snippets\"}\n",
        "        for key, value in sorted(all_details.items()):\n",
        "            if key in excluded_keys or value is None: continue\n",
        "            if isinstance(value, (dict, list)): additional_details_html += f\"\"\"<div class=\"info-row details-row complex-value\"><strong>{to_title_case(key)}:</strong><pre><code>{html.escape(json.dumps(value, indent=2))}</code></pre></div>\"\"\"\n",
        "            else: additional_details_html += f\"\"\"<div class=\"info-row details-row\"><strong>{to_title_case(key)}:</strong><span class=\"{'monospace-value' if key in monospace_fields else ''}\">{html.escape(str(value))}</span></div>\"\"\"\n",
        "        list_items_html += f\"\"\"<div class=\"list-item-card\"><details class=\"collapsible-list-item\"><summary class=\"list-item-summary\"><div class=\"summary-main-content\"><div class=\"summary-title-group\"><img src=\"{icon_url}\" alt=\"{system} icon\" class=\"system-icon\"><span class=\"item-title\">{html.escape(card_title)}</span></div>{description_html}</div><div class=\"summary-aside-meta\"><div class=\"meta-item\"><span class=\"meta-label\">System:</span><span class=\"meta-value\">{html.escape(system)}</span></div><div class=\"meta-item\"><span class=\"meta-label\">Type:</span><span class=\"meta-value\">{html.escape(entry_type)}</span></div><div class=\"meta-item\"><span class=\"meta-label\">Location:</span><span class=\"meta-value\">{html.escape(location)}</span></div></div><div class=\"summary-arrow-group\"><svg class=\"arrow\" width=\"16\" height=\"16\" viewBox=\"0 0 24 24\"><path d=\"M7 10l5 5 5-5\" /></svg></div></summary><div class=\"list-item-content\">{additional_details_html}</div></details></div>\"\"\"\n",
        "    return f\"\"\"<style>.list-results-container{{font-family:'Roboto',Arial,sans-serif;display:flex;flex-direction:column;gap:8px}}.list-item-card{{background-color:#fff;border:1px solid #dfe1e5;border-radius:8px;overflow:hidden}}.collapsible-list-item summary{{list-style:none}}.collapsible-list-item summary::-webkit-details-marker{{display:none}}.list-item-summary{{display:flex;justify-content:space-between;align-items:flex-start;gap:20px;padding:16px 20px;cursor:pointer;transition:background-color .2s ease}}.list-item-summary:hover{{background-color:#f8f9fa}}.summary-main-content{{display:flex;flex-direction:column;gap:8px;flex-grow:1;min-width:0}}.summary-title-group{{display:flex;align-items:center;gap:15px}}.system-icon{{width:24px;height:24px;flex-shrink:0}}.item-title{{font-size:1.1em;font-weight:500;color:#202124}}.item-description-row{{color:#5f6368;font-size:.9em}}.summary-aside-meta{{display:flex;flex-direction:column;gap:8px;font-size:.85em;color:#5f6368;flex-shrink:0;width:220px}}.meta-item{{display:grid;grid-template-columns:70px 1fr;align-items:baseline}}.meta-label{{font-weight:400}}.meta-value{{color:#202124;font-weight:500;white-space:nowrap;overflow:hidden;text-overflow:ellipsis}}.summary-arrow-group{{padding-top:4px}}.summary-arrow-group .arrow{{transition:transform .2s ease-in-out;fill:none;stroke:#5f6368;stroke-width:2}}.collapsible-list-item[open] > .list-item-summary .arrow{{transform:rotate(180deg)}}.list-item-content{{padding:24px;border-top:1px solid #dfe1e5;background-color:#f8f9fa}}.details-content,.list-item-content{{display:flex;flex-direction:column;gap:12px}}.info-row{{display:grid;grid-template-columns:180px 1fr;gap:10px;align-items:start;font-size:.9em}}.info-row strong{{color:#5f6368;font-weight:500}}.info-row span{{color:#3c4043;word-break:break-all}}.monospace-value{{font-family:'Fira Code','Courier New',monospace}}.details-row.complex-value{{display:block}}.details-row.complex-value strong{{display:block;margin-bottom:8px}}.details-row pre{{margin:0;white-space:pre-wrap;word-break:break-all;background-color:#fff;border:1px solid #dfe1e5;border-radius:4px;padding:10px;font-size:.9em;color:#3c4043}}</style><div class=\"list-results-container\">{list_items_html}</div>\"\"\"\n",
        "\n",
        "# --- BigQuery Display Function (Unchanged) ---\n",
        "def display_bigquery_rows_as_html(response_data: dict) -> str:\n",
        "    if not response_data or 'query' not in response_data: return \"\"\n",
        "    sql_query, rows = response_data.get('query', 'SQL query not available.'), response_data.get('results', [])\n",
        "    html_output = f\"\"\"<div class=\"dynamic-table-container\"><div class=\"sql-query-display\"><pre><code>{html.escape(sql_query)}</code></pre></div>\"\"\"\n",
        "    if rows:\n",
        "        headers = rows[0].keys()\n",
        "        html_output += '<table class=\"google-table\"><thead><tr>'\n",
        "        for header in headers: html_output += f'<th>{html.escape(str(header))}</th>'\n",
        "        html_output += '</tr></thead><tbody>'\n",
        "        for row in rows:\n",
        "            html_output += '<tr>'\n",
        "            for header in headers: html_output += f'<td>{html.escape(str(row.get(header, \"\")))}</td>'\n",
        "            html_output += '</tr>'\n",
        "        html_output += '</tbody></table>'\n",
        "    else: html_output += '<div class=\"no-data-message\">No data returned from query.</div>'\n",
        "    return html_output + '</div>'\n",
        "\n",
        "def get_icon_for_author_04(author: str) -> str:\n",
        "    if \"BigQuery\" in author: return ICONS['BigQuery']\n",
        "    if \"Coordinator\" in author: return ICONS['Agent']\n",
        "    if \"Search\" in author: return ICONS['VertexAI']\n",
        "    return ICONS['Agent']\n",
        "\n",
        "# --- CENTRAL CONVERSATION HTML GENERATOR (Unchanged) ---\n",
        "def generate_conversation_html(\n",
        "    conversation_data,\n",
        "    show_details: bool = True,\n",
        "    for_streaming: bool = False,\n",
        "    is_final_answer: bool = False\n",
        ") -> tuple[str, str]:\n",
        "    deferred_output_html, messages_html = \"\", \"\"\n",
        "    arrow_svg = \"\"\"<svg class=\"toggle-arrow\" width=\"24\" height=\"24\" viewBox=\"0 0 24 24\" fill=\"none\" xmlns=\"http://www.w3.org/2000/svg\"><path d=\"M7 10L12 15L17 10\" stroke=\"currentColor\" stroke-width=\"2\" stroke-linecap=\"round\" stroke-linejoin=\"round\"/></svg>\"\"\"\n",
        "    messages = conversation_data.get('conversation_messages', []) if isinstance(conversation_data, dict) else conversation_data\n",
        "    for message in messages:\n",
        "        try: data = json.loads(message.get('message_content', '{}'), strict=False)\n",
        "        except (json.JSONDecodeError, TypeError): continue\n",
        "        inner_html_parts = \"\"\n",
        "        for part in data.get('content', {}).get('parts', []):\n",
        "            if 'text' in part and 'thought' not in part:\n",
        "                chip_html = f'<div class=\"thought-chip result-chip\">Final Answer</div>' if is_final_answer else ''\n",
        "                markdown_content = markdown.markdown(part['text'], extensions=['nl2br', 'fenced_code'])\n",
        "                inner_html_parts += f\"\"\"<div class=\"message-bubble result-bubble\">{chip_html}<div class=\"markdown-body\">{markdown_content}</div></div>\"\"\"\n",
        "            elif part.get('thought'):\n",
        "                thought_text_markdown = markdown.markdown(part.get('text', ''), extensions=['nl2br', 'fenced_code'])\n",
        "                inner_html_parts += f\"\"\"<div class=\"thought-bubble\"><div class=\"thought-chip thought-chip-main\">Thought</div><div class=\"markdown-body\">{thought_text_markdown}</div></div>\"\"\"\n",
        "            elif 'functionCall' in part and show_details:\n",
        "                call, func_name = part['functionCall'], html.escape(part['functionCall'].get('name', ''))\n",
        "                args_str = json.dumps(call.get('args', {}), indent=2)\n",
        "                inner_html_parts += f\"\"\"<div class=\"thought-bubble collapsible-container collapsed\"><div class=\"collapsible-header\" onclick=\"toggleCollapse(this)\"><div><div class=\"thought-chip tool-call\">Tool Call</div><p><b>Function:</b> {func_name}</p></div>{arrow_svg}</div><div class=\"collapsible-content\"><b>Arguments:</b><pre><code>{html.escape(args_str)}</code></pre></div></div>\"\"\"\n",
        "            elif 'functionResponse' in part:\n",
        "                response_data = part.get('functionResponse', {}).get('response', {})\n",
        "                if not response_data or response_data == {\"result\": None}: continue\n",
        "                tool_name, placeholder_message = response_data.get(\"tool_name\"), \"\"\n",
        "                if tool_name == \"run_bigquery_sql\":\n",
        "                    deferred_output_html, placeholder_message = display_bigquery_rows_as_html(response_data), \"<p>SQL query executed successfully. The results table will be displayed below the conversation.</p>\"\n",
        "                elif tool_name == \"search_data_catalog\":\n",
        "                    deferred_output_html, placeholder_message = display_catalog_results_as_compact_list(response_data), \"<p>Dataplex search successful. The results will be displayed below the conversation.</p>\"\n",
        "                if placeholder_message and show_details:\n",
        "                    inner_html_parts += f\"\"\"<div class=\"thought-bubble collapsible-container collapsed\"><div class=\"collapsible-header\" onclick=\"toggleCollapse(this)\"><div><div class=\"thought-chip tool-response\">Tool Output</div></div>{arrow_svg}</div><div class=\"collapsible-content\">{placeholder_message}</div></div>\"\"\"\n",
        "                elif show_details:\n",
        "                    inner_html_parts += f\"\"\"<div class=\"thought-bubble collapsible-container collapsed\"><div class=\"collapsible-header\" onclick=\"toggleCollapse(this)\"><div><div class=\"thought-chip tool-response\">Tool Output</div></div>{arrow_svg}</div><div class=\"collapsible-content\"><pre><code>{html.escape(json.dumps(response_data, indent=2))}</code></pre></div></div>\"\"\"\n",
        "        if inner_html_parts.strip():\n",
        "            author, icon_url = data.get('author', 'Unknown'), ICONS['FactCheck'] if is_final_answer else get_icon_for_author_04(data.get('author', 'Unknown'))\n",
        "            messages_html += f\"\"\"<div class=\"message-container agent\"><img src=\"{icon_url}\" alt=\"{author} icon\" class=\"avatar\"><div class=\"message-content\">{inner_html_parts}</div></div>\"\"\"\n",
        "    return (messages_html, deferred_output_html) if for_streaming else (messages_html, \"\")\n",
        "\n",
        "# --- DataAnalyticsAgent Class (with MODIFIED __init__ and ask methods) ---\n",
        "class DataAnalyticsAgent:\n",
        "  def __init__(self, user_id, session_id):\n",
        "    self.user_id, self.session_id, self.agent_name = user_id, session_id, \"data_analytics_agent\"\n",
        "    self.cloud_run_endpoint = global_cloud_run_endpoint\n",
        "    self.service_account_to_impersonate = global_service_account_to_impersonate\n",
        "    self.bearer_token, self.bearer_token_timestamp = \"\", datetime.min\n",
        "    self.conversation_list, self.conversation_id, self.message_id = [], 0, 0\n",
        "    self.dataframe = pd.DataFrame() # This is NEW\n",
        "    if self.get_session(): print(\"Session already exists.\")\n",
        "    else: self.create_session()\n",
        "\n",
        "  def get_session(self):\n",
        "    url = f\"{self.cloud_run_endpoint}/apps/{self.agent_name}/users/{self.user_id}/sessions/{self.session_id}\"\n",
        "    headers = {\"Content-Type\": \"application/json\", \"Authorization\": f\"Bearer {self.get_bearer_token()}\"}\n",
        "    try:\n",
        "        with requests.get(url, headers=headers) as response: response.raise_for_status(); return \"id\" in json.loads(response.content)\n",
        "    except (requests.exceptions.RequestException, json.JSONDecodeError): return False\n",
        "\n",
        "  def create_session(self):\n",
        "    url = f\"{self.cloud_run_endpoint}/apps/{self.agent_name}/users/{self.user_id}/sessions/{self.session_id}\"\n",
        "    headers = {\"Content-Type\": \"application/json\", \"Authorization\": f\"Bearer {self.get_bearer_token()}\"}\n",
        "    try:\n",
        "        with requests.post(url, json={\"state\": {}}, headers=headers) as r: r.raise_for_status(); print(f\"Session created.\")\n",
        "    except Exception as e: print(f\"create_session error: {e}\")\n",
        "\n",
        "  def get_bearer_token(self):\n",
        "    if (datetime.now() - self.bearer_token_timestamp).total_seconds() > 2700:\n",
        "        print(\"Getting new identity token...\")\n",
        "        creds, _ = google.auth.default(); creds.refresh(google.auth.transport.requests.Request())\n",
        "        url = f\"https://iamcredentials.googleapis.com/v1/projects/-/serviceAccounts/{self.service_account_to_impersonate}:generateIdToken\"\n",
        "        headers = {\"Authorization\": f\"Bearer {creds.token}\", \"Content-Type\": \"application/json\"}\n",
        "        response = requests.post(url, json={\"audience\": self.cloud_run_endpoint}, headers=headers)\n",
        "        response.raise_for_status()\n",
        "        self.bearer_token, self.bearer_token_timestamp = response.json()[\"token\"], datetime.now()\n",
        "    return self.bearer_token\n",
        "\n",
        "  def rest_api_sse_endpoint(self, human_message):\n",
        "    headers = {\"Accept\": \"text/event-stream\", \"Authorization\": f\"Bearer {self.get_bearer_token()}\"}\n",
        "    payload = {\"appName\": self.agent_name, \"userId\": self.user_id, \"sessionId\": self.session_id, \"newMessage\": {\"role\": \"user\", \"parts\": [{\"text\": human_message}]}, \"streaming\": True}\n",
        "    url = f\"{self.cloud_run_endpoint}/run_sse\"\n",
        "    try:\n",
        "        with requests.post(url, headers=headers, json=payload, stream=True) as response:\n",
        "            response.raise_for_status()\n",
        "            for line in response.iter_lines(decode_unicode=True):\n",
        "                if line and line.startswith('data:'): self.message_id += 1; yield {\"message_id\": self.message_id, \"message_content\": line[len('data: '):]}\n",
        "    except Exception as e: print(f\"\\nError: {e}\"); yield None\n",
        "\n",
        "  def ask(self, human_input: str, show_details: bool = True) -> None:\n",
        "    def html_wrapper(content):\n",
        "        return f\"\"\"<html><head><style>body{{background-color:#f8f9fa;font-family:'Roboto',Arial,sans-serif;color:#202124;margin:0;padding:0}}.conversation-container{{width:95%;max-width:1200px;margin:auto}}.message-container{{display:flex;align-items:flex-start;margin-bottom:20px}}.avatar{{width:40px;height:40px;border-radius:50%;margin-right:15px;flex-shrink:0}}.message-content{{display:flex;flex-direction:column;align-items:flex-start;width:100%}}.message-bubble,.thought-bubble{{background-color:#fff;border:1px solid #dfe1e5;border-radius:18px;padding:10px 15px;max-width:95%;box-shadow:0 1px 2px 0 rgba(60,64,67,.3),0 1px 3px 1px rgba(60,64,67,.15);margin-bottom:8px;box-sizing:border-box}}.thought-bubble{{background-color:#3c4043;color:#e8eaed;border:none}}.thought-bubble p,.thought-bubble pre{{margin:5px 0;font-size:.9em}}.thought-bubble .markdown-body p{{color:#e8eaed}}.thought-bubble pre code{{white-space:pre-wrap;word-break:break-all;color:#e8eaed}}.thought-chip{{display:inline-block;padding:3px 10px;font-size:.8em;font-weight:500;border-radius:12px;margin-bottom:8px}}.thought-chip.thought-chip-main{{background-color:#8ab4f8;color:#202124}}.thought-chip.tool-call{{background-color:#fdd663;color:#202124}}.thought-chip.tool-response{{background-color:#81c995;color:#202124}}.thought-chip.result-chip{{background-color:#e8eaed;color:#3c4043}}.markdown-body p,.markdown-body ul{{margin:0 0 8px}}.markdown-body pre{{white-space:pre-wrap;background-color:#f1f3f4;padding:10px;border-radius:4px}}.collapsible-header{{display:flex;justify-content:space-between;align-items:center;cursor:pointer}}.toggle-arrow{{color:#bdc1c6;transition:transform .2s ease-in-out}}.collapsible-content{{max-height:500px;overflow-y:auto;transition:max-height .3s ease;padding-top:10px}}.collapsible-container.collapsed .collapsible-content{{max-height:0;overflow:hidden;padding-top:0}}.collapsible-container.collapsed .toggle-arrow{{transform:rotate(-90deg)}}.dynamic-table-container,.sql-query-display{{margin:10px 0 20px}}.sql-query-display{{background-color:#f1f3f4;padding:15px;border-radius:8px;margin-bottom:15px}}.sql-query-display pre code{{white-space:pre-wrap;word-break:break-all}}.google-table{{border-collapse:collapse;width:100%;border:1px solid #dfe1e5;box-shadow:0 2px 2px rgba(0,0,0,.14)}}.google-table thead tr{{background-color:#4285f4;color:#fff}}.google-table th,.google-table td{{padding:12px 15px;text-align:left;border:1px solid #dfe1e5}}.google-table tbody tr:nth-of-type(even){{background-color:#f8f9fa}}.google-table tbody tr:hover{{background-color:#e8f0fe}}.no-data-message{{padding:15px;text-align:center}}.formatted-result-container{{margin-top:20px;border:1px solid #dfe1e5;border-radius:8px;background-color:#fff;box-shadow:0 1px 2px 0 rgba(60,64,67,.3),0 1px 3px 1px rgba(60,64,67,.15)}}.formatted-result-header{{padding:12px 16px;font-size:1.1em;font-weight:500;color:#202124;border-bottom:1px solid #dfe1e5;background-color:#f8f9fa;border-radius:8px 8px 0 0}}.formatted-result-content{{padding:16px}}</style><script>function toggleCollapse(el){{const c=el.closest('.collapsible-container');c&&c.classList.toggle('collapsed');}}</script></head><body><div class=\"conversation-container\">{content}</div></body></html>\"\"\"\n",
        "    final_deferred_output_html, current_conversation_messages, final_text_content, final_answer_author = \"\", [], \"\", \"Agent\"\n",
        "\n",
        "    for message in self.rest_api_sse_endpoint(human_input):\n",
        "        if message is None: break\n",
        "        current_conversation_messages.append(message)\n",
        "        try:\n",
        "            data = json.loads(message.get('message_content', '{}'))\n",
        "            is_partial = data.get(\"partial\", False)\n",
        "            is_final_answer_chunk = any('text' in p and 'thought' not in p for p in data.get('content', {}).get('parts', []))\n",
        "        except (json.JSONDecodeError, TypeError):\n",
        "            continue\n",
        "\n",
        "        if is_final_answer_chunk:\n",
        "            if not is_partial:\n",
        "                for part in data.get('content', {}).get('parts', []):\n",
        "                    if 'text' in part:\n",
        "                        final_text_content = part.get('text', '')\n",
        "                final_answer_author = data.get('author', 'Agent')\n",
        "        else:\n",
        "            message_bubble_html, deferred_output_html = generate_conversation_html([message], show_details=show_details, for_streaming=True)\n",
        "            if deferred_output_html:\n",
        "                final_deferred_output_html = deferred_output_html\n",
        "            if message_bubble_html:\n",
        "                display(HTML(html_wrapper(message_bubble_html)))\n",
        "\n",
        "    if final_text_content:\n",
        "        final_message = {\"message_content\": json.dumps({\"author\": final_answer_author, \"content\": {\"parts\": [{\"text\": final_text_content}]}})}\n",
        "        final_bubble_html, _ = generate_conversation_html([final_message], for_streaming=True, is_final_answer=True)\n",
        "        if final_bubble_html:\n",
        "            display(HTML(html_wrapper(final_bubble_html)))\n",
        "\n",
        "    if final_deferred_output_html:\n",
        "        result_section_html = f\"\"\"<div class=\"formatted-result-container\"><div class=\"formatted-result-header\">Formatted Result</div><div class=\"formatted-result-content\">{final_deferred_output_html}</div></div>\"\"\"\n",
        "        display(HTML(html_wrapper(result_section_html)))\n",
        "\n",
        "    if current_conversation_messages:\n",
        "        self.conversation_id += 1\n",
        "        self.conversation_list.append({\"conversation_id\": self.conversation_id, \"conversation_messages\": current_conversation_messages})\n",
        "\n",
        "    # This is NEW and what I want\n",
        "    # This new block iterates through the messages from the last interaction,\n",
        "    # finds the BigQuery tool response, and populates the dataframe.\n",
        "    for message in current_conversation_messages:\n",
        "        try:\n",
        "            data = json.loads(message.get('message_content', '{}'))\n",
        "            if 'content' not in data or 'parts' not in data.get('content', {}):\n",
        "                continue\n",
        "            for part in data.get('content', {}).get('parts', []):\n",
        "                if 'functionResponse' in part:\n",
        "                    response_data = part.get('functionResponse', {}).get('response', {})\n",
        "                    if response_data.get(\"tool_name\") == \"run_bigquery_sql\":\n",
        "                        results = response_data.get('results')\n",
        "                        if results:\n",
        "                            self.dataframe = pd.DataFrame(results)\n",
        "                            return\n",
        "        except (json.JSONDecodeError, TypeError):\n",
        "            continue"
      ]
    },
    {
      "cell_type": "markdown",
      "id": "J25jj3xZqRdu",
      "metadata": {
        "id": "J25jj3xZqRdu"
      },
      "source": [
        "### <font color='#4285f4'>Interact with the Agent</font>"
      ]
    },
    {
      "cell_type": "code",
      "execution_count": null,
      "id": "ljNd-u0HAX2V",
      "metadata": {
        "id": "ljNd-u0HAX2V"
      },
      "outputs": [],
      "source": [
        "da_agent = DataAnalyticsAgent(\"adam\",\"session_00\")"
      ]
    },
    {
      "cell_type": "markdown",
      "id": "TJOCVW_buJrO",
      "metadata": {
        "id": "TJOCVW_buJrO"
      },
      "source": [
        "#### Ask the agent some basic questions"
      ]
    },
    {
      "cell_type": "code",
      "execution_count": null,
      "id": "oANaWr-9Kg79",
      "metadata": {
        "id": "oANaWr-9Kg79"
      },
      "outputs": [],
      "source": [
        "da_agent.ask(\"What tables have customer information\")"
      ]
    },
    {
      "cell_type": "code",
      "execution_count": null,
      "id": "L_C_evfo9Iui",
      "metadata": {
        "id": "L_C_evfo9Iui"
      },
      "outputs": [],
      "source": [
        "da_agent.ask(\"Count the orders by product category, for the current month. Sum the sales and order count.\")"
      ]
    },
    {
      "cell_type": "code",
      "execution_count": null,
      "id": "n3kT4NBT4p4g",
      "metadata": {
        "id": "n3kT4NBT4p4g"
      },
      "outputs": [],
      "source": [
        "# We can get the SQL results in a dataframe so we can use in our code\n",
        "da_agent.dataframe"
      ]
    },
    {
      "cell_type": "code",
      "execution_count": null,
      "id": "f8Y0Ms7t9IsN",
      "metadata": {
        "id": "f8Y0Ms7t9IsN"
      },
      "outputs": [],
      "source": [
        "# Format the date to \"MonthName Year\"\n",
        "from datetime import datetime\n",
        "formatted_date = datetime.now().strftime(\"%B %Y\")\n",
        "da_agent.ask(f\"Count the number of orders by week and product category for {formatted_date}.\", True)"
      ]
    },
    {
      "cell_type": "code",
      "execution_count": null,
      "id": "nBjRFZ5Rygz-",
      "metadata": {
        "id": "nBjRFZ5Rygz-"
      },
      "outputs": [],
      "source": [
        "# This will create a new BigQuery pipeline (you can see it on the left hand side menu)\n",
        "\n",
        "da_agent.ask(\"\"\"Create a new BigQuery pipeline named 'Sales Data Pipeline'. \n",
        "I want to generate a denormalized sales table within the agentic_beans_curated dataset. \n",
        "This table should combine data from the following tables and include the specified fields:\n",
        "- From order_header: order_header_id, order_header_timestamp, truck_id, customer_id, order_neighborhood, order_header_total, payment_method\n",
        "- From order_detail: order_detail_id, truck_menu_id, order_quantity, product_id, product_category_id, price, order_detail_total\n",
        "- From customer: customer_name, customer_email, country_code, customer_total_spend\n",
        "- From product: product_name, product_description\n",
        "- From product_category: product_category_name, product_category_description\n",
        "- From truck: truck_name, truck_license_plate\"\"\")"
      ]
    },
    {
      "cell_type": "code",
      "execution_count": null,
      "id": "EsRJhxvGa-Fi",
      "metadata": {
        "id": "EsRJhxvGa-Fi"
      },
      "outputs": [],
      "source": [
        "da_agent.ask(\"Count the orders by user first name and show the top 10 highest order count from the curated dataset.\")"
      ]
    },
    {
      "cell_type": "code",
      "execution_count": null,
      "id": "lV-T5ziDZoLa",
      "metadata": {
        "id": "lV-T5ziDZoLa"
      },
      "outputs": [],
      "source": [
        "da_agent.ask(\"search the data catalog for items that contain 'curated'?\")"
      ]
    },
    {
      "cell_type": "code",
      "execution_count": null,
      "id": "dF_oGaSba-Lv",
      "metadata": {
        "id": "dF_oGaSba-Lv"
      },
      "outputs": [],
      "source": [
        "# Pass False to hide all the tool outputs and just show the thoughts\n",
        "da_agent.ask(\"Search for tables that are releated to customers\", False)"
      ]
    },
    {
      "cell_type": "code",
      "execution_count": null,
      "id": "kqpLqJy9a-Cy",
      "metadata": {
        "id": "kqpLqJy9a-Cy"
      },
      "outputs": [],
      "source": [
        "da_agent.ask(\"List all tables that have Zone of Curated\")"
      ]
    },
    {
      "cell_type": "code",
      "execution_count": null,
      "id": "QFq49bp_bJbK",
      "metadata": {
        "id": "QFq49bp_bJbK"
      },
      "outputs": [],
      "source": [
        "da_agent.ask(\"\"\"I want to run the following SQL statement:\n",
        "Count all the orders from the agentic curated dataset where the order date is the current month.\n",
        "Name the output field \"order_count\"\n",
        "\"\"\")"
      ]
    },
    {
      "cell_type": "code",
      "execution_count": null,
      "id": "A7l1PfEXbJYT",
      "metadata": {
        "id": "A7l1PfEXbJYT"
      },
      "outputs": [],
      "source": [
        "# Have it add the first week\n",
        "da_agent.ask(\"What are the order counts for the first week in the year?\")"
      ]
    },
    {
      "cell_type": "code",
      "execution_count": null,
      "id": "1mO5O6P2bJVT",
      "metadata": {
        "id": "1mO5O6P2bJVT"
      },
      "outputs": [],
      "source": [
        "da_agent.ask(\"Get me the unique neighborhood from the orders table.\")"
      ]
    },
    {
      "cell_type": "code",
      "execution_count": null,
      "id": "UhcyLdlBbJSo",
      "metadata": {
        "id": "UhcyLdlBbJSo"
      },
      "outputs": [],
      "source": [
        "da_agent.ask(\"Now count the orders by neighborhood for the current month\")"
      ]
    },
    {
      "cell_type": "code",
      "execution_count": null,
      "id": "hPAgl44QbTIF",
      "metadata": {
        "id": "hPAgl44QbTIF"
      },
      "outputs": [],
      "source": [
        "da_agent.ask(\"How many customers are there?\")"
      ]
    },
    {
      "cell_type": "code",
      "execution_count": null,
      "id": "aeZePAjfcHu9",
      "metadata": {
        "id": "aeZePAjfcHu9"
      },
      "outputs": [],
      "source": [
        "da_agent.ask(\"Why did you choose the customer table in the curated dataset?\")"
      ]
    },
    {
      "cell_type": "code",
      "execution_count": null,
      "id": "Yn5hga4dcHm_",
      "metadata": {
        "id": "Yn5hga4dcHm_"
      },
      "outputs": [],
      "source": [
        "# Let the agent finish the SQL/English\n",
        "\n",
        "da_agent.ask(f\"\"\"I want to run the following SQL statement:\n",
        "SELECT COUNT(*) AS order_count FROM `{project_id}.agentic_beans_curated.order_header` WHERE order_header_timestamp is in the current year.\n",
        "\"\"\")"
      ]
    },
    {
      "cell_type": "code",
      "execution_count": null,
      "id": "ZK0QlY1YcTIX",
      "metadata": {
        "id": "ZK0QlY1YcTIX"
      },
      "outputs": [],
      "source": [
        "# Let the agent finish the SQL/English\n",
        "\n",
        "da_agent.ask(f\"\"\"I want to run the following SQL statement:\n",
        "SELECT count star AS order_count FROM {project_id} agentic beans curated order header WHERE order_header_timestamp is the second week of last year.\n",
        "Return the week range you used and the order count.\n",
        "\"\"\")"
      ]
    },
    {
      "cell_type": "code",
      "execution_count": null,
      "id": "MmcJ21VpaJaB",
      "metadata": {
        "id": "MmcJ21VpaJaB"
      },
      "outputs": [],
      "source": [
        "da_agent.ask(\"\"\"Create a conversational analytics agent named ca-agent-100.\n",
        "I want to use the taxi_trips, payment_type, rate_code, trip_type, vendor and location tables.\n",
        "You can use the nyc_taxi_curated dataset for this.\n",
        "\"\"\")"
      ]
    },
    {
      "cell_type": "code",
      "execution_count": null,
      "id": "70ea47ae",
      "metadata": {},
      "outputs": [],
      "source": [
        "da_agent.ask(\"\"\"Show me the messages that were returned\"\"\")"
      ]
    }
  ],
  "metadata": {
    "colab": {
      "collapsed_sections": [
        "aQ1zRgh7BvnF",
        "x-p2XOGrxWW5",
        "Vr3ZS3HHhabq",
        "EdzzAlilYDWZ",
        "l_ccJ7KlYCqe",
        "LOO04meEH--N"
      ],
      "name": "Agentic Beans - Agent: DA Agent",
      "private_outputs": true,
      "provenance": []
    },
    "kernelspec": {
      "display_name": "Python 3",
      "name": "python3"
    },
    "language_info": {
      "codemirror_mode": {
        "name": "ipython",
        "version": 3
      },
      "file_extension": ".py",
      "mimetype": "text/x-python",
      "name": "python",
      "nbconvert_exporter": "python",
      "pygments_lexer": "ipython3",
      "version": "3.10.10"
    }
  },
  "nbformat": 4,
  "nbformat_minor": 5
}
