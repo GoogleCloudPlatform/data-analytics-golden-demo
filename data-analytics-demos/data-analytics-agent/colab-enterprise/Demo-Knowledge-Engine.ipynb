{
  "cells": [
    {
      "cell_type": "markdown",
      "metadata": {
        "id": "4eL2q138uw8S"
      },
      "source": [
        "### <font color='#4285f4'>Overview</font>"
      ]
    },
    {
      "cell_type": "markdown",
      "metadata": {
        "id": "eS2SRVMHuw8U"
      },
      "source": [
        "Overview: Runs the knowledge engine on a dataset.  Creates a business glossary based upon the knowledge scan.\n",
        "\n",
        "Cost:\n",
        "* Approximate cost: Less than $1\n",
        "\n",
        "Author:\n",
        "* Adam Paternostro"
      ]
    },
    {
      "cell_type": "markdown",
      "metadata": {
        "id": "b_hBijiyuw8V"
      },
      "source": [
        "### <font color='#4285f4'>Video Walkthrough</font>"
      ]
    },
    {
      "cell_type": "markdown",
      "metadata": {
        "id": "2ZdJRRnluw8V"
      },
      "source": [
        "[Video](https://storage.googleapis.com/data-analytics-golden-demo/colab-videos/Demo-Knowledge-Engine.mp4)\n"
      ]
    },
    {
      "cell_type": "code",
      "execution_count": null,
      "metadata": {
        "id": "IKy_JudOuw8V"
      },
      "outputs": [],
      "source": [
        "from IPython.display import HTML\n",
        "\n",
        "HTML(\"\"\"\n",
        "<video width=\"800\" height=\"600\" controls>\n",
        "  <source src=\"https://storage.googleapis.com/data-analytics-golden-demo/colab-videos/Demo-Knowledge-Engine.mp4\" type=\"video/mp4\">\n",
        "  Your browser does not support the video tag.\n",
        "</video>\n",
        "\"\"\")"
      ]
    },
    {
      "cell_type": "markdown",
      "metadata": {
        "id": "HMsUvoF4BP7Y"
      },
      "source": [
        "### <font color='#4285f4'>License</font>"
      ]
    },
    {
      "cell_type": "markdown",
      "metadata": {
        "id": "jQgQkbOvj55d"
      },
      "source": [
        "```\n",
        "# Copyright 2025 Google LLC\n",
        "#\n",
        "# Licensed under the Apache License, Version 2.0 (the \"License\");\n",
        "# you may not use this file except in compliance with the License.\n",
        "# You may obtain a copy of the License at\n",
        "#\n",
        "#     https://www.apache.org/licenses/LICENSE-2.0\n",
        "#\n",
        "# Unless required by applicable law or agreed to in writing, software\n",
        "# distributed under the License is distributed on an \"AS IS\" BASIS,\n",
        "# WITHOUT WARRANTIES OR CONDITIONS OF ANY KIND, either express or implied.\n",
        "# See the License for the specific language governing permissions and\n",
        "# limitations under the License.\n",
        "```"
      ]
    },
    {
      "cell_type": "markdown",
      "metadata": {
        "id": "m65vp54BUFRi"
      },
      "source": [
        "### <font color='#4285f4'>Pip installs</font>"
      ]
    },
    {
      "cell_type": "code",
      "execution_count": null,
      "metadata": {
        "id": "5MaWM6H5i6rX"
      },
      "outputs": [],
      "source": [
        "# PIP Installs (if necessary)\n",
        "import sys\n",
        "\n",
        "# !{sys.executable} -m pip install REPLACE-ME"
      ]
    },
    {
      "cell_type": "markdown",
      "metadata": {
        "id": "UmyL-Rg4Dr_f"
      },
      "source": [
        "### <font color='#4285f4'>Initialize</font>"
      ]
    },
    {
      "cell_type": "code",
      "execution_count": null,
      "metadata": {
        "id": "xOYsEVSXp6IP"
      },
      "outputs": [],
      "source": [
        "from PIL import Image\n",
        "from IPython.display import HTML\n",
        "import IPython.display\n",
        "import google.auth\n",
        "import requests\n",
        "import json\n",
        "import uuid\n",
        "import base64\n",
        "import os\n",
        "import cv2\n",
        "import random\n",
        "import time\n",
        "import datetime\n",
        "import base64\n",
        "import random\n",
        "\n",
        "import logging\n",
        "from tenacity import retry, wait_exponential, stop_after_attempt, before_sleep_log, retry_if_exception"
      ]
    },
    {
      "cell_type": "code",
      "execution_count": null,
      "metadata": {
        "id": "wMlHl3bnkFPZ"
      },
      "outputs": [],
      "source": [
        "# Set these (run this cell to verify the output)\n",
        "\n",
        "bigquery_location = \"${bigquery_non_multi_region}\"\n",
        "dataplex_region = \"${dataplex_region}\"\n",
        "dataform_region = \"${dataform_region}\"\n",
        "location = \"${location}\" # for Gemini\n",
        "\n",
        "\n",
        "logger = logging.getLogger()\n",
        "\n",
        "# Get the current date and time\n",
        "now = datetime.datetime.now()\n",
        "\n",
        "# Format the date and time as desired\n",
        "formatted_date = now.strftime(\"%Y-%m-%d-%H-%M\")\n",
        "\n",
        "# Get some values using gcloud\n",
        "project_id = os.environ[\"GOOGLE_CLOUD_PROJECT\"]\n",
        "user = !(gcloud auth list --filter=status:ACTIVE --format=\"value(account)\")\n",
        "\n",
        "if len(user) != 1:\n",
        "  raise RuntimeError(f\"user is not set: {user}\")\n",
        "user = user[0]\n",
        "\n",
        "print(f\"project_id = {project_id}\")\n",
        "print(f\"user = {user}\")"
      ]
    },
    {
      "cell_type": "markdown",
      "metadata": {
        "id": "sZ6m_wGrK0YG"
      },
      "source": [
        "### <font color='#4285f4'>Helper Methods</font>"
      ]
    },
    {
      "cell_type": "markdown",
      "metadata": {
        "id": "JbOjdSP1kN9T"
      },
      "source": [
        "#### rest_api_helper\n",
        "Calls the Google Cloud REST API using the current users credentials."
      ]
    },
    {
      "cell_type": "code",
      "execution_count": null,
      "metadata": {
        "id": "40wlwnY4kM11"
      },
      "outputs": [],
      "source": [
        "def rest_api_helper(url: str, http_verb: str, request_body: str) -> str:\n",
        "  \"\"\"Calls the Google Cloud REST API passing in the current users credentials\"\"\"\n",
        "\n",
        "  import google.auth.transport.requests\n",
        "  import requests\n",
        "  import google.auth\n",
        "  import json\n",
        "\n",
        "  # Get an access token based upon the current user\n",
        "  creds, project = google.auth.default()\n",
        "  auth_req = google.auth.transport.requests.Request()\n",
        "  creds.refresh(auth_req)\n",
        "  access_token=creds.token\n",
        "\n",
        "  headers = {\n",
        "    \"Content-Type\" : \"application/json\",\n",
        "    \"Authorization\" : \"Bearer \" + access_token\n",
        "  }\n",
        "\n",
        "  if http_verb == \"GET\":\n",
        "    response = requests.get(url, headers=headers)\n",
        "  elif http_verb == \"POST\":\n",
        "    response = requests.post(url, json=request_body, headers=headers)\n",
        "  elif http_verb == \"PUT\":\n",
        "    response = requests.put(url, json=request_body, headers=headers)\n",
        "  elif http_verb == \"PATCH\":\n",
        "    response = requests.patch(url, json=request_body, headers=headers)\n",
        "  elif http_verb == \"DELETE\":\n",
        "    response = requests.delete(url, headers=headers)\n",
        "  else:\n",
        "    raise RuntimeError(f\"Unknown HTTP verb: {http_verb}\")\n",
        "\n",
        "  if response.status_code == 200:\n",
        "    return json.loads(response.content)\n",
        "    #image_data = json.loads(response.content)[\"predictions\"][0][\"bytesBase64Encoded\"]\n",
        "  else:\n",
        "    error = f\"Error rest_api_helper -> ' Status: '{response.status_code}' Text: '{response.text}'\"\n",
        "    raise RuntimeError(error)"
      ]
    },
    {
      "cell_type": "markdown",
      "metadata": {
        "id": "9W8avEv6uw8X"
      },
      "source": [
        "#### RetryCondition (for retrying LLM calls)"
      ]
    },
    {
      "cell_type": "code",
      "execution_count": null,
      "metadata": {
        "id": "mgJe5mQ6uw8X"
      },
      "outputs": [],
      "source": [
        "def RetryCondition(error):\n",
        "  error_string = str(error)\n",
        "  print(error_string)\n",
        "\n",
        "  retry_errors = [\n",
        "      \"RESOURCE_EXHAUSTED\",\n",
        "      \"No content in candidate\",\n",
        "      # Add more error messages here as needed\n",
        "  ]\n",
        "\n",
        "  for retry_error in retry_errors:\n",
        "    if retry_error in error_string:\n",
        "      print(\"Retrying...\")\n",
        "      return True\n",
        "\n",
        "  return False"
      ]
    },
    {
      "cell_type": "markdown",
      "metadata": {
        "id": "vOFTk6sj1YIV"
      },
      "source": [
        "#### Gemini LLM"
      ]
    },
    {
      "cell_type": "code",
      "execution_count": null,
      "metadata": {
        "id": "xHit3Hh-1ZAW"
      },
      "outputs": [],
      "source": [
        "@retry(wait=wait_exponential(multiplier=1, min=1, max=60), stop=stop_after_attempt(10), retry=retry_if_exception(RetryCondition), before_sleep=before_sleep_log(logging.getLogger(), logging.INFO))\n",
        "def GeminiLLM(prompt, model = \"gemini-2.5-flash\", response_schema = None,\n",
        "                 temperature = 1, topP = 1, topK = 32):\n",
        "\n",
        "  # https://cloud.google.com/vertex-ai/generative-ai/docs/model-reference/inference#supported_models\n",
        "\n",
        "  llm_response = None\n",
        "  if temperature < 0:\n",
        "    temperature = 0\n",
        "\n",
        "  creds, project = google.auth.default()\n",
        "  auth_req = google.auth.transport.requests.Request() # required to acess access token\n",
        "  creds.refresh(auth_req)\n",
        "  access_token=creds.token\n",
        "\n",
        "  headers = {\n",
        "      \"Content-Type\" : \"application/json\",\n",
        "      \"Authorization\" : \"Bearer \" + access_token\n",
        "  }\n",
        "\n",
        "  # https://cloud.google.com/vertex-ai/generative-ai/docs/model-reference/inference\n",
        "  url = f\"https://{location}-aiplatform.googleapis.com/v1/projects/{project_id}/locations/{location}/publishers/google/models/{model}:generateContent\"\n",
        "\n",
        "  generation_config = {\n",
        "    \"temperature\": temperature,\n",
        "    \"topP\": topP,\n",
        "    \"maxOutputTokens\": 65536,\n",
        "    \"candidateCount\": 1,\n",
        "    \"responseMimeType\": \"application/json\",\n",
        "  }\n",
        "\n",
        "  # Add inthe response schema for when it is provided\n",
        "  if response_schema is not None:\n",
        "    generation_config[\"responseSchema\"] = response_schema\n",
        "\n",
        "  if model == \"gemini-2.5-flash\":\n",
        "    generation_config[\"topK\"] = topK\n",
        "\n",
        "  payload = {\n",
        "    \"contents\": {\n",
        "      \"role\": \"user\",\n",
        "      \"parts\": {\n",
        "          \"text\": prompt\n",
        "      },\n",
        "    },\n",
        "    \"generation_config\": {\n",
        "      **generation_config\n",
        "    },\n",
        "    \"safety_settings\": {\n",
        "      \"category\": \"HARM_CATEGORY_SEXUALLY_EXPLICIT\",\n",
        "      \"threshold\": \"BLOCK_LOW_AND_ABOVE\"\n",
        "    }\n",
        "  }\n",
        "\n",
        "  response = requests.post(url, json=payload, headers=headers)\n",
        "\n",
        "  if response.status_code == 200:\n",
        "    try:\n",
        "      json_response = json.loads(response.content)\n",
        "    except Exception as error:\n",
        "      raise RuntimeError(f\"An error occurred parsing the JSON: {error}\")\n",
        "\n",
        "    if \"candidates\" in json_response:\n",
        "      candidates = json_response[\"candidates\"]\n",
        "      if len(candidates) > 0:\n",
        "        candidate = candidates[0]\n",
        "        if \"content\" in candidate:\n",
        "          content = candidate[\"content\"]\n",
        "          if \"parts\" in content:\n",
        "            parts = content[\"parts\"]\n",
        "            if len(parts):\n",
        "              part = parts[0]\n",
        "              if \"text\" in part:\n",
        "                text = part[\"text\"]\n",
        "                llm_response = text\n",
        "              else:\n",
        "                raise RuntimeError(\"No text in part: {response.content}\")\n",
        "            else:\n",
        "              raise RuntimeError(\"No parts in content: {response.content}\")\n",
        "          else:\n",
        "            raise RuntimeError(\"No parts in content: {response.content}\")\n",
        "        else:\n",
        "          raise RuntimeError(\"No content in candidate: {response.content}\")\n",
        "      else:\n",
        "        raise RuntimeError(\"No candidates: {response.content}\")\n",
        "    else:\n",
        "      raise RuntimeError(\"No candidates: {response.content}\")\n",
        "\n",
        "    # Remove some typically response characters (if asking for a JSON reply)\n",
        "    llm_response = llm_response.replace(\"```json\",\"\")\n",
        "    llm_response = llm_response.replace(\"```\",\"\")\n",
        "    llm_response = llm_response.replace(\"\\n\",\"\")\n",
        "\n",
        "    return llm_response\n",
        "\n",
        "  else:\n",
        "    raise RuntimeError(f\"Error with prompt:'{prompt}'  Status:'{response.status_code}' Text:'{response.text}'\")"
      ]
    },
    {
      "cell_type": "markdown",
      "metadata": {
        "id": "bI-KJELZ1jgt"
      },
      "source": [
        "#### Helper Functions"
      ]
    },
    {
      "cell_type": "code",
      "execution_count": null,
      "metadata": {
        "id": "pmnCwYvA1kZv"
      },
      "outputs": [],
      "source": [
        "def RunQuery(sql):\n",
        "  import time\n",
        "  from google.cloud import bigquery\n",
        "  client = bigquery.Client()\n",
        "\n",
        "  if (sql.startswith(\"SELECT\") or sql.startswith(\"WITH\")):\n",
        "      df_result = client.query(sql).to_dataframe()\n",
        "      return df_result\n",
        "  else:\n",
        "    job_config = bigquery.QueryJobConfig(priority=bigquery.QueryPriority.INTERACTIVE)\n",
        "    query_job = client.query(sql, job_config=job_config)\n",
        "\n",
        "    # Check on the progress by getting the job's updated state.\n",
        "    query_job = client.get_job(\n",
        "        query_job.job_id, location=query_job.location\n",
        "    )\n",
        "    print(\"Job {} is currently in state {} with error result of {}\".format(query_job.job_id, query_job.state, query_job.error_result))\n",
        "\n",
        "    while query_job.state != \"DONE\":\n",
        "      time.sleep(2)\n",
        "      query_job = client.get_job(\n",
        "          query_job.job_id, location=query_job.location\n",
        "          )\n",
        "      print(\"Job {} is currently in state {} with error result of {}\".format(query_job.job_id, query_job.state, query_job.error_result))\n",
        "\n",
        "    if query_job.error_result == None:\n",
        "      return True\n",
        "    else:\n",
        "      raise Exception(query_job.error_result)"
      ]
    },
    {
      "cell_type": "markdown",
      "metadata": {
        "id": "mWpDCqGFwO13"
      },
      "source": [
        "### <font color='#4285f4'>Knowledge Engine - Helper Methods</font>"
      ]
    },
    {
      "cell_type": "markdown",
      "metadata": {
        "id": "5QdJxek3sXgM"
      },
      "source": [
        "These methods all return a \"dict\" so we can use them in the data analytics agent code."
      ]
    },
    {
      "cell_type": "markdown",
      "metadata": {
        "id": "0NwAPi8ZsWJs"
      },
      "source": [
        "#### get_knowledge_engine_scans"
      ]
    },
    {
      "cell_type": "code",
      "execution_count": null,
      "metadata": {
        "id": "wJ2e4XFaatbs"
      },
      "outputs": [],
      "source": [
        "def get_knowledge_engine_scans() -> dict:\n",
        "    \"\"\"\n",
        "    Lists all Dataplex knowledge engine scans in the configured region.\n",
        "\n",
        "    This function specifically filters the results to include only scans of\n",
        "    type 'knowledge_engine'.\n",
        "\n",
        "    Returns:\n",
        "        dict: A dictionary containing the status and the list of knowledge engine scans.\n",
        "        {\n",
        "            \"status\": \"success\" or \"failed\",\n",
        "            \"tool_name\": \"get_knowledge_engine_scans\",\n",
        "            \"query\": None,\n",
        "            \"messages\": [\"List of messages during processing\"],\n",
        "            \"results\": {\n",
        "                \"dataScans\": [ ... list of scan objects of type knowledge_engine ... ]\n",
        "            }\n",
        "        }\n",
        "    \"\"\"\n",
        "    #project_id = os.getenv(\"AGENT_ENV_PROJECT_ID\")\n",
        "    #dataplex_region = os.getenv(\"AGENT_ENV_DATAPLEX_REGION\")\n",
        "    messages = []\n",
        "\n",
        "    # The URL to list all data scans in the specified project and region.\n",
        "    url = f\"https://dataplex.googleapis.com/v1/projects/{project_id}/locations/{dataplex_region}/dataScans\"\n",
        "\n",
        "    try:\n",
        "        # Call the REST API to get the list of all existing data scans\n",
        "        json_result = rest_api_helper(url, \"GET\", None)\n",
        "        messages.append(\"Successfully retrieved list of all data scans from the API.\")\n",
        "\n",
        "        # Filter the returned scans to only include those of type 'knowledge_engine'\n",
        "        all_scans = json_result.get(\"dataScans\", [])\n",
        "\n",
        "        # Using a list comprehension for a concise filter\n",
        "        profile_scans_only = [\n",
        "            scan for scan in all_scans if scan.get(\"type\") == \"KNOWLEDGE_ENGINE\"\n",
        "        ]\n",
        "\n",
        "        messages.append(f\"Filtered results. Found {len(profile_scans_only)} knowledge engine scans.\")\n",
        "\n",
        "        # Create the final results payload with the filtered list\n",
        "        filtered_results = {\"dataScans\": profile_scans_only}\n",
        "\n",
        "        return {\n",
        "            \"status\": \"success\",\n",
        "            \"tool_name\": \"get_knowledge_engine_scans\",\n",
        "            \"query\": None,\n",
        "            \"messages\": messages,\n",
        "            \"results\": filtered_results\n",
        "        }\n",
        "    except Exception as e:\n",
        "        messages.append(f\"An error occurred while listing knowledge engine scans: {e}\")\n",
        "        return {\n",
        "            \"status\": \"failed\",\n",
        "            \"tool_name\": \"get_knowledge_engine_scans\",\n",
        "            \"query\": None,\n",
        "            \"messages\": messages,\n",
        "            \"results\": None\n",
        "        }\n"
      ]
    },
    {
      "cell_type": "markdown",
      "metadata": {
        "id": "sJwG-5RQsdvs"
      },
      "source": [
        "#### exists_knowledge_engine_scan"
      ]
    },
    {
      "cell_type": "code",
      "execution_count": null,
      "metadata": {
        "id": "8BoNin4nbYbj"
      },
      "outputs": [],
      "source": [
        "def exists_knowledge_engine_scan(knowledge_engine_scan_name: str) -> dict:\n",
        "    \"\"\"\n",
        "    Checks if a Dataplex knowledge engine scan already exists by checking the full list.\n",
        "\n",
        "    Args:\n",
        "        knowledge_engine_scan_name (str): The short name/ID of the knowledge engine scan.\n",
        "\n",
        "    Returns:\n",
        "        dict: A dictionary containing the status and results of the operation.\n",
        "        {\n",
        "            \"status\": \"success\" or \"failed\",\n",
        "            \"tool_name\": \"exists_knowledge_engine_scan\",\n",
        "            \"query\": None,\n",
        "            \"messages\": [\"List of messages during processing\"],\n",
        "            \"results\": {\n",
        "                \"exists\": True # or False\n",
        "            }\n",
        "        }\n",
        "    \"\"\"\n",
        "    #project_id = os.getenv(\"AGENT_ENV_PROJECT_ID\")\n",
        "    #dataplex_region = os.getenv(\"AGENT_ENV_DATAPLEX_REGION\")\n",
        "\n",
        "    # Call the dedicated function to list all scans\n",
        "    list_result = get_knowledge_engine_scans()\n",
        "    messages = list_result.get(\"messages\", [])\n",
        "\n",
        "    # If listing scans failed, propagate the failure\n",
        "    if list_result[\"status\"] == \"failed\":\n",
        "        return {\n",
        "            \"status\": \"failed\",\n",
        "            \"tool_name\": \"exists_knowledge_engine_scan\",\n",
        "            \"query\": None,\n",
        "            \"messages\": messages,\n",
        "            \"results\": None\n",
        "        }\n",
        "\n",
        "    try:\n",
        "        scan_exists = False\n",
        "        json_payload = list_result.get(\"results\", {})\n",
        "        full_scan_name_to_find = f\"projects/{project_id}/locations/{dataplex_region}/dataScans/{knowledge_engine_scan_name}\"\n",
        "\n",
        "        # Loop through the list of scans from the results\n",
        "        for item in json_payload.get(\"dataScans\", []):\n",
        "            if item.get(\"name\") == full_scan_name_to_find:\n",
        "                scan_exists = True\n",
        "                messages.append(f\"Found matching scan: '{knowledge_engine_scan_name}'.\")\n",
        "                break\n",
        "\n",
        "        if not scan_exists:\n",
        "            messages.append(f\"Scan '{knowledge_engine_scan_name}' does not exist.\")\n",
        "\n",
        "        return {\n",
        "            \"status\": \"success\",\n",
        "            \"tool_name\": \"exists_knowledge_engine_scan\",\n",
        "            \"query\": None,\n",
        "            \"messages\": messages,\n",
        "            \"results\": {\"exists\": scan_exists}\n",
        "        }\n",
        "    except Exception as e: # Catch potential errors while processing the list\n",
        "        messages.append(f\"An unexpected error occurred while processing scan list: {e}\")\n",
        "        return {\n",
        "            \"status\": \"failed\",\n",
        "            \"tool_name\": \"exists_knowledge_engine_scan\",\n",
        "            \"query\": None,\n",
        "            \"messages\": messages,\n",
        "            \"results\": None\n",
        "        }\n"
      ]
    },
    {
      "cell_type": "markdown",
      "metadata": {
        "id": "JNb68wapsfJP"
      },
      "source": [
        "#### create_knowledge_engine_scan"
      ]
    },
    {
      "cell_type": "code",
      "execution_count": null,
      "metadata": {
        "id": "rMunfrkAbYUK"
      },
      "outputs": [],
      "source": [
        "def create_knowledge_engine_scan(knowledge_engine_scan_name: str, knowledge_engine_display_name: str, bigquery_dataset_name: str) -> dict:\n",
        "    \"\"\"\n",
        "    Creates a new Dataplex knowledge engine Scan if it does not already exist.\n",
        "\n",
        "    Args:\n",
        "        knowledge_engine_scan_name (str): The short name/ID for the new knowledge engine scan.\n",
        "        knowledge_engine_display_name (str): The user-friendly display name for the scan.\n",
        "        bigquery_dataset_name (str): The BigQuery dataset to be scanned.\n",
        "\n",
        "    Returns:\n",
        "        dict: A dictionary containing the status and results of the operation.\n",
        "        {\n",
        "            \"status\": \"success\" or \"failed\",\n",
        "            \"tool_name\": \"create_knowledge_engine_scan\",\n",
        "            \"query\": None,\n",
        "            \"messages\": [\"List of messages during processing\"],\n",
        "            \"results\": { ... response from the API call ... }\n",
        "        }\n",
        "    \"\"\"\n",
        "    #project_id = os.getenv(\"AGENT_ENV_PROJECT_ID\")\n",
        "    #dataplex_region = os.getenv(\"AGENT_ENV_DATAPLEX_REGION\")\n",
        "\n",
        "    # First, check if the knowledge engine scan already exists.\n",
        "    existence_check = exists_knowledge_engine_scan(knowledge_engine_scan_name)\n",
        "    messages = existence_check.get(\"messages\", [])\n",
        "\n",
        "    # If the check failed, propagate the failure.\n",
        "    if existence_check[\"status\"] == \"failed\":\n",
        "        return {\n",
        "            \"status\": \"failed\",\n",
        "            \"tool_name\": \"create_knowledge_engine_scan\",\n",
        "            \"query\": None,\n",
        "            \"messages\": messages,\n",
        "            \"results\": None\n",
        "        }\n",
        "\n",
        "    # If the scan already exists, report success and stop.\n",
        "    if existence_check[\"results\"][\"exists\"]:\n",
        "        full_scan_name = f\"projects/{project_id}/locations/{dataplex_region}/dataScans/{knowledge_engine_scan_name}\"\n",
        "        return {\n",
        "            \"status\": \"success\",\n",
        "            \"tool_name\": \"create_knowledge_engine_scan\",\n",
        "            \"query\": None,\n",
        "            \"messages\": messages,\n",
        "            \"results\": {\"name\": full_scan_name, \"created\": False}\n",
        "        }\n",
        "\n",
        "    # If the scan does not exist, proceed with creation.\n",
        "    messages.append(f\"Creating knowledge engine Scan '{knowledge_engine_scan_name}'.\")\n",
        "\n",
        "    # API endpoint to create a data scan. The scan ID is passed as a query parameter.\n",
        "    # https://cloud.google.com/dataplex/docs/reference/rest/v1/projects.locations.dataScans/create\n",
        "    url = f\"https://dataplex.googleapis.com/v1/projects/{project_id}/locations/{dataplex_region}/dataScans?dataScanId={knowledge_engine_scan_name}\"\n",
        "\n",
        "    request_body = {\n",
        "    \"name\": f\"projects/{project_id}/locations/{dataplex_region}/dataScans/{knowledge_engine_scan_name}\",\n",
        "    \"uid\": knowledge_engine_scan_name,\n",
        "    \"description\": f\"Knowledge engine scan for the dataset {bigquery_dataset_name}\",\n",
        "    \"displayName\": knowledge_engine_scan_name,\n",
        "    \"data\": {\n",
        "        \"resource\": f\"//bigquery.googleapis.com/projects/{project_id}/datasets/{bigquery_dataset_name}\" },\n",
        "        \"executionSpec\": {\n",
        "            \"trigger\": {\n",
        "                \"onDemand\": {} }\n",
        "                },\n",
        "        \"type\": \"KNOWLEDGE_ENGINE\",\n",
        "        \"knowledgeEngineSpec\": {}\n",
        "    }\n",
        "\n",
        "\n",
        "    try:\n",
        "        # The create API returns a long-running operation object.\n",
        "        json_result = rest_api_helper(url, \"POST\", request_body)\n",
        "\n",
        "        operation_name = json_result.get(\"name\", \"Unknown Operation\")\n",
        "        messages.append(f\"Successfully initiated knowledge engine Scan creation. Operation: {operation_name}\")\n",
        "\n",
        "        return {\n",
        "            \"status\": \"success\",\n",
        "            \"tool_name\": \"create_knowledge_engine_scan\",\n",
        "            \"query\": None,\n",
        "            \"messages\": messages,\n",
        "            \"results\": json_result\n",
        "        }\n",
        "\n",
        "    except Exception as e:\n",
        "        messages.append(f\"An error occurred while creating the knowledge engine scan: {e}\")\n",
        "        return {\n",
        "            \"status\": \"failed\",\n",
        "            \"tool_name\": \"create_knowledge_engine_scan\",\n",
        "            \"query\": None,\n",
        "            \"messages\": messages,\n",
        "            \"results\": None\n",
        "        }\n"
      ]
    },
    {
      "cell_type": "markdown",
      "metadata": {
        "id": "fREgw4HKsjoz"
      },
      "source": [
        "#### start_knowledge_engine_scan"
      ]
    },
    {
      "cell_type": "code",
      "execution_count": null,
      "metadata": {
        "id": "0oZ4VyvObYKI"
      },
      "outputs": [],
      "source": [
        "def start_knowledge_engine_scan(knowledge_engine_scan_name: str) -> dict:\n",
        "    \"\"\"\n",
        "    Triggers a run of an existing Dataplex knowledge engine scan.\n",
        "\n",
        "    This initiates a new scan job. To check the status of this job, you will\n",
        "    need the job name from the results and use the 'get_state_knowledge_engine_scan' tool.\n",
        "\n",
        "    Args:\n",
        "        knowledge_engine_scan_name (str): The short name/ID of the knowledge engine scan to run.\n",
        "\n",
        "    Returns:\n",
        "        dict: A dictionary containing the status and the job information.\n",
        "        {\n",
        "            \"status\": \"success\" or \"failed\",\n",
        "            \"tool_name\": \"start_knowledge_engine_scan\",\n",
        "            \"query\": None,\n",
        "            \"messages\": [\"List of messages during processing\"],\n",
        "            \"results\": {\n",
        "                \"job\": {\n",
        "                    \"name\": \"projects/.../locations/.../dataScans/.../jobs/...\",\n",
        "                    \"uid\": \"...\",\n",
        "                    \"createTime\": \"...\",\n",
        "                    \"startTime\": \"...\",\n",
        "                    \"state\": \"RUNNING\",\n",
        "                    \"dataProfileResult\": {}\n",
        "                }\n",
        "            }\n",
        "        }\n",
        "    \"\"\"\n",
        "    #project_id = os.getenv(\"AGENT_ENV_PROJECT_ID\")\n",
        "    #dataplex_region = os.getenv(\"AGENT_ENV_DATAPLEX_REGION\")\n",
        "    messages = []\n",
        "\n",
        "    # The API endpoint to run a data scan job. Note the custom ':run' verb at the end.\n",
        "    # https://cloud.google.com/dataplex/docs/reference/rest/v1/projects.locations.dataScans/run\n",
        "    url = f\"https://dataplex.googleapis.com/v1/projects/{project_id}/locations/{dataplex_region}/dataScans/{knowledge_engine_scan_name}:run\"\n",
        "\n",
        "    # The run method requires a POST request with an empty body.\n",
        "    request_body = {}\n",
        "\n",
        "    try:\n",
        "        messages.append(f\"Attempting to run knowledge engine Scan '{knowledge_engine_scan_name}'.\")\n",
        "\n",
        "        # Call the REST API to trigger the scan run.\n",
        "        json_result = rest_api_helper(url, \"POST\", request_body)\n",
        "\n",
        "        # Extract job details for a more informative message.\n",
        "        # Use .get() for safe access in case the response structure is unexpected.\n",
        "        job_info = json_result.get(\"job\", {})\n",
        "        job_name = job_info.get(\"name\", \"Unknown Job\")\n",
        "        job_state = job_info.get(\"state\", \"Unknown State\")\n",
        "\n",
        "        messages.append(f\"Successfully started knowledge engine Scan job: {job_name} - State: {job_state}\")\n",
        "\n",
        "        return {\n",
        "            \"status\": \"success\",\n",
        "            \"tool_name\": \"start_knowledge_engine_scan\",\n",
        "            \"query\": None,\n",
        "            \"messages\": messages,\n",
        "            \"results\": json_result\n",
        "        }\n",
        "\n",
        "    except Exception as e:\n",
        "        messages.append(f\"An error occurred while starting the knowledge engine scan: {e}\")\n",
        "        return {\n",
        "            \"status\": \"failed\",\n",
        "            \"tool_name\": \"start_knowledge_engine_scan\",\n",
        "            \"query\": None,\n",
        "            \"messages\": messages,\n",
        "            \"results\": None\n",
        "        }"
      ]
    },
    {
      "cell_type": "markdown",
      "metadata": {
        "id": "vhY-wH39s-5K"
      },
      "source": [
        "#### get_knowledge_engine_scan_state"
      ]
    },
    {
      "cell_type": "code",
      "execution_count": null,
      "metadata": {
        "id": "MnIovusejKrP"
      },
      "outputs": [],
      "source": [
        "def get_knowledge_engine_scan_state(knowledge_engine_scan_job_name: str) -> dict:\n",
        "    \"\"\"\n",
        "    Gets the current state of a running knowledge engine scan job.\n",
        "\n",
        "    The job is created when a scan is started via 'start_knowledge_engine_scan'.\n",
        "\n",
        "    Args:\n",
        "        knowledge_engine_scan_job_name (str): The full resource name of the scan job, e.g.,\n",
        "                                          \"projects/.../locations/.../dataScans/.../jobs/...\".\n",
        "\n",
        "    Returns:\n",
        "        dict: A dictionary containing the status and the job state.\n",
        "        {\n",
        "            \"status\": \"success\" or \"failed\",\n",
        "            \"tool_name\": \"get_knowledge_engine_scan_state\",\n",
        "            \"query\": None,\n",
        "            \"messages\": [\"List of messages during processing\"],\n",
        "            \"results\": {\n",
        "                \"state\": \"SUCCEEDED\" # or \"RUNNING\", \"FAILED\", etc.\n",
        "            }\n",
        "        }\n",
        "    \"\"\"\n",
        "    messages = []\n",
        "\n",
        "    # The API endpoint for getting a job's status is generic.\n",
        "    # The job name itself is the full path after the API version.\n",
        "    url = f\"https://dataplex.googleapis.com/v1/{knowledge_engine_scan_job_name}\"\n",
        "\n",
        "    try:\n",
        "        # Make a GET request to the specific job URL.\n",
        "        json_result = rest_api_helper(url, \"GET\", None)\n",
        "\n",
        "        # Safely extract the state from the response.\n",
        "        state = json_result.get(\"state\", \"UNKNOWN\")\n",
        "        messages.append(f\"knowledge engine job '{knowledge_engine_scan_job_name}' is in state: {state}\")\n",
        "\n",
        "        return {\n",
        "            \"status\": \"success\",\n",
        "            \"tool_name\": \"get_knowledge_engine_scan_state\",\n",
        "            \"query\": None,\n",
        "            \"messages\": messages,\n",
        "            \"results\": {\"state\": state}\n",
        "        }\n",
        "    except Exception as e:\n",
        "        messages.append(f\"An error occurred while getting the knowledge engine scan job state: {e}\")\n",
        "        return {\n",
        "            \"status\": \"failed\",\n",
        "            \"tool_name\": \"get_knowledge_engine_scan_state\",\n",
        "            \"query\": None,\n",
        "            \"messages\": messages,\n",
        "            \"results\": None\n",
        "        }\n",
        "\n"
      ]
    },
    {
      "cell_type": "markdown",
      "metadata": {
        "id": "ljtMmup8s9Ow"
      },
      "source": [
        "#### update_bigquery_dataset_dataplex_labels"
      ]
    },
    {
      "cell_type": "code",
      "execution_count": null,
      "metadata": {
        "id": "PWnl2MNtjKlw"
      },
      "outputs": [],
      "source": [
        "def update_bigquery_dataset_dataplex_labels(knowledge_engine_scan_name: str, bigquery_dataset_name: str) -> dict:\n",
        "    \"\"\"\n",
        "    Updates a BigQuery table's labels to link it to a Dataplex knowledge engine scan.\n",
        "\n",
        "    This operation is necessary for the knowledge engine results to appear in the\n",
        "    \"knowledge engine\" tab of the table details page in the BigQuery Console.\n",
        "\n",
        "    Args:\n",
        "        knowledge_engine_scan_name (str): The short name/ID of the knowledge engine scan to link.\n",
        "        bigquery_dataset_name (str): The BigQuery dataset containing the knowledge scan.\n",
        "\n",
        "    Returns:\n",
        "        dict: A dictionary containing the status and the BigQuery API response.\n",
        "        {\n",
        "            \"status\": \"success\" or \"failed\",\n",
        "            \"tool_name\": \"update_bigquery_dataset_dataplex_labels\",\n",
        "            \"query\": None,\n",
        "            \"messages\": [\"List of messages during processing\"],\n",
        "            \"results\": { ... response from the BigQuery tables.patch API call ... }\n",
        "        }\n",
        "    \"\"\"\n",
        "    #project_id = os.getenv(\"AGENT_ENV_PROJECT_ID\")\n",
        "    #dataplex_region = os.getenv(\"AGENT_ENV_DATAPLEX_REGION\")\n",
        "    messages = []\n",
        "\n",
        "    # API endpoint for patching a BigQuery table's metadata.\n",
        "    # https://cloud.google.com/bigquery/docs/reference/rest/v2/tables/patch\n",
        "    url = f\"https://bigquery.googleapis.com/bigquery/v2/projects/{project_id}/datasets/{bigquery_dataset_name}\"\n",
        "\n",
        "    # The request body contains the specific labels that link the table to the scan.\n",
        "    request_body = {\n",
        "        \"labels\": {\n",
        "            \"dataplex-knowledge-engine-published-project\": project_id,\n",
        "            \"dataplex-knowledge-engine-published-location\": dataplex_region,\n",
        "            \"dataplex-knowledge-engine-published-scan\": knowledge_engine_scan_name,\n",
        "        }\n",
        "    }\n",
        "\n",
        "    try:\n",
        "        messages.append(f\"Patching BigQuery table '{bigquery_dataset_name}' with Dataplex labels.\")\n",
        "\n",
        "        # Call the REST API using PATCH to update the table's labels.\n",
        "        json_result = rest_api_helper(url, \"PATCH\", request_body)\n",
        "\n",
        "        messages.append(\"Successfully updated BigQuery dataset labels.\")\n",
        "\n",
        "        return {\n",
        "            \"status\": \"success\",\n",
        "            \"tool_name\": \"update_bigquery_dataset_dataplex_labels\",\n",
        "            \"query\": None,\n",
        "            \"messages\": messages,\n",
        "            \"results\": json_result\n",
        "        }\n",
        "\n",
        "    except Exception as e:\n",
        "        messages.append(f\"An error occurred while updating the BigQuery table labels: {e}\")\n",
        "        return {\n",
        "            \"status\": \"failed\",\n",
        "            \"tool_name\": \"update_bigquery_dataset_dataplex_labels\",\n",
        "            \"query\": None,\n",
        "            \"messages\": messages,\n",
        "            \"results\": None\n",
        "        }"
      ]
    },
    {
      "cell_type": "markdown",
      "metadata": {
        "id": "0D4Lle3stF0T"
      },
      "source": [
        "#### get_knowledge_engine_scan"
      ]
    },
    {
      "cell_type": "code",
      "execution_count": null,
      "metadata": {
        "id": "-tG2oOQgobGB"
      },
      "outputs": [],
      "source": [
        "def get_knowledge_engine_scan(knowledge_engine_scan_name: str) -> dict:\n",
        "    \"\"\"\n",
        "    Gets a single Dataplex knowledge engine scan in the configured region.\n",
        "    This returns the \"Full\" view which has all the scan details (more than just a data scan listing (e.g. tool: get_knowledge_engine_scans))\n",
        "\n",
        "    Args:\n",
        "        knowledge_engine_scan_name (str): The name of the knowledge engine scan.\n",
        "\n",
        "    Returns:\n",
        "        dict: A dictionary containing the status and the list of knowledge engine scans.\n",
        "    \"\"\"\n",
        "    #project_id = os.getenv(\"AGENT_ENV_PROJECT_ID\")\n",
        "    #dataplex_region = os.getenv(\"AGENT_ENV_DATAPLEX_REGION\")\n",
        "    messages = []\n",
        "    url = f\"https://dataplex.googleapis.com/v1/projects/{project_id}/locations/{dataplex_region}/dataScans/{knowledge_engine_scan_name}?view=FULL\"\n",
        "\n",
        "    try:\n",
        "        json_result = rest_api_helper(url, \"GET\", None)\n",
        "        messages.append(\"Successfully retrieved the data get_knowledge_engine_scan from the API.\")\n",
        "\n",
        "        return {\n",
        "            \"status\": \"success\",\n",
        "            \"tool_name\": \"get_knowledge_engine_scan\",\n",
        "            \"query\": None,\n",
        "            \"messages\": messages,\n",
        "            \"results\": json_result\n",
        "        }\n",
        "    except Exception as e:\n",
        "        messages.append(f\"An error occurred while listing knowledge engine scan: {e}\")\n",
        "        return {\n",
        "            \"status\": \"failed\",\n",
        "            \"tool_name\": \"get_knowledge_engine_scan\",\n",
        "            \"query\": None,\n",
        "            \"messages\": messages,\n",
        "            \"results\": None\n",
        "        }\n"
      ]
    },
    {
      "cell_type": "markdown",
      "metadata": {
        "id": "JRzeavDVwi3I"
      },
      "source": [
        "### <font color='#4285f4'>Business Glossary - Helper Methods</font>"
      ]
    },
    {
      "cell_type": "markdown",
      "metadata": {
        "id": "CN2CAviqwoKR"
      },
      "source": [
        "#### get_business_glossaries"
      ]
    },
    {
      "cell_type": "code",
      "execution_count": null,
      "metadata": {
        "id": "-_AY9N5emQj9"
      },
      "outputs": [],
      "source": [
        "def get_business_glossaries() -> dict:\n",
        "    \"\"\"\n",
        "    Lists all Dataplex business glossaries in the configured region.\n",
        "\n",
        "    Returns:\n",
        "        dict: A dictionary containing the status and the list of business glossaries.\n",
        "        {\n",
        "            \"status\": \"success\" or \"failed\",\n",
        "            \"tool_name\": \"get_business_glossaries\",\n",
        "            \"query\": None,\n",
        "            \"messages\": [\"List of messages during processing\"],\n",
        "            \"results\": {\n",
        "                \"glossaries\": [ ... list of glossary objects ... ]\n",
        "            }\n",
        "        }\n",
        "    \"\"\"\n",
        "    # project_id = os.getenv(\"AGENT_ENV_PROJECT_ID\")\n",
        "    # business_glossary_region = os.getenv(\"AGENT_ENV_BUSINESS_GLOSSARY_REGION\")\n",
        "    messages = []\n",
        "\n",
        "    # The URL to list all business glossaries in the specified project and region.\n",
        "    url = f\"https://dataplex.googleapis.com/v1/projects/{project_id}/locations/{business_glossary_region}/glossaries\"\n",
        "\n",
        "    try:\n",
        "        # Call the REST API to get the list of all existing business glossaries\n",
        "        json_result = rest_api_helper(url, \"GET\", None)\n",
        "        messages.append(\"Successfully retrieved list of all business glossaries from the API.\")\n",
        "\n",
        "        # Extract the list of glossaries\n",
        "        glossaries = json_result.get(\"glossaries\", [])\n",
        "\n",
        "        messages.append(f\"Found {len(glossaries)} business glossaries.\")\n",
        "\n",
        "        # Create the final results payload with the list\n",
        "        filtered_results = {\"glossaries\": glossaries}\n",
        "\n",
        "        return {\n",
        "            \"status\": \"success\",\n",
        "            \"tool_name\": \"get_business_glossaries\",\n",
        "            \"query\": None,\n",
        "            \"messages\": messages,\n",
        "            \"results\": filtered_results\n",
        "        }\n",
        "    except Exception as e:\n",
        "        messages.append(f\"An error occurred while listing business glossaries: {e}\")\n",
        "        return {\n",
        "            \"status\": \"failed\",\n",
        "            \"tool_name\": \"get_business_glossaries\",\n",
        "            \"query\": None,\n",
        "            \"messages\": messages,\n",
        "            \"results\": None\n",
        "        }"
      ]
    },
    {
      "cell_type": "markdown",
      "metadata": {
        "id": "1tFtBn9UJC6m"
      },
      "source": [
        "#### exists_business_glossary"
      ]
    },
    {
      "cell_type": "code",
      "execution_count": null,
      "metadata": {
        "id": "tUZfoU3vJAw-"
      },
      "outputs": [],
      "source": [
        "def exists_business_glossary(glossary_id: str) -> dict:\n",
        "    \"\"\"\n",
        "    Checks if a Dataplex business glossary already exists by checking the full list.\n",
        "\n",
        "    Args:\n",
        "        glossary_id (str): The ID of the business glossary to retrieve\n",
        "\n",
        "    Returns:\n",
        "        dict: A dictionary containing the status and results of the operation.\n",
        "        {\n",
        "            \"status\": \"success\" or \"failed\",\n",
        "            \"tool_name\": \"exists_business_glossary\",\n",
        "            \"query\": None,\n",
        "            \"messages\": [\"List of messages during processing\"],\n",
        "            \"results\": {\n",
        "                \"exists\": True # or False\n",
        "            }\n",
        "        }\n",
        "    \"\"\"\n",
        "    #project_id = os.getenv(\"AGENT_ENV_PROJECT_ID\")\n",
        "    #business_glossary_region = os.getenv(\"AGENT_ENV_BUSINESS_GLOSSARY_REGION\")\n",
        "\n",
        "    # Call the dedicated function to list all scans\n",
        "    list_result = get_business_glossaries()\n",
        "    messages = list_result.get(\"messages\", [])\n",
        "\n",
        "    # If listing scans failed, propagate the failure\n",
        "    if list_result[\"status\"] == \"failed\":\n",
        "        return {\n",
        "            \"status\": \"failed\",\n",
        "            \"tool_name\": \"exists_business_glossary_scan\",\n",
        "            \"query\": None,\n",
        "            \"messages\": messages,\n",
        "            \"results\": None\n",
        "        }\n",
        "\n",
        "    try:\n",
        "        glossary_exists = False\n",
        "        json_payload = list_result.get(\"results\", {})\n",
        "        glossary_name_to_find = f\"projects/{project_id}/locations/{business_glossary_region}/glossaries/{glossary_id}\"\n",
        "\n",
        "        # Loop through the list of scans from the results\n",
        "        for item in json_payload.get(\"glossaries\", []):\n",
        "            if item.get(\"name\") == glossary_name_to_find:\n",
        "                glossary_exists = True\n",
        "                messages.append(f\"Found matching glossary: '{glossary_id}'.\")\n",
        "                break\n",
        "\n",
        "        if not glossary_exists:\n",
        "            messages.append(f\"Glossary '{glossary_id}' does not exist.\")\n",
        "\n",
        "        return {\n",
        "            \"status\": \"success\",\n",
        "            \"tool_name\": \"exists_business_glossary\",\n",
        "            \"query\": None,\n",
        "            \"messages\": messages,\n",
        "            \"results\": {\"exists\": glossary_exists}\n",
        "        }\n",
        "    except Exception as e: # Catch potential errors while processing the list\n",
        "        messages.append(f\"An unexpected error occurred while processing scan list: {e}\")\n",
        "        return {\n",
        "            \"status\": \"failed\",\n",
        "            \"tool_name\": \"exists_business_glossary\",\n",
        "            \"query\": None,\n",
        "            \"messages\": messages,\n",
        "            \"results\": None\n",
        "        }\n"
      ]
    },
    {
      "cell_type": "markdown",
      "metadata": {
        "id": "IFuKVDjvwtFN"
      },
      "source": [
        "#### create_business_glossary"
      ]
    },
    {
      "cell_type": "code",
      "execution_count": null,
      "metadata": {
        "id": "PWbqkqEnmQeQ"
      },
      "outputs": [],
      "source": [
        "def create_business_glossary(glossary_id: str, display_name: str, description: str = \"\") -> dict:\n",
        "    \"\"\"\n",
        "    Creates a new Dataplex business glossary if it does not already exist.\n",
        "\n",
        "    Args:\n",
        "        glossary_id (str): The short name/ID for the new business glossary.\n",
        "        display_name (str): The user-friendly display name for the glossary.\n",
        "        description (str, optional): A brief description for the glossary. Defaults to \"\".\n",
        "\n",
        "    Returns:\n",
        "        dict: A dictionary containing the status and results of the operation.\n",
        "        {\n",
        "            \"status\": \"success\" or \"failed\",\n",
        "            \"tool_name\": \"create_business_glossary\",\n",
        "            \"query\": None,\n",
        "            \"messages\": [\"List of messages during processing\"],\n",
        "            \"results\": { ... response from the API call or creation status ... }\n",
        "        }\n",
        "    \"\"\"\n",
        "    # business_glossary_region = os.getenv(\"AGENT_ENV_BUSINESS_GLOSSARY_REGION\")\n",
        "    messages = []\n",
        "\n",
        "    # First, check if the business glossary already exists.\n",
        "    # We'll call get_business_glossaries and manually check for the existence\n",
        "    # as there's no direct 'exists_business_glossary' function yet.\n",
        "    list_result = get_business_glossaries()\n",
        "    messages.extend(list_result.get(\"messages\", [])) # Append messages from the list operation\n",
        "\n",
        "    if list_result[\"status\"] == \"failed\":\n",
        "        return {\n",
        "            \"status\": \"failed\",\n",
        "            \"tool_name\": \"create_business_glossary\",\n",
        "            \"query\": None,\n",
        "            \"messages\": messages,\n",
        "            \"results\": None\n",
        "        }\n",
        "\n",
        "    glossaries = list_result.get(\"results\", {}).get(\"glossaries\", [])\n",
        "    glossary_exists = False\n",
        "    full_glossary_name_to_find = f\"projects/{project_id}/locations/{business_glossary_region}/glossaries/{glossary_id}\"\n",
        "\n",
        "    for glossary in glossaries:\n",
        "        if glossary.get(\"name\") == full_glossary_name_to_find:\n",
        "            glossary_exists = True\n",
        "            break\n",
        "\n",
        "    if glossary_exists:\n",
        "        messages.append(f\"Business glossary '{glossary_id}' already exists.\")\n",
        "        return {\n",
        "            \"status\": \"success\",\n",
        "            \"tool_name\": \"create_business_glossary\",\n",
        "            \"query\": None,\n",
        "            \"messages\": messages,\n",
        "            \"results\": {\"name\": full_glossary_name_to_find, \"created\": False}\n",
        "        }\n",
        "\n",
        "    # If the glossary does not exist, proceed with creation.\n",
        "    messages.append(f\"Creating business glossary '{glossary_id}'.\")\n",
        "\n",
        "    # API endpoint to create a glossary. The glossary ID is passed as a query parameter.\n",
        "    url = f\"https://dataplex.googleapis.com/v1/projects/{project_id}/locations/{business_glossary_region}/glossaries?glossaryId={glossary_id}\"\n",
        "\n",
        "    request_body = {\n",
        "        \"displayName\": display_name,\n",
        "        \"description\": description\n",
        "    }\n",
        "\n",
        "    try:\n",
        "        json_result = rest_api_helper(url, \"POST\", request_body)\n",
        "\n",
        "        messages.append(f\"Successfully created business glossary '{glossary_id}'.\")\n",
        "\n",
        "        return {\n",
        "            \"status\": \"success\",\n",
        "            \"tool_name\": \"create_business_glossary\",\n",
        "            \"query\": None,\n",
        "            \"messages\": messages,\n",
        "            \"results\": json_result\n",
        "        }\n",
        "\n",
        "    except Exception as e:\n",
        "        messages.append(f\"An error occurred while creating the business glossary: {e}\")\n",
        "        return {\n",
        "            \"status\": \"failed\",\n",
        "            \"tool_name\": \"create_business_glossary\",\n",
        "            \"query\": None,\n",
        "            \"messages\": messages,\n",
        "            \"results\": None\n",
        "        }"
      ]
    },
    {
      "cell_type": "markdown",
      "metadata": {
        "id": "u0s4Rut8wwTF"
      },
      "source": [
        "#### get_business_glossary"
      ]
    },
    {
      "cell_type": "code",
      "execution_count": null,
      "metadata": {
        "id": "rEtKoqprpK_i"
      },
      "outputs": [],
      "source": [
        "def get_business_glossary(glossary_id: str) -> dict:\n",
        "    \"\"\"\n",
        "    Gets a single Dataplex business glossary in the configured region.\n",
        "\n",
        "    Args:\n",
        "        glossary_id (str): The ID of the business glossary to retrieve.\n",
        "\n",
        "    Returns:\n",
        "        dict: A dictionary containing the status and the details of the business glossary.\n",
        "        {\n",
        "            \"status\": \"success\" or \"failed\",\n",
        "            \"tool_name\": \"get_business_glossary\",\n",
        "            \"query\": None,\n",
        "            \"messages\": [\"List of messages during processing\"],\n",
        "            \"results\": { ... glossary object details ... }\n",
        "        }\n",
        "    \"\"\"\n",
        "    #business_glossary_region = os.getenv(\"AGENT_ENV_BUSINESS_GLOSSARY_REGION\")\n",
        "\n",
        "    messages = []\n",
        "    # The URL to get a specific business glossary\n",
        "    url = f\"https://dataplex.googleapis.com/v1/projects/{project_id}/locations/{business_glossary_region}/glossaries/{glossary_id}\"\n",
        "\n",
        "    try:\n",
        "        json_result = rest_api_helper(url, \"GET\", None)\n",
        "        messages.append(f\"Successfully retrieved details for business glossary '{glossary_id}' from the API.\")\n",
        "\n",
        "        return {\n",
        "            \"status\": \"success\",\n",
        "            \"tool_name\": \"get_business_glossary\",\n",
        "            \"query\": None,\n",
        "            \"messages\": messages,\n",
        "            \"results\": json_result\n",
        "        }\n",
        "    except Exception as e:\n",
        "        messages.append(f\"An error occurred while getting business glossary '{glossary_id}': {e}\")\n",
        "        return {\n",
        "            \"status\": \"failed\",\n",
        "            \"tool_name\": \"get_business_glossary\",\n",
        "            \"query\": None,\n",
        "            \"messages\": messages,\n",
        "            \"results\": None\n",
        "        }"
      ]
    },
    {
      "cell_type": "markdown",
      "metadata": {
        "id": "hHqZ3ZcawzGH"
      },
      "source": [
        "#### get_business_glossary_categories"
      ]
    },
    {
      "cell_type": "code",
      "execution_count": null,
      "metadata": {
        "id": "v-X9UKPKrUE6"
      },
      "outputs": [],
      "source": [
        "def get_business_glossary_categories(glossary_id: str) -> dict:\n",
        "    \"\"\"\n",
        "    Lists all categories within a specified Dataplex business glossary.\n",
        "\n",
        "    Args:\n",
        "        glossary_id (str): The ID of the parent business glossary.\n",
        "\n",
        "    Returns:\n",
        "        dict: A dictionary containing the status and the list of categories.\n",
        "        {\n",
        "            \"status\": \"success\" or \"failed\",\n",
        "            \"tool_name\": \"get_business_glossary_categories\",\n",
        "            \"query\": None,\n",
        "            \"messages\": [\"List of messages during processing\"],\n",
        "            \"results\": {\n",
        "                \"categories\": [ ... list of category objects ... ]\n",
        "            }\n",
        "        }\n",
        "    \"\"\"\n",
        "    messages = []\n",
        "    url = f\"https://dataplex.googleapis.com/v1/projects/{project_id}/locations/{business_glossary_region}/glossaries/{glossary_id}/categories\"\n",
        "\n",
        "    try:\n",
        "        json_result = rest_api_helper(url, \"GET\", None)\n",
        "        messages.append(f\"Successfully retrieved list of categories for glossary '{glossary_id}' from the API.\")\n",
        "\n",
        "        categories = json_result.get(\"categories\", [])\n",
        "        messages.append(f\"Found {len(categories)} categories in glossary '{glossary_id}'.\")\n",
        "\n",
        "        return {\n",
        "            \"status\": \"success\",\n",
        "            \"tool_name\": \"get_business_glossary_categories\",\n",
        "            \"query\": None,\n",
        "            \"messages\": messages,\n",
        "            \"results\": {\"categories\": categories}\n",
        "        }\n",
        "    except Exception as e:\n",
        "        messages.append(f\"An error occurred while listing categories for glossary '{glossary_id}': {e}\")\n",
        "        return {\n",
        "            \"status\": \"failed\",\n",
        "            \"tool_name\": \"get_business_glossary_categories\",\n",
        "            \"query\": None,\n",
        "            \"messages\": messages,\n",
        "            \"results\": None\n",
        "        }\n",
        "\n"
      ]
    },
    {
      "cell_type": "markdown",
      "metadata": {
        "id": "n4GhUYWzw1vo"
      },
      "source": [
        "#### get_business_glossary_category"
      ]
    },
    {
      "cell_type": "code",
      "execution_count": null,
      "metadata": {
        "id": "G8y--AOyrT9c"
      },
      "outputs": [],
      "source": [
        "def get_business_glossary_category(glossary_id: str, category_id: str) -> dict:\n",
        "    \"\"\"\n",
        "    Gets a single Dataplex business glossary category within a specified glossary.\n",
        "\n",
        "    Args:\n",
        "        glossary_id (str): The ID of the parent business glossary.\n",
        "        category_id (str): The ID of the category to retrieve.\n",
        "\n",
        "    Returns:\n",
        "        dict: A dictionary containing the status and the details of the category.\n",
        "        {\n",
        "            \"status\": \"success\" or \"failed\",\n",
        "            \"tool_name\": \"get_business_glossary_category\",\n",
        "            \"query\": None,\n",
        "            \"messages\": [\"List of messages during processing\"],\n",
        "            \"results\": { ... category object details ... }\n",
        "        }\n",
        "    \"\"\"\n",
        "    messages = []\n",
        "    url = f\"https://dataplex.googleapis.com/v1/projects/{project_id}/locations/{business_glossary_region}/glossaries/{glossary_id}/categories/{category_id}\"\n",
        "\n",
        "    try:\n",
        "        json_result = rest_api_helper(url, \"GET\", None)\n",
        "        messages.append(f\"Successfully retrieved details for category '{category_id}' in glossary '{glossary_id}' from the API.\")\n",
        "\n",
        "        return {\n",
        "            \"status\": \"success\",\n",
        "            \"tool_name\": \"get_business_glossary_category\",\n",
        "            \"query\": None,\n",
        "            \"messages\": messages,\n",
        "            \"results\": json_result\n",
        "        }\n",
        "    except Exception as e:\n",
        "        error_message = str(e)\n",
        "        # Check if the error is specifically a \"not found\" scenario (e.g., HTTP 404)\n",
        "        if \"404\" in error_message and \"not found\" in error_message.lower():\n",
        "            messages.append(f\"Category '{category_id}' not found in glossary '{glossary_id}'.\")\n",
        "            return {\n",
        "                \"status\": \"failed\", # Status is failed because it wasn't found\n",
        "                \"tool_name\": \"get_business_glossary_category\",\n",
        "                \"query\": None,\n",
        "                \"messages\": messages,\n",
        "                \"results\": None # Results are None when not found\n",
        "            }\n",
        "        else:\n",
        "            messages.append(f\"An error occurred while getting category '{category_id}' in glossary '{glossary_id}': {e}\")\n",
        "            return {\n",
        "                \"status\": \"failed\",\n",
        "                \"tool_name\": \"get_business_glossary_category\",\n",
        "                \"query\": None,\n",
        "                \"messages\": messages,\n",
        "                \"results\": None\n",
        "            }\n"
      ]
    },
    {
      "cell_type": "markdown",
      "metadata": {
        "id": "qIkWWmmjw4RO"
      },
      "source": [
        "#### create_business_glossary_category"
      ]
    },
    {
      "cell_type": "code",
      "execution_count": null,
      "metadata": {
        "id": "9OPlz7obpK4M"
      },
      "outputs": [],
      "source": [
        "def create_business_glossary_category(glossary_id: str, category_id: str, display_name: str, description: str = \"\") -> dict:\n",
        "    \"\"\"\n",
        "    Creates a new Dataplex business glossary category if it does not already exist.\n",
        "\n",
        "    Args:\n",
        "        glossary_id (str): The ID of the parent business glossary.\n",
        "        category_id (str): The short name/ID for the new category.\n",
        "        display_name (str): The user-friendly display name for the category.\n",
        "        description (str, optional): A brief description for the category. Defaults to \"\".\n",
        "\n",
        "    Returns:\n",
        "        dict: A dictionary containing the status and results of the operation.\n",
        "        {\n",
        "            \"status\": \"success\" or \"failed\",\n",
        "            \"tool_name\": \"create_business_glossary_category\",\n",
        "            \"query\": None,\n",
        "            \"messages\": [\"List of messages during processing\"],\n",
        "            \"results\": { ... response from the API call or creation status ... }\n",
        "        }\n",
        "    \"\"\"\n",
        "    messages = []\n",
        "\n",
        "    # First, check if the category already exists.\n",
        "    existence_check = get_business_glossary_category(glossary_id, category_id)\n",
        "    messages.extend(existence_check.get(\"messages\", [])) # Append messages from the sub-tool call\n",
        "\n",
        "    if existence_check[\"status\"] == \"success\" and existence_check[\"results\"]:\n",
        "        # Category found, so it already exists.\n",
        "        full_category_name = existence_check[\"results\"].get(\"name\")\n",
        "        messages.append(f\"Business glossary category '{category_id}' already exists in glossary '{glossary_id}'.\")\n",
        "        return {\n",
        "            \"status\": \"success\",\n",
        "            \"tool_name\": \"create_business_glossary_category\",\n",
        "            \"query\": None,\n",
        "            \"messages\": messages,\n",
        "            \"results\": {\"name\": full_category_name, \"created\": False}\n",
        "        }\n",
        "    elif existence_check[\"status\"] == \"failed\" and \"not found\" in str(existence_check[\"messages\"]).lower():\n",
        "        # This is the expected scenario when the category does not exist.\n",
        "        messages.append(f\"Pre-check confirmed category '{category_id}' does not exist. Proceeding with creation.\")\n",
        "    else:\n",
        "        # Any other type of failure during the existence check is an actual problem.\n",
        "        messages.append(f\"An unexpected error occurred during the existence check for category '{category_id}'.\")\n",
        "        return {\n",
        "            \"status\": \"failed\",\n",
        "            \"tool_name\": \"create_business_glossary_category\",\n",
        "            \"query\": None,\n",
        "            \"messages\": messages,\n",
        "            \"results\": None\n",
        "        }\n",
        "\n",
        "    # If we reached here, the category does not exist, and we need to create it.\n",
        "    messages.append(f\"Attempting to create business glossary category '{category_id}' in glossary '{glossary_id}'.\")\n",
        "\n",
        "    url = f\"https://dataplex.googleapis.com/v1/projects/{project_id}/locations/{business_glossary_region}/glossaries/{glossary_id}/categories?categoryId={category_id}\"\n",
        "    parent_glossary_name = f\"projects/{project_id}/locations/{business_glossary_region}/glossaries/{glossary_id}\"\n",
        "\n",
        "    request_body = {\n",
        "        \"displayName\": display_name,\n",
        "        \"description\": description,\n",
        "        \"parent\": parent_glossary_name\n",
        "    }\n",
        "\n",
        "    try:\n",
        "        json_result = rest_api_helper(url, \"POST\", request_body)\n",
        "\n",
        "        messages.append(f\"Successfully created business glossary category '{category_id}' in glossary '{glossary_id}'.\")\n",
        "\n",
        "        return {\n",
        "            \"status\": \"success\",\n",
        "            \"tool_name\": \"create_business_glossary_category\",\n",
        "            \"query\": None,\n",
        "            \"messages\": messages,\n",
        "            \"results\": json_result\n",
        "        }\n",
        "\n",
        "    except Exception as e:\n",
        "        messages.append(f\"An error occurred while creating the business glossary category '{category_id}': {e}\")\n",
        "        return {\n",
        "            \"status\": \"failed\",\n",
        "            \"tool_name\": \"create_business_glossary_category\",\n",
        "            \"query\": None,\n",
        "            \"messages\": messages,\n",
        "            \"results\": None\n",
        "        }"
      ]
    },
    {
      "cell_type": "markdown",
      "metadata": {
        "id": "Bc2SksQGw7L6"
      },
      "source": [
        "#### get_business_glossary_term"
      ]
    },
    {
      "cell_type": "code",
      "execution_count": null,
      "metadata": {
        "id": "oNbPt7YIxAlO"
      },
      "outputs": [],
      "source": [
        "def get_business_glossary_term(glossary_id: str, term_id: str) -> dict:\n",
        "    \"\"\"\n",
        "    Gets a single Dataplex business glossary term.\n",
        "\n",
        "    Args:\n",
        "        glossary_id (str): The ID of the parent business glossary.\n",
        "        term_id (str): The ID of the term to retrieve.\n",
        "\n",
        "    Returns:\n",
        "        dict: A dictionary containing the status and the details of the term.\n",
        "        {\n",
        "            \"status\": \"success\" or \"failed\",\n",
        "            \"tool_name\": \"get_business_glossary_term\",\n",
        "            \"query\": None,\n",
        "            \"messages\": [\"List of messages during processing\"],\n",
        "            \"results\": { ... term object details ... }\n",
        "        }\n",
        "    \"\"\"\n",
        "    messages = []\n",
        "    url = f\"https://dataplex.googleapis.com/v1/projects/{project_id}/locations/{business_glossary_region}/glossaries/{glossary_id}/terms/{term_id}\"\n",
        "\n",
        "    try:\n",
        "        json_result = rest_api_helper(url, \"GET\", None)\n",
        "        messages.append(f\"Successfully retrieved details for term '{term_id}' in glossary '{glossary_id}' from the API.\")\n",
        "        return {\n",
        "            \"status\": \"success\",\n",
        "            \"tool_name\": \"get_business_glossary_term\",\n",
        "            \"query\": None,\n",
        "            \"messages\": messages,\n",
        "            \"results\": json_result\n",
        "        }\n",
        "    except Exception as e:\n",
        "        error_message = str(e)\n",
        "        if \"404\" in error_message and \"not found\" in error_message.lower():\n",
        "            messages.append(f\"Term '{term_id}' not found in glossary '{glossary_id}'.\")\n",
        "            return {\n",
        "                \"status\": \"failed\",\n",
        "                \"tool_name\": \"get_business_glossary_term\",\n",
        "                \"query\": None,\n",
        "                \"messages\": messages,\n",
        "                \"results\": None\n",
        "            }\n",
        "        else:\n",
        "            messages.append(f\"An error occurred while getting term '{term_id}' in glossary '{glossary_id}': {e}\")\n",
        "            return {\n",
        "                \"status\": \"failed\",\n",
        "                \"tool_name\": \"get_business_glossary_term\",\n",
        "                \"query\": None,\n",
        "                \"messages\": messages,\n",
        "                \"results\": None\n",
        "            }\n",
        "\n"
      ]
    },
    {
      "cell_type": "markdown",
      "metadata": {
        "id": "QcGa49gww9f2"
      },
      "source": [
        "#### list_business_glossary_terms"
      ]
    },
    {
      "cell_type": "code",
      "execution_count": null,
      "metadata": {
        "id": "utwAa5KMxDO_"
      },
      "outputs": [],
      "source": [
        "def list_business_glossary_terms(glossary_id: str) -> dict:\n",
        "    \"\"\"\n",
        "    Lists all terms within a specified Dataplex business glossary.\n",
        "\n",
        "    Args:\n",
        "        glossary_id (str): The ID of the parent business glossary.\n",
        "\n",
        "    Returns:\n",
        "        dict: A dictionary containing the status and the list of terms.\n",
        "        {\n",
        "            \"status\": \"success\" or \"failed\",\n",
        "            \"tool_name\": \"list_business_glossary_terms\",\n",
        "            \"query\": None,\n",
        "            \"messages\": [\"List of messages during processing\"],\n",
        "            \"results\": {\n",
        "                \"terms\": [ ... list of term objects ... ]\n",
        "            }\n",
        "        }\n",
        "    \"\"\"\n",
        "    messages = []\n",
        "    url = f\"https://dataplex.googleapis.com/v1/projects/{project_id}/locations/{business_glossary_region}/glossaries/{glossary_id}/terms\"\n",
        "\n",
        "    try:\n",
        "        json_result = rest_api_helper(url, \"GET\", None)\n",
        "        messages.append(f\"Successfully retrieved list of terms for glossary '{glossary_id}' from the API.\")\n",
        "\n",
        "        terms = json_result.get(\"terms\", [])\n",
        "        messages.append(f\"Found {len(terms)} terms in glossary '{glossary_id}'.\")\n",
        "\n",
        "        return {\n",
        "            \"status\": \"success\",\n",
        "            \"tool_name\": \"list_business_glossary_terms\",\n",
        "            \"query\": None,\n",
        "            \"messages\": messages,\n",
        "            \"results\": {\"terms\": terms}\n",
        "        }\n",
        "    except Exception as e:\n",
        "        messages.append(f\"An error occurred while listing terms for glossary '{glossary_id}': {e}\")\n",
        "        return {\n",
        "            \"status\": \"failed\",\n",
        "            \"tool_name\": \"list_business_glossary_terms\",\n",
        "            \"query\": None,\n",
        "            \"messages\": messages,\n",
        "            \"results\": None\n",
        "        }\n"
      ]
    },
    {
      "cell_type": "markdown",
      "metadata": {
        "id": "k2WNl81oxAS7"
      },
      "source": [
        "#### create_business_glossary_term"
      ]
    },
    {
      "cell_type": "code",
      "execution_count": null,
      "metadata": {
        "id": "C8hVQkkqxGcR"
      },
      "outputs": [],
      "source": [
        "def create_business_glossary_term(\n",
        "    glossary_id: str,\n",
        "    term_id: str,\n",
        "    display_name: str,\n",
        "    description: str = \"\",\n",
        "    parent_category_id: str = None\n",
        ") -> dict:\n",
        "    \"\"\"\n",
        "    Creates a new Dataplex business glossary term if it does not already exist.\n",
        "    The term can be created directly under a glossary or under a specific category.\n",
        "\n",
        "    Args:\n",
        "        glossary_id (str): The ID of the parent business glossary.\n",
        "        term_id (str): The short name/ID for the new term.\n",
        "        display_name (str): The user-friendly display name for the term.\n",
        "        description (str, optional): A brief description for the term. Defaults to \"\".\n",
        "        parent_category_id (str, optional): The ID of the parent category if the term\n",
        "                                             should be nested. Defaults to None (term under glossary).\n",
        "\n",
        "    Returns:\n",
        "        dict: A dictionary containing the status and results of the operation.\n",
        "        {\n",
        "            \"status\": \"success\" or \"failed\",\n",
        "            \"tool_name\": \"create_business_glossary_term\",\n",
        "            \"query\": None,\n",
        "            \"messages\": [\"List of messages during processing\"],\n",
        "            \"results\": { ... response from the API call or creation status ... }\n",
        "        }\n",
        "    \"\"\"\n",
        "    messages = []\n",
        "\n",
        "    # First, check if the term already exists.\n",
        "    existence_check = get_business_glossary_term(glossary_id, term_id)\n",
        "    messages.extend(existence_check.get(\"messages\", []))\n",
        "\n",
        "    if existence_check[\"status\"] == \"success\" and existence_check[\"results\"]:\n",
        "        # Term found, so it already exists.\n",
        "        full_term_name = existence_check[\"results\"].get(\"name\")\n",
        "        messages.append(f\"Business glossary term '{term_id}' already exists in glossary '{glossary_id}'.\")\n",
        "        return {\n",
        "            \"status\": \"success\",\n",
        "            \"tool_name\": \"create_business_glossary_term\",\n",
        "            \"query\": None,\n",
        "            \"messages\": messages,\n",
        "            \"results\": {\"name\": full_term_name, \"created\": False}\n",
        "        }\n",
        "    elif existence_check[\"status\"] == \"failed\" and \"not found\" in str(existence_check[\"messages\"]).lower():\n",
        "        # This is the expected scenario when the term does not exist.\n",
        "        messages.append(f\"Pre-check confirmed term '{term_id}' does not exist. Proceeding with creation.\")\n",
        "    else:\n",
        "        # Any other type of failure during the existence check is an actual problem.\n",
        "        messages.append(f\"An unexpected error occurred during the existence check for term '{term_id}'.\")\n",
        "        return {\n",
        "            \"status\": \"failed\",\n",
        "            \"tool_name\": \"create_business_glossary_term\",\n",
        "            \"query\": None,\n",
        "            \"messages\": messages,\n",
        "            \"results\": None\n",
        "        }\n",
        "\n",
        "    # If we reached here, the term does not exist, and we need to create it.\n",
        "    messages.append(f\"Attempting to create business glossary term '{term_id}' in glossary '{glossary_id}'.\")\n",
        "\n",
        "    url = f\"https://dataplex.googleapis.com/v1/projects/{project_id}/locations/{business_glossary_region}/glossaries/{glossary_id}/terms?termId={term_id}\"\n",
        "\n",
        "    # Construct the parent resource name based on whether a category is provided\n",
        "    if parent_category_id:\n",
        "        parent_resource = f\"projects/{project_id}/locations/{business_glossary_region}/glossaries/{glossary_id}/categories/{parent_category_id}\"\n",
        "        messages.append(f\"Term will be nested under category: '{parent_category_id}'.\")\n",
        "    else:\n",
        "        parent_resource = f\"projects/{project_id}/locations/{business_glossary_region}/glossaries/{glossary_id}\"\n",
        "        messages.append(\"Term will be created directly under the glossary.\")\n",
        "\n",
        "\n",
        "    request_body = {\n",
        "        \"displayName\": display_name,\n",
        "        \"description\": description,\n",
        "        \"parent\": parent_resource\n",
        "    }\n",
        "\n",
        "    try:\n",
        "        json_result = rest_api_helper(url, \"POST\", request_body)\n",
        "\n",
        "        messages.append(f\"Successfully created business glossary term '{term_id}'.\")\n",
        "\n",
        "        return {\n",
        "            \"status\": \"success\",\n",
        "            \"tool_name\": \"create_business_glossary_term\",\n",
        "            \"query\": None,\n",
        "            \"messages\": messages,\n",
        "            \"results\": json_result\n",
        "        }\n",
        "\n",
        "    except Exception as e:\n",
        "        messages.append(f\"An error occurred while creating the business glossary term '{term_id}': {e}\")\n",
        "        return {\n",
        "            \"status\": \"failed\",\n",
        "            \"tool_name\": \"create_business_glossary_term\",\n",
        "            \"query\": None,\n",
        "            \"messages\": messages,\n",
        "            \"results\": None\n",
        "        }"
      ]
    },
    {
      "cell_type": "markdown",
      "metadata": {
        "id": "Ar3ALtYjxGfI"
      },
      "source": [
        "#### update_business_glossary_term"
      ]
    },
    {
      "cell_type": "code",
      "execution_count": null,
      "metadata": {
        "id": "VcgCsJsIw8rl"
      },
      "outputs": [],
      "source": [
        "def update_business_glossary_term(\n",
        "    glossary_id: str,\n",
        "    term_id: str,\n",
        "    display_name: str = None,\n",
        "    description: str = None\n",
        ") -> dict:\n",
        "    \"\"\"\n",
        "    Updates an existing Dataplex business glossary term.\n",
        "    Only provided fields (displayName, description) will be updated.\n",
        "\n",
        "    Args:\n",
        "        glossary_id (str): The ID of the parent business glossary.\n",
        "        term_id (str): The ID of the term to update.\n",
        "        display_name (str, optional): The new user-friendly display name for the term.\n",
        "        description (str, optional): The new brief description for the term.\n",
        "\n",
        "    Returns:\n",
        "        dict: A dictionary containing the status and results of the operation.\n",
        "        {\n",
        "            \"status\": \"success\" or \"failed\",\n",
        "            \"tool_name\": \"update_business_glossary_term\",\n",
        "            \"query\": None,\n",
        "            \"messages\": [\"List of messages during processing\"],\n",
        "            \"results\": { ... response from the API call ... }\n",
        "        }\n",
        "    \"\"\"\n",
        "    messages = []\n",
        "    url = f\"https://dataplex.googleapis.com/v1/projects/{project_id}/locations/{business_glossary_region}/glossaries/{glossary_id}/terms/{term_id}\"\n",
        "\n",
        "    update_mask_fields = []\n",
        "    request_body = {}\n",
        "\n",
        "    if display_name is not None:\n",
        "        request_body[\"displayName\"] = display_name\n",
        "        update_mask_fields.append(\"displayName\")\n",
        "    if description is not None:\n",
        "        request_body[\"description\"] = description\n",
        "        update_mask_fields.append(\"description\")\n",
        "\n",
        "    if not update_mask_fields:\n",
        "        messages.append(\"No fields provided for update. Skipping update operation.\")\n",
        "        return {\n",
        "            \"status\": \"success\",\n",
        "            \"tool_name\": \"update_business_glossary_term\",\n",
        "            \"query\": None,\n",
        "            \"messages\": messages,\n",
        "            \"results\": {\"updated\": False, \"reason\": \"No fields to update\"}\n",
        "        }\n",
        "\n",
        "    update_mask = \",\".join(update_mask_fields)\n",
        "    url_with_mask = f\"{url}?update_mask={update_mask}\"\n",
        "\n",
        "    messages.append(f\"Attempting to update business glossary term '{term_id}' with fields: {update_mask_fields}.\")\n",
        "\n",
        "    try:\n",
        "        json_result = rest_api_helper(url_with_mask, \"PATCH\", request_body)\n",
        "        messages.append(f\"Successfully updated business glossary term '{term_id}'.\")\n",
        "        return {\n",
        "            \"status\": \"success\",\n",
        "            \"tool_name\": \"update_business_glossary_term\",\n",
        "            \"query\": None,\n",
        "            \"messages\": messages,\n",
        "            \"results\": json_result\n",
        "        }\n",
        "    except Exception as e:\n",
        "        messages.append(f\"An error occurred while updating the business glossary term '{term_id}': {e}\")\n",
        "        return {\n",
        "            \"status\": \"failed\",\n",
        "            \"tool_name\": \"update_business_glossary_term\",\n",
        "            \"query\": None,\n",
        "            \"messages\": messages,\n",
        "            \"results\": None\n",
        "        }"
      ]
    },
    {
      "cell_type": "markdown",
      "metadata": {},
      "source": [
        "### <font color='#4285f4'>MAIN CODE - Knowledge Engine</font>"
      ]
    },
    {
      "cell_type": "code",
      "execution_count": null,
      "metadata": {},
      "outputs": [],
      "source": [
        "knowledge_engine_scan_name = \"agentic-beans-curated-knowledge-scan-01\"\n",
        "knowledge_engine_display_name = \"Agents Beans Curated Knowledge Scan\"\n",
        "bigquery_dataset_name = \"agentic_beans_curated\""
      ]
    },
    {
      "cell_type": "code",
      "execution_count": null,
      "metadata": {},
      "outputs": [],
      "source": [
        "create_knowledge_engine_scan_response = create_knowledge_engine_scan(\n",
        "    knowledge_engine_scan_name,\n",
        "    knowledge_engine_display_name,\n",
        "    bigquery_dataset_name)"
      ]
    },
    {
      "cell_type": "code",
      "execution_count": null,
      "metadata": {},
      "outputs": [],
      "source": [
        "create_knowledge_engine_scan_response"
      ]
    },
    {
      "cell_type": "code",
      "execution_count": null,
      "metadata": {},
      "outputs": [],
      "source": [
        "start_knowledge_engine_scan_response = start_knowledge_engine_scan(knowledge_engine_scan_name)"
      ]
    },
    {
      "cell_type": "code",
      "execution_count": null,
      "metadata": {},
      "outputs": [],
      "source": [
        "# You can loop or retest if the scan is complete\n",
        "start_knowledge_engine_scan_response"
      ]
    },
    {
      "cell_type": "code",
      "execution_count": null,
      "metadata": {},
      "outputs": [],
      "source": [
        "scan_job_response = get_knowledge_engine_scan_state(start_knowledge_engine_scan_response[\"results\"][\"job\"][\"name\"])"
      ]
    },
    {
      "cell_type": "code",
      "execution_count": null,
      "metadata": {},
      "outputs": [],
      "source": [
        "scan_job_response"
      ]
    },
    {
      "cell_type": "code",
      "execution_count": null,
      "metadata": {},
      "outputs": [],
      "source": [
        "# Wait for it to complete\n",
        "while scan_job_response[\"results\"][\"state\"] == \"PENDING\" or \\\n",
        "      scan_job_response[\"results\"][\"state\"] == \"STATE_UNSPECIFIED\" or \\\n",
        "      scan_job_response[\"results\"][\"state\"] == \"RUNNING\" or \\\n",
        "      scan_job_response[\"results\"][\"state\"] == \"CANCELING\":\n",
        "      # Get the latest state\n",
        "      time.sleep(5)      \n",
        "      scan_job_response = get_knowledge_engine_scan_state(start_knowledge_engine_scan_response[\"results\"][\"job\"][\"name\"])\n",
        "      print (\"State: \", scan_job_response[\"results\"][\"state\"])"
      ]
    },
    {
      "cell_type": "code",
      "execution_count": null,
      "metadata": {},
      "outputs": [],
      "source": [
        "# Update the BigQuery user interface to point the scan\n",
        "update_bigquery_dataset_dataplex_labels_response = update_bigquery_dataset_dataplex_labels(\n",
        "    knowledge_engine_scan_name,\n",
        "    bigquery_dataset_name)"
      ]
    },
    {
      "cell_type": "code",
      "execution_count": null,
      "metadata": {},
      "outputs": [],
      "source": [
        "update_bigquery_dataset_dataplex_labels_response"
      ]
    },
    {
      "cell_type": "markdown",
      "metadata": {
        "id": "qZ9Vrq7ZxW0v"
      },
      "source": [
        "### <font color='#4285f4'>MAIN CODE - Business Glossary (Using Knowledge Engine)</font>"
      ]
    },
    {
      "cell_type": "code",
      "execution_count": null,
      "metadata": {
        "id": "iOenlNTOmQbd"
      },
      "outputs": [],
      "source": [
        "business_glossary_region = \"global\"\n",
        "glossary_id = \"agentic-beans-glossary-01\"\n",
        "glossary_display_name = \"Agentic Beans Glossary 01\"\n",
        "glossary_description = \"Holds the terms and synonyms for the Agentic Beans coffee company\""
      ]
    },
    {
      "cell_type": "code",
      "execution_count": null,
      "metadata": {
        "id": "5B8T26zumQhH"
      },
      "outputs": [],
      "source": [
        "get_business_glossaries_response = get_business_glossaries()\n",
        "print(f\"get_business_glossaries_response: {json.dumps(get_business_glossaries_response, indent=2)}\")"
      ]
    },
    {
      "cell_type": "code",
      "execution_count": null,
      "metadata": {
        "id": "7ZoGqrEdJHr8"
      },
      "outputs": [],
      "source": [
        "exists_business_glossary_response = exists_business_glossary(glossary_id)\n",
        "print(f\"exists_business_glossary_response: {json.dumps(exists_business_glossary_response, indent=2)}\")"
      ]
    },
    {
      "cell_type": "code",
      "execution_count": null,
      "metadata": {
        "id": "3XXLmF68KUuY"
      },
      "outputs": [],
      "source": [
        "# Create the catalog\n",
        "if exists_business_glossary_response[\"results\"][\"exists\"] == False:\n",
        "  create_business_glossary_response  = create_business_glossary(glossary_id, glossary_display_name, glossary_description)\n",
        "  print(f\"exists_business_glossary_response: {json.dumps(exists_business_glossary_response, indent=2)}\")"
      ]
    },
    {
      "cell_type": "markdown",
      "metadata": {
        "id": "qXuHmGtSZyYU"
      },
      "source": [
        "- We want to create categories under our glossary\n",
        "- We also need to create our terms\n",
        "- We will load the terms from the Knowledge Engine scan (you should run that notebook before this one)\n",
        "- To create the categories we will pass the terms to Gemini"
      ]
    },
    {
      "cell_type": "code",
      "execution_count": null,
      "metadata": {
        "id": "MboxUVg9jruF"
      },
      "outputs": [],
      "source": [
        "# It can take a minute to show up\n",
        "print(f\"https://console.cloud.google.com/dataplex/dp-glossaries?project={project_id}\")"
      ]
    },
    {
      "cell_type": "code",
      "execution_count": null,
      "metadata": {
        "id": "EdAbRRhDKUlw"
      },
      "outputs": [],
      "source": [
        "exists_knowledge_engine_scan_response = exists_knowledge_engine_scan(knowledge_engine_scan_name)\n",
        "print(f\"exists_knowledge_engine_scan_response: {json.dumps(exists_knowledge_engine_scan_response, indent=2)}\")"
      ]
    },
    {
      "cell_type": "code",
      "execution_count": null,
      "metadata": {
        "id": "NUnYKtMCaSq_"
      },
      "outputs": [],
      "source": [
        "if exists_knowledge_engine_scan_response[\"results\"][\"exists\"] == False:\n",
        "  print(f\"ERROR: You must run the Knowledge Engine notebook first\")\n",
        "else:\n",
        "  print(f\"The Knowledge Engine scan exists\")"
      ]
    },
    {
      "cell_type": "code",
      "execution_count": null,
      "metadata": {
        "id": "IR-DLKm8aSoZ"
      },
      "outputs": [],
      "source": [
        "get_knowledge_engine_scan_response = get_knowledge_engine_scan(knowledge_engine_scan_name)"
      ]
    },
    {
      "cell_type": "code",
      "execution_count": null,
      "metadata": {
        "id": "4pfUPAZ_KUbK"
      },
      "outputs": [],
      "source": [
        "# This is a large output, you can clear the cell after viewing\n",
        "# We have Terms under results.knowledgeEngineResult.datasetResult.businessGlossary.terms[]\n",
        "print(f\"get_knowledge_engine_scan_response: {json.dumps(get_knowledge_engine_scan_response, indent=2)}\")"
      ]
    },
    {
      "cell_type": "code",
      "execution_count": null,
      "metadata": {
        "id": "vVkhXY_9dH7u"
      },
      "outputs": [],
      "source": [
        "response_schema = {\n",
        "    \"type\": \"array\",\n",
        "    \"items\": {\n",
        "        \"type\": \"object\",\n",
        "        \"properties\": {\n",
        "            \"category_id\": {\"type\": \"string\", \"description\": \"Unique, kebab-case identifier for the category.\"},\n",
        "            \"display_name\": {\"type\": \"string\", \"description\": \"User-friendly name for the category (alphanumeric, underscores, hyphens, spaces only, no leading/trailing spaces, no commas or ampersands).\"},\n",
        "            \"description\": {\"type\": \"string\", \"description\": \"Brief description of the category.\"},\n",
        "            \"terms\": {\"type\": \"array\", \"description\": \"The terms that belong to this category.\", \"items\": {\"type\": \"string\"} }\n",
        "        },\n",
        "        \"required\": [\"category_id\", \"display_name\", \"description\", \"terms\"]\n",
        "    }\n",
        "}\n",
        "\n",
        "\n",
        "terms_list = []\n",
        "for item in get_knowledge_engine_scan_response[\"results\"][\"knowledgeEngineResult\"][\"datasetResult\"][\"businessGlossary\"][\"terms\"]:\n",
        "  item = {\n",
        "      \"title\": item[\"title\"],\n",
        "      \"description\": item[\"description\"]\n",
        "  }\n",
        "  terms_list.append(item)\n",
        "\n",
        "terms_str = json.dumps(terms_list)"
      ]
    },
    {
      "cell_type": "code",
      "execution_count": null,
      "metadata": {
        "id": "cVIrzxzhG1SR"
      },
      "outputs": [],
      "source": [
        "prompt = f\"\"\"You are an expert in data governance and business glossary creation.\n",
        "Based on the following list of business terms and their descriptions, propose 2 to 10 distinct business glossary categories.\n",
        "Then place each term into their perspective category.\n",
        "Each term should be in one and only one category.\n",
        "You must place every term in a category.\n",
        "You are being given {len(terms_list)} terms.\n",
        "The terms array accross the categories should have the same number of terms.\n",
        "\n",
        "Each category should have:\n",
        "1.  A 'category_id' (string): A unique, kebab-case identifier (e.g., \"sales-operations\", \"customer-data\").\n",
        "2.  A 'display_name' (string): A user-friendly name, which must ONLY contain alphabets, numbers, underscores, hyphens, and/or spaces. The first and last character cannot be a space. Do not use commas or ampersands.\n",
        "3.  A 'description' (string): A brief explanation of what terms would belong to this category.\n",
        "4.  A 'terms' (array): A list of term title's that apply for the category id.\n",
        "\n",
        "Ensure the 'display_name' strictly adheres to the specified format.\n",
        "\n",
        "Here are the terms:\n",
        "{terms_str}\n",
        "\"\"\"\n",
        "\n",
        "gemini_response = GeminiLLM(prompt, model = \"gemini-2.5-pro\", response_schema=response_schema)"
      ]
    },
    {
      "cell_type": "code",
      "execution_count": null,
      "metadata": {
        "id": "a9dDEv2yJIss"
      },
      "outputs": [],
      "source": [
        "gemini_response_dict = json.loads(gemini_response)\n",
        "terms_count = 0\n",
        "\n",
        "for item in gemini_response_dict:\n",
        "  category_id = item[\"category_id\"]\n",
        "  display_name = item[\"display_name\"]\n",
        "  description = item[\"description\"]\n",
        "  terms = item[\"terms\"]\n",
        "  print(f\"category_id: {category_id}\")\n",
        "  print(f\"display_name: {display_name}\")\n",
        "  print(f\"description: {description}\")\n",
        "  print(f\"terms: {terms}\")\n",
        "  print(f\"len(terms): {len(terms)}\")\n",
        "  terms_count += len(terms)\n",
        "\n",
        "# NOTE: Not all terms might get returned by Gemini\n",
        "print(f\"terms list size: {len(terms_list)}, term count from gemini {terms_count}\")"
      ]
    },
    {
      "cell_type": "code",
      "execution_count": null,
      "metadata": {
        "id": "znwxX9KJJIpi"
      },
      "outputs": [],
      "source": [
        "# Create the categories\n",
        "for item in gemini_response_dict:\n",
        "  category_id = item[\"category_id\"]\n",
        "  display_name = item[\"display_name\"]\n",
        "  description = item[\"description\"]\n",
        "\n",
        "  # This will check for existance before creating\n",
        "  print(f\"Creating category_id ({category_id})\")\n",
        "  create_business_glossary_category_response = create_business_glossary_category(glossary_id,category_id,display_name,description)\n",
        "  print(f\"create_business_glossary_category_response ({create_business_glossary_category_response})\")\n",
        "  print()"
      ]
    },
    {
      "cell_type": "code",
      "execution_count": null,
      "metadata": {
        "id": "7Y1NoOcalHlf"
      },
      "outputs": [],
      "source": [
        "def get_term_description(get_knowledge_engine_scan_response, term_title_to_find):\n",
        "    \"\"\"\n",
        "    Retrieves the description of a term from the knowledge engine response\n",
        "    based on its title.\n",
        "\n",
        "    Args:\n",
        "        get_knowledge_engine_scan_response (dict): The full response dictionary from the knowledge engine scan.\n",
        "        term_title_to_find (str): The title of the term whose description is needed.\n",
        "\n",
        "    Returns:\n",
        "        str or None: The description of the term if found, otherwise None.\n",
        "    \"\"\"\n",
        "    try:\n",
        "        terms_array = get_knowledge_engine_scan_response[\"results\"][\"knowledgeEngineResult\"][\"datasetResult\"][\"businessGlossary\"][\"terms\"]\n",
        "\n",
        "        # Iterate through the list of term dictionaries\n",
        "        for term in terms_array:\n",
        "            if term.get(\"title\") == term_title_to_find:\n",
        "                return term.get(\"description\")\n",
        "\n",
        "        # If the loop finishes, the term was not found\n",
        "        return None\n",
        "\n",
        "    except KeyError as e:\n",
        "        print(f\"Error: Missing key in response data: {e}\")\n",
        "        return None\n",
        "    except TypeError:\n",
        "        print(\"Error: Invalid response data structure. 'terms' might not be an array or other keys are missing.\")\n",
        "        return None\n"
      ]
    },
    {
      "cell_type": "code",
      "execution_count": null,
      "metadata": {
        "id": "D-4TAPPMduti"
      },
      "outputs": [],
      "source": [
        "# Create the terms under their categories\n",
        "\n",
        "for item in gemini_response_dict:\n",
        "  category_id = item[\"category_id\"]\n",
        "  for term in item[\"terms\"]:\n",
        "    term_id = term.replace(\" \",\"-\").lower()\n",
        "    term_title = term\n",
        "    term_description = get_term_description(get_knowledge_engine_scan_response,term_title)\n",
        "    print(f\"category_id ({category_id}) | term_id ({term_id}) | term ({term_title}) | description ({term_description})\")\n",
        "\n",
        "    create_business_glossary_term_response = create_business_glossary_term(glossary_id, term_id, term_title, term_description, category_id)\n",
        "    print(f\"create_business_glossary_term_response ({create_business_glossary_term_response})\")\n",
        "    print()\n",
        "\n",
        "    # Field term_id must contain only lowercase letters, numbers, and/or hyphens\n"
      ]
    }
  ],
  "metadata": {
    "colab": {
      "collapsed_sections": [
        "4eL2q138uw8S",
        "b_hBijiyuw8V",
        "HMsUvoF4BP7Y",
        "m65vp54BUFRi",
        "UmyL-Rg4Dr_f",
        "sZ6m_wGrK0YG",
        "9W8avEv6uw8X",
        "vOFTk6sj1YIV",
        "bI-KJELZ1jgt",
        "mWpDCqGFwO13",
        "sJwG-5RQsdvs",
        "JNb68wapsfJP",
        "fREgw4HKsjoz",
        "vhY-wH39s-5K",
        "ljtMmup8s9Ow",
        "CN2CAviqwoKR",
        "1tFtBn9UJC6m",
        "IFuKVDjvwtFN",
        "u0s4Rut8wwTF",
        "hHqZ3ZcawzGH",
        "n4GhUYWzw1vo",
        "qIkWWmmjw4RO",
        "Bc2SksQGw7L6",
        "QcGa49gww9f2",
        "k2WNl81oxAS7",
        "Ar3ALtYjxGfI",
        "42IxhtRRrvR-",
        "ASQ2BPisXDA0"
      ],
      "name": "Agentic-Beans-Demo-Knowledge-Engine",
      "private_outputs": true,
      "provenance": []
    },
    "kernelspec": {
      "display_name": "Python 3",
      "name": "python3"
    },
    "language_info": {
      "name": "python"
    }
  },
  "nbformat": 4,
  "nbformat_minor": 0
}
