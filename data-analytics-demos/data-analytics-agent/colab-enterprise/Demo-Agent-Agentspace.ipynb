{
  "cells": [
    {
      "cell_type": "markdown",
      "metadata": {
        "id": "MdOTCL_ocGD6"
      },
      "source": [
        "### <font color='#4285f4'>Overview</font>"
      ]
    },
    {
      "cell_type": "markdown",
      "metadata": {
        "id": "cyxsIkDEcGD6"
      },
      "source": [
        "Overview: This notebook will deploy the custome ADK agent to agentspace.\n",
        "\n",
        "Process Flow:\n",
        "1. Download source code\n",
        "2. Deploy code to Agent Engine\n",
        "3. Create Agentspace\n",
        "4. Associate (deploy) Agent Engine agent to Agentspace \n",
        "\n",
        "Cost:\n",
        "* Approximate cost: $1 (you can use the free agentspace for 30 days)\n",
        "\n",
        "Author:\n",
        "* Adam Paternostro"
      ]
    },
    {
      "cell_type": "code",
      "execution_count": null,
      "metadata": {},
      "outputs": [],
      "source": [
        "# Architecture Diagram\n",
        "from IPython.display import Image\n",
        "Image(url='https://storage.googleapis.com/data-analytics-golden-demo/colab-diagrams/deploy-adk-to-agentspace.png', width=1200)"
      ]
    },
    {
      "cell_type": "markdown",
      "metadata": {
        "id": "6hYLgITlcGD7"
      },
      "source": [
        "### <font color='#4285f4'>Video Walkthrough</font>"
      ]
    },
    {
      "cell_type": "markdown",
      "metadata": {
        "id": "BBvmGsiqcGD7"
      },
      "source": [
        "[Video](https://storage.googleapis.com/data-analytics-golden-demo/colab-videos/Demo-Agent-Agentspace.mp4)\n"
      ]
    },
    {
      "cell_type": "code",
      "execution_count": null,
      "metadata": {
        "id": "l7M2jyY7cGD7"
      },
      "outputs": [],
      "source": [
        "from IPython.display import HTML\n",
        "\n",
        "HTML(\"\"\"\n",
        "<video width=\"800\" height=\"600\" controls>\n",
        "  <source src=\"https://storage.googleapis.com/data-analytics-golden-demo/colab-videos/Demo-Agent-Agentspace.mp4\" type=\"video/mp4\">\n",
        "  Your browser does not support the video tag.\n",
        "</video>\n",
        "\"\"\")"
      ]
    },
    {
      "cell_type": "markdown",
      "metadata": {
        "id": "HMsUvoF4BP7Y"
      },
      "source": [
        "### <font color='#4285f4'>License</font>"
      ]
    },
    {
      "cell_type": "markdown",
      "metadata": {
        "id": "jQgQkbOvj55d"
      },
      "source": [
        "```\n",
        "# Copyright 2025 Google LLC\n",
        "#\n",
        "# Licensed under the Apache License, Version 2.0 (the \"License\");\n",
        "# you may not use this file except in compliance with the License.\n",
        "# You may obtain a copy of the License at\n",
        "#\n",
        "#     https://www.apache.org/licenses/LICENSE-2.0\n",
        "#\n",
        "# Unless required by applicable law or agreed to in writing, software\n",
        "# distributed under the License is distributed on an \"AS IS\" BASIS,\n",
        "# WITHOUT WARRANTIES OR CONDITIONS OF ANY KIND, either express or implied.\n",
        "# See the License for the specific language governing permissions and\n",
        "# limitations under the License.\n",
        "```"
      ]
    },
    {
      "cell_type": "markdown",
      "metadata": {
        "id": "m65vp54BUFRi"
      },
      "source": [
        "### <font color='#4285f4'>Pip installs - VERY Important (Just run once and restart session)</font>"
      ]
    },
    {
      "cell_type": "markdown",
      "metadata": {
        "id": "l2kxLjjq__Sx"
      },
      "source": [
        "\n",
        "**PLEASE READ**\n",
        "These SDKs are changing often and must be installed for the code to work\n",
        "\n",
        "*   The first block of PIP installs are needed\n",
        "*   The second block of PIP might not be needed as Colab runtimes are upgraded\n",
        "*   The third block of PIP might not be needed as Colab runtimes are upgraded\n",
        "\n",
        "You **MUST** restart the Kernel after this (Runtime | Restart Session)\n",
        "\n",
        "It might take a few tries for this to work.  \n",
        "\n"
      ]
    },
    {
      "cell_type": "code",
      "execution_count": null,
      "metadata": {
        "id": "5MaWM6H5i6rX"
      },
      "outputs": [],
      "source": [
        "# Block 1 (needed for Agent)\n",
        "import sys\n",
        "\n",
        "!{sys.executable} -m pip install python-dotenv==1.1.1\n",
        "!{sys.executable} -m pip install json-stream==2.3.3\n",
        "!{sys.executable} -m pip install tenacity==8.5.0\n",
        "!{sys.executable} -m pip install google-adk==1.11.0"
      ]
    },
    {
      "cell_type": "code",
      "execution_count": null,
      "metadata": {
        "id": "WOntIu1x_y4g"
      },
      "outputs": [],
      "source": [
        "# Block 2 (needed to downgrade for Colab)\n",
        "import sys\n",
        "\n",
        "!{sys.executable} -m pip install requests==2.32.3 \"protobuf<6.0.0\""
      ]
    },
    {
      "cell_type": "code",
      "execution_count": null,
      "metadata": {
        "id": "dHCKHHjw_3AT"
      },
      "outputs": [],
      "source": [
        "# Block 3 (needed to deploy agent using Vertex AI Agent Engine import)\n",
        "import sys\n",
        "\n",
        "#!{sys.executable} -m pip uninstall -y vertexai google-cloud-aiplatform\n",
        "#!{sys.executable} -m pip install --upgrade --user vertexai google-cloud-aiplatform[agent_engines,adk]\n",
        "\n",
        "!{sys.executable} -m pip install --upgrade vertexai\n",
        "!{sys.executable} -m pip install --upgrade google-cloud-aiplatform[agent_engines,adk]"
      ]
    },
    {
      "cell_type": "markdown",
      "metadata": {
        "id": "UmyL-Rg4Dr_f"
      },
      "source": [
        "### <font color='#4285f4'>Initialize</font>"
      ]
    },
    {
      "cell_type": "code",
      "execution_count": null,
      "metadata": {
        "id": "xOYsEVSXp6IP"
      },
      "outputs": [],
      "source": [
        "from PIL import Image\n",
        "from IPython.display import HTML\n",
        "import IPython.display\n",
        "import google.auth\n",
        "import requests\n",
        "import json\n",
        "import uuid\n",
        "import base64\n",
        "import os\n",
        "import cv2\n",
        "import random\n",
        "import time\n",
        "import datetime\n",
        "import base64\n",
        "import random\n",
        "\n",
        "import sys\n",
        "import shutil\n",
        "\n",
        "import logging\n",
        "from tenacity import retry, wait_exponential, stop_after_attempt, before_sleep_log, retry_if_exception"
      ]
    },
    {
      "cell_type": "code",
      "execution_count": null,
      "metadata": {
        "id": "wMlHl3bnkFPZ"
      },
      "outputs": [],
      "source": [
        "# Set these (run this cell to verify the output)\n",
        "\n",
        "agent_engine_region = \"us-central1\"\n",
        "project_number = \"${project_number}\"\n",
        "\n",
        "agentspace_engine_id = \"da_agentspace\"\n",
        "agentspace_display_name = \"Data Analytics Agentspace\"\n",
        "\n",
        "code_storage_account = \"${data_analytics_agent_code_bucket}\"\n",
        "agent_engine_name = \"Data Analytics Agent\"\n",
        "\n",
        "\n",
        "# Get the current date and time\n",
        "now = datetime.datetime.now()\n",
        "\n",
        "# Format the date and time as desired\n",
        "formatted_date = now.strftime(\"%Y-%m-%d-%H-%M\")\n",
        "\n",
        "# Get some values using gcloud\n",
        "project_id = os.environ[\"GOOGLE_CLOUD_PROJECT\"]\n",
        "user = !(gcloud auth list --filter=status:ACTIVE --format=\"value(account)\")\n",
        "\n",
        "if len(user) != 1:\n",
        "  raise RuntimeError(f\"user is not set: {user}\")\n",
        "user = user[0]\n",
        "\n",
        "print(f\"project_id = {project_id}\")\n",
        "print(f\"user = {user}\")"
      ]
    },
    {
      "cell_type": "markdown",
      "metadata": {
        "id": "sZ6m_wGrK0YG"
      },
      "source": [
        "### <font color='#4285f4'>Helper Methods</font>"
      ]
    },
    {
      "cell_type": "markdown",
      "metadata": {
        "id": "JbOjdSP1kN9T"
      },
      "source": [
        "#### rest_api_helper\n",
        "Calls the Google Cloud REST API using the current users credentials."
      ]
    },
    {
      "cell_type": "code",
      "execution_count": null,
      "metadata": {
        "id": "40wlwnY4kM11"
      },
      "outputs": [],
      "source": [
        "def rest_api_helper(url: str, http_verb: str, request_body: str) -> str:\n",
        "  \"\"\"Calls the Google Cloud REST API passing in the current users credentials\"\"\"\n",
        "\n",
        "  import google.auth.transport.requests\n",
        "  import requests\n",
        "  import google.auth\n",
        "  import json\n",
        "\n",
        "  # Get an access token based upon the current user\n",
        "  creds, project = google.auth.default()\n",
        "  auth_req = google.auth.transport.requests.Request()\n",
        "  creds.refresh(auth_req)\n",
        "  access_token=creds.token\n",
        "\n",
        "  headers = {\n",
        "    \"Content-Type\" : \"application/json\",\n",
        "    \"Authorization\" : \"Bearer \" + access_token\n",
        "  }\n",
        "\n",
        "  if http_verb == \"GET\":\n",
        "    response = requests.get(url, headers=headers)\n",
        "  elif http_verb == \"POST\":\n",
        "    response = requests.post(url, json=request_body, headers=headers)\n",
        "  elif http_verb == \"PUT\":\n",
        "    response = requests.put(url, json=request_body, headers=headers)\n",
        "  elif http_verb == \"PATCH\":\n",
        "    response = requests.patch(url, json=request_body, headers=headers)\n",
        "  elif http_verb == \"DELETE\":\n",
        "    response = requests.delete(url, headers=headers)\n",
        "  else:\n",
        "    raise RuntimeError(f\"Unknown HTTP verb: {http_verb}\")\n",
        "\n",
        "  if response.status_code == 200:\n",
        "    return json.loads(response.content)\n",
        "    #image_data = json.loads(response.content)[\"predictions\"][0][\"bytesBase64Encoded\"]\n",
        "  else:\n",
        "    error = f\"Error rest_api_helper -> ' Status: '{response.status_code}' Text: '{response.text}'\"\n",
        "    raise RuntimeError(error)"
      ]
    },
    {
      "cell_type": "markdown",
      "metadata": {
        "id": "Hc0m0n35c_Vq"
      },
      "source": [
        "### <font color='#4285f4'>Agent Engine - Helper Methods</font>"
      ]
    },
    {
      "cell_type": "markdown",
      "metadata": {
        "id": "Z0FXButahBTc"
      },
      "source": [
        "#### get_agent_engines"
      ]
    },
    {
      "cell_type": "code",
      "execution_count": null,
      "metadata": {
        "id": "TGf3WLOte6Qa"
      },
      "outputs": [],
      "source": [
        "def get_agent_engines() -> dict:\n",
        "    \"\"\"\n",
        "    Lists all the agent engines (Agent Engines).\n",
        "\n",
        "    Returns:\n",
        "        dict: A dictionary containing the status and the list of agent engines.\n",
        "        {\n",
        "            \"status\": \"success\" or \"failed\",\n",
        "            \"tool_name\": \"get_agent_engines\",\n",
        "            \"query\": None,\n",
        "            \"messages\": [\"List of messages during processing\"],\n",
        "            \"results\": {\n",
        "                \"reasoningEngines\": [ ... list of reasoning engine objects ... ]\n",
        "            }\n",
        "        }\n",
        "    \"\"\"\n",
        "    messages = []\n",
        "\n",
        "    # The URL to list all agent engines in the specified project and region.\n",
        "    # See the documentation for more details:\n",
        "    # https://cloud.google.com/vertex-ai/docs/generative-ai/reasoning-engine/list-reasoning-engines\n",
        "    url = f\"https://aiplatform.googleapis.com/v1beta1/projects/{project_id}/locations/{agent_engine_region}/reasoningEngines\"\n",
        "\n",
        "    try:\n",
        "        json_result = rest_api_helper(url, \"GET\", None)\n",
        "\n",
        "        messages.append(\"Successfully retrieved list of all agent engines from the API.\")\n",
        "\n",
        "        # The API directly returns the list of engines.\n",
        "        num_engines = len(json_result.get(\"reasoningEngines\", []))\n",
        "        messages.append(f\"Found {num_engines} agent engines.\")\n",
        "\n",
        "        return {\n",
        "            \"status\": \"success\",\n",
        "            \"tool_name\": \"get_agent_engines\",\n",
        "            \"query\": None,\n",
        "            \"messages\": messages,\n",
        "            \"results\": json_result\n",
        "        }\n",
        "    except Exception as e:\n",
        "        messages.append(f\"An error occurred while listing agent engines: {e}\")\n",
        "        return {\n",
        "            \"status\": \"failed\",\n",
        "            \"tool_name\": \"get_agent_engines\",\n",
        "            \"query\": None,\n",
        "            \"messages\": messages,\n",
        "            \"results\": None\n",
        "        }\n"
      ]
    },
    {
      "cell_type": "markdown",
      "metadata": {
        "id": "fK2JGFz4hGBj"
      },
      "source": [
        "#### get_agent_engine"
      ]
    },
    {
      "cell_type": "code",
      "execution_count": null,
      "metadata": {
        "id": "3i2LGXqhhGyJ"
      },
      "outputs": [],
      "source": [
        "def get_agent_engine(agent_engine_id: str) -> dict:\n",
        "    \"\"\"\n",
        "    Gets a single agent engine (Reasoning Engine) in the configured project and region.\n",
        "\n",
        "    This function constructs the full resource name from the provided agent_engine_id.\n",
        "    It returns the full details for the specified engine.\n",
        "\n",
        "    Args:\n",
        "        agent_engine_id (str): The name (ID) of the agent engine.\n",
        "agent_engine_ide.g., \"7872226177945960448\"\n",
        "\n",
        "    Returns:\n",
        "        dict: A dictionary containing the status and the details of the agent engine.\n",
        "    \"\"\"\n",
        "    messages = []\n",
        "\n",
        "    # The URL to get a specific agent engine in the project and region.\n",
        "    # Note that agent_engine_name is the final ID in the resource path.\n",
        "    # See: https://cloud.google.com/vertex-ai/docs/reference/rest/v1beta1/projects.locations.reasoningEngines/get\n",
        "    url = f\"https://aiplatform.googleapis.com/v1beta1/projects/{project_id}/locations/{agent_engine_region}/reasoningEngines/{agent_engine_id}\"\n",
        "\n",
        "    try:\n",
        "        # Call the REST API to get the details of the specified agent engine\n",
        "        json_result = rest_api_helper(url, \"GET\", None)\n",
        "        messages.append(\"Successfully retrieved the agent engine from the API.\")\n",
        "\n",
        "        return {\n",
        "            \"status\": \"success\",\n",
        "            \"tool_name\": \"get_agent_engine\",\n",
        "            \"query\": agent_engine_name,\n",
        "            \"messages\": messages,\n",
        "            \"results\": json_result\n",
        "        }\n",
        "    except Exception as e:\n",
        "        messages.append(f\"An error occurred while getting agent engine '{agent_engine_name}': {e}\")\n",
        "        return {\n",
        "            \"status\": \"failed\",\n",
        "            \"tool_name\": \"get_agent_engine\",\n",
        "            \"query\": None,\n",
        "            \"messages\": messages,\n",
        "            \"results\": None\n",
        "        }"
      ]
    },
    {
      "cell_type": "markdown",
      "metadata": {
        "id": "q96nTcYnh3mj"
      },
      "source": [
        "#### exists_agent_engine"
      ]
    },
    {
      "cell_type": "code",
      "execution_count": null,
      "metadata": {
        "id": "GVVM5Oo6h35k"
      },
      "outputs": [],
      "source": [
        "def exists_agent_engine(agent_engine_name: str) -> dict:\n",
        "    \"\"\"\n",
        "    Checks if an agent engine (Agent Engine) already exists by checking the full list.\n",
        "\n",
        "    This function calls 'get_agent_engines' to retrieve all engines and then checks\n",
        "    if the specified engine name is in the list.\n",
        "\n",
        "    Args:\n",
        "        agent_engine_name (str): The short name/ID of the agent engine.\n",
        "\n",
        "    Returns:\n",
        "        dict: A dictionary containing the status and results of the operation.\n",
        "        {\n",
        "            \"status\": \"success\" or \"failed\",\n",
        "            \"tool_name\": \"exists_agent_engine\",\n",
        "            \"query\": \"the-name-of-the-engine-checked\",\n",
        "            \"messages\": [\"List of messages during processing\"],\n",
        "            \"results\": {\n",
        "                \"exists\": True # or False\n",
        "            }\n",
        "        }\n",
        "    \"\"\"\n",
        "    # Call the dedicated function to list all agent engines\n",
        "    list_result = get_agent_engines()\n",
        "    messages = list_result.get(\"messages\", [])\n",
        "\n",
        "    # If listing engines failed, propagate the failure\n",
        "    if list_result[\"status\"] == \"failed\":\n",
        "        return {\n",
        "            \"status\": \"failed\",\n",
        "            \"tool_name\": \"exists_agent_engine\",\n",
        "            \"query\": agent_engine_name,\n",
        "            \"messages\": messages,\n",
        "            \"results\": None\n",
        "        }\n",
        "\n",
        "    try:\n",
        "        engine_exists = False\n",
        "        json_payload = list_result.get(\"results\", {})\n",
        "\n",
        "        # Construct the full resource name to search for\n",
        "        full_engine_name_to_find = f\"projects/{project_id}/locations/{agent_engine_region}/reasoningEngines/{agent_engine_name}\"\n",
        "\n",
        "        # Loop through the list of engines from the results\n",
        "        for item in json_payload.get(\"reasoningEngines\", []):\n",
        "            if item.get(\"name\") == full_engine_name_to_find:\n",
        "                engine_exists = True\n",
        "                messages.append(f\"Found matching agent engine: '{agent_engine_name}'.\")\n",
        "                break\n",
        "\n",
        "        if not engine_exists:\n",
        "            messages.append(f\"Agent engine '{agent_engine_name}' does not exist.\")\n",
        "\n",
        "        return {\n",
        "            \"status\": \"success\",\n",
        "            \"tool_name\": \"exists_agent_engine\",\n",
        "            \"query\": agent_engine_name,\n",
        "            \"messages\": messages,\n",
        "            \"results\": {\"exists\": engine_exists}\n",
        "        }\n",
        "    except Exception as e: # Catch potential errors while processing the list\n",
        "        messages.append(f\"An unexpected error occurred while processing the agent engine list: {e}\")\n",
        "        return {\n",
        "            \"status\": \"failed\",\n",
        "            \"tool_name\": \"exists_agent_engine\",\n",
        "            \"query\": agent_engine_name,\n",
        "            \"messages\": messages,\n",
        "            \"results\": None\n",
        "        }"
      ]
    },
    {
      "cell_type": "markdown",
      "metadata": {
        "id": "hPdXlmKUiais"
      },
      "source": [
        "#### delete_agent_engine"
      ]
    },
    {
      "cell_type": "code",
      "execution_count": null,
      "metadata": {
        "id": "TV6qnAO8ibnw"
      },
      "outputs": [],
      "source": [
        "def delete_agent_engine(agent_engine_id: str, force: bool) -> dict:\n",
        "    \"\"\"\n",
        "    Deletes a specific agent engine (Reasoning Engine).\n",
        "\n",
        "    This function constructs the full resource name and sends a DELETE request.\n",
        "    This initiates a long-running operation to delete the engine.\n",
        "\n",
        "    Args:\n",
        "        agent_engine_id (str): The unique ID of the agent engine to delete.\n",
        "                               e.g., \"7872226177945960448\"\n",
        "        force: Force the child resources to be deleted\n",
        "\n",
        "    Returns:\n",
        "        dict: A dictionary containing the status and the result of the delete operation.\n",
        "              The result on success is the long-running operation object.\n",
        "    \"\"\"\n",
        "    messages = []\n",
        "\n",
        "    # The API endpoint for deleting a specific Agent Engine.\n",
        "    # See: https://cloud.google.com/vertex-ai/docs/reference/rest/v1beta1/projects.locations.reasoningEngines/delete\n",
        "    url = f\"https://aiplatform.googleapis.com/v1beta1/projects/{project_id}/locations/{agent_engine_region}/reasoningEngines/{agent_engine_id}?force={force}\"\n",
        "\n",
        "    try:\n",
        "        # Call the REST API to initiate the deletion of the agent engine.\n",
        "        # This is a long-running operation.\n",
        "        json_result = rest_api_helper(url, \"DELETE\", None)\n",
        "        messages.append(f\"Successfully initiated deletion for agent engine '{agent_engine_id}'.\")\n",
        "\n",
        "        return {\n",
        "            \"status\": \"success\",\n",
        "            \"tool_name\": \"delete_agent_engine\",\n",
        "            \"query\": agent_engine_id,\n",
        "            \"messages\": messages,\n",
        "            \"results\": json_result  # This will be the long-running operation object\n",
        "        }\n",
        "    except Exception as e:\n",
        "        messages.append(f\"An error occurred while deleting agent engine '{agent_engine_id}': {e}\")\n",
        "        return {\n",
        "            \"status\": \"failed\",\n",
        "            \"tool_name\": \"delete_agent_engine\",\n",
        "            \"query\": agent_engine_id,\n",
        "            \"messages\": messages,\n",
        "            \"results\": None\n",
        "        }"
      ]
    },
    {
      "cell_type": "markdown",
      "metadata": {
        "id": "T1eisDJSTAQi"
      },
      "source": [
        "### <font color='#4285f4'>Agentspace - Helper Methods</font>"
      ]
    },
    {
      "cell_type": "markdown",
      "metadata": {
        "id": "yVvWXHsWTB6L"
      },
      "source": [
        "#### agentspace_create_placeholder_data_store"
      ]
    },
    {
      "cell_type": "code",
      "execution_count": null,
      "metadata": {
        "id": "ROLdZFUeTBke"
      },
      "outputs": [],
      "source": [
        "def agentspace_create_placeholder_data_store(\n",
        "    project_id: str,\n",
        "    location: str,\n",
        "    data_store_id: str,\n",
        "    data_store_display_name: str\n",
        ") -> dict:\n",
        "    \"\"\"\n",
        "    Creates a placeholder data store in Google Cloud Discovery Engine.\n",
        "\n",
        "    Args:\n",
        "        project_id (str): The ID of the Google Cloud project.\n",
        "        location (str): The location for the data store (e.g., \"global\").\n",
        "        data_store_display_name (str): The display name for the new data store.\n",
        "\n",
        "    Returns:\n",
        "        dict: A dictionary containing the status and details of the API response.\n",
        "    \"\"\"\n",
        "\n",
        "    # The API endpoint to create a data store.\n",
        "    url = f\"https://discoveryengine.googleapis.com/v1/projects/{project_id}/locations/{location}/collections/default_collection/dataStores?data_store_id={data_store_id}\"\n",
        "\n",
        "    # The request payload for a placeholder data store.\n",
        "    payload = {\n",
        "        \"displayName\": data_store_display_name,\n",
        "        \"industryVertical\": \"GENERIC\",\n",
        "        \"solutionTypes\": [\"SOLUTION_TYPE_SEARCH\"],\n",
        "        \"contentConfig\": \"NO_CONTENT\"\n",
        "    }\n",
        "\n",
        "\n",
        "    try:\n",
        "        # Assuming rest_api_helper handles the authenticated POST request.\n",
        "        json_result = rest_api_helper(url, \"POST\", request_body=payload)\n",
        "\n",
        "        return {\n",
        "            \"status\": \"success\",\n",
        "            \"tool_name\": \"create_placeholder_data_store\",\n",
        "            \"query\": payload,\n",
        "            \"results\": json_result\n",
        "        }\n",
        "    except Exception as e:\n",
        "        return {\n",
        "            \"status\": \"failed\",\n",
        "            \"tool_name\": \"create_placeholder_data_store\",\n",
        "            \"query\": payload,\n",
        "            \"messages\": [str(e)],\n",
        "            \"results\": None\n",
        "        }"
      ]
    },
    {
      "cell_type": "markdown",
      "metadata": {
        "id": "uhNCpqdMTKw8"
      },
      "source": [
        "#### agentspace_create"
      ]
    },
    {
      "cell_type": "code",
      "execution_count": null,
      "metadata": {
        "id": "w6zraiCdTLXj"
      },
      "outputs": [],
      "source": [
        "def agentspace_create(\n",
        "    project_id: str,\n",
        "    location: str,\n",
        "    agentspace_engine_id: str,\n",
        "    agentspace_display_name: str,\n",
        "    placeholder_data_store_id: str\n",
        ") -> dict:\n",
        "    \"\"\"\n",
        "    Creates an AgentSpace in Google Cloud using a placeholder data store.\n",
        "\n",
        "    Args:\n",
        "        project_id (str): The ID of the Google Cloud project.\n",
        "        location (str): The location for the AgentSpace (e.g., \"global\").\n",
        "        agentspace_display_name (str): The display name for the new AgentSpace.\n",
        "        placeholder_data_store_id (str): The ID of the placeholder data store.\n",
        "\n",
        "    Returns:\n",
        "        dict: A dictionary containing the status and details of the API response.\n",
        "    \"\"\"\n",
        "    # The API endpoint to create an engine (AgentSpace).\n",
        "    url = f\"https://discoveryengine.googleapis.com/v1/projects/{project_id}/locations/{location}/collections/default_collection/engines?engineId={agentspace_engine_id}\"\n",
        "\n",
        "    # The request payload, specifying the AgentSpace's properties.\n",
        "    payload = {\n",
        "        \"displayName\": agentspace_display_name,\n",
        "        \"solutionType\": \"SOLUTION_TYPE_SEARCH\",\n",
        "        \"dataStoreIds\": [ placeholder_data_store_id ],\n",
        "        \"searchEngineConfig\": {\n",
        "            \"searchTier\": \"SEARCH_TIER_ENTERPRISE\",\n",
        "            \"searchAddOns\": [\"SEARCH_ADD_ON_LLM\"]\n",
        "            },\n",
        "       \"industryVertical\": \"GENERIC\",\n",
        "       \"appType\": \"APP_TYPE_INTRANET\"\n",
        "    }\n",
        "\n",
        "    # 'results': {'engines': [{'name': 'projects/517693961302/locations/global/collections/default_collection/engines/adam_agentspace',\n",
        "    # 'displayName': 'adam_agentspace',\n",
        "    # 'createTime': '2025-08-29T19:38:57.120442Z',\n",
        "    # 'dataStoreIds': ['google-drive_1756497235229'],\n",
        "    # 'solutionType': 'SOLUTION_TYPE_SEARCH',\n",
        "    # 'searchEngineConfig': {'searchTier': 'SEARCH_TIER_ENTERPRISE',\n",
        "    # 'searchAddOns': ['SEARCH_ADD_ON_LLM']},\n",
        "    # 'industryVertical': 'GENERIC',\n",
        "    # 'appType': 'APP_TYPE_INTRANET'}]}}\n",
        "\n",
        "    try:\n",
        "        # Assuming rest_api_helper handles the authenticated POST request.\n",
        "        json_result = rest_api_helper(url, \"POST\", request_body=payload)\n",
        "\n",
        "        return {\n",
        "            \"status\": \"success\",\n",
        "            \"tool_name\": \"create_agentspace_with_placeholder\",\n",
        "            \"query\": payload,\n",
        "            \"results\": json_result\n",
        "        }\n",
        "    except Exception as e:\n",
        "        return {\n",
        "            \"status\": \"failed\",\n",
        "            \"tool_name\": \"create_agentspace_with_placeholder\",\n",
        "            \"query\": payload,\n",
        "            \"messages\": [str(e)],\n",
        "            \"results\": None\n",
        "        }"
      ]
    },
    {
      "cell_type": "markdown",
      "metadata": {
        "id": "yXnys0j5T2_i"
      },
      "source": [
        "#### agentspace_list"
      ]
    },
    {
      "cell_type": "code",
      "execution_count": null,
      "metadata": {
        "id": "3v1ob3h8T2bd"
      },
      "outputs": [],
      "source": [
        "def agentspace_list(\n",
        "    project_id: str,\n",
        "    location: str\n",
        ") -> dict:\n",
        "    \"\"\"\n",
        "    Lists all engines in a given project and location.\n",
        "\n",
        "    Args:\n",
        "        project_id (str): The ID of the Google Cloud project.\n",
        "        location (str): The location of the engines (e.g., \"global\").\n",
        "\n",
        "    Returns:\n",
        "        dict: A dictionary containing the status and the list of engines.\n",
        "    \"\"\"\n",
        "    # The API endpoint to list engines.\n",
        "    url = f\"https://discoveryengine.googleapis.com/v1alpha/projects/{project_id}/locations/{location}/collections/default_collection/engines\"\n",
        "\n",
        "    try:\n",
        "        # Assuming rest_api_helper handles the authenticated GET request.\n",
        "        json_result = rest_api_helper(url, \"GET\", None)\n",
        "\n",
        "        return {\n",
        "            \"status\": \"success\",\n",
        "            \"tool_name\": \"list_engines\",\n",
        "            \"results\": json_result\n",
        "        }\n",
        "    except Exception as e:\n",
        "        return {\n",
        "            \"status\": \"failed\",\n",
        "            \"tool_name\": \"list_engines\",\n",
        "            \"messages\": [str(e)],\n",
        "            \"results\": None\n",
        "        }"
      ]
    },
    {
      "cell_type": "markdown",
      "metadata": {
        "id": "EYRHDPdVKBzd"
      },
      "source": [
        "### <font color='#4285f4'>Agentspace to Agent Engine Association - Helper Methods</font>"
      ]
    },
    {
      "cell_type": "markdown",
      "metadata": {
        "id": "y3zKkx8E5Wqa"
      },
      "source": [
        "#### agentspace_associate_agent_engine"
      ]
    },
    {
      "cell_type": "code",
      "execution_count": null,
      "metadata": {
        "id": "LcB3HLDY4z41"
      },
      "outputs": [],
      "source": [
        "def agentspace_associate_agent_engine(\n",
        "    project_id: str,\n",
        "    project_number: str,\n",
        "    agent_engine_region: str,\n",
        "    agentspace_engine_id: str,\n",
        "    agent_engine_id: str,\n",
        "    agent_display_name: str,\n",
        "    agent_description: str,\n",
        "    tool_description: str\n",
        ") -> dict:\n",
        "    \"\"\"\n",
        "    Associates a provisioned agent engine with an AgentSpace app.\n",
        "\n",
        "    This function sends a POST request to the Discovery Engine API to create an\n",
        "    agent within a specified AgentSpace assistant, linking it to a\n",
        "    pre-existing Agent Engine.\n",
        "\n",
        "    Args:\n",
        "        project_id (str): The ID of the Google Cloud project.\n",
        "            e.g., \"data-analytics-agent-test\"\n",
        "        project_number (str): The number of the Google Cloud project.\n",
        "            e.g., \"517693961000\"\n",
        "        agent_engine_region (str): The location of the Agent Engine.\n",
        "            e.g., \"us-central1\"\n",
        "        agentspace_engine_id (str): The ID of the AgentSpace application (engine).\n",
        "            e.g., \"adam_agentspace\"\n",
        "        agent_engine_id (str): The ID of the provisioned Agent Engine.\n",
        "            e.g., \"7872226177945960000\"\n",
        "        agent_display_name (str): The desired display name for the new agent.\n",
        "            e.g., \"Data Analytics Agent\"\n",
        "        agent_description (str): A description for the new agent.\n",
        "            e.g., \"The agent automates data analytics.\"\n",
        "        tool_description (str): A description for the agent's tool settings.\n",
        "            e.g., \"Data Analytics Agent for BigQuery, AI Forecast, AI Generate Boolean, Data Profiling, Data Insights\"\n",
        "\n",
        "    Returns:\n",
        "        dict: A dictionary containing the status and the details of the API response.\n",
        "    \"\"\"\n",
        "    messages = []\n",
        "\n",
        "    # The API endpoint to create an agent within an assistant in Agentspace.\n",
        "    url = f\"https://discoveryengine.googleapis.com/v1alpha/projects/{project_number}/locations/global/collections/default_collection/engines/{agentspace_engine_id}/assistants/default_assistant/agents\"\n",
        "\n",
        "    # The request payload, specifying the agent's properties and linking the agent engine.\n",
        "    payload = {\n",
        "       \"displayName\": agent_display_name,\n",
        "       \"description\": agent_description,\n",
        "       \"icon\": {\"uri\": \"https://storage.googleapis.com/data-analytics-golden-demo/images/ADK-512-color.svg\"},\n",
        "       \"adk_agent_definition\": {\n",
        "           \"tool_settings\": {\n",
        "               \"tool_description\": tool_description\n",
        "           },\n",
        "           \"provisioned_reasoning_engine\": {\n",
        "               \"reasoning_engine\": f\"projects/{project_id}/locations/{agent_engine_region}/reasoningEngines/{agent_engine_id}\"\n",
        "           }\n",
        "       }\n",
        "    }\n",
        "\n",
        "    # Custom headers required by the API. The rest_api_helper is assumed to handle Authorization.\n",
        "    #headers = {\n",
        "    #    \"x-goog-user-project\": project_id,\n",
        "    #    \"Content-Type\": \"application/json\"\n",
        "    #}\n",
        "\n",
        "    try:\n",
        "       # url: str, http_verb: str, request_body: str\n",
        "        json_result = rest_api_helper(url, \"POST\", request_body=payload)\n",
        "\n",
        "        messages.append(f\"Successfully sent request to associate agent '{agent_display_name}' with AgentSpace app '{agentspace_engine_id}'.\")\n",
        "\n",
        "        return {\n",
        "            \"status\": \"success\",\n",
        "            \"tool_name\": \"agentspace_associate_agent_engine\",\n",
        "            \"query\": payload,\n",
        "            \"messages\": messages,\n",
        "            \"results\": json_result\n",
        "        }\n",
        "    except Exception as e:\n",
        "        messages.append(f\"An error occurred while associating the agent: {e}\")\n",
        "        return {\n",
        "            \"status\": \"failed\",\n",
        "            \"tool_name\": \"agentspace_associate_agent_engine\",\n",
        "            \"query\": payload,\n",
        "            \"messages\": messages,\n",
        "            \"results\": None\n",
        "        }\n"
      ]
    },
    {
      "cell_type": "markdown",
      "metadata": {
        "id": "5TJ9Ernk75KN"
      },
      "source": [
        "#### agentspace_disassociate_agent_engine"
      ]
    },
    {
      "cell_type": "code",
      "execution_count": null,
      "metadata": {
        "id": "sVzRbsG774Y8"
      },
      "outputs": [],
      "source": [
        "def agentspace_disassociate_agent_engine(\n",
        "    project_id: str,\n",
        "    project_number: str,\n",
        "    agentspace_engine_id: str,\n",
        "    agent_engine_id: str\n",
        ") -> dict:\n",
        "    \"\"\"\n",
        "    Disassociates (deletes) an agent from an AgentSpace app.\n",
        "\n",
        "    This function sends a DELETE request to the Discovery Engine API to remove\n",
        "    the registration of an agent from a specified AgentSpace assistant.\n",
        "\n",
        "    Args:\n",
        "        project_id (str): The ID of the Google Cloud project. This is required\n",
        "            for the X-Goog-User-Project header.\n",
        "            e.g., \"data-analytics-agent-00000000\"\n",
        "        project_number (str): The number of the Google Cloud project.\n",
        "            e.g., \"517693961000\"\n",
        "        agentspace_engine_id (str): The ID of the AgentSpace application (engine).\n",
        "            e.g., \"adam_agentspace\"\n",
        "        agent_engine_id (str): The ID of the agent to be deleted.\n",
        "            e.g., \"5968342334904680000\"\n",
        "\n",
        "    Returns:\n",
        "        dict: A dictionary containing the status and the details of the API response.\n",
        "    \"\"\"\n",
        "    messages = []\n",
        "\n",
        "    # Construct the full resource name for the agent to be deleted.\n",
        "    agent_resource_name = (\n",
        "        f\"projects/{project_number}/locations/global/collections/\"\n",
        "        f\"default_collection/engines/{agentspace_engine_id}/assistants/\"\n",
        "        f\"default_assistant/agents/{agent_engine_id}\"\n",
        "    )\n",
        "\n",
        "    # The API endpoint to delete a specific agent.\n",
        "    url = f\"https://discoveryengine.googleapis.com/v1alpha/{agent_resource_name}\"\n",
        "\n",
        "    try:\n",
        "        # It is assumed that a 'rest_api_helper' function exists that can handle\n",
        "        # the REST API call. It should handle authentication and setting the\n",
        "        # 'x-goog-user-project' header. A DELETE request typically has no body.\n",
        "        json_result = rest_api_helper(url, \"DELETE\", None)\n",
        "\n",
        "        messages.append(f\"Successfully sent request to delete agent '{agent_engine_id}' from AgentSpace app '{agentspace_engine_id}'.\")\n",
        "\n",
        "        # A successful DELETE request might return an empty object.\n",
        "        return {\n",
        "            \"status\": \"success\",\n",
        "            \"tool_name\": \"agentspace_disassociate_agent_engine\",\n",
        "            \"query\": None,\n",
        "            \"messages\": messages,\n",
        "            \"results\": json_result\n",
        "        }\n",
        "    except Exception as e:\n",
        "        messages.append(f\"An error occurred while deleting the agent: {e}\")\n",
        "        return {\n",
        "            \"status\": \"failed\",\n",
        "            \"tool_name\": \"agentspace_disassociate_agent_engine\",\n",
        "            \"query\": None,\n",
        "            \"messages\": messages,\n",
        "            \"results\": None\n",
        "        }"
      ]
    },
    {
      "cell_type": "markdown",
      "metadata": {
        "id": "iR43r7xr8jLx"
      },
      "source": [
        "#### agentspace_list_agent_engines"
      ]
    },
    {
      "cell_type": "code",
      "execution_count": null,
      "metadata": {
        "id": "79O-aelG8jeP"
      },
      "outputs": [],
      "source": [
        "def agentspace_list_agent_engines(\n",
        "    project_id: str,\n",
        "    agentspace_engine_id: str\n",
        ") -> dict:\n",
        "    \"\"\"\n",
        "    Lists all agents associated with a specific AgentSpace app.\n",
        "\n",
        "    This function sends a GET request to the Discovery Engine API to retrieve a list\n",
        "    of all agent registrations within a specified AgentSpace assistant.\n",
        "\n",
        "    Args:\n",
        "        project_id (str): The ID of the Google Cloud project. This is required\n",
        "            for the URL and the X-Goog-User-Project header.\n",
        "            e.g., \"data-analytics-agent-00000000\"\n",
        "        agentspace_engine_id (str): The ID of the AgentSpace application (engine) from which\n",
        "            to list the agents.\n",
        "            e.g., \"adam_agentspace\"\n",
        "\n",
        "    Returns:\n",
        "        dict: A dictionary containing the status and the details of the API response,\n",
        "              with the 'results' key holding a list of agent objects.\n",
        "    \"\"\"\n",
        "    messages = []\n",
        "\n",
        "    # The API endpoint to list all agents within a specific assistant.\n",
        "    url = (\n",
        "        f\"https://discoveryengine.googleapis.com/v1alpha/projects/{project_id}/locations/global/\"\n",
        "        f\"collections/default_collection/engines/{agentspace_engine_id}/assistants/\"\n",
        "        f\"default_assistant/agents\"\n",
        "    )\n",
        "\n",
        "    try:\n",
        "        json_result = rest_api_helper(url, \"GET\", None)\n",
        "\n",
        "        messages.append(f\"Successfully sent request to list agents from AgentSpace app '{agentspace_engine_id}'.\")\n",
        "\n",
        "        return {\n",
        "            \"status\": \"success\",\n",
        "            \"tool_name\": \"agentspace_list_agent_engines\",\n",
        "            \"query\": {\"agentspace_engine_id\": agentspace_engine_id},\n",
        "            \"messages\": messages,\n",
        "            \"results\": json_result\n",
        "        }\n",
        "    except Exception as e:\n",
        "        messages.append(f\"An error occurred while listing the agents: {e}\")\n",
        "        return {\n",
        "            \"status\": \"failed\",\n",
        "            \"tool_name\": \"agentspace_list_agent_engines\",\n",
        "            \"query\": {\"agentspace_engine_id\": agentspace_engine_id},\n",
        "            \"messages\": messages,\n",
        "            \"results\": None\n",
        "        }"
      ]
    },
    {
      "cell_type": "markdown",
      "metadata": {
        "id": "c51M89g0Ejmz"
      },
      "source": [
        "### <font color='#4285f4'>MAIN CODE - Deploy Agent Engine and Associate with Agentspace</font>"
      ]
    },
    {
      "cell_type": "markdown",
      "metadata": {
        "id": "Sy-oV0pb-vG_"
      },
      "source": [
        "#### Agent Engine (Examples)"
      ]
    },
    {
      "cell_type": "code",
      "execution_count": null,
      "metadata": {
        "id": "U4A_7n4SEPNO"
      },
      "outputs": [],
      "source": [
        "# To get a list of your Agent Engines\n",
        "get_agent_engines_response = get_agent_engines()\n",
        "\n",
        "if \"reasoningEngines\" not in get_agent_engines_response[\"results\"]:\n",
        "  print(\"No Agent Engines\")\n",
        "else:\n",
        "  for item in get_agent_engines_response[\"results\"][\"reasoningEngines\"]:\n",
        "    print(f\"Display Nane: {item['displayName']} | Name: {item['name']}\")\n",
        "\n",
        "#print(f\"get_agent_engines_response: {json.dumps(get_agent_engines_response, indent=2)}\")"
      ]
    },
    {
      "cell_type": "code",
      "execution_count": null,
      "metadata": {
        "id": "3VQrklFehaLM"
      },
      "outputs": [],
      "source": [
        "# To get a specific Agent Engine\n",
        "get_agent_engine_response = get_agent_engine(\"FILL-ME-IN-WITH-AN-ID\")\n",
        "print(f\"get_agent_engine_response: {json.dumps(get_agent_engine_response, indent=2)}\")"
      ]
    },
    {
      "cell_type": "code",
      "execution_count": null,
      "metadata": {
        "id": "ZEQMUusRi07S"
      },
      "outputs": [],
      "source": [
        "# To delete a specific Agent Engine (do not run unless you really want to delete)\n",
        "# force_delete = True\n",
        "# delete_agent_engine_response = delete_agent_engine(\"FILL-ME-IN-WITH-AN-ID\",force_delete)\n",
        "# print(f\"delete_agent_engine_response: {json.dumps(delete_agent_engine_response, indent=2)}\")"
      ]
    },
    {
      "cell_type": "markdown",
      "metadata": {
        "id": "_5sKCieShgng"
      },
      "source": [
        "#### Download source code of Data Analytics Agent"
      ]
    },
    {
      "cell_type": "code",
      "execution_count": null,
      "metadata": {
        "id": "RXz7xMcqreGl"
      },
      "outputs": [],
      "source": [
        "# The souce code is stored in cloud storage as part of the deployment\n",
        "# Or you can get this from GitHub\n",
        "\n",
        "gcs_zip_uri = f\"gs://{code_storage_account}/data-analytics-agent/data-analytics-agent.zip\"\n",
        "local_zip_file = \"data-analytics-agent.zip\"\n",
        "\n",
        "# Use absolute path for a truly isolated workspace\n",
        "original_directory = os.getcwd()\n",
        "workspace_dir = os.path.join(original_directory, \"agent_deployment_workspace\")\n",
        "\n",
        "# Define all paths relative to the workspace to avoid confusion\n",
        "local_zip_path = os.path.join(workspace_dir, local_zip_file)\n",
        "agents_path = os.path.join(workspace_dir, \"agents\")\n",
        "source_package_path = os.path.join(agents_path, \"data_analytics_agent\")\n",
        "\n",
        "# GCS destination for the final deployment artifacts\n",
        "gcs_folder = \"agent_engine_deployment\"\n",
        "gcs_destination_path = f\"gs://{code_storage_account}/{gcs_folder}\"\n",
        "\n",
        "# --- 1. Set up a Clean Workspace ---\n",
        "print(f\"Original directory: {original_directory}\")\n",
        "\n",
        "if os.path.exists(workspace_dir):\n",
        "    print(f\"Removing old workspace: {workspace_dir}\")\n",
        "    shutil.rmtree(workspace_dir)\n",
        "\n",
        "print(f\"Creating new workspace: {workspace_dir}\")\n",
        "os.makedirs(workspace_dir)\n",
        "\n",
        "# --- 2. Download and Unzip Agent Code into the Workspace ---\n",
        "print(f\"\\nDownloading {gcs_zip_uri} to workspace...\")\n",
        "os.system(f\"gsutil cp {gcs_zip_uri} {local_zip_path}\")\n",
        "\n",
        "print(f\"Unzipping {local_zip_path}...\")\n",
        "# Unzip into the workspace directory. Use the -d flag for destination.\n",
        "os.system(f\"unzip -o {local_zip_path} -d {workspace_dir}\")\n",
        "print(\"Download and unzip complete.\")"
      ]
    },
    {
      "cell_type": "code",
      "execution_count": null,
      "metadata": {
        "id": "LTM77NcKu9Hy"
      },
      "outputs": [],
      "source": [
        "!ls /content/agent_deployment_workspace"
      ]
    },
    {
      "cell_type": "code",
      "execution_count": null,
      "metadata": {
        "id": "CP1xr5yIvAMn"
      },
      "outputs": [],
      "source": [
        "!ls /content/agent_deployment_workspace/agents"
      ]
    },
    {
      "cell_type": "code",
      "execution_count": null,
      "metadata": {
        "id": "1R2ofAqXvBtC"
      },
      "outputs": [],
      "source": [
        "!ls /content/agent_deployment_workspace/agents/data_analytics_agent"
      ]
    },
    {
      "cell_type": "markdown",
      "metadata": {
        "id": "qNCr7EqQ_rBQ"
      },
      "source": [
        "#### You must change directories so the Agent deploys"
      ]
    },
    {
      "cell_type": "code",
      "execution_count": null,
      "metadata": {
        "id": "uw9L4Iogvqmf"
      },
      "outputs": [],
      "source": [
        "%cd /content/agent_deployment_workspace/agents"
      ]
    },
    {
      "cell_type": "code",
      "execution_count": null,
      "metadata": {
        "id": "d87PnX0mvsz4"
      },
      "outputs": [],
      "source": [
        "!pwd"
      ]
    },
    {
      "cell_type": "markdown",
      "metadata": {
        "id": "01YLachVDmAd"
      },
      "source": [
        "#### Deploy our Agent to Agent Engine"
      ]
    },
    {
      "cell_type": "code",
      "execution_count": null,
      "metadata": {
        "id": "e4qPcowKugpf"
      },
      "outputs": [],
      "source": [
        "# https://cloud.google.com/vertex-ai/generative-ai/docs/agent-engine/deploy\n",
        "\n",
        "import vertexai\n",
        "from data_analytics_agent.agent import root_agent\n",
        "from vertexai import agent_engines\n",
        "\n",
        "STAGING_BUCKET = f\"gs://{code_storage_account}\"\n",
        "\n",
        "# Initialize the Vertex AI SDK\n",
        "vertexai.init(\n",
        "    project=project_id,\n",
        "    location=agent_engine_region,\n",
        "    staging_bucket=STAGING_BUCKET,\n",
        ")\n",
        "\n",
        "# Wrap the agent in an AdkApp object\n",
        "app = agent_engines.AdkApp(\n",
        "    agent=root_agent,\n",
        "    enable_tracing=True,\n",
        ")\n",
        "\n",
        "# Create Agent Engine\n",
        "remote_app = agent_engines.create(\n",
        "    agent_engine=app,\n",
        "    requirements=[\n",
        "        \"google-cloud-aiplatform[adk,agent_engines]\",\n",
        "        \"json-stream\",\n",
        "        \"tenacity\",\n",
        "        \"cloudpickle\",\n",
        "        \"pydantic\"\n",
        "    ],\n",
        "    extra_packages=[\"data_analytics_agent\"],\n",
        "    gcs_dir_name=None,\n",
        "    display_name=agent_engine_name,\n",
        "    description=\"Agent for Google Cloud Data Analytics\",\n",
        "    env_vars={\n",
        "        \"GOOGLE_GENAI_USE_VERTEXAI\": \"${env_vars_GOOGLE_GENAI_USE_VERTEXAI}\",\n",
        "        # \"GOOGLE_CLOUD_PROJECT\": \"data-analytics-agent-00000000\",  # RESERVED ENV (cannot send to agent engine)\n",
        "        # \"GOOGLE_CLOUD_LOCATION\": \"us-central1\",                   # RESERVED ENV (cannot send to agent engine)\n",
        "        \"AGENT_ENV_PROJECT_ID\": \"${env_vars_AGENT_ENV_PROJECT_ID}\",\n",
        "        \"AGENT_ENV_BIGQUERY_REGION\": \"${env_vars_AGENT_ENV_BIGQUERY_REGION}\",\n",
        "        \"AGENT_ENV_DATAPLEX_SEARCH_REGION\": \"${env_vars_AGENT_ENV_DATAPLEX_SEARCH_REGION}\",\n",
        "        \"AGENT_ENV_GOOGLE_API_KEY\": \"${env_vars_AGENT_ENV_GOOGLE_API_KEY}\",\n",
        "        \"AGENT_ENV_DATAPLEX_REGION\": \"${env_vars_AGENT_ENV_DATAPLEX_REGION}\",\n",
        "        \"AGENT_ENV_CONVERSATIONAL_ANALYTICS_REGION\": \"${env_vars_AGENT_ENV_CONVERSATIONAL_ANALYTICS_REGION}\",\n",
        "        \"AGENT_ENV_VERTEX_AI_REGION\": \"${env_vars_AGENT_ENV_VERTEX_AI_REGION}\",\n",
        "        \"AGENT_ENV_BUSINESS_GLOSSARY_REGION\": \"${env_vars_AGENT_ENV_BUSINESS_GLOSSARY_REGION}\",\n",
        "        \"AGENT_ENV_DATAFORM_REGION\": \"${env_vars_AGENT_ENV_DATAFORM_REGION}\",\n",
        "        \"AGENT_ENV_DATAFORM_AUTHOR_NAME\": \"${env_vars_AGENT_ENV_DATAFORM_AUTHOR_NAME}\",\n",
        "        \"AGENT_ENV_DATAFORM_AUTHOR_EMAIL\": \"${env_vars_AGENT_ENV_DATAFORM_AUTHOR_EMAIL}\",\n",
        "        \"AGENT_ENV_DATAFORM_WORKSPACE_DEFAULT_NAME\": \"${env_vars_AGENT_ENV_DATAFORM_WORKSPACE_DEFAULT_NAME}\",\n",
        "        \"AGENT_ENV_DATAFORM_SERVICE_ACCOUNT\": \"${env_vars_AGENT_ENV_DATAFORM_SERVICE_ACCOUNT}\",\n",
        "        \"VERTEX_AI_ENDPOINT\": \"${env_vars_VERTEX_AI_ENDPOINT}\",\n",
        "        \"VERTEX_AI_CONNECTION_NAME\": \"${env_vars_VERTEX_AI_CONNECTION_NAME}\",\n",
        "        },\n",
        "    service_account=\"${env_vars_AGENT_ENGINE_SERVICE_ACCOUNT}\"\n",
        ")\n",
        "\n",
        "print(f\"Deployment finished!\")\n",
        "print(f\"Resource Name: {remote_app.resource_name}\")"
      ]
    },
    {
      "cell_type": "code",
      "execution_count": null,
      "metadata": {
        "id": "sTJeyQFGWjsB"
      },
      "outputs": [],
      "source": [
        "print(f\"To view your Agent Engine: https://console.cloud.google.com/vertex-ai/agents/agent-engines\")"
      ]
    },
    {
      "cell_type": "markdown",
      "metadata": {
        "id": "flm20v0_45Z0"
      },
      "source": [
        "#### Test the Agent in Agent Engine"
      ]
    },
    {
      "cell_type": "code",
      "execution_count": null,
      "metadata": {
        "id": "E4RJWZws2K9v"
      },
      "outputs": [],
      "source": [
        "# Get the deploy agents\n",
        "get_agent_engines_response = get_agent_engines()"
      ]
    },
    {
      "cell_type": "code",
      "execution_count": null,
      "metadata": {
        "id": "a1O1DY-H2sa1"
      },
      "outputs": [],
      "source": [
        "# Fine the one we just deployed (by name)\n",
        "agent_engine_id = None\n",
        "for item in get_agent_engines_response[\"results\"][\"reasoningEngines\"]:\n",
        "  print(f\"displayName: {item['displayName']}\")\n",
        "  if item[\"displayName\"] == agent_engine_name:\n",
        "    agent_engine_id = item[\"name\"]\n",
        "\n",
        "print(f\"agent_engine_id: {agent_engine_id}\")"
      ]
    },
    {
      "cell_type": "code",
      "execution_count": null,
      "metadata": {
        "id": "E1kE84mu3tnP"
      },
      "outputs": [],
      "source": [
        "user_id = \"user-01\"\n",
        "session_id = \"session-01\""
      ]
    },
    {
      "cell_type": "code",
      "execution_count": null,
      "metadata": {
        "id": "uhoPkDfE3mz5"
      },
      "outputs": [],
      "source": [
        "from vertexai import agent_engines\n",
        "import asyncio\n",
        "\n",
        "# Create the Agent Engine\n",
        "remote_app = agent_engines.get(agent_engine_id)\n",
        "\n",
        "# Create a Session (note: you can see this in the sessions tab in Agent Engine)\n",
        "remote_session = await remote_app.async_create_session(user_id=user_id)\n",
        "\n",
        "session_id = remote_session[\"id\"]\n",
        "print(f\"Session object: {remote_session}\")\n",
        "print(f\"Session created with ID: {session_id}\\n\")\n",
        "print(\"--- Streaming Query Response ---\")\n",
        "\n",
        "# Now ask a question and see if the Agent replies\n",
        "async for event in remote_app.async_stream_query(\n",
        "    user_id=user_id,\n",
        "    session_id=session_id,\n",
        "    message=\"Count the taxi trips by borough\",\n",
        "):\n",
        "    print(event)\n",
        "\n",
        "print(\"\\n--- End of Stream ---\")"
      ]
    },
    {
      "cell_type": "markdown",
      "metadata": {
        "id": "czgQ13TLTVUu"
      },
      "source": [
        "#### Create Agentspace"
      ]
    },
    {
      "cell_type": "code",
      "execution_count": null,
      "metadata": {
        "id": "9J6CCckHUSBf"
      },
      "outputs": [],
      "source": [
        "agentspace_list(project_id, \"global\")"
      ]
    },
    {
      "cell_type": "code",
      "execution_count": null,
      "metadata": {
        "id": "SVV5cNOiTXBf"
      },
      "outputs": [],
      "source": [
        "# We need at least one datastore, so just create a placeholder\n",
        "placeholder_data_store_id = \"da_agent_datastore\"\n",
        "placeholder_data_store_display_name = \"placeholder\"\n",
        "\n",
        "# NOTE: This might already exists if you re-run this cell, that is fine.\n",
        "agentspace_create_placeholder_data_store_response = agentspace_create_placeholder_data_store(project_id, \"global\", placeholder_data_store_id ,placeholder_data_store_display_name)\n",
        "\n",
        "print(f\"agentspace_create_placeholder_data_store_response: {agentspace_create_placeholder_data_store_response}\")"
      ]
    },
    {
      "cell_type": "code",
      "execution_count": null,
      "metadata": {
        "id": "ceVvDkuzTchT"
      },
      "outputs": [],
      "source": [
        "# Create the Agentspace instance\n",
        "agentspace_create_response = agentspace_create(project_id, \"global\", agentspace_engine_id, agentspace_display_name, placeholder_data_store_id)\n",
        "\n",
        "print(f\"agentspace_create_response: {agentspace_create_response}\")"
      ]
    },
    {
      "cell_type": "code",
      "execution_count": null,
      "metadata": {
        "id": "5xX_UCUIW5pZ"
      },
      "outputs": [],
      "source": [
        "print(f\"You must configure Google as your Identity Provider\")\n",
        "print(f\"Click the Integrations menu on the left hand side and select Use Google Identity\")\n",
        "print(f\"https://console.cloud.google.com/gen-app-builder/locations/global/engines/da_agentspace/as-overview/identity?project={project_id}\")\n",
        "print()\n",
        "print(f\"To view your Agentspace: https://console.cloud.google.com/gen-app-builder/engines\")"
      ]
    },
    {
      "cell_type": "markdown",
      "metadata": {
        "id": "01JHf0rT47KA"
      },
      "source": [
        "#### Associate with Agentspace"
      ]
    },
    {
      "cell_type": "code",
      "execution_count": null,
      "metadata": {
        "id": "8AJXVBbx48xM"
      },
      "outputs": [],
      "source": [
        "# This requires allowlisting\n",
        "# If you get Status: '404', that means you are not allowlisted\n",
        "agent_engine_id = agent_engine_id.split(\"/\")[-1]  # \"7872226177945960000\"\n",
        "agent_display_name = \"Data Analytics Agent\"\n",
        "agent_description = \"A data analytics agent for Google Data Cloud\"\n",
        "tool_description = \"Data Analytics Agent for BigQuery, AI Forecast, AI Generate Boolean, Data Profiling, Data Insights\"\n",
        "\n",
        "# To run this function, a 'rest_api_helper' would need to be defined and implemented.\n",
        "agentspace_associate_agent_engine_response = agentspace_associate_agent_engine(\n",
        "    project_id=project_id,\n",
        "    project_number=project_number,\n",
        "    agent_engine_region=agent_engine_region,\n",
        "    agentspace_engine_id=agentspace_engine_id,\n",
        "    agent_engine_id=agent_engine_id,\n",
        "    agent_display_name=agent_display_name,\n",
        "    agent_description=agent_description,\n",
        "    tool_description=tool_description\n",
        ")\n",
        "\n",
        "print(f\"agentspace_associate_agent_engine_response: {json.dumps(agentspace_associate_agent_engine_response, indent=2)}\")"
      ]
    },
    {
      "cell_type": "markdown",
      "metadata": {
        "id": "zwodiNmXDGxH"
      },
      "source": [
        "You can now open Agentspace and click Agents on the left hand side and see the Agent."
      ]
    },
    {
      "cell_type": "code",
      "execution_count": null,
      "metadata": {
        "id": "XOJEp6_GXVzW"
      },
      "outputs": [],
      "source": [
        "print(f\"https://console.cloud.google.com/gen-app-builder/locations/global/engines/{agentspace_engine_id}/as-overview/dashboard?project={project_id}\")\n",
        "print()\n",
        "print(\"Open the link, then select 'Copy URL' and paste that to a new tab.\")\n",
        "print()\n",
        "print(\"You also activate your 30 day free trial of Agentspace.\")\n",
        "print(f\"https://console.cloud.google.com/gen-app-builder/settings/license?project={project_id}\")\n",
        "print()\n",
        "print(\"You should now see the agent when you click Agents on the left menu.\")\n",
        "\n",
        "# Architecture Diagram\n",
        "from IPython.display import Image\n",
        "Image(url='https://storage.googleapis.com/data-analytics-golden-demo/colab-diagrams/agentspace_custom_agent.png', width=1000)\n"
      ]
    },
    {
      "cell_type": "markdown",
      "metadata": {
        "id": "Ln8FgZA--IUR"
      },
      "source": [
        "#### To View all the Agents in Agentspace"
      ]
    },
    {
      "cell_type": "code",
      "execution_count": null,
      "metadata": {
        "id": "SV7o4gfR79CT"
      },
      "outputs": [],
      "source": [
        "agentspace_list_agent_engines_response = agentspace_list_agent_engines(\n",
        "    project_id=project_id,\n",
        "    agentspace_engine_id=agentspace_engine_id\n",
        ")\n",
        "\n",
        "for item in agentspace_list_agent_engines_response[\"results\"][\"agents\"]:\n",
        "  print(f\"Display Name: {item['displayName']} | Name: {item['name']}\")\n",
        "\n",
        "#print(f\"agentspace_list_agent_engines_response: {json.dumps(agentspace_list_agent_engines_response, indent=2)}\")"
      ]
    },
    {
      "cell_type": "markdown",
      "metadata": {
        "id": "T772ccAG90CE"
      },
      "source": [
        "#### To Disassociate an Agent with Agentspace"
      ]
    },
    {
      "cell_type": "code",
      "execution_count": null,
      "metadata": {
        "id": "L6QxRjdN78_P"
      },
      "outputs": [],
      "source": [
        "##########################################\n",
        "# This is OPTIONAL\n",
        "##########################################\n",
        "agent_id_to_delete = \"FILL_ME_IN_WITH_AN_ID (int)\"\n",
        "\n",
        "agentspace_disassociate_agent_engine_response = agentspace_disassociate_agent_engine(\n",
        "    project_id=project_id,\n",
        "    project_number=project_number,\n",
        "    agentspace_engine_id=agentspace_engine_id,\n",
        "    agent_engine_id=agent_id_to_delete\n",
        ")\n",
        "\n",
        "print(f\"agentspace_disassociate_agent_engine_response: {json.dumps(agentspace_disassociate_agent_engine_response, indent=2)}\")"
      ]
    },
    {
      "cell_type": "markdown",
      "metadata": {
        "id": "kMOlxKbjLlSW"
      },
      "source": [
        "You can now refresh Agentspace and the agent should be removed (it might take a minute to two)."
      ]
    }
  ],
  "metadata": {
    "colab": {
      "collapsed_sections": [
        "HMsUvoF4BP7Y",
        "m65vp54BUFRi",
        "sZ6m_wGrK0YG",
        "JbOjdSP1kN9T",
        "Hc0m0n35c_Vq",
        "Z0FXButahBTc",
        "fK2JGFz4hGBj",
        "q96nTcYnh3mj",
        "T1eisDJSTAQi",
        "yVvWXHsWTB6L",
        "uhNCpqdMTKw8",
        "yXnys0j5T2_i",
        "5TJ9Ernk75KN",
        "iR43r7xr8jLx",
        "Sy-oV0pb-vG_",
        "_5sKCieShgng",
        "qNCr7EqQ_rBQ",
        "flm20v0_45Z0",
        "42IxhtRRrvR-",
        "ASQ2BPisXDA0"
      ],
      "name": "Agent-Demo-Agentspace",
      "private_outputs": true,
      "provenance": []
    },
    "kernelspec": {
      "display_name": "Python 3",
      "name": "python3"
    },
    "language_info": {
      "name": "python"
    }
  },
  "nbformat": 4,
  "nbformat_minor": 0
}
