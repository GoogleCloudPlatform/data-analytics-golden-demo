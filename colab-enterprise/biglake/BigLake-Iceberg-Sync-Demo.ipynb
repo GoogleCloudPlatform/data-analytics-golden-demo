{
  "cells": [
    {
      "cell_type": "markdown",
      "metadata": {
        "id": "vW69NH2bMi9K"
      },
      "source": [
        "### <font color='blue'>License</font>"
      ]
    },
    {
      "cell_type": "markdown",
      "metadata": {
        "id": "AErdlrMjMdKj"
      },
      "source": [
        "```\n",
        "# Copyright 2024 Google LLC\n",
        "#\n",
        "# Licensed under the Apache License, Version 2.0 (the \"License\");\n",
        "# you may not use this file except in compliance with the License.\n",
        "# You may obtain a copy of the License at\n",
        "#\n",
        "#     https://www.apache.org/licenses/LICENSE-2.0\n",
        "#\n",
        "# Unless required by applicable law or agreed to in writing, software\n",
        "# distributed under the License is distributed on an \"AS IS\" BASIS,\n",
        "# WITHOUT WARRANTIES OR CONDITIONS OF ANY KIND, either express or implied.\n",
        "# See the License for the specific language governing permissions and\n",
        "# limitations under the License.\n",
        "```\n",
        "\n",
        "Author: Adam Paternostro"
      ]
    },
    {
      "cell_type": "markdown",
      "metadata": {
        "id": "hZZ2om3xe9Ax"
      },
      "source": [
        "### Iceberg / BigQuery Sync Demo\n",
        "Shows how to create an Iceberg table on GCS, create a BigLake External table and updating the BigLake External table's metadata"
      ]
    },
    {
      "cell_type": "code",
      "execution_count": null,
      "metadata": {
        "colab": {
          "base_uri": "https://localhost:8080/",
          "height": 694
        },
        "executionInfo": {
          "elapsed": 260,
          "status": "ok",
          "timestamp": 1721866226666,
          "user": {
            "displayName": "",
            "userId": ""
          },
          "user_tz": 240
        },
        "id": "RO6kfu7UNQoR",
        "outputId": "ebe78ef3-0553-49b4-f497-ed9aa0e8ac8f"
      },
      "outputs": [],
      "source": [
        "from IPython.display import Image\n",
        "Image(url='https://storage.googleapis.com/data-analytics-golden-demo/biglake/v1/artifacts/BigLake-Iceberg-Sync-Demo.png', width=1200)"
      ]
    },
    {
      "cell_type": "markdown",
      "metadata": {
        "id": "jHEEWOJCe6zk"
      },
      "source": [
        "### PIP Install (Run once)"
      ]
    },
    {
      "cell_type": "code",
      "execution_count": null,
      "metadata": {
        "colab": {
          "base_uri": "https://localhost:8080/"
        },
        "executionInfo": {
          "elapsed": 3156,
          "status": "ok",
          "timestamp": 1721866230359,
          "user": {
            "displayName": "",
            "userId": ""
          },
          "user_tz": 240
        },
        "id": "dcbOGis9NWXJ",
        "outputId": "033654e6-b716-4d63-80b8-e067c2bac894"
      },
      "outputs": [],
      "source": [
        "!pip install --upgrade pip"
      ]
    },
    {
      "cell_type": "code",
      "execution_count": null,
      "metadata": {
        "colab": {
          "base_uri": "https://localhost:8080/"
        },
        "executionInfo": {
          "elapsed": 3439,
          "status": "ok",
          "timestamp": 1721866233795,
          "user": {
            "displayName": "",
            "userId": ""
          },
          "user_tz": 240
        },
        "id": "MkkE_Q8fPVAm",
        "outputId": "5a07845f-e3b8-42b1-9920-064b46f4c8c6"
      },
      "outputs": [],
      "source": [
        "!pip install \"pyiceberg[gcsfs,hive]\""
      ]
    },
    {
      "cell_type": "markdown",
      "metadata": {
        "id": "cghkfWlte_n4"
      },
      "source": [
        "### Initialize Code"
      ]
    },
    {
      "cell_type": "code",
      "execution_count": null,
      "metadata": {
        "executionInfo": {
          "elapsed": 2923,
          "status": "ok",
          "timestamp": 1721866236716,
          "user": {
            "displayName": "",
            "userId": ""
          },
          "user_tz": 240
        },
        "id": "17SxSYMnTDfo"
      },
      "outputs": [],
      "source": [
        "import google.auth\n",
        "import requests\n",
        "import json\n",
        "import datetime\n",
        "import os\n",
        "import re\n",
        "import pytz\n",
        "import pyarrow as pa\n",
        "from pyiceberg.catalog.sql import SqlCatalog\n",
        "from google.cloud import storage\n",
        "from datetime import datetime\n",
        "\n",
        "\n",
        "# Parameters / Variables\n",
        "# Get some values using gcloud\n",
        "project_id = !(gcloud config get-value project)\n",
        "user = !(gcloud auth list --filter=status:ACTIVE --format=\"value(account)\")\n",
        "\n",
        "if len(project_id) != 1:\n",
        "  raise RuntimeError(f\"project_id is not set: {project_id}\")\n",
        "project_id = project_id[0]\n",
        "\n",
        "if len(user) != 1:\n",
        "  raise RuntimeError(f\"user is not set: {user}\")\n",
        "user = user[0]\n",
        "\n",
        "bigquery_location = \"us\"\n",
        "iceberg_catalog_namespace = \"default\"\n",
        "biglake_bucket_name = \"biglake-\" + project_id\n",
        "biglake_connection_name = \"biglake-notebook-connection\"\n",
        "warehouse_path = \"/tmp/sqlite\"\n",
        "\n",
        "# Make the SQLite directory (if not exists).  NOTE: This should be a HIVE metastore or something more permanent\n",
        "if not os.path.exists(warehouse_path):\n",
        "  os.makedirs(warehouse_path)\n",
        "\n",
        "params = { \"project_id\" : project_id,\n",
        "           \"bigquery_location\" : bigquery_location,\n",
        "           \"biglake_connection_name\": biglake_connection_name,\n",
        "           \"biglake_bucket_name\" : biglake_bucket_name,\n",
        "           \"user\" : user\n",
        "           }"
      ]
    },
    {
      "cell_type": "markdown",
      "metadata": {
        "id": "FG8mf-gNeRaL"
      },
      "source": [
        "### Helper Functions"
      ]
    },
    {
      "cell_type": "code",
      "execution_count": null,
      "metadata": {
        "executionInfo": {
          "elapsed": 8,
          "status": "ok",
          "timestamp": 1721866236716,
          "user": {
            "displayName": "",
            "userId": ""
          },
          "user_tz": 240
        },
        "id": "yo36XzpmS65n"
      },
      "outputs": [],
      "source": [
        "def getGoogleCredentials():\n",
        "  creds, project = google.auth.default()\n",
        "  auth_req = google.auth.transport.requests.Request() # required to acess access token\n",
        "  creds.refresh(auth_req)\n",
        "  return creds"
      ]
    },
    {
      "cell_type": "code",
      "execution_count": null,
      "metadata": {
        "executionInfo": {
          "elapsed": 7,
          "status": "ok",
          "timestamp": 1721866236716,
          "user": {
            "displayName": "",
            "userId": ""
          },
          "user_tz": 240
        },
        "id": "vJ8ABhlLV2Di"
      },
      "outputs": [],
      "source": [
        "# prompt: datetime_to_unix_ms\n",
        "def datetime_to_unix_ms(dt):\n",
        "    return int(dt.timestamp() * 1000)"
      ]
    },
    {
      "cell_type": "markdown",
      "metadata": {
        "id": "f05MM_xPILUe"
      },
      "source": [
        "#### delete_gcs_folder\n",
        "Deletes all the files in a GCS folder"
      ]
    },
    {
      "cell_type": "code",
      "execution_count": null,
      "metadata": {
        "executionInfo": {
          "elapsed": 7,
          "status": "ok",
          "timestamp": 1721866236716,
          "user": {
            "displayName": "",
            "userId": ""
          },
          "user_tz": 240
        },
        "id": "aFNglPfXqeTa"
      },
      "outputs": [],
      "source": [
        "def delete_gcs_folder(bucket_name, folder_name):\n",
        "  \"\"\"Deletes all files in a GCS folder.\n",
        "\n",
        "  Args:\n",
        "    bucket_name: The name of the GCS bucket.\n",
        "    folder_name: The name of the folder to delete.\n",
        "  \"\"\"\n",
        "\n",
        "  storage_client = storage.Client()\n",
        "  bucket = storage_client.bucket(bucket_name)\n",
        "  blobs = bucket.list_blobs(prefix=folder_name)\n",
        "\n",
        "  for blob in blobs:\n",
        "    blob.delete()"
      ]
    },
    {
      "cell_type": "markdown",
      "metadata": {
        "id": "P_52x4o6IGnU"
      },
      "source": [
        "#### RunQuery\n",
        "Runs a SQL statement on BigQuery"
      ]
    },
    {
      "cell_type": "code",
      "execution_count": null,
      "metadata": {
        "executionInfo": {
          "elapsed": 7,
          "status": "ok",
          "timestamp": 1721866236717,
          "user": {
            "displayName": "",
            "userId": ""
          },
          "user_tz": 240
        },
        "id": "c2z9Hnjql1D7"
      },
      "outputs": [],
      "source": [
        "def RunQuery(sql):\n",
        "  import time\n",
        "  from google.cloud import bigquery\n",
        "  client = bigquery.Client()\n",
        "\n",
        "  if (sql.startswith(\"SELECT\") or sql.startswith(\"WITH\")):\n",
        "      df_result = client.query(sql).to_dataframe()\n",
        "      return df_result\n",
        "  else:\n",
        "    job_config = bigquery.QueryJobConfig(priority=bigquery.QueryPriority.INTERACTIVE)\n",
        "    query_job = client.query(sql, job_config=job_config)\n",
        "\n",
        "    # Check on the progress by getting the job's updated state.\n",
        "    query_job = client.get_job(\n",
        "        query_job.job_id, location=query_job.location\n",
        "    )\n",
        "    print(\"Job {} is currently in state {} with error result of {}\".format(query_job.job_id, query_job.state, query_job.error_result))\n",
        "\n",
        "    while query_job.state != \"DONE\":\n",
        "      time.sleep(2)\n",
        "      query_job = client.get_job(\n",
        "          query_job.job_id, location=query_job.location\n",
        "          )\n",
        "      print(\"Job {} is currently in state {} with error result of {}\".format(query_job.job_id, query_job.state, query_job.error_result))\n",
        "\n",
        "    if query_job.error_result == None:\n",
        "      return True\n",
        "    else:\n",
        "      return False"
      ]
    },
    {
      "cell_type": "markdown",
      "metadata": {
        "id": "h3XiGMZQHv_q"
      },
      "source": [
        "#### restAPIHelper\n",
        "Calls the Google Cloud REST API using the current users credentials."
      ]
    },
    {
      "cell_type": "code",
      "execution_count": null,
      "metadata": {
        "executionInfo": {
          "elapsed": 7,
          "status": "ok",
          "timestamp": 1721866236717,
          "user": {
            "displayName": "",
            "userId": ""
          },
          "user_tz": 240
        },
        "id": "tDaQcCnvHst3"
      },
      "outputs": [],
      "source": [
        "def restAPIHelper(url: str, http_verb: str, request_body: str) -> str:\n",
        "  \"\"\"Calls the Google Cloud REST API passing in the current users credentials\"\"\"\n",
        "\n",
        "  import requests\n",
        "  import google.auth\n",
        "  import json\n",
        "\n",
        "  # Get an access token based upon the current user\n",
        "  creds, project = google.auth.default()\n",
        "  auth_req = google.auth.transport.requests.Request()\n",
        "  creds.refresh(auth_req)\n",
        "  access_token=creds.token\n",
        "\n",
        "  headers = {\n",
        "    \"Content-Type\" : \"application/json\",\n",
        "    \"Authorization\" : \"Bearer \" + access_token\n",
        "  }\n",
        "\n",
        "  if http_verb == \"GET\":\n",
        "    response = requests.get(url, headers=headers)\n",
        "  elif http_verb == \"POST\":\n",
        "    response = requests.post(url, json=request_body, headers=headers)\n",
        "  elif http_verb == \"PUT\":\n",
        "    response = requests.put(url, json=request_body, headers=headers)\n",
        "  elif http_verb == \"PATCH\":\n",
        "    response = requests.patch(url, json=request_body, headers=headers)\n",
        "  elif http_verb == \"DELETE\":\n",
        "    response = requests.delete(url, headers=headers)\n",
        "  else:\n",
        "    raise RuntimeError(f\"Unknown HTTP verb: {http_verb}\")\n",
        "\n",
        "  if response.status_code == 200:\n",
        "    return json.loads(response.content)\n",
        "    #image_data = json.loads(response.content)[\"predictions\"][0][\"bytesBase64Encoded\"]\n",
        "  else:\n",
        "    error = f\"Error restAPIHelper -> ' Status: '{response.status_code}' Text: '{response.text}'\"\n",
        "    raise RuntimeError(error)"
      ]
    },
    {
      "cell_type": "markdown",
      "metadata": {
        "id": "kwM9gPbkIFT8"
      },
      "source": [
        "#### createBigLakeConnection\n",
        "Creates the BigQuery external connection and returns the generated service principal.  The service principal then needs to be granted IAM access to resourses it requires."
      ]
    },
    {
      "cell_type": "code",
      "execution_count": null,
      "metadata": {
        "executionInfo": {
          "elapsed": 7,
          "status": "ok",
          "timestamp": 1721866236717,
          "user": {
            "displayName": "",
            "userId": ""
          },
          "user_tz": 240
        },
        "id": "PF8QRnqTHQg2"
      },
      "outputs": [],
      "source": [
        "def createBigLakeConnection(params):\n",
        "  \"\"\"Creates a BigLake connection.\"\"\"\n",
        "\n",
        "  # First find the connection\n",
        "  # https://cloud.google.com/bigquery/docs/reference/bigqueryconnection/rest/v1/projects.locations.connections/list\n",
        "  project_id = params[\"project_id\"]\n",
        "  bigquery_location = params[\"bigquery_location\"]\n",
        "  biglake_connection_name = params[\"biglake_connection_name\"]\n",
        "  url = f\"https://bigqueryconnection.googleapis.com/v1/projects/{project_id}/locations/{bigquery_location}/connections\"\n",
        "\n",
        "  # Gather existing connections\n",
        "  json_result = restAPIHelper(url, \"GET\", None)\n",
        "  print(f\"createBigLakeConnection (GET) json_result: {json_result}\")\n",
        "\n",
        "  # Test to see if connection exists, if so return\n",
        "  if \"connections\" in json_result:\n",
        "    for item in json_result[\"connections\"]:\n",
        "      print(f\"BigLake Connection: {item['name']}\")\n",
        "      # \"projects/756740881369/locations/us/connections/biglake-notebook-connection\"\n",
        "      # NOTE: We cannot test the complete name since it contains the project number and not id\n",
        "      if item[\"name\"].endswith(f\"/locations/{bigquery_location}/connections/{biglake_connection_name}\"):\n",
        "        print(\"Connection already exists\")\n",
        "        serviceAccountId = item[\"cloudResource\"][\"serviceAccountId\"]\n",
        "        return serviceAccountId\n",
        "\n",
        "  # Create the connection\n",
        "  # https://cloud.google.com/bigquery/docs/reference/bigqueryconnection/rest/v1/projects.locations.connections/create\n",
        "  print(\"Creating BigLake Connection\")\n",
        "\n",
        "  url = f\"https://bigqueryconnection.googleapis.com/v1/projects/{project_id}/locations/{bigquery_location}/connections?connectionId={biglake_connection_name}\"\n",
        "\n",
        "  request_body = {\n",
        "      \"friendlyName\": biglake_connection_name,\n",
        "      \"description\": \"BigLake Colab Notebooks Connection for Data Analytics Golden Demo\",\n",
        "      \"cloudResource\": {}\n",
        "  }\n",
        "\n",
        "  json_result = restAPIHelper(url, \"POST\", request_body)\n",
        "\n",
        "  serviceAccountId = json_result[\"cloudResource\"][\"serviceAccountId\"]\n",
        "  print(\"BigLake Connection created: \", serviceAccountId)\n",
        "  return serviceAccountId\n"
      ]
    },
    {
      "cell_type": "markdown",
      "metadata": {
        "id": "ip6U3jX7IXoz"
      },
      "source": [
        "#### createGoogleCloudStorageBucket\n",
        "Create the Google Cloud Storage bucket that will be used for holding the BigLake files (avro, csv, delta, hudi, json, parquet)"
      ]
    },
    {
      "cell_type": "code",
      "execution_count": null,
      "metadata": {
        "executionInfo": {
          "elapsed": 7,
          "status": "ok",
          "timestamp": 1721866236717,
          "user": {
            "displayName": "",
            "userId": ""
          },
          "user_tz": 240
        },
        "id": "8BJaR15jIY3U"
      },
      "outputs": [],
      "source": [
        "def createGoogleCloudStorageBucket(params):\n",
        "  \"\"\"Creates a Google Cloud Storage bucket.\"\"\"\n",
        "\n",
        "  # First find the bucket\n",
        "  # https://cloud.google.com/storage/docs/json_api/v1/buckets/list\n",
        "  project_id = params[\"project_id\"]\n",
        "  biglake_bucket_name = params[\"biglake_bucket_name\"]\n",
        "  url = f\"https://storage.googleapis.com/storage/v1/b?project={project_id}\"\n",
        "\n",
        "  # Gather existing buckets\n",
        "  json_result = restAPIHelper(url, \"GET\", None)\n",
        "  print(f\"createGoogleCloudStorageBucket (GET) json_result: {json_result}\")\n",
        "\n",
        "  # Test to see if connection exists, if so return\n",
        "  if \"items\" in json_result:\n",
        "    for item in json_result[\"items\"]:\n",
        "      print(f\"Bucket Id / Name: ({item['id']} / {item['name']}\")\n",
        "      if item[\"id\"] == biglake_bucket_name:\n",
        "        print(\"Bucket already exists\")\n",
        "        return\n",
        "\n",
        "  # Create the bucket\n",
        "  # https://cloud.google.com/storage/docs/json_api/v1/buckets/insert\n",
        "  print(\"Creating Google Cloud Bucket\")\n",
        "\n",
        "  url = f\"https://storage.googleapis.com/storage/v1/b?project={project_id}&predefinedAcl=private&predefinedDefaultObjectAcl=private&projection=noAcl\"\n",
        "\n",
        "  request_body = {\n",
        "      \"name\": biglake_bucket_name\n",
        "  }\n",
        "\n",
        "  json_result = restAPIHelper(url, \"POST\", request_body)\n",
        "  print()\n",
        "  print(f\"json_result: {json_result}\")\n",
        "  print()\n",
        "  print(\"BigLake Bucket created: \", biglake_bucket_name)"
      ]
    },
    {
      "cell_type": "markdown",
      "metadata": {
        "id": "zCarwDPMIhGb"
      },
      "source": [
        "#### setBucketIamPolicy\n",
        "Added the BigLake External Connection Service Principal to the IAM permission of the GCS bucket."
      ]
    },
    {
      "cell_type": "code",
      "execution_count": null,
      "metadata": {
        "executionInfo": {
          "elapsed": 6,
          "status": "ok",
          "timestamp": 1721866236717,
          "user": {
            "displayName": "",
            "userId": ""
          },
          "user_tz": 240
        },
        "id": "Q_4cjls6IiTF"
      },
      "outputs": [],
      "source": [
        "def setBucketIamPolicy(params, accountWithPrefix, role):\n",
        "  \"\"\"Sets the bucket IAM policy.\"\"\"\n",
        "\n",
        "  biglake_bucket_name = params[\"biglake_bucket_name\"]\n",
        "\n",
        "  # Get the current bindings (if the account has access then skip)\n",
        "  # https://cloud.google.com/storage/docs/json_api/v1/buckets/getIamPolicy\n",
        "\n",
        "  url = f\"https://storage.googleapis.com/storage/v1/b/{biglake_bucket_name}/iam\"\n",
        "  json_result = restAPIHelper(url, \"GET\", None)\n",
        "  print(f\"setBucketIamPolicy (GET) json_result: {json_result}\")\n",
        "\n",
        "  # Test to see if permissions exist\n",
        "  if \"bindings\" in json_result:\n",
        "    for item in json_result[\"bindings\"]:\n",
        "      members = item[\"members\"]\n",
        "      for member in members:\n",
        "        if member == accountWithPrefix:\n",
        "          print(\"Permissions exist\")\n",
        "          return\n",
        "\n",
        "  # Take the existing bindings and we need to append the new permission\n",
        "  # Otherwise we loose the existing permissions\n",
        "\n",
        "  bindings = json_result[\"bindings\"]\n",
        "  new_permission = {\n",
        "      \"role\": role,\n",
        "      \"members\": [ accountWithPrefix ]\n",
        "      }\n",
        "\n",
        "  bindings.append(new_permission)\n",
        "\n",
        "  # https://cloud.google.com/storage/docs/json_api/v1/buckets/setIamPolicy\n",
        "  url = f\"https://storage.googleapis.com/storage/v1/b/{biglake_bucket_name}/iam\"\n",
        "\n",
        "  request_body = { \"bindings\" : bindings }\n",
        "\n",
        "  print(f\"Permission bindings: {bindings}\")\n",
        "\n",
        "\n",
        "  json_result = restAPIHelper(url, \"PUT\", request_body)\n",
        "  print()\n",
        "  print(f\"json_result: {json_result}\")\n",
        "  print()\n",
        "  print(f\"Bucket IAM Permissions set for {accountWithPrefix} {role}\")"
      ]
    },
    {
      "cell_type": "markdown",
      "metadata": {
        "id": "WnwSpyPFJm6Q"
      },
      "source": [
        "#### getProjectNumber\n",
        "Gets the project number from a project id"
      ]
    },
    {
      "cell_type": "code",
      "execution_count": null,
      "metadata": {
        "executionInfo": {
          "elapsed": 6,
          "status": "ok",
          "timestamp": 1721866236717,
          "user": {
            "displayName": "",
            "userId": ""
          },
          "user_tz": 240
        },
        "id": "6RlIvsHVJmYJ"
      },
      "outputs": [],
      "source": [
        "def getProjectNumber(params):\n",
        "  \"\"\"Batch activates service apis\"\"\"\n",
        "\n",
        "  if \"project_number\" not in params:\n",
        "    # https://cloud.google.com/resource-manager/reference/rest/v1/projects/get?\n",
        "    project_id = params[\"project_id\"]\n",
        "\n",
        "    url = f\"https://cloudresourcemanager.googleapis.com/v1/projects/{project_id}\"\n",
        "    json_result = restAPIHelper(url, \"GET\", None)\n",
        "    print(f\"setBucketIamPolicy (GET) json_result: {json_result}\")\n",
        "\n",
        "    project_number = json_result[\"projectNumber\"]\n",
        "    params[\"project_number\"] = project_number\n",
        "    print(f\"getProjectNumber: {project_number}\")\n",
        "\n",
        "  else:\n",
        "    project_number = params[\"project_number\"]\n",
        "    print(f\"getProjectNumber: {project_number}\")\n",
        "    return project_number"
      ]
    },
    {
      "cell_type": "markdown",
      "metadata": {
        "id": "mAIc8ax1IoHk"
      },
      "source": [
        "#### activateServiceAPIs\n",
        "Enables Google Cloud APIs"
      ]
    },
    {
      "cell_type": "code",
      "execution_count": null,
      "metadata": {
        "executionInfo": {
          "elapsed": 6,
          "status": "ok",
          "timestamp": 1721866236717,
          "user": {
            "displayName": "",
            "userId": ""
          },
          "user_tz": 240
        },
        "id": "YZ7FQGdqIoqD"
      },
      "outputs": [],
      "source": [
        "def activateServiceAPIs(params):\n",
        "  \"\"\"Batch activates service apis\"\"\"\n",
        "\n",
        "  project_number = params[\"project_number\"]\n",
        "\n",
        "  request_body = {\n",
        "      \"serviceIds\" : [ \"biglake.googleapis.com\" ]\n",
        "  }\n",
        "\n",
        "  url = f\"https://serviceusage.googleapis.com/v1/projects/{project_number}/services:batchEnable\"\n",
        "  json_result = restAPIHelper(url, \"POST\", request_body)\n",
        "  print(f\"activateServiceAPIs (POST) json_result: {json_result}\")"
      ]
    },
    {
      "cell_type": "markdown",
      "metadata": {
        "id": "z63V_4DaI3C6"
      },
      "source": [
        "#### initialize\n",
        "Calls the methods to create the external connection, create the GCS bucket, apply IAM permissions and copies the public data.  This method can be re-run as required and does not cause duplication issues.  Each method tests for the existance of items before creating."
      ]
    },
    {
      "cell_type": "code",
      "execution_count": null,
      "metadata": {
        "executionInfo": {
          "elapsed": 6,
          "status": "ok",
          "timestamp": 1721866236717,
          "user": {
            "displayName": "",
            "userId": ""
          },
          "user_tz": 240
        },
        "id": "BzsPfbOuI39R"
      },
      "outputs": [],
      "source": [
        "def initialize(params):\n",
        "  \"\"\"Create the BigLake connection, GCS bucket, set IAM permissions and copies data\"\"\"\n",
        "\n",
        "  # Create the BigLake connection (if not exists)\n",
        "  bigLakeServiceAccountId = createBigLakeConnection(params)\n",
        "  print(f\"createBigLakeConnection: {bigLakeServiceAccountId}\")\n",
        "  params[\"bigLakeServiceAccountId\"] = bigLakeServiceAccountId\n",
        "\n",
        "  # Create storage account (if not exists)\n",
        "  createGoogleCloudStorageBucket(params)\n",
        "\n",
        "  # Grant access to GCS Bucket for BigLake Connection (if not exists)\n",
        "  setBucketIamPolicy(params, f\"serviceAccount:{bigLakeServiceAccountId}\", \"roles/storage.objectAdmin\")\n",
        "  setBucketIamPolicy(params, f\"user:{user}\", \"roles/storage.admin\")\n",
        "\n",
        "  getProjectNumber(params)\n",
        "  activateServiceAPIs(params)"
      ]
    },
    {
      "cell_type": "markdown",
      "metadata": {
        "id": "J1f6mybmJJp4"
      },
      "source": [
        "### Initialize the Demo"
      ]
    },
    {
      "cell_type": "code",
      "execution_count": null,
      "metadata": {
        "colab": {
          "base_uri": "https://localhost:8080/"
        },
        "executionInfo": {
          "elapsed": 1281,
          "status": "ok",
          "timestamp": 1721866237994,
          "user": {
            "displayName": "",
            "userId": ""
          },
          "user_tz": 240
        },
        "id": "NDkgCnb-JO6S",
        "outputId": "2df55811-e296-4761-8650-bfb718e77a83"
      },
      "outputs": [],
      "source": [
        "initialize(params)"
      ]
    },
    {
      "cell_type": "code",
      "execution_count": null,
      "metadata": {
        "colab": {
          "base_uri": "https://localhost:8080/",
          "height": 0,
          "referenced_widgets": [
            "fa42bc26360140fc813d027b42e9377d",
            "c6beea910c8c4d90891a3df82e51cc75",
            "e72d9a41d4d7432b93ef730c40d7dcc5",
            "b30bcda43a9f4c76bbcc59b6ce725706",
            "aa7e69b03a4d46608ac76f0d3759b899",
            "57aa7e0f148741e4bdedc766af2f2498",
            "f15f4207934a4448a56f9d9f0df5645d",
            "017c99c4e7364a47a50c2e8f87bb06a0",
            "fef3be7351ef49c58e0765b2a8354aa3",
            "9e0aed501f2e4087aa4772955289570e",
            "77b57459f1d9481b8a327c9a9b9494bf"
          ]
        },
        "executionInfo": {
          "elapsed": 663,
          "status": "ok",
          "timestamp": 1721866238655,
          "user": {
            "displayName": "",
            "userId": ""
          },
          "user_tz": 240
        },
        "id": "BFJOII5fLLcZ",
        "outputId": "6e6eff5b-9bed-44b4-a2a5-079d24e70922"
      },
      "outputs": [],
      "source": [
        "%%bigquery --params $params\n",
        "\n",
        "CREATE SCHEMA IF NOT EXISTS biglake_dataset OPTIONS(location = @bigquery_location);"
      ]
    },
    {
      "cell_type": "markdown",
      "metadata": {
        "id": "PpOXinnpeMFF"
      },
      "source": [
        "### Create the Iceberg Catalog and have it save the data to GCS"
      ]
    },
    {
      "cell_type": "code",
      "execution_count": null,
      "metadata": {
        "executionInfo": {
          "elapsed": 6,
          "status": "ok",
          "timestamp": 1721866238655,
          "user": {
            "displayName": "",
            "userId": ""
          },
          "user_tz": 240
        },
        "id": "CnIJ9-cQTRRQ"
      },
      "outputs": [],
      "source": [
        "creds = getGoogleCredentials()\n",
        "\n",
        "catalog = SqlCatalog(\n",
        "    iceberg_catalog_namespace,\n",
        "    **{\n",
        "        \"uri\": f\"sqlite:///{warehouse_path}/pyiceberg_catalog.db\",\n",
        "        \"gcs.oauth2.token-expires-at\": datetime_to_unix_ms(creds.expiry),\n",
        "        \"gcs.project-id\": project_id,\n",
        "        \"gcs.oauth2.token\": creds.token,\n",
        "        \"gcs.default-bucket-location\": f\"gs://{biglake_bucket_name}/\",\n",
        "        \"warehouse\": f\"gs://{biglake_bucket_name}/\"\n",
        "    },\n",
        ")"
      ]
    },
    {
      "cell_type": "markdown",
      "metadata": {
        "id": "ag1Jh69OeXXb"
      },
      "source": [
        "### Create the default Iceberg namespace"
      ]
    },
    {
      "cell_type": "code",
      "execution_count": null,
      "metadata": {
        "colab": {
          "base_uri": "https://localhost:8080/"
        },
        "executionInfo": {
          "elapsed": 5,
          "status": "ok",
          "timestamp": 1721866238655,
          "user": {
            "displayName": "",
            "userId": ""
          },
          "user_tz": 240
        },
        "id": "ri5MkILdo8Rd",
        "outputId": "9b057bc5-a55a-4e01-d846-2b4b50a7d6ef"
      },
      "outputs": [],
      "source": [
        "# Create the Namespace if it does not exist\n",
        "if (iceberg_catalog_namespace,) in catalog.list_namespaces():\n",
        "  print(f\"Catalog iceberg_catalog_namespace already exists\")\n",
        "else:\n",
        "  catalog.create_namespace(iceberg_catalog_namespace)"
      ]
    },
    {
      "cell_type": "markdown",
      "metadata": {
        "id": "Jn5H9y-Jea5M"
      },
      "source": [
        "### Create a Customer Table, BigLake External Iceberg Table\n",
        "\n",
        "1. Create the customer iceberg table\n",
        "2. Create a BigLake External table pointing to the GCS metadata file (specific version)\n",
        "3. Append records to the customer iceberg table\n",
        "4. PATCH or update the BigLake External table setting the metadata file to the latest version\n"
      ]
    },
    {
      "cell_type": "code",
      "execution_count": null,
      "metadata": {
        "colab": {
          "base_uri": "https://localhost:8080/"
        },
        "executionInfo": {
          "elapsed": 3365,
          "status": "ok",
          "timestamp": 1721866242016,
          "user": {
            "displayName": "",
            "userId": ""
          },
          "user_tz": 240
        },
        "id": "XQg5Pc4LYtuT",
        "outputId": "a21ed4eb-d290-4652-b34c-75ea9e4d6d90"
      },
      "outputs": [],
      "source": [
        "# Create a customer table with 4 rows\n",
        "\n",
        "# Define the schema for the customer table\n",
        "schema = pa.schema([\n",
        "    ('customer_id', pa.int64()),\n",
        "    ('customer_name', pa.string())\n",
        "])\n",
        "\n",
        "\n",
        "if (iceberg_catalog_namespace, 'customer') in catalog.list_tables(iceberg_catalog_namespace):\n",
        "  # Drop the table\n",
        "  catalog.drop_table(f\"{iceberg_catalog_namespace}.customer\")\n",
        "  print(\"Table Dropped\")\n",
        "\n",
        "  # We need to delete the GCS bucket folder (dropping an iceberg table does not delete the files on GCS)\n",
        "  delete_gcs_folder(biglake_bucket_name,f\"{iceberg_catalog_namespace}.db/customer/metadata\")\n",
        "  print(f\"All files in folder {iceberg_catalog_namespace}.db/customer/metadata have been deleted.\")\n",
        "\n",
        "table = catalog.create_table(f\"{iceberg_catalog_namespace}.customer\", schema=schema)\n",
        "\n",
        "df = pa.Table.from_pylist(\n",
        "    [\n",
        "        {\"customer_id\": 1, \"customer_name\": \"Customer 001\"},\n",
        "        {\"customer_id\": 2, \"customer_name\": \"Customer 002\"},\n",
        "        {\"customer_id\": 3, \"customer_name\": \"Customer 003\"},\n",
        "        {\"customer_id\": 4, \"customer_name\": \"Customer 004\"},\n",
        "    ],\n",
        ")\n",
        "\n",
        "table.append(df)"
      ]
    },
    {
      "cell_type": "code",
      "execution_count": null,
      "metadata": {
        "executionInfo": {
          "elapsed": 4,
          "status": "ok",
          "timestamp": 1721866242016,
          "user": {
            "displayName": "",
            "userId": ""
          },
          "user_tz": 240
        },
        "id": "QPvG0vKwihmT"
      },
      "outputs": [],
      "source": [
        "def find_latest_metadata_file(gcs_path):\n",
        "  \"\"\"\n",
        "  Finds the file ending with 'metadata.json' with the most recent timestamp in a GCS path.\n",
        "\n",
        "  Args:\n",
        "    gcs_path: The GCS path to search within (e.g., 'gs://my-bucket/my-folder/').\n",
        "\n",
        "  Returns:\n",
        "    The GCS path of the latest metadata file, or None if no such file is found.\n",
        "  \"\"\"\n",
        "\n",
        "  # Initialize Google Cloud Storage client\n",
        "  storage_client = storage.Client()\n",
        "\n",
        "  # Extract bucket name and blob prefix from the GCS path\n",
        "  bucket_name = gcs_path.replace(\"gs://\", \"\").split(\"/\")[0]\n",
        "  # print(f\"bucket_name: {bucket_name}\")\n",
        "  blob_prefix = \"/\".join(gcs_path.replace(\"gs://\", \"\").split(\"/\")[1:])\n",
        "  # print(f\"blob_prefix: {blob_prefix}\")\n",
        "\n",
        "  # Get all blobs within the specified path\n",
        "  blobs = storage_client.list_blobs(bucket_name, prefix=blob_prefix)\n",
        "\n",
        "  latest_metadata_file = None\n",
        "  latest_timestamp = datetime.min\n",
        "\n",
        "  # Iterate through the blobs and find the latest metadata file\n",
        "  latest_blob_filename = \"\"\n",
        "  utc=pytz.UTC\n",
        "  latest_blob_updated = utc.localize(datetime.min)\n",
        "  for blob in blobs:\n",
        "    # We ONLY want the metadata files!\n",
        "    if blob.name.endswith('metadata.json'):\n",
        "      # Extract timestamp from the file name using regex\n",
        "      # print(f\"blob: {blob}\")\n",
        "      if blob.updated > latest_blob_updated:\n",
        "        latest_blob_updated = blob.updated\n",
        "        latest_blob_filename = blob.name\n",
        "\n",
        "  return \"gs://\" + bucket_name + \"/\" + latest_blob_filename"
      ]
    },
    {
      "cell_type": "code",
      "execution_count": null,
      "metadata": {
        "colab": {
          "base_uri": "https://localhost:8080/"
        },
        "executionInfo": {
          "elapsed": 3,
          "status": "ok",
          "timestamp": 1721866242016,
          "user": {
            "displayName": "",
            "userId": ""
          },
          "user_tz": 240
        },
        "id": "0uzEwZ5hixwr",
        "outputId": "e1010152-6863-48ce-c4e4-bd9a74014361"
      },
      "outputs": [],
      "source": [
        "metadata_uri = find_latest_metadata_file(f\"gs://{biglake_bucket_name}/{iceberg_catalog_namespace}.db/customer/metadata\")\n",
        "print(metadata_uri)"
      ]
    },
    {
      "cell_type": "code",
      "execution_count": null,
      "metadata": {
        "colab": {
          "base_uri": "https://localhost:8080/"
        },
        "executionInfo": {
          "elapsed": 3,
          "status": "ok",
          "timestamp": 1721866242017,
          "user": {
            "displayName": "",
            "userId": ""
          },
          "user_tz": 240
        },
        "id": "iAOQRpY4bF7P",
        "outputId": "3296f775-b29b-4041-b6d0-b3cde20dbba0"
      },
      "outputs": [],
      "source": [
        "print(\"Open this URL to see your storage account:\")\n",
        "print(f\"https://console.cloud.google.com/storage/browser/{biglake_bucket_name}/{iceberg_catalog_namespace}.db/customer/metadata?project={project_id}\")"
      ]
    },
    {
      "cell_type": "code",
      "execution_count": null,
      "metadata": {
        "colab": {
          "base_uri": "https://localhost:8080/"
        },
        "executionInfo": {
          "elapsed": 2827,
          "status": "ok",
          "timestamp": 1721866244841,
          "user": {
            "displayName": "",
            "userId": ""
          },
          "user_tz": 240
        },
        "id": "32wwSLhVafIU",
        "outputId": "c821c34a-f068-450a-9245-0672effa3a60"
      },
      "outputs": [],
      "source": [
        "# Create the table using the \"latest\" metadata file\n",
        "\n",
        "sql = f\"\"\"\n",
        "CREATE OR REPLACE EXTERNAL TABLE `{project_id}.biglake_dataset.customer_iceberg`\n",
        "WITH CONNECTION `{project_id}.{bigquery_location}.biglake-notebook-connection`\n",
        "OPTIONS (\n",
        "  format = \"ICEBERG\",\n",
        "  uris = [\"{metadata_uri}\"]\n",
        ");\"\"\"\n",
        "\n",
        "RunQuery(sql)"
      ]
    },
    {
      "cell_type": "code",
      "execution_count": null,
      "metadata": {
        "colab": {
          "base_uri": "https://localhost:8080/",
          "height": 239,
          "referenced_widgets": [
            "3357a14ee11b4552bebb662ae3a59907",
            "fa72635c86364b428fc174ff8db609dc",
            "bb346f8ac11949a7882c54b3218729bb",
            "b8fdb7302fb5411eb72105c46d7ed12a",
            "4710e9772ae4429293dc1afbec98c000",
            "5d3379a04c33411398031491bc9bb39a",
            "7894e0d52c1342aba41a264237de3bb9",
            "31b6bf295c61441e988e1084ca63875a",
            "6045cb17a18c4a03901f3d28184d23aa",
            "650ba58292cf4de7a4c333e59d01c4df",
            "d9facbaa43464bfcbdc8ec9a0a03083d",
            "58475b489ef1472b8ff54fa8c2bd5392",
            "854d4bf794594154ab6882af1c9c4ebe",
            "01143f3717934e598333f237231b3c9c",
            "94587c1eb0184a6788f1fa754fa80994",
            "a44330a32b1a4fee837746f10ca761fd",
            "48db477225744a5fb94b82e6cd330cff",
            "b3e9698c1566455c9d3f817b7328d970",
            "de1ff2224c0b4a1dbc212ccb436561ea",
            "c94c4ec6d47c474f852d1691cd47ac29",
            "e8674dfc29e84369985ecfbcbde6ae43",
            "cd260a4632db48ddb782c957a1946809"
          ]
        },
        "executionInfo": {
          "elapsed": 3818,
          "status": "ok",
          "timestamp": 1721866248656,
          "user": {
            "displayName": "",
            "userId": ""
          },
          "user_tz": 240
        },
        "id": "B2KbwfeTbTLo",
        "outputId": "36985837-e41e-4382-ecda-31864ba90522"
      },
      "outputs": [],
      "source": [
        "%%bigquery\n",
        "\n",
        "SELECT * FROM `biglake_dataset.customer_iceberg`"
      ]
    },
    {
      "cell_type": "code",
      "execution_count": null,
      "metadata": {
        "executionInfo": {
          "elapsed": 1639,
          "status": "ok",
          "timestamp": 1721866250292,
          "user": {
            "displayName": "",
            "userId": ""
          },
          "user_tz": 240
        },
        "id": "0nLrIDqdbxuG"
      },
      "outputs": [],
      "source": [
        "# Add 4 more rows, at this point BigQuery cannot see these until we update the metadata\n",
        "\n",
        "df = pa.Table.from_pylist(\n",
        "    [\n",
        "        {\"customer_id\": 5, \"customer_name\": \"Customer 005\"},\n",
        "        {\"customer_id\": 6, \"customer_name\": \"Customer 006\"},\n",
        "        {\"customer_id\": 7, \"customer_name\": \"Customer 007\"},\n",
        "        {\"customer_id\": 8, \"customer_name\": \"Customer 008\"},\n",
        "    ],\n",
        ")\n",
        "\n",
        "table.append(df)"
      ]
    },
    {
      "cell_type": "code",
      "execution_count": null,
      "metadata": {
        "colab": {
          "base_uri": "https://localhost:8080/"
        },
        "executionInfo": {
          "elapsed": 5,
          "status": "ok",
          "timestamp": 1721866250292,
          "user": {
            "displayName": "",
            "userId": ""
          },
          "user_tz": 240
        },
        "id": "rPLrz0EQb27d",
        "outputId": "6db0f2e5-f812-497d-b01c-5c0004ca4f3b"
      },
      "outputs": [],
      "source": [
        "print(\"Open this URL to see your storage account:\")\n",
        "print(f\"https://console.cloud.google.com/storage/browser/{biglake_bucket_name}/{iceberg_catalog_namespace}.db/customer/metadata?project={project_id}\")"
      ]
    },
    {
      "cell_type": "code",
      "execution_count": null,
      "metadata": {
        "executionInfo": {
          "elapsed": 4,
          "status": "ok",
          "timestamp": 1721866250292,
          "user": {
            "displayName": "",
            "userId": ""
          },
          "user_tz": 240
        },
        "id": "spJcBv9QcW0c"
      },
      "outputs": [],
      "source": [
        "def patchBigLakeExternalIcebergTable(project_id, dataset_name, table_name, metadata_uri):\n",
        "  # https://cloud.google.com/bigquery/docs/iceberg-tables#api\n",
        "\n",
        "  # This will update the pointer of our BigLake Iceberg table to point to the most recent metadata.\n",
        "\n",
        "  access_token = getGoogleCredentials().token\n",
        "\n",
        "  headers = {\n",
        "      \"Content-Type\" : \"application/json\",\n",
        "      \"Authorization\" : \"Bearer \" + access_token\n",
        "  }\n",
        "\n",
        "  # PATCH https://bigquery.googleapis.com/bigquery/v2/projects/PROJECT_ID/datasets/DATASET/tables/TABLE?autodetect_schema=true\n",
        "  url = f\"https://bigquery.googleapis.com/bigquery/v2/projects/{project_id}/datasets/{dataset_name}/tables/{table_name}?autodetect_schema=true\"\n",
        "\n",
        "  payload = {\n",
        "     \"externalDataConfiguration\": {\n",
        "      \"sourceFormat\": \"ICEBERG\",\n",
        "      \"sourceUris\": [\n",
        "        metadata_uri\n",
        "      ]\n",
        "    },\n",
        "    \"schema\": None\n",
        "  }\n",
        "\n",
        "  response = requests.patch(url, json=payload, headers=headers)\n",
        "\n",
        "  if response.status_code == 200:\n",
        "    print(f\"Table Patched\")\n",
        "    return True\n",
        "  else:\n",
        "    error = f\"Error PATCHing table:'{project_id}.{dataset_name}.{table_name}'  Status:'{response.status_code}' Text:'{response.text}'\"\n",
        "    raise RuntimeError(error)"
      ]
    },
    {
      "cell_type": "code",
      "execution_count": null,
      "metadata": {
        "colab": {
          "base_uri": "https://localhost:8080/"
        },
        "executionInfo": {
          "elapsed": 1101,
          "status": "ok",
          "timestamp": 1721866251390,
          "user": {
            "displayName": "",
            "userId": ""
          },
          "user_tz": 240
        },
        "id": "sRreXg2LcwYt",
        "outputId": "2e452f2a-dcfd-4d9e-fb65-37928d7c683d"
      },
      "outputs": [],
      "source": [
        "metadata_uri = find_latest_metadata_file(f\"gs://{biglake_bucket_name}/{iceberg_catalog_namespace}.db/customer/metadata\")\n",
        "print(metadata_uri)\n",
        "\n",
        "patchBigLakeExternalIcebergTable(project_id, \"biglake_dataset\", \"customer_iceberg\", metadata_uri)"
      ]
    },
    {
      "cell_type": "code",
      "execution_count": null,
      "metadata": {
        "colab": {
          "base_uri": "https://localhost:8080/",
          "height": 364,
          "referenced_widgets": [
            "014d72b1172e48828d25f89912f5c78d",
            "99c0db24139f494ebb8d5da1c803807f",
            "d8ad0372c2a548468f5e1f4ddb7d350e",
            "219b21e364bc489787493c9f005668cb",
            "46c4b859f6c44252b39a9d2bc0c48d52",
            "b3408e091b9b40209c7a7ac637b26bc5",
            "fe9fbf011a174da6bef23765948fb491",
            "e45c3ccb392d49f4bf71f85d16856730",
            "762a66c58f014004a4703a8056d1213b",
            "836892d0d8844a7cbb400ccac2ba1af9",
            "a4f34b6162b944619e91dd8fd4eb8834",
            "93de71d1083c43d2b6c5c6b9d1b2cfc4",
            "abfd396ec65745159b78a4a8094378b3",
            "4cbd8dbb5d064a38ab5ed3f4e28efcbf",
            "64c8d5a43cc34834947e3ce6689ac719",
            "992a2132383a4659a86600b40ae22340",
            "3ebdb5443fec4a77a330b5b5aeeb31ca",
            "9cd7b07e6f4d408ca572e1bddcd3fca2",
            "cb9f0528bb4f44cab4ecd79f244a9afa",
            "7f86ec6a861b496eb3abdde99fb7687b",
            "e691e1cbe9f64e7289d99283642b5948",
            "db4ae3623677498d8e6ca3c4a271bd42"
          ]
        },
        "executionInfo": {
          "elapsed": 3205,
          "status": "ok",
          "timestamp": 1721866254593,
          "user": {
            "displayName": "",
            "userId": ""
          },
          "user_tz": 240
        },
        "id": "MNNJ20zOdk0s",
        "outputId": "fac5a9d1-1b58-4b0f-bd12-e46e232918d3"
      },
      "outputs": [],
      "source": [
        "%%bigquery\n",
        "\n",
        "-- We shoud now see 8 records\n",
        "SELECT * FROM `biglake_dataset.customer_iceberg`"
      ]
    },
    {
      "cell_type": "code",
      "execution_count": null,
      "metadata": {
        "executionInfo": {
          "elapsed": 432,
          "status": "ok",
          "timestamp": 1721866255023,
          "user": {
            "displayName": "",
            "userId": ""
          },
          "user_tz": 240
        },
        "id": "lu79hcGZgR-b"
      },
      "outputs": [],
      "source": [
        "# Change the table schema and then PATCH the BigLake table\n",
        "from pyiceberg.types import NestedField, StringType, DoubleType, LongType\n",
        "\n",
        "table = catalog.load_table(f\"{iceberg_catalog_namespace}.customer\")\n",
        "\n",
        "with table.update_schema() as update:\n",
        "    update.add_column(\"customer_description\", StringType())"
      ]
    },
    {
      "cell_type": "code",
      "execution_count": null,
      "metadata": {
        "colab": {
          "base_uri": "https://localhost:8080/"
        },
        "executionInfo": {
          "elapsed": 1648,
          "status": "ok",
          "timestamp": 1721866256669,
          "user": {
            "displayName": "",
            "userId": ""
          },
          "user_tz": 240
        },
        "id": "GvkCJrBEmvAj",
        "outputId": "29f8ed52-f267-4fda-c67a-ac92d4aa44d8"
      },
      "outputs": [],
      "source": [
        "metadata_uri = find_latest_metadata_file(f\"gs://{biglake_bucket_name}/{iceberg_catalog_namespace}.db/customer/metadata\")\n",
        "print(metadata_uri)\n",
        "\n",
        "patchBigLakeExternalIcebergTable(project_id, \"biglake_dataset\", \"customer_iceberg\", metadata_uri)"
      ]
    },
    {
      "cell_type": "code",
      "execution_count": null,
      "metadata": {
        "colab": {
          "base_uri": "https://localhost:8080/",
          "height": 364,
          "referenced_widgets": [
            "dfecec792696446284e8a482a24ddb6c",
            "a2bad76d9f374f53866aa915909d2129",
            "3e21051c48b448d5b3900b32429f9396",
            "65df7f56e8124ff482e21c3966a6ded7",
            "505116d7eb4a4538b094969b118b6fbc",
            "d44bc87f09994547afc5f1bfc5a6ca6c",
            "018f5d5c73ac438486c44c8c3a5cace7",
            "de99c7dbc19e43bea524ad48482f96b0",
            "e1f4088e29db482ca3996bdef8e6fdcd",
            "2f4d63e34b19400fa3cb1f214760c9f5",
            "2e85621432464e258fdf0e20918e26b0",
            "70ecba92eb3f40a98533994da9b80b3b",
            "babf4c3d2b37476db8cdc03be88d66b0",
            "60b39bce4b4d4424a9c5cf4d0b3fb865",
            "605755a372af474ebb81eee043749469",
            "a0df2f92b5314615a374eef97dcf7a82",
            "f956cebb264f44aeb5578a479bf06860",
            "6cffa1655f324a48ab0f7cdcb9b5a5e6",
            "581cb3914e174b849301798c4d0068c4",
            "9fc3a72b153d4ca0ae7422229fd59b20",
            "597923d3cfa242efa8791a8dd1c6a70e",
            "572465836e244d309bc5c032592b9ecf"
          ]
        },
        "executionInfo": {
          "elapsed": 4492,
          "status": "ok",
          "timestamp": 1721866261158,
          "user": {
            "displayName": "",
            "userId": ""
          },
          "user_tz": 240
        },
        "id": "fd5z07csmu9k",
        "outputId": "fc63434a-e9df-4528-a366-88256b28cdcb"
      },
      "outputs": [],
      "source": [
        "%%bigquery\n",
        "\n",
        "-- We shoud now see 8 records with the NEW field\n",
        "SELECT * FROM `biglake_dataset.customer_iceberg`"
      ]
    }
  ],
  "metadata": {
    "colab": {
      "collapsed_sections": [
        "hZZ2om3xe9Ax",
        "jHEEWOJCe6zk",
        "cghkfWlte_n4",
        "FG8mf-gNeRaL",
        "f05MM_xPILUe",
        "P_52x4o6IGnU",
        "h3XiGMZQHv_q",
        "PpOXinnpeMFF",
        "ag1Jh69OeXXb"
      ],
      "provenance": []
    },
    "kernelspec": {
      "display_name": "Python 3",
      "name": "python3"
    },
    "language_info": {
      "name": "python"
    },
    "widgets": {
      "application/vnd.jupyter.widget-state+json": {
        "01143f3717934e598333f237231b3c9c": {
          "model_module": "@jupyter-widgets/controls",
          "model_module_version": "1.5.0",
          "model_name": "FloatProgressModel",
          "state": {
            "_dom_classes": [],
            "_model_module": "@jupyter-widgets/controls",
            "_model_module_version": "1.5.0",
            "_model_name": "FloatProgressModel",
            "_view_count": null,
            "_view_module": "@jupyter-widgets/controls",
            "_view_module_version": "1.5.0",
            "_view_name": "ProgressView",
            "bar_style": "success",
            "description": "",
            "description_tooltip": null,
            "layout": "IPY_MODEL_de1ff2224c0b4a1dbc212ccb436561ea",
            "max": 4,
            "min": 0,
            "orientation": "horizontal",
            "style": "IPY_MODEL_c94c4ec6d47c474f852d1691cd47ac29",
            "value": 4
          }
        },
        "014d72b1172e48828d25f89912f5c78d": {
          "model_module": "@jupyter-widgets/controls",
          "model_module_version": "1.5.0",
          "model_name": "HBoxModel",
          "state": {
            "_dom_classes": [],
            "_model_module": "@jupyter-widgets/controls",
            "_model_module_version": "1.5.0",
            "_model_name": "HBoxModel",
            "_view_count": null,
            "_view_module": "@jupyter-widgets/controls",
            "_view_module_version": "1.5.0",
            "_view_name": "HBoxView",
            "box_style": "",
            "children": [
              "IPY_MODEL_99c0db24139f494ebb8d5da1c803807f",
              "IPY_MODEL_d8ad0372c2a548468f5e1f4ddb7d350e",
              "IPY_MODEL_219b21e364bc489787493c9f005668cb"
            ],
            "layout": "IPY_MODEL_46c4b859f6c44252b39a9d2bc0c48d52"
          }
        },
        "017c99c4e7364a47a50c2e8f87bb06a0": {
          "model_module": "@jupyter-widgets/base",
          "model_module_version": "1.2.0",
          "model_name": "LayoutModel",
          "state": {
            "_model_module": "@jupyter-widgets/base",
            "_model_module_version": "1.2.0",
            "_model_name": "LayoutModel",
            "_view_count": null,
            "_view_module": "@jupyter-widgets/base",
            "_view_module_version": "1.2.0",
            "_view_name": "LayoutView",
            "align_content": null,
            "align_items": null,
            "align_self": null,
            "border": null,
            "bottom": null,
            "display": null,
            "flex": null,
            "flex_flow": null,
            "grid_area": null,
            "grid_auto_columns": null,
            "grid_auto_flow": null,
            "grid_auto_rows": null,
            "grid_column": null,
            "grid_gap": null,
            "grid_row": null,
            "grid_template_areas": null,
            "grid_template_columns": null,
            "grid_template_rows": null,
            "height": null,
            "justify_content": null,
            "justify_items": null,
            "left": null,
            "margin": null,
            "max_height": null,
            "max_width": null,
            "min_height": null,
            "min_width": null,
            "object_fit": null,
            "object_position": null,
            "order": null,
            "overflow": null,
            "overflow_x": null,
            "overflow_y": null,
            "padding": null,
            "right": null,
            "top": null,
            "visibility": null,
            "width": null
          }
        },
        "018f5d5c73ac438486c44c8c3a5cace7": {
          "model_module": "@jupyter-widgets/controls",
          "model_module_version": "1.5.0",
          "model_name": "DescriptionStyleModel",
          "state": {
            "_model_module": "@jupyter-widgets/controls",
            "_model_module_version": "1.5.0",
            "_model_name": "DescriptionStyleModel",
            "_view_count": null,
            "_view_module": "@jupyter-widgets/base",
            "_view_module_version": "1.2.0",
            "_view_name": "StyleView",
            "description_width": ""
          }
        },
        "219b21e364bc489787493c9f005668cb": {
          "model_module": "@jupyter-widgets/controls",
          "model_module_version": "1.5.0",
          "model_name": "HTMLModel",
          "state": {
            "_dom_classes": [],
            "_model_module": "@jupyter-widgets/controls",
            "_model_module_version": "1.5.0",
            "_model_name": "HTMLModel",
            "_view_count": null,
            "_view_module": "@jupyter-widgets/controls",
            "_view_module_version": "1.5.0",
            "_view_name": "HTMLView",
            "description": "",
            "description_tooltip": null,
            "layout": "IPY_MODEL_836892d0d8844a7cbb400ccac2ba1af9",
            "placeholder": "​",
            "style": "IPY_MODEL_a4f34b6162b944619e91dd8fd4eb8834",
            "value": ""
          }
        },
        "2e85621432464e258fdf0e20918e26b0": {
          "model_module": "@jupyter-widgets/controls",
          "model_module_version": "1.5.0",
          "model_name": "DescriptionStyleModel",
          "state": {
            "_model_module": "@jupyter-widgets/controls",
            "_model_module_version": "1.5.0",
            "_model_name": "DescriptionStyleModel",
            "_view_count": null,
            "_view_module": "@jupyter-widgets/base",
            "_view_module_version": "1.2.0",
            "_view_name": "StyleView",
            "description_width": ""
          }
        },
        "2f4d63e34b19400fa3cb1f214760c9f5": {
          "model_module": "@jupyter-widgets/base",
          "model_module_version": "1.2.0",
          "model_name": "LayoutModel",
          "state": {
            "_model_module": "@jupyter-widgets/base",
            "_model_module_version": "1.2.0",
            "_model_name": "LayoutModel",
            "_view_count": null,
            "_view_module": "@jupyter-widgets/base",
            "_view_module_version": "1.2.0",
            "_view_name": "LayoutView",
            "align_content": null,
            "align_items": null,
            "align_self": null,
            "border": null,
            "bottom": null,
            "display": null,
            "flex": null,
            "flex_flow": null,
            "grid_area": null,
            "grid_auto_columns": null,
            "grid_auto_flow": null,
            "grid_auto_rows": null,
            "grid_column": null,
            "grid_gap": null,
            "grid_row": null,
            "grid_template_areas": null,
            "grid_template_columns": null,
            "grid_template_rows": null,
            "height": null,
            "justify_content": null,
            "justify_items": null,
            "left": null,
            "margin": null,
            "max_height": null,
            "max_width": null,
            "min_height": null,
            "min_width": null,
            "object_fit": null,
            "object_position": null,
            "order": null,
            "overflow": null,
            "overflow_x": null,
            "overflow_y": null,
            "padding": null,
            "right": null,
            "top": null,
            "visibility": null,
            "width": null
          }
        },
        "31b6bf295c61441e988e1084ca63875a": {
          "model_module": "@jupyter-widgets/base",
          "model_module_version": "1.2.0",
          "model_name": "LayoutModel",
          "state": {
            "_model_module": "@jupyter-widgets/base",
            "_model_module_version": "1.2.0",
            "_model_name": "LayoutModel",
            "_view_count": null,
            "_view_module": "@jupyter-widgets/base",
            "_view_module_version": "1.2.0",
            "_view_name": "LayoutView",
            "align_content": null,
            "align_items": null,
            "align_self": null,
            "border": null,
            "bottom": null,
            "display": null,
            "flex": null,
            "flex_flow": null,
            "grid_area": null,
            "grid_auto_columns": null,
            "grid_auto_flow": null,
            "grid_auto_rows": null,
            "grid_column": null,
            "grid_gap": null,
            "grid_row": null,
            "grid_template_areas": null,
            "grid_template_columns": null,
            "grid_template_rows": null,
            "height": null,
            "justify_content": null,
            "justify_items": null,
            "left": null,
            "margin": null,
            "max_height": null,
            "max_width": null,
            "min_height": null,
            "min_width": null,
            "object_fit": null,
            "object_position": null,
            "order": null,
            "overflow": null,
            "overflow_x": null,
            "overflow_y": null,
            "padding": null,
            "right": null,
            "top": null,
            "visibility": null,
            "width": null
          }
        },
        "3357a14ee11b4552bebb662ae3a59907": {
          "model_module": "@jupyter-widgets/controls",
          "model_module_version": "1.5.0",
          "model_name": "HBoxModel",
          "state": {
            "_dom_classes": [],
            "_model_module": "@jupyter-widgets/controls",
            "_model_module_version": "1.5.0",
            "_model_name": "HBoxModel",
            "_view_count": null,
            "_view_module": "@jupyter-widgets/controls",
            "_view_module_version": "1.5.0",
            "_view_name": "HBoxView",
            "box_style": "",
            "children": [
              "IPY_MODEL_fa72635c86364b428fc174ff8db609dc",
              "IPY_MODEL_bb346f8ac11949a7882c54b3218729bb",
              "IPY_MODEL_b8fdb7302fb5411eb72105c46d7ed12a"
            ],
            "layout": "IPY_MODEL_4710e9772ae4429293dc1afbec98c000"
          }
        },
        "3e21051c48b448d5b3900b32429f9396": {
          "model_module": "@jupyter-widgets/controls",
          "model_module_version": "1.5.0",
          "model_name": "FloatProgressModel",
          "state": {
            "_dom_classes": [],
            "_model_module": "@jupyter-widgets/controls",
            "_model_module_version": "1.5.0",
            "_model_name": "FloatProgressModel",
            "_view_count": null,
            "_view_module": "@jupyter-widgets/controls",
            "_view_module_version": "1.5.0",
            "_view_name": "ProgressView",
            "bar_style": "success",
            "description": "",
            "description_tooltip": null,
            "layout": "IPY_MODEL_de99c7dbc19e43bea524ad48482f96b0",
            "max": 1,
            "min": 0,
            "orientation": "horizontal",
            "style": "IPY_MODEL_e1f4088e29db482ca3996bdef8e6fdcd",
            "value": 1
          }
        },
        "3ebdb5443fec4a77a330b5b5aeeb31ca": {
          "model_module": "@jupyter-widgets/base",
          "model_module_version": "1.2.0",
          "model_name": "LayoutModel",
          "state": {
            "_model_module": "@jupyter-widgets/base",
            "_model_module_version": "1.2.0",
            "_model_name": "LayoutModel",
            "_view_count": null,
            "_view_module": "@jupyter-widgets/base",
            "_view_module_version": "1.2.0",
            "_view_name": "LayoutView",
            "align_content": null,
            "align_items": null,
            "align_self": null,
            "border": null,
            "bottom": null,
            "display": null,
            "flex": null,
            "flex_flow": null,
            "grid_area": null,
            "grid_auto_columns": null,
            "grid_auto_flow": null,
            "grid_auto_rows": null,
            "grid_column": null,
            "grid_gap": null,
            "grid_row": null,
            "grid_template_areas": null,
            "grid_template_columns": null,
            "grid_template_rows": null,
            "height": null,
            "justify_content": null,
            "justify_items": null,
            "left": null,
            "margin": null,
            "max_height": null,
            "max_width": null,
            "min_height": null,
            "min_width": null,
            "object_fit": null,
            "object_position": null,
            "order": null,
            "overflow": null,
            "overflow_x": null,
            "overflow_y": null,
            "padding": null,
            "right": null,
            "top": null,
            "visibility": null,
            "width": null
          }
        },
        "46c4b859f6c44252b39a9d2bc0c48d52": {
          "model_module": "@jupyter-widgets/base",
          "model_module_version": "1.2.0",
          "model_name": "LayoutModel",
          "state": {
            "_model_module": "@jupyter-widgets/base",
            "_model_module_version": "1.2.0",
            "_model_name": "LayoutModel",
            "_view_count": null,
            "_view_module": "@jupyter-widgets/base",
            "_view_module_version": "1.2.0",
            "_view_name": "LayoutView",
            "align_content": null,
            "align_items": null,
            "align_self": null,
            "border": null,
            "bottom": null,
            "display": null,
            "flex": null,
            "flex_flow": null,
            "grid_area": null,
            "grid_auto_columns": null,
            "grid_auto_flow": null,
            "grid_auto_rows": null,
            "grid_column": null,
            "grid_gap": null,
            "grid_row": null,
            "grid_template_areas": null,
            "grid_template_columns": null,
            "grid_template_rows": null,
            "height": null,
            "justify_content": null,
            "justify_items": null,
            "left": null,
            "margin": null,
            "max_height": null,
            "max_width": null,
            "min_height": null,
            "min_width": null,
            "object_fit": null,
            "object_position": null,
            "order": null,
            "overflow": null,
            "overflow_x": null,
            "overflow_y": null,
            "padding": null,
            "right": null,
            "top": null,
            "visibility": null,
            "width": null
          }
        },
        "4710e9772ae4429293dc1afbec98c000": {
          "model_module": "@jupyter-widgets/base",
          "model_module_version": "1.2.0",
          "model_name": "LayoutModel",
          "state": {
            "_model_module": "@jupyter-widgets/base",
            "_model_module_version": "1.2.0",
            "_model_name": "LayoutModel",
            "_view_count": null,
            "_view_module": "@jupyter-widgets/base",
            "_view_module_version": "1.2.0",
            "_view_name": "LayoutView",
            "align_content": null,
            "align_items": null,
            "align_self": null,
            "border": null,
            "bottom": null,
            "display": null,
            "flex": null,
            "flex_flow": null,
            "grid_area": null,
            "grid_auto_columns": null,
            "grid_auto_flow": null,
            "grid_auto_rows": null,
            "grid_column": null,
            "grid_gap": null,
            "grid_row": null,
            "grid_template_areas": null,
            "grid_template_columns": null,
            "grid_template_rows": null,
            "height": null,
            "justify_content": null,
            "justify_items": null,
            "left": null,
            "margin": null,
            "max_height": null,
            "max_width": null,
            "min_height": null,
            "min_width": null,
            "object_fit": null,
            "object_position": null,
            "order": null,
            "overflow": null,
            "overflow_x": null,
            "overflow_y": null,
            "padding": null,
            "right": null,
            "top": null,
            "visibility": null,
            "width": null
          }
        },
        "48db477225744a5fb94b82e6cd330cff": {
          "model_module": "@jupyter-widgets/base",
          "model_module_version": "1.2.0",
          "model_name": "LayoutModel",
          "state": {
            "_model_module": "@jupyter-widgets/base",
            "_model_module_version": "1.2.0",
            "_model_name": "LayoutModel",
            "_view_count": null,
            "_view_module": "@jupyter-widgets/base",
            "_view_module_version": "1.2.0",
            "_view_name": "LayoutView",
            "align_content": null,
            "align_items": null,
            "align_self": null,
            "border": null,
            "bottom": null,
            "display": null,
            "flex": null,
            "flex_flow": null,
            "grid_area": null,
            "grid_auto_columns": null,
            "grid_auto_flow": null,
            "grid_auto_rows": null,
            "grid_column": null,
            "grid_gap": null,
            "grid_row": null,
            "grid_template_areas": null,
            "grid_template_columns": null,
            "grid_template_rows": null,
            "height": null,
            "justify_content": null,
            "justify_items": null,
            "left": null,
            "margin": null,
            "max_height": null,
            "max_width": null,
            "min_height": null,
            "min_width": null,
            "object_fit": null,
            "object_position": null,
            "order": null,
            "overflow": null,
            "overflow_x": null,
            "overflow_y": null,
            "padding": null,
            "right": null,
            "top": null,
            "visibility": null,
            "width": null
          }
        },
        "4cbd8dbb5d064a38ab5ed3f4e28efcbf": {
          "model_module": "@jupyter-widgets/controls",
          "model_module_version": "1.5.0",
          "model_name": "FloatProgressModel",
          "state": {
            "_dom_classes": [],
            "_model_module": "@jupyter-widgets/controls",
            "_model_module_version": "1.5.0",
            "_model_name": "FloatProgressModel",
            "_view_count": null,
            "_view_module": "@jupyter-widgets/controls",
            "_view_module_version": "1.5.0",
            "_view_name": "ProgressView",
            "bar_style": "success",
            "description": "",
            "description_tooltip": null,
            "layout": "IPY_MODEL_cb9f0528bb4f44cab4ecd79f244a9afa",
            "max": 8,
            "min": 0,
            "orientation": "horizontal",
            "style": "IPY_MODEL_7f86ec6a861b496eb3abdde99fb7687b",
            "value": 8
          }
        },
        "505116d7eb4a4538b094969b118b6fbc": {
          "model_module": "@jupyter-widgets/base",
          "model_module_version": "1.2.0",
          "model_name": "LayoutModel",
          "state": {
            "_model_module": "@jupyter-widgets/base",
            "_model_module_version": "1.2.0",
            "_model_name": "LayoutModel",
            "_view_count": null,
            "_view_module": "@jupyter-widgets/base",
            "_view_module_version": "1.2.0",
            "_view_name": "LayoutView",
            "align_content": null,
            "align_items": null,
            "align_self": null,
            "border": null,
            "bottom": null,
            "display": null,
            "flex": null,
            "flex_flow": null,
            "grid_area": null,
            "grid_auto_columns": null,
            "grid_auto_flow": null,
            "grid_auto_rows": null,
            "grid_column": null,
            "grid_gap": null,
            "grid_row": null,
            "grid_template_areas": null,
            "grid_template_columns": null,
            "grid_template_rows": null,
            "height": null,
            "justify_content": null,
            "justify_items": null,
            "left": null,
            "margin": null,
            "max_height": null,
            "max_width": null,
            "min_height": null,
            "min_width": null,
            "object_fit": null,
            "object_position": null,
            "order": null,
            "overflow": null,
            "overflow_x": null,
            "overflow_y": null,
            "padding": null,
            "right": null,
            "top": null,
            "visibility": null,
            "width": null
          }
        },
        "572465836e244d309bc5c032592b9ecf": {
          "model_module": "@jupyter-widgets/controls",
          "model_module_version": "1.5.0",
          "model_name": "DescriptionStyleModel",
          "state": {
            "_model_module": "@jupyter-widgets/controls",
            "_model_module_version": "1.5.0",
            "_model_name": "DescriptionStyleModel",
            "_view_count": null,
            "_view_module": "@jupyter-widgets/base",
            "_view_module_version": "1.2.0",
            "_view_name": "StyleView",
            "description_width": ""
          }
        },
        "57aa7e0f148741e4bdedc766af2f2498": {
          "model_module": "@jupyter-widgets/base",
          "model_module_version": "1.2.0",
          "model_name": "LayoutModel",
          "state": {
            "_model_module": "@jupyter-widgets/base",
            "_model_module_version": "1.2.0",
            "_model_name": "LayoutModel",
            "_view_count": null,
            "_view_module": "@jupyter-widgets/base",
            "_view_module_version": "1.2.0",
            "_view_name": "LayoutView",
            "align_content": null,
            "align_items": null,
            "align_self": null,
            "border": null,
            "bottom": null,
            "display": null,
            "flex": null,
            "flex_flow": null,
            "grid_area": null,
            "grid_auto_columns": null,
            "grid_auto_flow": null,
            "grid_auto_rows": null,
            "grid_column": null,
            "grid_gap": null,
            "grid_row": null,
            "grid_template_areas": null,
            "grid_template_columns": null,
            "grid_template_rows": null,
            "height": null,
            "justify_content": null,
            "justify_items": null,
            "left": null,
            "margin": null,
            "max_height": null,
            "max_width": null,
            "min_height": null,
            "min_width": null,
            "object_fit": null,
            "object_position": null,
            "order": null,
            "overflow": null,
            "overflow_x": null,
            "overflow_y": null,
            "padding": null,
            "right": null,
            "top": null,
            "visibility": null,
            "width": null
          }
        },
        "581cb3914e174b849301798c4d0068c4": {
          "model_module": "@jupyter-widgets/base",
          "model_module_version": "1.2.0",
          "model_name": "LayoutModel",
          "state": {
            "_model_module": "@jupyter-widgets/base",
            "_model_module_version": "1.2.0",
            "_model_name": "LayoutModel",
            "_view_count": null,
            "_view_module": "@jupyter-widgets/base",
            "_view_module_version": "1.2.0",
            "_view_name": "LayoutView",
            "align_content": null,
            "align_items": null,
            "align_self": null,
            "border": null,
            "bottom": null,
            "display": null,
            "flex": null,
            "flex_flow": null,
            "grid_area": null,
            "grid_auto_columns": null,
            "grid_auto_flow": null,
            "grid_auto_rows": null,
            "grid_column": null,
            "grid_gap": null,
            "grid_row": null,
            "grid_template_areas": null,
            "grid_template_columns": null,
            "grid_template_rows": null,
            "height": null,
            "justify_content": null,
            "justify_items": null,
            "left": null,
            "margin": null,
            "max_height": null,
            "max_width": null,
            "min_height": null,
            "min_width": null,
            "object_fit": null,
            "object_position": null,
            "order": null,
            "overflow": null,
            "overflow_x": null,
            "overflow_y": null,
            "padding": null,
            "right": null,
            "top": null,
            "visibility": null,
            "width": null
          }
        },
        "58475b489ef1472b8ff54fa8c2bd5392": {
          "model_module": "@jupyter-widgets/controls",
          "model_module_version": "1.5.0",
          "model_name": "HBoxModel",
          "state": {
            "_dom_classes": [],
            "_model_module": "@jupyter-widgets/controls",
            "_model_module_version": "1.5.0",
            "_model_name": "HBoxModel",
            "_view_count": null,
            "_view_module": "@jupyter-widgets/controls",
            "_view_module_version": "1.5.0",
            "_view_name": "HBoxView",
            "box_style": "",
            "children": [
              "IPY_MODEL_854d4bf794594154ab6882af1c9c4ebe",
              "IPY_MODEL_01143f3717934e598333f237231b3c9c",
              "IPY_MODEL_94587c1eb0184a6788f1fa754fa80994"
            ],
            "layout": "IPY_MODEL_a44330a32b1a4fee837746f10ca761fd"
          }
        },
        "597923d3cfa242efa8791a8dd1c6a70e": {
          "model_module": "@jupyter-widgets/base",
          "model_module_version": "1.2.0",
          "model_name": "LayoutModel",
          "state": {
            "_model_module": "@jupyter-widgets/base",
            "_model_module_version": "1.2.0",
            "_model_name": "LayoutModel",
            "_view_count": null,
            "_view_module": "@jupyter-widgets/base",
            "_view_module_version": "1.2.0",
            "_view_name": "LayoutView",
            "align_content": null,
            "align_items": null,
            "align_self": null,
            "border": null,
            "bottom": null,
            "display": null,
            "flex": null,
            "flex_flow": null,
            "grid_area": null,
            "grid_auto_columns": null,
            "grid_auto_flow": null,
            "grid_auto_rows": null,
            "grid_column": null,
            "grid_gap": null,
            "grid_row": null,
            "grid_template_areas": null,
            "grid_template_columns": null,
            "grid_template_rows": null,
            "height": null,
            "justify_content": null,
            "justify_items": null,
            "left": null,
            "margin": null,
            "max_height": null,
            "max_width": null,
            "min_height": null,
            "min_width": null,
            "object_fit": null,
            "object_position": null,
            "order": null,
            "overflow": null,
            "overflow_x": null,
            "overflow_y": null,
            "padding": null,
            "right": null,
            "top": null,
            "visibility": null,
            "width": null
          }
        },
        "5d3379a04c33411398031491bc9bb39a": {
          "model_module": "@jupyter-widgets/base",
          "model_module_version": "1.2.0",
          "model_name": "LayoutModel",
          "state": {
            "_model_module": "@jupyter-widgets/base",
            "_model_module_version": "1.2.0",
            "_model_name": "LayoutModel",
            "_view_count": null,
            "_view_module": "@jupyter-widgets/base",
            "_view_module_version": "1.2.0",
            "_view_name": "LayoutView",
            "align_content": null,
            "align_items": null,
            "align_self": null,
            "border": null,
            "bottom": null,
            "display": null,
            "flex": null,
            "flex_flow": null,
            "grid_area": null,
            "grid_auto_columns": null,
            "grid_auto_flow": null,
            "grid_auto_rows": null,
            "grid_column": null,
            "grid_gap": null,
            "grid_row": null,
            "grid_template_areas": null,
            "grid_template_columns": null,
            "grid_template_rows": null,
            "height": null,
            "justify_content": null,
            "justify_items": null,
            "left": null,
            "margin": null,
            "max_height": null,
            "max_width": null,
            "min_height": null,
            "min_width": null,
            "object_fit": null,
            "object_position": null,
            "order": null,
            "overflow": null,
            "overflow_x": null,
            "overflow_y": null,
            "padding": null,
            "right": null,
            "top": null,
            "visibility": null,
            "width": null
          }
        },
        "6045cb17a18c4a03901f3d28184d23aa": {
          "model_module": "@jupyter-widgets/controls",
          "model_module_version": "1.5.0",
          "model_name": "ProgressStyleModel",
          "state": {
            "_model_module": "@jupyter-widgets/controls",
            "_model_module_version": "1.5.0",
            "_model_name": "ProgressStyleModel",
            "_view_count": null,
            "_view_module": "@jupyter-widgets/base",
            "_view_module_version": "1.2.0",
            "_view_name": "StyleView",
            "bar_color": null,
            "description_width": ""
          }
        },
        "605755a372af474ebb81eee043749469": {
          "model_module": "@jupyter-widgets/controls",
          "model_module_version": "1.5.0",
          "model_name": "HTMLModel",
          "state": {
            "_dom_classes": [],
            "_model_module": "@jupyter-widgets/controls",
            "_model_module_version": "1.5.0",
            "_model_name": "HTMLModel",
            "_view_count": null,
            "_view_module": "@jupyter-widgets/controls",
            "_view_module_version": "1.5.0",
            "_view_name": "HTMLView",
            "description": "",
            "description_tooltip": null,
            "layout": "IPY_MODEL_597923d3cfa242efa8791a8dd1c6a70e",
            "placeholder": "​",
            "style": "IPY_MODEL_572465836e244d309bc5c032592b9ecf",
            "value": ""
          }
        },
        "60b39bce4b4d4424a9c5cf4d0b3fb865": {
          "model_module": "@jupyter-widgets/controls",
          "model_module_version": "1.5.0",
          "model_name": "FloatProgressModel",
          "state": {
            "_dom_classes": [],
            "_model_module": "@jupyter-widgets/controls",
            "_model_module_version": "1.5.0",
            "_model_name": "FloatProgressModel",
            "_view_count": null,
            "_view_module": "@jupyter-widgets/controls",
            "_view_module_version": "1.5.0",
            "_view_name": "ProgressView",
            "bar_style": "success",
            "description": "",
            "description_tooltip": null,
            "layout": "IPY_MODEL_581cb3914e174b849301798c4d0068c4",
            "max": 8,
            "min": 0,
            "orientation": "horizontal",
            "style": "IPY_MODEL_9fc3a72b153d4ca0ae7422229fd59b20",
            "value": 8
          }
        },
        "64c8d5a43cc34834947e3ce6689ac719": {
          "model_module": "@jupyter-widgets/controls",
          "model_module_version": "1.5.0",
          "model_name": "HTMLModel",
          "state": {
            "_dom_classes": [],
            "_model_module": "@jupyter-widgets/controls",
            "_model_module_version": "1.5.0",
            "_model_name": "HTMLModel",
            "_view_count": null,
            "_view_module": "@jupyter-widgets/controls",
            "_view_module_version": "1.5.0",
            "_view_name": "HTMLView",
            "description": "",
            "description_tooltip": null,
            "layout": "IPY_MODEL_e691e1cbe9f64e7289d99283642b5948",
            "placeholder": "​",
            "style": "IPY_MODEL_db4ae3623677498d8e6ca3c4a271bd42",
            "value": ""
          }
        },
        "650ba58292cf4de7a4c333e59d01c4df": {
          "model_module": "@jupyter-widgets/base",
          "model_module_version": "1.2.0",
          "model_name": "LayoutModel",
          "state": {
            "_model_module": "@jupyter-widgets/base",
            "_model_module_version": "1.2.0",
            "_model_name": "LayoutModel",
            "_view_count": null,
            "_view_module": "@jupyter-widgets/base",
            "_view_module_version": "1.2.0",
            "_view_name": "LayoutView",
            "align_content": null,
            "align_items": null,
            "align_self": null,
            "border": null,
            "bottom": null,
            "display": null,
            "flex": null,
            "flex_flow": null,
            "grid_area": null,
            "grid_auto_columns": null,
            "grid_auto_flow": null,
            "grid_auto_rows": null,
            "grid_column": null,
            "grid_gap": null,
            "grid_row": null,
            "grid_template_areas": null,
            "grid_template_columns": null,
            "grid_template_rows": null,
            "height": null,
            "justify_content": null,
            "justify_items": null,
            "left": null,
            "margin": null,
            "max_height": null,
            "max_width": null,
            "min_height": null,
            "min_width": null,
            "object_fit": null,
            "object_position": null,
            "order": null,
            "overflow": null,
            "overflow_x": null,
            "overflow_y": null,
            "padding": null,
            "right": null,
            "top": null,
            "visibility": null,
            "width": null
          }
        },
        "65df7f56e8124ff482e21c3966a6ded7": {
          "model_module": "@jupyter-widgets/controls",
          "model_module_version": "1.5.0",
          "model_name": "HTMLModel",
          "state": {
            "_dom_classes": [],
            "_model_module": "@jupyter-widgets/controls",
            "_model_module_version": "1.5.0",
            "_model_name": "HTMLModel",
            "_view_count": null,
            "_view_module": "@jupyter-widgets/controls",
            "_view_module_version": "1.5.0",
            "_view_name": "HTMLView",
            "description": "",
            "description_tooltip": null,
            "layout": "IPY_MODEL_2f4d63e34b19400fa3cb1f214760c9f5",
            "placeholder": "​",
            "style": "IPY_MODEL_2e85621432464e258fdf0e20918e26b0",
            "value": ""
          }
        },
        "6cffa1655f324a48ab0f7cdcb9b5a5e6": {
          "model_module": "@jupyter-widgets/controls",
          "model_module_version": "1.5.0",
          "model_name": "DescriptionStyleModel",
          "state": {
            "_model_module": "@jupyter-widgets/controls",
            "_model_module_version": "1.5.0",
            "_model_name": "DescriptionStyleModel",
            "_view_count": null,
            "_view_module": "@jupyter-widgets/base",
            "_view_module_version": "1.2.0",
            "_view_name": "StyleView",
            "description_width": ""
          }
        },
        "70ecba92eb3f40a98533994da9b80b3b": {
          "model_module": "@jupyter-widgets/controls",
          "model_module_version": "1.5.0",
          "model_name": "HBoxModel",
          "state": {
            "_dom_classes": [],
            "_model_module": "@jupyter-widgets/controls",
            "_model_module_version": "1.5.0",
            "_model_name": "HBoxModel",
            "_view_count": null,
            "_view_module": "@jupyter-widgets/controls",
            "_view_module_version": "1.5.0",
            "_view_name": "HBoxView",
            "box_style": "",
            "children": [
              "IPY_MODEL_babf4c3d2b37476db8cdc03be88d66b0",
              "IPY_MODEL_60b39bce4b4d4424a9c5cf4d0b3fb865",
              "IPY_MODEL_605755a372af474ebb81eee043749469"
            ],
            "layout": "IPY_MODEL_a0df2f92b5314615a374eef97dcf7a82"
          }
        },
        "762a66c58f014004a4703a8056d1213b": {
          "model_module": "@jupyter-widgets/controls",
          "model_module_version": "1.5.0",
          "model_name": "ProgressStyleModel",
          "state": {
            "_model_module": "@jupyter-widgets/controls",
            "_model_module_version": "1.5.0",
            "_model_name": "ProgressStyleModel",
            "_view_count": null,
            "_view_module": "@jupyter-widgets/base",
            "_view_module_version": "1.2.0",
            "_view_name": "StyleView",
            "bar_color": null,
            "description_width": ""
          }
        },
        "77b57459f1d9481b8a327c9a9b9494bf": {
          "model_module": "@jupyter-widgets/controls",
          "model_module_version": "1.5.0",
          "model_name": "DescriptionStyleModel",
          "state": {
            "_model_module": "@jupyter-widgets/controls",
            "_model_module_version": "1.5.0",
            "_model_name": "DescriptionStyleModel",
            "_view_count": null,
            "_view_module": "@jupyter-widgets/base",
            "_view_module_version": "1.2.0",
            "_view_name": "StyleView",
            "description_width": ""
          }
        },
        "7894e0d52c1342aba41a264237de3bb9": {
          "model_module": "@jupyter-widgets/controls",
          "model_module_version": "1.5.0",
          "model_name": "DescriptionStyleModel",
          "state": {
            "_model_module": "@jupyter-widgets/controls",
            "_model_module_version": "1.5.0",
            "_model_name": "DescriptionStyleModel",
            "_view_count": null,
            "_view_module": "@jupyter-widgets/base",
            "_view_module_version": "1.2.0",
            "_view_name": "StyleView",
            "description_width": ""
          }
        },
        "7f86ec6a861b496eb3abdde99fb7687b": {
          "model_module": "@jupyter-widgets/controls",
          "model_module_version": "1.5.0",
          "model_name": "ProgressStyleModel",
          "state": {
            "_model_module": "@jupyter-widgets/controls",
            "_model_module_version": "1.5.0",
            "_model_name": "ProgressStyleModel",
            "_view_count": null,
            "_view_module": "@jupyter-widgets/base",
            "_view_module_version": "1.2.0",
            "_view_name": "StyleView",
            "bar_color": null,
            "description_width": ""
          }
        },
        "836892d0d8844a7cbb400ccac2ba1af9": {
          "model_module": "@jupyter-widgets/base",
          "model_module_version": "1.2.0",
          "model_name": "LayoutModel",
          "state": {
            "_model_module": "@jupyter-widgets/base",
            "_model_module_version": "1.2.0",
            "_model_name": "LayoutModel",
            "_view_count": null,
            "_view_module": "@jupyter-widgets/base",
            "_view_module_version": "1.2.0",
            "_view_name": "LayoutView",
            "align_content": null,
            "align_items": null,
            "align_self": null,
            "border": null,
            "bottom": null,
            "display": null,
            "flex": null,
            "flex_flow": null,
            "grid_area": null,
            "grid_auto_columns": null,
            "grid_auto_flow": null,
            "grid_auto_rows": null,
            "grid_column": null,
            "grid_gap": null,
            "grid_row": null,
            "grid_template_areas": null,
            "grid_template_columns": null,
            "grid_template_rows": null,
            "height": null,
            "justify_content": null,
            "justify_items": null,
            "left": null,
            "margin": null,
            "max_height": null,
            "max_width": null,
            "min_height": null,
            "min_width": null,
            "object_fit": null,
            "object_position": null,
            "order": null,
            "overflow": null,
            "overflow_x": null,
            "overflow_y": null,
            "padding": null,
            "right": null,
            "top": null,
            "visibility": null,
            "width": null
          }
        },
        "854d4bf794594154ab6882af1c9c4ebe": {
          "model_module": "@jupyter-widgets/controls",
          "model_module_version": "1.5.0",
          "model_name": "HTMLModel",
          "state": {
            "_dom_classes": [],
            "_model_module": "@jupyter-widgets/controls",
            "_model_module_version": "1.5.0",
            "_model_name": "HTMLModel",
            "_view_count": null,
            "_view_module": "@jupyter-widgets/controls",
            "_view_module_version": "1.5.0",
            "_view_name": "HTMLView",
            "description": "",
            "description_tooltip": null,
            "layout": "IPY_MODEL_48db477225744a5fb94b82e6cd330cff",
            "placeholder": "​",
            "style": "IPY_MODEL_b3e9698c1566455c9d3f817b7328d970",
            "value": "Downloading: 100%"
          }
        },
        "93de71d1083c43d2b6c5c6b9d1b2cfc4": {
          "model_module": "@jupyter-widgets/controls",
          "model_module_version": "1.5.0",
          "model_name": "HBoxModel",
          "state": {
            "_dom_classes": [],
            "_model_module": "@jupyter-widgets/controls",
            "_model_module_version": "1.5.0",
            "_model_name": "HBoxModel",
            "_view_count": null,
            "_view_module": "@jupyter-widgets/controls",
            "_view_module_version": "1.5.0",
            "_view_name": "HBoxView",
            "box_style": "",
            "children": [
              "IPY_MODEL_abfd396ec65745159b78a4a8094378b3",
              "IPY_MODEL_4cbd8dbb5d064a38ab5ed3f4e28efcbf",
              "IPY_MODEL_64c8d5a43cc34834947e3ce6689ac719"
            ],
            "layout": "IPY_MODEL_992a2132383a4659a86600b40ae22340"
          }
        },
        "94587c1eb0184a6788f1fa754fa80994": {
          "model_module": "@jupyter-widgets/controls",
          "model_module_version": "1.5.0",
          "model_name": "HTMLModel",
          "state": {
            "_dom_classes": [],
            "_model_module": "@jupyter-widgets/controls",
            "_model_module_version": "1.5.0",
            "_model_name": "HTMLModel",
            "_view_count": null,
            "_view_module": "@jupyter-widgets/controls",
            "_view_module_version": "1.5.0",
            "_view_name": "HTMLView",
            "description": "",
            "description_tooltip": null,
            "layout": "IPY_MODEL_e8674dfc29e84369985ecfbcbde6ae43",
            "placeholder": "​",
            "style": "IPY_MODEL_cd260a4632db48ddb782c957a1946809",
            "value": ""
          }
        },
        "992a2132383a4659a86600b40ae22340": {
          "model_module": "@jupyter-widgets/base",
          "model_module_version": "1.2.0",
          "model_name": "LayoutModel",
          "state": {
            "_model_module": "@jupyter-widgets/base",
            "_model_module_version": "1.2.0",
            "_model_name": "LayoutModel",
            "_view_count": null,
            "_view_module": "@jupyter-widgets/base",
            "_view_module_version": "1.2.0",
            "_view_name": "LayoutView",
            "align_content": null,
            "align_items": null,
            "align_self": null,
            "border": null,
            "bottom": null,
            "display": null,
            "flex": null,
            "flex_flow": null,
            "grid_area": null,
            "grid_auto_columns": null,
            "grid_auto_flow": null,
            "grid_auto_rows": null,
            "grid_column": null,
            "grid_gap": null,
            "grid_row": null,
            "grid_template_areas": null,
            "grid_template_columns": null,
            "grid_template_rows": null,
            "height": null,
            "justify_content": null,
            "justify_items": null,
            "left": null,
            "margin": null,
            "max_height": null,
            "max_width": null,
            "min_height": null,
            "min_width": null,
            "object_fit": null,
            "object_position": null,
            "order": null,
            "overflow": null,
            "overflow_x": null,
            "overflow_y": null,
            "padding": null,
            "right": null,
            "top": null,
            "visibility": null,
            "width": null
          }
        },
        "99c0db24139f494ebb8d5da1c803807f": {
          "model_module": "@jupyter-widgets/controls",
          "model_module_version": "1.5.0",
          "model_name": "HTMLModel",
          "state": {
            "_dom_classes": [],
            "_model_module": "@jupyter-widgets/controls",
            "_model_module_version": "1.5.0",
            "_model_name": "HTMLModel",
            "_view_count": null,
            "_view_module": "@jupyter-widgets/controls",
            "_view_module_version": "1.5.0",
            "_view_name": "HTMLView",
            "description": "",
            "description_tooltip": null,
            "layout": "IPY_MODEL_b3408e091b9b40209c7a7ac637b26bc5",
            "placeholder": "​",
            "style": "IPY_MODEL_fe9fbf011a174da6bef23765948fb491",
            "value": "Job ID 6ba6e980-7b61-40ea-87b8-0a040f45912e successfully executed: 100%"
          }
        },
        "9cd7b07e6f4d408ca572e1bddcd3fca2": {
          "model_module": "@jupyter-widgets/controls",
          "model_module_version": "1.5.0",
          "model_name": "DescriptionStyleModel",
          "state": {
            "_model_module": "@jupyter-widgets/controls",
            "_model_module_version": "1.5.0",
            "_model_name": "DescriptionStyleModel",
            "_view_count": null,
            "_view_module": "@jupyter-widgets/base",
            "_view_module_version": "1.2.0",
            "_view_name": "StyleView",
            "description_width": ""
          }
        },
        "9e0aed501f2e4087aa4772955289570e": {
          "model_module": "@jupyter-widgets/base",
          "model_module_version": "1.2.0",
          "model_name": "LayoutModel",
          "state": {
            "_model_module": "@jupyter-widgets/base",
            "_model_module_version": "1.2.0",
            "_model_name": "LayoutModel",
            "_view_count": null,
            "_view_module": "@jupyter-widgets/base",
            "_view_module_version": "1.2.0",
            "_view_name": "LayoutView",
            "align_content": null,
            "align_items": null,
            "align_self": null,
            "border": null,
            "bottom": null,
            "display": null,
            "flex": null,
            "flex_flow": null,
            "grid_area": null,
            "grid_auto_columns": null,
            "grid_auto_flow": null,
            "grid_auto_rows": null,
            "grid_column": null,
            "grid_gap": null,
            "grid_row": null,
            "grid_template_areas": null,
            "grid_template_columns": null,
            "grid_template_rows": null,
            "height": null,
            "justify_content": null,
            "justify_items": null,
            "left": null,
            "margin": null,
            "max_height": null,
            "max_width": null,
            "min_height": null,
            "min_width": null,
            "object_fit": null,
            "object_position": null,
            "order": null,
            "overflow": null,
            "overflow_x": null,
            "overflow_y": null,
            "padding": null,
            "right": null,
            "top": null,
            "visibility": null,
            "width": null
          }
        },
        "9fc3a72b153d4ca0ae7422229fd59b20": {
          "model_module": "@jupyter-widgets/controls",
          "model_module_version": "1.5.0",
          "model_name": "ProgressStyleModel",
          "state": {
            "_model_module": "@jupyter-widgets/controls",
            "_model_module_version": "1.5.0",
            "_model_name": "ProgressStyleModel",
            "_view_count": null,
            "_view_module": "@jupyter-widgets/base",
            "_view_module_version": "1.2.0",
            "_view_name": "StyleView",
            "bar_color": null,
            "description_width": ""
          }
        },
        "a0df2f92b5314615a374eef97dcf7a82": {
          "model_module": "@jupyter-widgets/base",
          "model_module_version": "1.2.0",
          "model_name": "LayoutModel",
          "state": {
            "_model_module": "@jupyter-widgets/base",
            "_model_module_version": "1.2.0",
            "_model_name": "LayoutModel",
            "_view_count": null,
            "_view_module": "@jupyter-widgets/base",
            "_view_module_version": "1.2.0",
            "_view_name": "LayoutView",
            "align_content": null,
            "align_items": null,
            "align_self": null,
            "border": null,
            "bottom": null,
            "display": null,
            "flex": null,
            "flex_flow": null,
            "grid_area": null,
            "grid_auto_columns": null,
            "grid_auto_flow": null,
            "grid_auto_rows": null,
            "grid_column": null,
            "grid_gap": null,
            "grid_row": null,
            "grid_template_areas": null,
            "grid_template_columns": null,
            "grid_template_rows": null,
            "height": null,
            "justify_content": null,
            "justify_items": null,
            "left": null,
            "margin": null,
            "max_height": null,
            "max_width": null,
            "min_height": null,
            "min_width": null,
            "object_fit": null,
            "object_position": null,
            "order": null,
            "overflow": null,
            "overflow_x": null,
            "overflow_y": null,
            "padding": null,
            "right": null,
            "top": null,
            "visibility": null,
            "width": null
          }
        },
        "a2bad76d9f374f53866aa915909d2129": {
          "model_module": "@jupyter-widgets/controls",
          "model_module_version": "1.5.0",
          "model_name": "HTMLModel",
          "state": {
            "_dom_classes": [],
            "_model_module": "@jupyter-widgets/controls",
            "_model_module_version": "1.5.0",
            "_model_name": "HTMLModel",
            "_view_count": null,
            "_view_module": "@jupyter-widgets/controls",
            "_view_module_version": "1.5.0",
            "_view_name": "HTMLView",
            "description": "",
            "description_tooltip": null,
            "layout": "IPY_MODEL_d44bc87f09994547afc5f1bfc5a6ca6c",
            "placeholder": "​",
            "style": "IPY_MODEL_018f5d5c73ac438486c44c8c3a5cace7",
            "value": "Job ID 1e4f057d-63fd-40be-be21-9399fd85db07 successfully executed: 100%"
          }
        },
        "a44330a32b1a4fee837746f10ca761fd": {
          "model_module": "@jupyter-widgets/base",
          "model_module_version": "1.2.0",
          "model_name": "LayoutModel",
          "state": {
            "_model_module": "@jupyter-widgets/base",
            "_model_module_version": "1.2.0",
            "_model_name": "LayoutModel",
            "_view_count": null,
            "_view_module": "@jupyter-widgets/base",
            "_view_module_version": "1.2.0",
            "_view_name": "LayoutView",
            "align_content": null,
            "align_items": null,
            "align_self": null,
            "border": null,
            "bottom": null,
            "display": null,
            "flex": null,
            "flex_flow": null,
            "grid_area": null,
            "grid_auto_columns": null,
            "grid_auto_flow": null,
            "grid_auto_rows": null,
            "grid_column": null,
            "grid_gap": null,
            "grid_row": null,
            "grid_template_areas": null,
            "grid_template_columns": null,
            "grid_template_rows": null,
            "height": null,
            "justify_content": null,
            "justify_items": null,
            "left": null,
            "margin": null,
            "max_height": null,
            "max_width": null,
            "min_height": null,
            "min_width": null,
            "object_fit": null,
            "object_position": null,
            "order": null,
            "overflow": null,
            "overflow_x": null,
            "overflow_y": null,
            "padding": null,
            "right": null,
            "top": null,
            "visibility": null,
            "width": null
          }
        },
        "a4f34b6162b944619e91dd8fd4eb8834": {
          "model_module": "@jupyter-widgets/controls",
          "model_module_version": "1.5.0",
          "model_name": "DescriptionStyleModel",
          "state": {
            "_model_module": "@jupyter-widgets/controls",
            "_model_module_version": "1.5.0",
            "_model_name": "DescriptionStyleModel",
            "_view_count": null,
            "_view_module": "@jupyter-widgets/base",
            "_view_module_version": "1.2.0",
            "_view_name": "StyleView",
            "description_width": ""
          }
        },
        "aa7e69b03a4d46608ac76f0d3759b899": {
          "model_module": "@jupyter-widgets/base",
          "model_module_version": "1.2.0",
          "model_name": "LayoutModel",
          "state": {
            "_model_module": "@jupyter-widgets/base",
            "_model_module_version": "1.2.0",
            "_model_name": "LayoutModel",
            "_view_count": null,
            "_view_module": "@jupyter-widgets/base",
            "_view_module_version": "1.2.0",
            "_view_name": "LayoutView",
            "align_content": null,
            "align_items": null,
            "align_self": null,
            "border": null,
            "bottom": null,
            "display": null,
            "flex": null,
            "flex_flow": null,
            "grid_area": null,
            "grid_auto_columns": null,
            "grid_auto_flow": null,
            "grid_auto_rows": null,
            "grid_column": null,
            "grid_gap": null,
            "grid_row": null,
            "grid_template_areas": null,
            "grid_template_columns": null,
            "grid_template_rows": null,
            "height": null,
            "justify_content": null,
            "justify_items": null,
            "left": null,
            "margin": null,
            "max_height": null,
            "max_width": null,
            "min_height": null,
            "min_width": null,
            "object_fit": null,
            "object_position": null,
            "order": null,
            "overflow": null,
            "overflow_x": null,
            "overflow_y": null,
            "padding": null,
            "right": null,
            "top": null,
            "visibility": null,
            "width": null
          }
        },
        "abfd396ec65745159b78a4a8094378b3": {
          "model_module": "@jupyter-widgets/controls",
          "model_module_version": "1.5.0",
          "model_name": "HTMLModel",
          "state": {
            "_dom_classes": [],
            "_model_module": "@jupyter-widgets/controls",
            "_model_module_version": "1.5.0",
            "_model_name": "HTMLModel",
            "_view_count": null,
            "_view_module": "@jupyter-widgets/controls",
            "_view_module_version": "1.5.0",
            "_view_name": "HTMLView",
            "description": "",
            "description_tooltip": null,
            "layout": "IPY_MODEL_3ebdb5443fec4a77a330b5b5aeeb31ca",
            "placeholder": "​",
            "style": "IPY_MODEL_9cd7b07e6f4d408ca572e1bddcd3fca2",
            "value": "Downloading: 100%"
          }
        },
        "b30bcda43a9f4c76bbcc59b6ce725706": {
          "model_module": "@jupyter-widgets/controls",
          "model_module_version": "1.5.0",
          "model_name": "HTMLModel",
          "state": {
            "_dom_classes": [],
            "_model_module": "@jupyter-widgets/controls",
            "_model_module_version": "1.5.0",
            "_model_name": "HTMLModel",
            "_view_count": null,
            "_view_module": "@jupyter-widgets/controls",
            "_view_module_version": "1.5.0",
            "_view_name": "HTMLView",
            "description": "",
            "description_tooltip": null,
            "layout": "IPY_MODEL_9e0aed501f2e4087aa4772955289570e",
            "placeholder": "​",
            "style": "IPY_MODEL_77b57459f1d9481b8a327c9a9b9494bf",
            "value": ""
          }
        },
        "b3408e091b9b40209c7a7ac637b26bc5": {
          "model_module": "@jupyter-widgets/base",
          "model_module_version": "1.2.0",
          "model_name": "LayoutModel",
          "state": {
            "_model_module": "@jupyter-widgets/base",
            "_model_module_version": "1.2.0",
            "_model_name": "LayoutModel",
            "_view_count": null,
            "_view_module": "@jupyter-widgets/base",
            "_view_module_version": "1.2.0",
            "_view_name": "LayoutView",
            "align_content": null,
            "align_items": null,
            "align_self": null,
            "border": null,
            "bottom": null,
            "display": null,
            "flex": null,
            "flex_flow": null,
            "grid_area": null,
            "grid_auto_columns": null,
            "grid_auto_flow": null,
            "grid_auto_rows": null,
            "grid_column": null,
            "grid_gap": null,
            "grid_row": null,
            "grid_template_areas": null,
            "grid_template_columns": null,
            "grid_template_rows": null,
            "height": null,
            "justify_content": null,
            "justify_items": null,
            "left": null,
            "margin": null,
            "max_height": null,
            "max_width": null,
            "min_height": null,
            "min_width": null,
            "object_fit": null,
            "object_position": null,
            "order": null,
            "overflow": null,
            "overflow_x": null,
            "overflow_y": null,
            "padding": null,
            "right": null,
            "top": null,
            "visibility": null,
            "width": null
          }
        },
        "b3e9698c1566455c9d3f817b7328d970": {
          "model_module": "@jupyter-widgets/controls",
          "model_module_version": "1.5.0",
          "model_name": "DescriptionStyleModel",
          "state": {
            "_model_module": "@jupyter-widgets/controls",
            "_model_module_version": "1.5.0",
            "_model_name": "DescriptionStyleModel",
            "_view_count": null,
            "_view_module": "@jupyter-widgets/base",
            "_view_module_version": "1.2.0",
            "_view_name": "StyleView",
            "description_width": ""
          }
        },
        "b8fdb7302fb5411eb72105c46d7ed12a": {
          "model_module": "@jupyter-widgets/controls",
          "model_module_version": "1.5.0",
          "model_name": "HTMLModel",
          "state": {
            "_dom_classes": [],
            "_model_module": "@jupyter-widgets/controls",
            "_model_module_version": "1.5.0",
            "_model_name": "HTMLModel",
            "_view_count": null,
            "_view_module": "@jupyter-widgets/controls",
            "_view_module_version": "1.5.0",
            "_view_name": "HTMLView",
            "description": "",
            "description_tooltip": null,
            "layout": "IPY_MODEL_650ba58292cf4de7a4c333e59d01c4df",
            "placeholder": "​",
            "style": "IPY_MODEL_d9facbaa43464bfcbdc8ec9a0a03083d",
            "value": ""
          }
        },
        "babf4c3d2b37476db8cdc03be88d66b0": {
          "model_module": "@jupyter-widgets/controls",
          "model_module_version": "1.5.0",
          "model_name": "HTMLModel",
          "state": {
            "_dom_classes": [],
            "_model_module": "@jupyter-widgets/controls",
            "_model_module_version": "1.5.0",
            "_model_name": "HTMLModel",
            "_view_count": null,
            "_view_module": "@jupyter-widgets/controls",
            "_view_module_version": "1.5.0",
            "_view_name": "HTMLView",
            "description": "",
            "description_tooltip": null,
            "layout": "IPY_MODEL_f956cebb264f44aeb5578a479bf06860",
            "placeholder": "​",
            "style": "IPY_MODEL_6cffa1655f324a48ab0f7cdcb9b5a5e6",
            "value": "Downloading: 100%"
          }
        },
        "bb346f8ac11949a7882c54b3218729bb": {
          "model_module": "@jupyter-widgets/controls",
          "model_module_version": "1.5.0",
          "model_name": "FloatProgressModel",
          "state": {
            "_dom_classes": [],
            "_model_module": "@jupyter-widgets/controls",
            "_model_module_version": "1.5.0",
            "_model_name": "FloatProgressModel",
            "_view_count": null,
            "_view_module": "@jupyter-widgets/controls",
            "_view_module_version": "1.5.0",
            "_view_name": "ProgressView",
            "bar_style": "success",
            "description": "",
            "description_tooltip": null,
            "layout": "IPY_MODEL_31b6bf295c61441e988e1084ca63875a",
            "max": 1,
            "min": 0,
            "orientation": "horizontal",
            "style": "IPY_MODEL_6045cb17a18c4a03901f3d28184d23aa",
            "value": 1
          }
        },
        "c6beea910c8c4d90891a3df82e51cc75": {
          "model_module": "@jupyter-widgets/controls",
          "model_module_version": "1.5.0",
          "model_name": "HTMLModel",
          "state": {
            "_dom_classes": [],
            "_model_module": "@jupyter-widgets/controls",
            "_model_module_version": "1.5.0",
            "_model_name": "HTMLModel",
            "_view_count": null,
            "_view_module": "@jupyter-widgets/controls",
            "_view_module_version": "1.5.0",
            "_view_name": "HTMLView",
            "description": "",
            "description_tooltip": null,
            "layout": "IPY_MODEL_57aa7e0f148741e4bdedc766af2f2498",
            "placeholder": "​",
            "style": "IPY_MODEL_f15f4207934a4448a56f9d9f0df5645d",
            "value": "Job ID b51a327c-4202-4640-9c7b-5885f2ab0ff2 successfully executed: 100%"
          }
        },
        "c94c4ec6d47c474f852d1691cd47ac29": {
          "model_module": "@jupyter-widgets/controls",
          "model_module_version": "1.5.0",
          "model_name": "ProgressStyleModel",
          "state": {
            "_model_module": "@jupyter-widgets/controls",
            "_model_module_version": "1.5.0",
            "_model_name": "ProgressStyleModel",
            "_view_count": null,
            "_view_module": "@jupyter-widgets/base",
            "_view_module_version": "1.2.0",
            "_view_name": "StyleView",
            "bar_color": null,
            "description_width": ""
          }
        },
        "cb9f0528bb4f44cab4ecd79f244a9afa": {
          "model_module": "@jupyter-widgets/base",
          "model_module_version": "1.2.0",
          "model_name": "LayoutModel",
          "state": {
            "_model_module": "@jupyter-widgets/base",
            "_model_module_version": "1.2.0",
            "_model_name": "LayoutModel",
            "_view_count": null,
            "_view_module": "@jupyter-widgets/base",
            "_view_module_version": "1.2.0",
            "_view_name": "LayoutView",
            "align_content": null,
            "align_items": null,
            "align_self": null,
            "border": null,
            "bottom": null,
            "display": null,
            "flex": null,
            "flex_flow": null,
            "grid_area": null,
            "grid_auto_columns": null,
            "grid_auto_flow": null,
            "grid_auto_rows": null,
            "grid_column": null,
            "grid_gap": null,
            "grid_row": null,
            "grid_template_areas": null,
            "grid_template_columns": null,
            "grid_template_rows": null,
            "height": null,
            "justify_content": null,
            "justify_items": null,
            "left": null,
            "margin": null,
            "max_height": null,
            "max_width": null,
            "min_height": null,
            "min_width": null,
            "object_fit": null,
            "object_position": null,
            "order": null,
            "overflow": null,
            "overflow_x": null,
            "overflow_y": null,
            "padding": null,
            "right": null,
            "top": null,
            "visibility": null,
            "width": null
          }
        },
        "cd260a4632db48ddb782c957a1946809": {
          "model_module": "@jupyter-widgets/controls",
          "model_module_version": "1.5.0",
          "model_name": "DescriptionStyleModel",
          "state": {
            "_model_module": "@jupyter-widgets/controls",
            "_model_module_version": "1.5.0",
            "_model_name": "DescriptionStyleModel",
            "_view_count": null,
            "_view_module": "@jupyter-widgets/base",
            "_view_module_version": "1.2.0",
            "_view_name": "StyleView",
            "description_width": ""
          }
        },
        "d44bc87f09994547afc5f1bfc5a6ca6c": {
          "model_module": "@jupyter-widgets/base",
          "model_module_version": "1.2.0",
          "model_name": "LayoutModel",
          "state": {
            "_model_module": "@jupyter-widgets/base",
            "_model_module_version": "1.2.0",
            "_model_name": "LayoutModel",
            "_view_count": null,
            "_view_module": "@jupyter-widgets/base",
            "_view_module_version": "1.2.0",
            "_view_name": "LayoutView",
            "align_content": null,
            "align_items": null,
            "align_self": null,
            "border": null,
            "bottom": null,
            "display": null,
            "flex": null,
            "flex_flow": null,
            "grid_area": null,
            "grid_auto_columns": null,
            "grid_auto_flow": null,
            "grid_auto_rows": null,
            "grid_column": null,
            "grid_gap": null,
            "grid_row": null,
            "grid_template_areas": null,
            "grid_template_columns": null,
            "grid_template_rows": null,
            "height": null,
            "justify_content": null,
            "justify_items": null,
            "left": null,
            "margin": null,
            "max_height": null,
            "max_width": null,
            "min_height": null,
            "min_width": null,
            "object_fit": null,
            "object_position": null,
            "order": null,
            "overflow": null,
            "overflow_x": null,
            "overflow_y": null,
            "padding": null,
            "right": null,
            "top": null,
            "visibility": null,
            "width": null
          }
        },
        "d8ad0372c2a548468f5e1f4ddb7d350e": {
          "model_module": "@jupyter-widgets/controls",
          "model_module_version": "1.5.0",
          "model_name": "FloatProgressModel",
          "state": {
            "_dom_classes": [],
            "_model_module": "@jupyter-widgets/controls",
            "_model_module_version": "1.5.0",
            "_model_name": "FloatProgressModel",
            "_view_count": null,
            "_view_module": "@jupyter-widgets/controls",
            "_view_module_version": "1.5.0",
            "_view_name": "ProgressView",
            "bar_style": "success",
            "description": "",
            "description_tooltip": null,
            "layout": "IPY_MODEL_e45c3ccb392d49f4bf71f85d16856730",
            "max": 1,
            "min": 0,
            "orientation": "horizontal",
            "style": "IPY_MODEL_762a66c58f014004a4703a8056d1213b",
            "value": 1
          }
        },
        "d9facbaa43464bfcbdc8ec9a0a03083d": {
          "model_module": "@jupyter-widgets/controls",
          "model_module_version": "1.5.0",
          "model_name": "DescriptionStyleModel",
          "state": {
            "_model_module": "@jupyter-widgets/controls",
            "_model_module_version": "1.5.0",
            "_model_name": "DescriptionStyleModel",
            "_view_count": null,
            "_view_module": "@jupyter-widgets/base",
            "_view_module_version": "1.2.0",
            "_view_name": "StyleView",
            "description_width": ""
          }
        },
        "db4ae3623677498d8e6ca3c4a271bd42": {
          "model_module": "@jupyter-widgets/controls",
          "model_module_version": "1.5.0",
          "model_name": "DescriptionStyleModel",
          "state": {
            "_model_module": "@jupyter-widgets/controls",
            "_model_module_version": "1.5.0",
            "_model_name": "DescriptionStyleModel",
            "_view_count": null,
            "_view_module": "@jupyter-widgets/base",
            "_view_module_version": "1.2.0",
            "_view_name": "StyleView",
            "description_width": ""
          }
        },
        "de1ff2224c0b4a1dbc212ccb436561ea": {
          "model_module": "@jupyter-widgets/base",
          "model_module_version": "1.2.0",
          "model_name": "LayoutModel",
          "state": {
            "_model_module": "@jupyter-widgets/base",
            "_model_module_version": "1.2.0",
            "_model_name": "LayoutModel",
            "_view_count": null,
            "_view_module": "@jupyter-widgets/base",
            "_view_module_version": "1.2.0",
            "_view_name": "LayoutView",
            "align_content": null,
            "align_items": null,
            "align_self": null,
            "border": null,
            "bottom": null,
            "display": null,
            "flex": null,
            "flex_flow": null,
            "grid_area": null,
            "grid_auto_columns": null,
            "grid_auto_flow": null,
            "grid_auto_rows": null,
            "grid_column": null,
            "grid_gap": null,
            "grid_row": null,
            "grid_template_areas": null,
            "grid_template_columns": null,
            "grid_template_rows": null,
            "height": null,
            "justify_content": null,
            "justify_items": null,
            "left": null,
            "margin": null,
            "max_height": null,
            "max_width": null,
            "min_height": null,
            "min_width": null,
            "object_fit": null,
            "object_position": null,
            "order": null,
            "overflow": null,
            "overflow_x": null,
            "overflow_y": null,
            "padding": null,
            "right": null,
            "top": null,
            "visibility": null,
            "width": null
          }
        },
        "de99c7dbc19e43bea524ad48482f96b0": {
          "model_module": "@jupyter-widgets/base",
          "model_module_version": "1.2.0",
          "model_name": "LayoutModel",
          "state": {
            "_model_module": "@jupyter-widgets/base",
            "_model_module_version": "1.2.0",
            "_model_name": "LayoutModel",
            "_view_count": null,
            "_view_module": "@jupyter-widgets/base",
            "_view_module_version": "1.2.0",
            "_view_name": "LayoutView",
            "align_content": null,
            "align_items": null,
            "align_self": null,
            "border": null,
            "bottom": null,
            "display": null,
            "flex": null,
            "flex_flow": null,
            "grid_area": null,
            "grid_auto_columns": null,
            "grid_auto_flow": null,
            "grid_auto_rows": null,
            "grid_column": null,
            "grid_gap": null,
            "grid_row": null,
            "grid_template_areas": null,
            "grid_template_columns": null,
            "grid_template_rows": null,
            "height": null,
            "justify_content": null,
            "justify_items": null,
            "left": null,
            "margin": null,
            "max_height": null,
            "max_width": null,
            "min_height": null,
            "min_width": null,
            "object_fit": null,
            "object_position": null,
            "order": null,
            "overflow": null,
            "overflow_x": null,
            "overflow_y": null,
            "padding": null,
            "right": null,
            "top": null,
            "visibility": null,
            "width": null
          }
        },
        "dfecec792696446284e8a482a24ddb6c": {
          "model_module": "@jupyter-widgets/controls",
          "model_module_version": "1.5.0",
          "model_name": "HBoxModel",
          "state": {
            "_dom_classes": [],
            "_model_module": "@jupyter-widgets/controls",
            "_model_module_version": "1.5.0",
            "_model_name": "HBoxModel",
            "_view_count": null,
            "_view_module": "@jupyter-widgets/controls",
            "_view_module_version": "1.5.0",
            "_view_name": "HBoxView",
            "box_style": "",
            "children": [
              "IPY_MODEL_a2bad76d9f374f53866aa915909d2129",
              "IPY_MODEL_3e21051c48b448d5b3900b32429f9396",
              "IPY_MODEL_65df7f56e8124ff482e21c3966a6ded7"
            ],
            "layout": "IPY_MODEL_505116d7eb4a4538b094969b118b6fbc"
          }
        },
        "e1f4088e29db482ca3996bdef8e6fdcd": {
          "model_module": "@jupyter-widgets/controls",
          "model_module_version": "1.5.0",
          "model_name": "ProgressStyleModel",
          "state": {
            "_model_module": "@jupyter-widgets/controls",
            "_model_module_version": "1.5.0",
            "_model_name": "ProgressStyleModel",
            "_view_count": null,
            "_view_module": "@jupyter-widgets/base",
            "_view_module_version": "1.2.0",
            "_view_name": "StyleView",
            "bar_color": null,
            "description_width": ""
          }
        },
        "e45c3ccb392d49f4bf71f85d16856730": {
          "model_module": "@jupyter-widgets/base",
          "model_module_version": "1.2.0",
          "model_name": "LayoutModel",
          "state": {
            "_model_module": "@jupyter-widgets/base",
            "_model_module_version": "1.2.0",
            "_model_name": "LayoutModel",
            "_view_count": null,
            "_view_module": "@jupyter-widgets/base",
            "_view_module_version": "1.2.0",
            "_view_name": "LayoutView",
            "align_content": null,
            "align_items": null,
            "align_self": null,
            "border": null,
            "bottom": null,
            "display": null,
            "flex": null,
            "flex_flow": null,
            "grid_area": null,
            "grid_auto_columns": null,
            "grid_auto_flow": null,
            "grid_auto_rows": null,
            "grid_column": null,
            "grid_gap": null,
            "grid_row": null,
            "grid_template_areas": null,
            "grid_template_columns": null,
            "grid_template_rows": null,
            "height": null,
            "justify_content": null,
            "justify_items": null,
            "left": null,
            "margin": null,
            "max_height": null,
            "max_width": null,
            "min_height": null,
            "min_width": null,
            "object_fit": null,
            "object_position": null,
            "order": null,
            "overflow": null,
            "overflow_x": null,
            "overflow_y": null,
            "padding": null,
            "right": null,
            "top": null,
            "visibility": null,
            "width": null
          }
        },
        "e691e1cbe9f64e7289d99283642b5948": {
          "model_module": "@jupyter-widgets/base",
          "model_module_version": "1.2.0",
          "model_name": "LayoutModel",
          "state": {
            "_model_module": "@jupyter-widgets/base",
            "_model_module_version": "1.2.0",
            "_model_name": "LayoutModel",
            "_view_count": null,
            "_view_module": "@jupyter-widgets/base",
            "_view_module_version": "1.2.0",
            "_view_name": "LayoutView",
            "align_content": null,
            "align_items": null,
            "align_self": null,
            "border": null,
            "bottom": null,
            "display": null,
            "flex": null,
            "flex_flow": null,
            "grid_area": null,
            "grid_auto_columns": null,
            "grid_auto_flow": null,
            "grid_auto_rows": null,
            "grid_column": null,
            "grid_gap": null,
            "grid_row": null,
            "grid_template_areas": null,
            "grid_template_columns": null,
            "grid_template_rows": null,
            "height": null,
            "justify_content": null,
            "justify_items": null,
            "left": null,
            "margin": null,
            "max_height": null,
            "max_width": null,
            "min_height": null,
            "min_width": null,
            "object_fit": null,
            "object_position": null,
            "order": null,
            "overflow": null,
            "overflow_x": null,
            "overflow_y": null,
            "padding": null,
            "right": null,
            "top": null,
            "visibility": null,
            "width": null
          }
        },
        "e72d9a41d4d7432b93ef730c40d7dcc5": {
          "model_module": "@jupyter-widgets/controls",
          "model_module_version": "1.5.0",
          "model_name": "FloatProgressModel",
          "state": {
            "_dom_classes": [],
            "_model_module": "@jupyter-widgets/controls",
            "_model_module_version": "1.5.0",
            "_model_name": "FloatProgressModel",
            "_view_count": null,
            "_view_module": "@jupyter-widgets/controls",
            "_view_module_version": "1.5.0",
            "_view_name": "ProgressView",
            "bar_style": "success",
            "description": "",
            "description_tooltip": null,
            "layout": "IPY_MODEL_017c99c4e7364a47a50c2e8f87bb06a0",
            "max": 1,
            "min": 0,
            "orientation": "horizontal",
            "style": "IPY_MODEL_fef3be7351ef49c58e0765b2a8354aa3",
            "value": 1
          }
        },
        "e8674dfc29e84369985ecfbcbde6ae43": {
          "model_module": "@jupyter-widgets/base",
          "model_module_version": "1.2.0",
          "model_name": "LayoutModel",
          "state": {
            "_model_module": "@jupyter-widgets/base",
            "_model_module_version": "1.2.0",
            "_model_name": "LayoutModel",
            "_view_count": null,
            "_view_module": "@jupyter-widgets/base",
            "_view_module_version": "1.2.0",
            "_view_name": "LayoutView",
            "align_content": null,
            "align_items": null,
            "align_self": null,
            "border": null,
            "bottom": null,
            "display": null,
            "flex": null,
            "flex_flow": null,
            "grid_area": null,
            "grid_auto_columns": null,
            "grid_auto_flow": null,
            "grid_auto_rows": null,
            "grid_column": null,
            "grid_gap": null,
            "grid_row": null,
            "grid_template_areas": null,
            "grid_template_columns": null,
            "grid_template_rows": null,
            "height": null,
            "justify_content": null,
            "justify_items": null,
            "left": null,
            "margin": null,
            "max_height": null,
            "max_width": null,
            "min_height": null,
            "min_width": null,
            "object_fit": null,
            "object_position": null,
            "order": null,
            "overflow": null,
            "overflow_x": null,
            "overflow_y": null,
            "padding": null,
            "right": null,
            "top": null,
            "visibility": null,
            "width": null
          }
        },
        "f15f4207934a4448a56f9d9f0df5645d": {
          "model_module": "@jupyter-widgets/controls",
          "model_module_version": "1.5.0",
          "model_name": "DescriptionStyleModel",
          "state": {
            "_model_module": "@jupyter-widgets/controls",
            "_model_module_version": "1.5.0",
            "_model_name": "DescriptionStyleModel",
            "_view_count": null,
            "_view_module": "@jupyter-widgets/base",
            "_view_module_version": "1.2.0",
            "_view_name": "StyleView",
            "description_width": ""
          }
        },
        "f956cebb264f44aeb5578a479bf06860": {
          "model_module": "@jupyter-widgets/base",
          "model_module_version": "1.2.0",
          "model_name": "LayoutModel",
          "state": {
            "_model_module": "@jupyter-widgets/base",
            "_model_module_version": "1.2.0",
            "_model_name": "LayoutModel",
            "_view_count": null,
            "_view_module": "@jupyter-widgets/base",
            "_view_module_version": "1.2.0",
            "_view_name": "LayoutView",
            "align_content": null,
            "align_items": null,
            "align_self": null,
            "border": null,
            "bottom": null,
            "display": null,
            "flex": null,
            "flex_flow": null,
            "grid_area": null,
            "grid_auto_columns": null,
            "grid_auto_flow": null,
            "grid_auto_rows": null,
            "grid_column": null,
            "grid_gap": null,
            "grid_row": null,
            "grid_template_areas": null,
            "grid_template_columns": null,
            "grid_template_rows": null,
            "height": null,
            "justify_content": null,
            "justify_items": null,
            "left": null,
            "margin": null,
            "max_height": null,
            "max_width": null,
            "min_height": null,
            "min_width": null,
            "object_fit": null,
            "object_position": null,
            "order": null,
            "overflow": null,
            "overflow_x": null,
            "overflow_y": null,
            "padding": null,
            "right": null,
            "top": null,
            "visibility": null,
            "width": null
          }
        },
        "fa42bc26360140fc813d027b42e9377d": {
          "model_module": "@jupyter-widgets/controls",
          "model_module_version": "1.5.0",
          "model_name": "HBoxModel",
          "state": {
            "_dom_classes": [],
            "_model_module": "@jupyter-widgets/controls",
            "_model_module_version": "1.5.0",
            "_model_name": "HBoxModel",
            "_view_count": null,
            "_view_module": "@jupyter-widgets/controls",
            "_view_module_version": "1.5.0",
            "_view_name": "HBoxView",
            "box_style": "",
            "children": [
              "IPY_MODEL_c6beea910c8c4d90891a3df82e51cc75",
              "IPY_MODEL_e72d9a41d4d7432b93ef730c40d7dcc5",
              "IPY_MODEL_b30bcda43a9f4c76bbcc59b6ce725706"
            ],
            "layout": "IPY_MODEL_aa7e69b03a4d46608ac76f0d3759b899"
          }
        },
        "fa72635c86364b428fc174ff8db609dc": {
          "model_module": "@jupyter-widgets/controls",
          "model_module_version": "1.5.0",
          "model_name": "HTMLModel",
          "state": {
            "_dom_classes": [],
            "_model_module": "@jupyter-widgets/controls",
            "_model_module_version": "1.5.0",
            "_model_name": "HTMLModel",
            "_view_count": null,
            "_view_module": "@jupyter-widgets/controls",
            "_view_module_version": "1.5.0",
            "_view_name": "HTMLView",
            "description": "",
            "description_tooltip": null,
            "layout": "IPY_MODEL_5d3379a04c33411398031491bc9bb39a",
            "placeholder": "​",
            "style": "IPY_MODEL_7894e0d52c1342aba41a264237de3bb9",
            "value": "Job ID 95fa222e-9ae2-4856-b68b-4675c7dac6d5 successfully executed: 100%"
          }
        },
        "fe9fbf011a174da6bef23765948fb491": {
          "model_module": "@jupyter-widgets/controls",
          "model_module_version": "1.5.0",
          "model_name": "DescriptionStyleModel",
          "state": {
            "_model_module": "@jupyter-widgets/controls",
            "_model_module_version": "1.5.0",
            "_model_name": "DescriptionStyleModel",
            "_view_count": null,
            "_view_module": "@jupyter-widgets/base",
            "_view_module_version": "1.2.0",
            "_view_name": "StyleView",
            "description_width": ""
          }
        },
        "fef3be7351ef49c58e0765b2a8354aa3": {
          "model_module": "@jupyter-widgets/controls",
          "model_module_version": "1.5.0",
          "model_name": "ProgressStyleModel",
          "state": {
            "_model_module": "@jupyter-widgets/controls",
            "_model_module_version": "1.5.0",
            "_model_name": "ProgressStyleModel",
            "_view_count": null,
            "_view_module": "@jupyter-widgets/base",
            "_view_module_version": "1.2.0",
            "_view_name": "StyleView",
            "bar_color": null,
            "description_width": ""
          }
        }
      }
    }
  },
  "nbformat": 4,
  "nbformat_minor": 0
}
