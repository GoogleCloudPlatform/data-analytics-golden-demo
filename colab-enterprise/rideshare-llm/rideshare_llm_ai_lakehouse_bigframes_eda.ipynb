{
  "cells": [
    {
      "cell_type": "markdown",
      "id": "Tidn9TClG7tD",
      "metadata": {
        "id": "Tidn9TClG7tD"
      },
      "source": [
        "# <img src=\"https://lh3.googleusercontent.com/mUTbNK32c_DTSNrhqETT5aQJYFKok2HB1G2nk2MZHvG5bSs0v_lmDm_ArW7rgd6SDGHXo0Ak2uFFU96X6Xd0GQ=w160-h128\" width=\"45\" valign=\"top\" alt=\"BigQuery\"> Welcome to Rideshare AI Lakehouse powered by BigQuery Studio"
      ]
    },
    {
      "cell_type": "markdown",
      "id": "03iUx20jHCtS",
      "metadata": {
        "id": "03iUx20jHCtS"
      },
      "source": [
        "## **Step 01: Overview**"
      ]
    },
    {
      "cell_type": "markdown",
      "id": "vTYFQBIfHF5g",
      "metadata": {
        "id": "vTYFQBIfHF5g"
      },
      "source": [
        "### Summary"
      ]
    },
    {
      "cell_type": "markdown",
      "id": "bXZ3B6G4HGS0",
      "metadata": {
        "id": "bXZ3B6G4HGS0"
      },
      "source": [
        "This portion of the demo will showcase how you can build an AI Lakehouse using Google Cloud's Data and Analytics stack.  The demo is for our fitcious company Rideshare Plus where we will perform some exploratory data analysis (EdA) over the trips data.\n",
        "\n",
        "All code is located on GitHub: https://goo.gle/dagd\n",
        "\n",
        "Please check out the other part of the demo which uses AI, image object analysis and data at scale."
      ]
    },
    {
      "cell_type": "markdown",
      "id": "rVZtcZrCHfrW",
      "metadata": {
        "id": "rVZtcZrCHfrW"
      },
      "source": [
        "In this notebook, we will focus on using BigQuery Dataframes, a new BigQuery feature that provides a Pythonic DataFrame and machine learning (ML) API powered by the BigQuery engine. BigQuery Dataframes implement:\n",
        "\n",
        "* `bigframes.pandas` provides a pandas-like API for analytics.\n",
        "* `bigframes.ml` provides a scikit-learn-like API for ML.\n",
        "Learn more about BigQuery DataFrames [here](https://cloud.google.com/python/docs/reference/bigframes/latest)"
      ]
    },
    {
      "cell_type": "markdown",
      "id": "1JONBR0QO1BT",
      "metadata": {
        "id": "1JONBR0QO1BT"
      },
      "source": [
        "This the steps we will perform:\n",
        "- Loading the `rideshare_lakehouse_enriched.biglake_rideshare_trip_iceberg` table into a BigQuery Dataframe\n",
        "- Perfom some basic cleaning operations like dropping columns and deleting `NaNs` values\n",
        "- Using a supervised ML algotihm like [K-Means](https://cloud.google.com/python/docs/reference/bigframes/latest/bigframes.ml.cluster.KMeans), we will segment the different trips into a number of clusters.\n",
        "- Will select a subset of trips for each ckuster and ask an LLM (PalM-2) [link text](https://https://cloud.google.com/python/docs/reference/bigframes/latest/bigframes.ml.llm.PaLM2TextGenerator) to make sense of the cluster for us."
      ]
    },
    {
      "cell_type": "markdown",
      "id": "TLK1PqXqOOak",
      "metadata": {
        "id": "TLK1PqXqOOak"
      },
      "source": [
        "## **Step 02: Loading and exploring data**"
      ]
    },
    {
      "cell_type": "markdown",
      "id": "c394GfK1ObI5",
      "metadata": {
        "id": "c394GfK1ObI5"
      },
      "source": [
        "Loading python packages. Since this is beign executed from Colab Enteprise there is no need to `pip install bigrames` as it already included."
      ]
    },
    {
      "cell_type": "code",
      "execution_count": 1,
      "id": "35856bf2-aa5e-436b-977a-9e5725b1a595",
      "metadata": {
        "executionInfo": {
          "elapsed": 2801,
          "status": "ok",
          "timestamp": 1694077026771,
          "user": {
            "displayName": "",
            "userId": ""
          },
          "user_tz": -120
        },
        "id": "35856bf2-aa5e-436b-977a-9e5725b1a595",
        "trusted": true
      },
      "outputs": [],
      "source": [
        "import pandas as pd\n",
        "import json\n",
        "import bigframes.pandas as bpd\n",
        "from bigframes.ml.cluster import KMeans\n",
        "from bigframes.ml.llm import PaLM2TextGenerator"
      ]
    },
    {
      "cell_type": "markdown",
      "id": "Ru9nNpriOdlD",
      "metadata": {
        "id": "Ru9nNpriOdlD"
      },
      "source": [
        "Seting BigQuery location"
      ]
    },
    {
      "cell_type": "code",
      "execution_count": 2,
      "id": "Bw-5Eb-nkZNf",
      "metadata": {
        "executionInfo": {
          "elapsed": 4114,
          "status": "ok",
          "timestamp": 1694077030884,
          "user": {
            "displayName": "",
            "userId": ""
          },
          "user_tz": -120
        },
        "id": "Bw-5Eb-nkZNf"
      },
      "outputs": [],
      "source": [
        "# bpd.reset_session()\n",
        "bpd.options.bigquery.location = \"US\"\n",
        "session = bpd.get_global_session()"
      ]
    },
    {
      "cell_type": "markdown",
      "id": "L-iFm6bhOh3p",
      "metadata": {
        "id": "L-iFm6bhOh3p"
      },
      "source": [
        "Loading data from a BigQuery table into a BigQuery Dataframe"
      ]
    },
    {
      "cell_type": "code",
      "execution_count": 3,
      "id": "4abb2RhyyyQz",
      "metadata": {
        "colab": {
          "base_uri": "https://localhost:8080/",
          "height": 49,
          "referenced_widgets": [
            "4fe751a5b1ad4812bf5483381385cbaf",
            "e71aacd291944aecb408c2bddaa2be49",
            "fc46a7dab8de42eb97f4ccccc4d865f7"
          ]
        },
        "executionInfo": {
          "elapsed": 16248,
          "status": "ok",
          "timestamp": 1694077047131,
          "user": {
            "displayName": "",
            "userId": ""
          },
          "user_tz": -120
        },
        "id": "4abb2RhyyyQz",
        "outputId": "1b25b493-25c8-456f-8cfa-033e684d591f"
      },
      "outputs": [
        {
          "data": {
            "application/vnd.jupyter.widget-view+json": {
              "model_id": "4fe751a5b1ad4812bf5483381385cbaf",
              "version_major": 2,
              "version_minor": 0
            },
            "text/plain": [
              "HTML(value='Query job 7ad20f88-bba3-47a2-a70f-cb51eab1d9da is RUNNING. <a target=\"_blank\" href=\"https://consol…"
            ]
          },
          "metadata": {},
          "output_type": "display_data"
        }
      ],
      "source": [
        "TABLE_ID = \"${project_id}.${bigquery_rideshare_llm_enriched_dataset}.trip\"\n",
        "df = bpd.read_gbq(TABLE_ID)"
      ]
    },
    {
      "cell_type": "code",
      "execution_count": 33,
      "id": "REocYgGoOVtl",
      "metadata": {
        "colab": {
          "base_uri": "https://localhost:8080/"
        },
        "executionInfo": {
          "elapsed": 2,
          "status": "ok",
          "timestamp": 1694083150798,
          "user": {
            "displayName": "",
            "userId": ""
          },
          "user_tz": -120
        },
        "id": "REocYgGoOVtl",
        "outputId": "c89afd47-1af1-4002-dc26-1e22ddcee356"
      },
      "outputs": [
        {
          "data": {
            "text/plain": [
              "bigframes.dataframe.DataFrame"
            ]
          },
          "execution_count": 33,
          "metadata": {},
          "output_type": "execute_result"
        }
      ],
      "source": [
        "type(df)"
      ]
    },
    {
      "cell_type": "markdown",
      "id": "Lo9HjwXgOt7B",
      "metadata": {
        "id": "Lo9HjwXgOt7B"
      },
      "source": [
        "Now, we operate with the dataframe as with a classical pandas dataframe."
      ]
    },
    {
      "cell_type": "code",
      "execution_count": 4,
      "id": "m_2AEIaEzfgl",
      "metadata": {
        "colab": {
          "base_uri": "https://localhost:8080/",
          "height": 451,
          "referenced_widgets": [
            "b620e5673bf147f68daa2f5ca416bd3c",
            "a9649e29abbd4247a13ac0d090b7c0ca",
            "5082bd34826f46899e7f0c353af81edc",
            "e4a020c6485247cd8d0d4bd56920fb2f",
            "fac058145279495a9886f434eb54f791",
            "73d7bc8cfe8b41ba8d4c14f6e8409f46",
            "c2519840d42f42db9108c8c235d6b0da",
            "ad1b4bc766d44a718689b676a7ab3ddd",
            "9d919149d7394129a563e53f30225887"
          ]
        },
        "executionInfo": {
          "elapsed": 6495,
          "status": "ok",
          "timestamp": 1694077053625,
          "user": {
            "displayName": "",
            "userId": ""
          },
          "user_tz": -120
        },
        "id": "m_2AEIaEzfgl",
        "outputId": "c1476e2c-7038-4b89-e6fb-86b1ba1cc34f"
      },
      "outputs": [
        {
          "data": {
            "application/vnd.jupyter.widget-view+json": {
              "model_id": "b620e5673bf147f68daa2f5ca416bd3c",
              "version_major": 2,
              "version_minor": 0
            },
            "text/plain": [
              "HTML(value='Query job 1fffa241-9a1f-45c2-a1c1-65af8e532087 is DONE. 736.5 MB processed. <a target=\"_blank\" hre…"
            ]
          },
          "metadata": {},
          "output_type": "display_data"
        },
        {
          "data": {
            "application/vnd.jupyter.widget-view+json": {
              "model_id": "e4a020c6485247cd8d0d4bd56920fb2f",
              "version_major": 2,
              "version_minor": 0
            },
            "text/plain": [
              "HTML(value='Query job 8cc4ca36-d4f0-4964-977a-91ee4f84da85 is RUNNING. <a target=\"_blank\" href=\"https://consol…"
            ]
          },
          "metadata": {},
          "output_type": "display_data"
        },
        {
          "data": {
            "application/vnd.jupyter.widget-view+json": {
              "model_id": "c2519840d42f42db9108c8c235d6b0da",
              "version_major": 2,
              "version_minor": 0
            },
            "text/plain": [
              "HTML(value='Query job 227f4d24-e018-44f1-ab81-59cf1586186d is DONE. 0 Bytes processed. <a target=\"_blank\" href…"
            ]
          },
          "metadata": {},
          "output_type": "display_data"
        },
        {
          "data": {
            "text/html": [
              "<div>\n",
              "<style scoped>\n",
              "    .dataframe tbody tr th:only-of-type {\n",
              "        vertical-align: middle;\n",
              "    }\n",
              "\n",
              "    .dataframe tbody tr th {\n",
              "        vertical-align: top;\n",
              "    }\n",
              "\n",
              "    .dataframe thead th {\n",
              "        text-align: right;\n",
              "    }\n",
              "</style>\n",
              "<table border=\"1\" class=\"dataframe\">\n",
              "  <thead>\n",
              "    <tr style=\"text-align: right;\">\n",
              "      <th></th>\n",
              "      <th>rideshare_trip_id</th>\n",
              "      <th>pickup_location_id</th>\n",
              "      <th>pickup_datetime</th>\n",
              "      <th>dropoff_location_id</th>\n",
              "      <th>dropoff_datetime</th>\n",
              "      <th>ride_distance</th>\n",
              "      <th>is_airport</th>\n",
              "      <th>payment_type_id</th>\n",
              "      <th>fare_amount</th>\n",
              "      <th>tip_amount</th>\n",
              "      <th>taxes_amount</th>\n",
              "      <th>total_amount</th>\n",
              "      <th>credit_card_number</th>\n",
              "      <th>credit_card_expire_date</th>\n",
              "      <th>credit_card_cvv_code</th>\n",
              "      <th>partition_date</th>\n",
              "    </tr>\n",
              "  </thead>\n",
              "  <tbody>\n",
              "    <tr>\n",
              "      <th>0</th>\n",
              "      <td>8d5add86-faf2-40dd-83bb-30c8e351c462</td>\n",
              "      <td>230</td>\n",
              "      <td>2020-02-20 17:01:07+00:00</td>\n",
              "      <td>68</td>\n",
              "      <td>2020-02-20 17:08:36+00:00</td>\n",
              "      <td>1.39</td>\n",
              "      <td>False</td>\n",
              "      <td>1</td>\n",
              "      <td>7.0</td>\n",
              "      <td>1.13</td>\n",
              "      <td>4.3</td>\n",
              "      <td>12.43</td>\n",
              "      <td>4712-1545-8669-8650</td>\n",
              "      <td>2023-06-08</td>\n",
              "      <td>979</td>\n",
              "      <td>2020-02-01</td>\n",
              "    </tr>\n",
              "    <tr>\n",
              "      <th>1</th>\n",
              "      <td>bc8df12b-e253-4563-a6a1-60a005a37519</td>\n",
              "      <td>13</td>\n",
              "      <td>2020-02-19 19:39:23+00:00</td>\n",
              "      <td>40</td>\n",
              "      <td>2020-02-19 19:50:14+00:00</td>\n",
              "      <td>3.54</td>\n",
              "      <td>False</td>\n",
              "      <td>1</td>\n",
              "      <td>12.5</td>\n",
              "      <td>5.73</td>\n",
              "      <td>10.42</td>\n",
              "      <td>28.65</td>\n",
              "      <td>2466-7804-1267-4276</td>\n",
              "      <td>2023-09-13</td>\n",
              "      <td>774</td>\n",
              "      <td>2020-02-01</td>\n",
              "    </tr>\n",
              "    <tr>\n",
              "      <th>2</th>\n",
              "      <td>c0d3ee0f-a07d-42ec-9938-4f1ba8c61620</td>\n",
              "      <td>170</td>\n",
              "      <td>2020-02-20 18:48:13+00:00</td>\n",
              "      <td>230</td>\n",
              "      <td>2020-02-20 19:02:01+00:00</td>\n",
              "      <td>1.34</td>\n",
              "      <td>False</td>\n",
              "      <td>1</td>\n",
              "      <td>10.0</td>\n",
              "      <td>2.14</td>\n",
              "      <td>4.3</td>\n",
              "      <td>16.440001</td>\n",
              "      <td>6034-2304-8303-3285</td>\n",
              "      <td>2022-12-25</td>\n",
              "      <td>693</td>\n",
              "      <td>2020-02-01</td>\n",
              "    </tr>\n",
              "    <tr>\n",
              "      <th>3</th>\n",
              "      <td>959945b9-e3dc-4ea2-aab6-88c01076792c</td>\n",
              "      <td>138</td>\n",
              "      <td>2020-02-20 16:49:39+00:00</td>\n",
              "      <td>148</td>\n",
              "      <td>2020-02-20 17:23:07+00:00</td>\n",
              "      <td>9.13</td>\n",
              "      <td>False</td>\n",
              "      <td>1</td>\n",
              "      <td>31.5</td>\n",
              "      <td>7.16</td>\n",
              "      <td>4.3</td>\n",
              "      <td>42.959999</td>\n",
              "      <td>1435-2960-3143-4533</td>\n",
              "      <td>2023-03-20</td>\n",
              "      <td>534</td>\n",
              "      <td>2020-02-01</td>\n",
              "    </tr>\n",
              "    <tr>\n",
              "      <th>4</th>\n",
              "      <td>5ee62c5f-f0e3-4689-8b0d-220ccbc33ee1</td>\n",
              "      <td>68</td>\n",
              "      <td>2020-02-20 19:18:16+00:00</td>\n",
              "      <td>90</td>\n",
              "      <td>2020-02-20 19:23:58+00:00</td>\n",
              "      <td>0.83</td>\n",
              "      <td>False</td>\n",
              "      <td>1</td>\n",
              "      <td>5.5</td>\n",
              "      <td>1.96</td>\n",
              "      <td>4.3</td>\n",
              "      <td>11.76</td>\n",
              "      <td>2626-6341-6870-6351</td>\n",
              "      <td>2025-01-26</td>\n",
              "      <td>233</td>\n",
              "      <td>2020-02-01</td>\n",
              "    </tr>\n",
              "  </tbody>\n",
              "</table>\n",
              "<p>5 rows × 16 columns</p>\n",
              "</div>[5 rows x 16 columns in total]"
            ],
            "text/plain": [
              "                      rideshare_trip_id  pickup_location_id  \\\n",
              "0  8d5add86-faf2-40dd-83bb-30c8e351c462                 230   \n",
              "1  bc8df12b-e253-4563-a6a1-60a005a37519                  13   \n",
              "2  c0d3ee0f-a07d-42ec-9938-4f1ba8c61620                 170   \n",
              "3  959945b9-e3dc-4ea2-aab6-88c01076792c                 138   \n",
              "4  5ee62c5f-f0e3-4689-8b0d-220ccbc33ee1                  68   \n",
              "\n",
              "             pickup_datetime  dropoff_location_id           dropoff_datetime  \\\n",
              "0  2020-02-20 17:01:07+00:00                   68  2020-02-20 17:08:36+00:00   \n",
              "1  2020-02-19 19:39:23+00:00                   40  2020-02-19 19:50:14+00:00   \n",
              "2  2020-02-20 18:48:13+00:00                  230  2020-02-20 19:02:01+00:00   \n",
              "3  2020-02-20 16:49:39+00:00                  148  2020-02-20 17:23:07+00:00   \n",
              "4  2020-02-20 19:18:16+00:00                   90  2020-02-20 19:23:58+00:00   \n",
              "\n",
              "   ride_distance  is_airport  payment_type_id  fare_amount  tip_amount  \\\n",
              "0           1.39       False                1          7.0        1.13   \n",
              "1           3.54       False                1         12.5        5.73   \n",
              "2           1.34       False                1         10.0        2.14   \n",
              "3           9.13       False                1         31.5        7.16   \n",
              "4           0.83       False                1          5.5        1.96   \n",
              "\n",
              "   taxes_amount  total_amount   credit_card_number credit_card_expire_date  \\\n",
              "0           4.3         12.43  4712-1545-8669-8650              2023-06-08   \n",
              "1         10.42         28.65  2466-7804-1267-4276              2023-09-13   \n",
              "2           4.3     16.440001  6034-2304-8303-3285              2022-12-25   \n",
              "3           4.3     42.959999  1435-2960-3143-4533              2023-03-20   \n",
              "4           4.3         11.76  2626-6341-6870-6351              2025-01-26   \n",
              "\n",
              "  credit_card_cvv_code partition_date  \n",
              "0                  979     2020-02-01  \n",
              "1                  774     2020-02-01  \n",
              "2                  693     2020-02-01  \n",
              "3                  534     2020-02-01  \n",
              "4                  233     2020-02-01  \n",
              "\n",
              "[5 rows x 16 columns]"
            ]
          },
          "execution_count": 4,
          "metadata": {},
          "output_type": "execute_result"
        }
      ],
      "source": [
        "df.head()"
      ]
    },
    {
      "cell_type": "code",
      "execution_count": 5,
      "id": "qN8YUL1aqj7p",
      "metadata": {
        "colab": {
          "base_uri": "https://localhost:8080/"
        },
        "executionInfo": {
          "elapsed": 5,
          "status": "ok",
          "timestamp": 1694077053626,
          "user": {
            "displayName": "",
            "userId": ""
          },
          "user_tz": -120
        },
        "id": "qN8YUL1aqj7p",
        "outputId": "0d9c3bf5-9908-4567-ea5f-da8280cabfca"
      },
      "outputs": [
        {
          "data": {
            "text/plain": [
              "rideshare_trip_id                                  string\n",
              "pickup_location_id                                  Int64\n",
              "pickup_datetime            timestamp[us, tz=UTC][pyarrow]\n",
              "dropoff_location_id                                 Int64\n",
              "dropoff_datetime           timestamp[us, tz=UTC][pyarrow]\n",
              "ride_distance                                     Float64\n",
              "is_airport                                        boolean\n",
              "payment_type_id                                     Int64\n",
              "fare_amount                                       Float64\n",
              "tip_amount                                        Float64\n",
              "taxes_amount                                      Float64\n",
              "total_amount                                      Float64\n",
              "credit_card_number                                 string\n",
              "credit_card_expire_date              date32[day][pyarrow]\n",
              "credit_card_cvv_code                               string\n",
              "partition_date                       date32[day][pyarrow]\n",
              "dtype: object"
            ]
          },
          "execution_count": 5,
          "metadata": {},
          "output_type": "execute_result"
        }
      ],
      "source": [
        "df.dtypes"
      ]
    },
    {
      "cell_type": "code",
      "execution_count": 6,
      "id": "s9w1tOtzJCZI",
      "metadata": {
        "colab": {
          "base_uri": "https://localhost:8080/",
          "height": 66,
          "referenced_widgets": [
            "7ecb1d2b721846bb9df091f7c4fb6473",
            "31ac5f8d1669476699f0038f8218eb08",
            "6df81679183342e184ed088c98ee5fd9"
          ]
        },
        "executionInfo": {
          "elapsed": 1250,
          "status": "ok",
          "timestamp": 1694077054874,
          "user": {
            "displayName": "",
            "userId": ""
          },
          "user_tz": -120
        },
        "id": "s9w1tOtzJCZI",
        "outputId": "8f72de62-9348-4605-b409-edf21c5f4c43"
      },
      "outputs": [
        {
          "data": {
            "application/vnd.jupyter.widget-view+json": {
              "model_id": "7ecb1d2b721846bb9df091f7c4fb6473",
              "version_major": 2,
              "version_minor": 0
            },
            "text/plain": [
              "HTML(value='Query job 5acb76f7-b70a-45a7-9392-9b7884f221a9 is DONE. 0 Bytes processed. <a target=\"_blank\" href…"
            ]
          },
          "metadata": {},
          "output_type": "display_data"
        },
        {
          "data": {
            "text/plain": [
              "(92065103, 16)"
            ]
          },
          "execution_count": 6,
          "metadata": {},
          "output_type": "execute_result"
        }
      ],
      "source": [
        "df.shape"
      ]
    },
    {
      "cell_type": "code",
      "execution_count": 7,
      "id": "64GjC_z2oxEN",
      "metadata": {
        "colab": {
          "base_uri": "https://localhost:8080/",
          "height": 548,
          "referenced_widgets": [
            "5dab5ee34d924638ba2e58aaf9eef1a3",
            "3297b3eb7ade47b69bc4f5828ecf81f4",
            "d7ab676cf2aa4f79bb0d7b9a1778a6db",
            "1dc63b12dcd14e44943cb6db201bcf3c",
            "7fe879f0d25e4f5f97ae68f7670b6112",
            "d73b4f8cd28044bfaf6c3bca802b972d"
          ]
        },
        "executionInfo": {
          "elapsed": 2559,
          "status": "ok",
          "timestamp": 1694077057429,
          "user": {
            "displayName": "",
            "userId": ""
          },
          "user_tz": -120
        },
        "id": "64GjC_z2oxEN",
        "outputId": "27c011aa-712b-408a-c5d0-bc54e681bd86"
      },
      "outputs": [
        {
          "data": {
            "application/vnd.jupyter.widget-view+json": {
              "model_id": "5dab5ee34d924638ba2e58aaf9eef1a3",
              "version_major": 2,
              "version_minor": 0
            },
            "text/plain": [
              "HTML(value='Query job acd7aefe-38fc-4bcd-a75f-8126e4988fb7 is DONE. 736.5 MB processed. <a target=\"_blank\" hre…"
            ]
          },
          "metadata": {},
          "output_type": "display_data"
        },
        {
          "data": {
            "application/vnd.jupyter.widget-view+json": {
              "model_id": "1dc63b12dcd14e44943cb6db201bcf3c",
              "version_major": 2,
              "version_minor": 0
            },
            "text/plain": [
              "HTML(value='Query job 952105f4-67ab-430f-9158-a6a242643a72 is DONE. 736.5 MB processed. <a target=\"_blank\" hre…"
            ]
          },
          "metadata": {},
          "output_type": "display_data"
        },
        {
          "data": {
            "text/plain": [
              "pickup_location_id\n",
              "237    4232359\n",
              "236    3893134\n",
              "161    3348262\n",
              "132    3234829\n",
              "186    2962252\n",
              "162    2855960\n",
              "142    2800124\n",
              "170    2745446\n",
              "48     2629145\n",
              "239    2574292\n",
              "141    2457604\n",
              "230    2428247\n",
              "234    2375138\n",
              "163    2338341\n",
              "79     2206273\n",
              "68     2114802\n",
              "107    2091523\n",
              "238    2037461\n",
              "263    2008511\n",
              "138    1982481\n",
              "140    1952300\n",
              "229    1892468\n",
              "164    1851651\n",
              "249    1788509\n",
              "90     1578441\n",
              "Name: count, dtype: Int64"
            ]
          },
          "execution_count": 7,
          "metadata": {},
          "output_type": "execute_result"
        }
      ],
      "source": [
        "df['pickup_location_id'].value_counts()"
      ]
    },
    {
      "cell_type": "code",
      "execution_count": 8,
      "id": "OH2dS6xvqHsd",
      "metadata": {
        "colab": {
          "base_uri": "https://localhost:8080/",
          "height": 548,
          "referenced_widgets": [
            "2cf05d344d6748ab9350b4c76f027fd9",
            "2df784882c194c339d32195ac3c357dc",
            "d1094d930dd241b3b9762b6411c99fe8",
            "5b7fbcb4954f47309449bc234d93273f",
            "ce2e8cb9c47044da99318e2c274d615b",
            "8d162689590b4303a65ac46629ef01a6"
          ]
        },
        "executionInfo": {
          "elapsed": 1871,
          "status": "ok",
          "timestamp": 1694077059297,
          "user": {
            "displayName": "",
            "userId": ""
          },
          "user_tz": -120
        },
        "id": "OH2dS6xvqHsd",
        "outputId": "8f4c55fb-c913-4453-f2ac-72bd273c1449"
      },
      "outputs": [
        {
          "data": {
            "application/vnd.jupyter.widget-view+json": {
              "model_id": "2cf05d344d6748ab9350b4c76f027fd9",
              "version_major": 2,
              "version_minor": 0
            },
            "text/plain": [
              "HTML(value='Query job c1e0f352-b3fc-47f1-a239-c14f2c017387 is DONE. 736.5 MB processed. <a target=\"_blank\" hre…"
            ]
          },
          "metadata": {},
          "output_type": "display_data"
        },
        {
          "data": {
            "application/vnd.jupyter.widget-view+json": {
              "model_id": "5b7fbcb4954f47309449bc234d93273f",
              "version_major": 2,
              "version_minor": 0
            },
            "text/plain": [
              "HTML(value='Query job 4c060a3a-508e-42f0-b276-66d23287e9bd is DONE. 736.5 MB processed. <a target=\"_blank\" hre…"
            ]
          },
          "metadata": {},
          "output_type": "display_data"
        },
        {
          "data": {
            "text/plain": [
              "dropoff_location_id\n",
              "236    4034306\n",
              "237    3735420\n",
              "161    3054195\n",
              "170    2653724\n",
              "141    2504885\n",
              "239    2504708\n",
              "142    2447666\n",
              "48     2336382\n",
              "162    2320331\n",
              "238    2215909\n",
              "230    2198198\n",
              "234    2065140\n",
              "68     2035711\n",
              "163    2017032\n",
              "263    1995475\n",
              "186    1967517\n",
              "140    1947550\n",
              "229    1885624\n",
              "79     1842346\n",
              "107    1765890\n",
              "164    1679978\n",
              "246    1539785\n",
              "75     1468699\n",
              "249    1460092\n",
              "262    1408448\n",
              "Name: count, dtype: Int64"
            ]
          },
          "execution_count": 8,
          "metadata": {},
          "output_type": "execute_result"
        }
      ],
      "source": [
        "df['dropoff_location_id'].value_counts()"
      ]
    },
    {
      "cell_type": "code",
      "execution_count": 9,
      "id": "pQYW-S_oAY88",
      "metadata": {
        "colab": {
          "base_uri": "https://localhost:8080/",
          "height": 49,
          "referenced_widgets": [
            "e35dd1a6a3b749c88f1ec43ba01d8acc",
            "aae9956fe1a94825b6af514f296c9734",
            "da416bb1f4eb4613b138985a2bf36697"
          ]
        },
        "executionInfo": {
          "elapsed": 1579,
          "status": "ok",
          "timestamp": 1694077060875,
          "user": {
            "displayName": "",
            "userId": ""
          },
          "user_tz": -120
        },
        "id": "pQYW-S_oAY88",
        "outputId": "08c2227e-3b5c-4937-b604-59507987566d"
      },
      "outputs": [
        {
          "data": {
            "application/vnd.jupyter.widget-view+json": {
              "model_id": "e35dd1a6a3b749c88f1ec43ba01d8acc",
              "version_major": 2,
              "version_minor": 0
            },
            "text/plain": [
              "HTML(value='Query job 95f69bf3-654c-49f0-baba-c1b97245f18e is DONE. 0 Bytes processed. <a target=\"_blank\" href…"
            ]
          },
          "metadata": {},
          "output_type": "display_data"
        }
      ],
      "source": [
        "df = df.drop(columns=['trip_id','customer_id','driver_id','fare_amount','tip_amount','payment_type_id']).sample(frac=0.05,random_state=1)"
      ]
    },
    {
      "cell_type": "code",
      "execution_count": 10,
      "id": "n6Td1AjtIjd-",
      "metadata": {
        "colab": {
          "base_uri": "https://localhost:8080/",
          "height": 66,
          "referenced_widgets": [
            "e969d07ea69942bd8590197ddb5d2496",
            "4b768b2200254c4ba2e8e4ce9ff6166c",
            "1f6ca249acd84111ad2b5479aad5e277"
          ]
        },
        "executionInfo": {
          "elapsed": 43880,
          "status": "ok",
          "timestamp": 1694077104754,
          "user": {
            "displayName": "",
            "userId": ""
          },
          "user_tz": -120
        },
        "id": "n6Td1AjtIjd-",
        "outputId": "a5435e36-5906-4598-e262-47be8f5de9e4"
      },
      "outputs": [
        {
          "data": {
            "application/vnd.jupyter.widget-view+json": {
              "model_id": "e969d07ea69942bd8590197ddb5d2496",
              "version_major": 2,
              "version_minor": 0
            },
            "text/plain": [
              "HTML(value='Query job b196a745-c1c0-43f1-9ef7-7cb48d594f04 is RUNNING. <a target=\"_blank\" href=\"https://consol…"
            ]
          },
          "metadata": {},
          "output_type": "display_data"
        },
        {
          "data": {
            "text/plain": [
              "(4603255, 7)"
            ]
          },
          "execution_count": 10,
          "metadata": {},
          "output_type": "execute_result"
        }
      ],
      "source": [
        "df.shape"
      ]
    },
    {
      "cell_type": "code",
      "execution_count": 11,
      "id": "bsTKXm0etI1z",
      "metadata": {
        "executionInfo": {
          "elapsed": 5,
          "status": "ok",
          "timestamp": 1694077104755,
          "user": {
            "displayName": "",
            "userId": ""
          },
          "user_tz": -120
        },
        "id": "bsTKXm0etI1z"
      },
      "outputs": [],
      "source": [
        "df = df.dropna()"
      ]
    },
    {
      "cell_type": "markdown",
      "id": "aElu6SAkQZgC",
      "metadata": {
        "id": "aElu6SAkQZgC"
      },
      "source": [
        "## **Step 03: Training a K-means model**"
      ]
    },
    {
      "cell_type": "markdown",
      "id": "msfzXlRRVqmc",
      "metadata": {
        "id": "msfzXlRRVqmc"
      },
      "source": [
        "Fit the k-Means model"
      ]
    },
    {
      "cell_type": "code",
      "execution_count": 12,
      "id": "G2Qos7Rdzgm9",
      "metadata": {
        "executionInfo": {
          "elapsed": 122112,
          "status": "ok",
          "timestamp": 1694077226863,
          "user": {
            "displayName": "",
            "userId": ""
          },
          "user_tz": -120
        },
        "id": "G2Qos7Rdzgm9"
      },
      "outputs": [],
      "source": [
        "N_CLUSTERS = 4\n",
        "kmeans_model = KMeans(n_clusters=N_CLUSTERS).fit(df)"
      ]
    },
    {
      "cell_type": "code",
      "execution_count": 13,
      "id": "UMxiee3pl-0j",
      "metadata": {
        "colab": {
          "base_uri": "https://localhost:8080/"
        },
        "executionInfo": {
          "elapsed": 6,
          "status": "ok",
          "timestamp": 1694077226864,
          "user": {
            "displayName": "",
            "userId": ""
          },
          "user_tz": -120
        },
        "id": "UMxiee3pl-0j",
        "outputId": "672474be-df2e-4f21-edbf-266ad7648f00"
      },
      "outputs": [
        {
          "data": {
            "text/plain": [
              "{'n_clusters': 4}"
            ]
          },
          "execution_count": 13,
          "metadata": {},
          "output_type": "execute_result"
        }
      ],
      "source": [
        "kmeans_model.get_params()\n"
      ]
    },
    {
      "cell_type": "code",
      "execution_count": 14,
      "id": "LWOUwjx2mJ0W",
      "metadata": {
        "colab": {
          "base_uri": "https://localhost:8080/",
          "height": 279,
          "referenced_widgets": [
            "37be64baed7d4f0790be42d78576c634",
            "4831906cd5da4aa6acece4fe9429ce98",
            "d641b028e98f47b8bd3d46fb7121c56a",
            "5b87b3e8aea544f8a8b8238f810383f6",
            "8fccb6acd0bb46839a413fb2f9d9a9eb",
            "520204f2d640406fb6fbabc0b9bcfb1e",
            "36fc3371e19e40db8a81f5d07d1beaa3",
            "6ed7bcddcaef4c65a3df789b56dbb05f",
            "ec42b2688c5640ae8d6d26af5a481f02",
            "4682ba6a440e49f9b0f87f99bde1f58f",
            "ff2dbbd4d5f04720b4038834b75e508e",
            "408133c5a17c4599b94b2a53e56039dd",
            "a1ac7cca5dfd426bbe238ad5e6ab2656",
            "afe1c8cfdf0c439eacaf95199d1bf734",
            "0ecba69465384d5ea139da31eaf4b5d6"
          ]
        },
        "executionInfo": {
          "elapsed": 91047,
          "status": "ok",
          "timestamp": 1694077317908,
          "user": {
            "displayName": "",
            "userId": ""
          },
          "user_tz": -120
        },
        "id": "LWOUwjx2mJ0W",
        "outputId": "b6426166-41da-4b69-de32-3100066828a5"
      },
      "outputs": [
        {
          "data": {
            "application/vnd.jupyter.widget-view+json": {
              "model_id": "37be64baed7d4f0790be42d78576c634",
              "version_major": 2,
              "version_minor": 0
            },
            "text/plain": [
              "HTML(value='Query job 38b6de9c-e61b-4e0a-ad4f-1ab48b8efdaa is RUNNING. <a target=\"_blank\" href=\"https://consol…"
            ]
          },
          "metadata": {},
          "output_type": "display_data"
        },
        {
          "data": {
            "application/vnd.jupyter.widget-view+json": {
              "model_id": "5b87b3e8aea544f8a8b8238f810383f6",
              "version_major": 2,
              "version_minor": 0
            },
            "text/plain": [
              "HTML(value='Query job dface5fb-a222-462a-a8d2-df2451af68b1 is RUNNING. <a target=\"_blank\" href=\"https://consol…"
            ]
          },
          "metadata": {},
          "output_type": "display_data"
        },
        {
          "data": {
            "application/vnd.jupyter.widget-view+json": {
              "model_id": "36fc3371e19e40db8a81f5d07d1beaa3",
              "version_major": 2,
              "version_minor": 0
            },
            "text/plain": [
              "HTML(value='Query job 4bd51cb5-f7e6-48a7-8e88-501239c15266 is DONE. 0 Bytes processed. <a target=\"_blank\" href…"
            ]
          },
          "metadata": {},
          "output_type": "display_data"
        },
        {
          "data": {
            "application/vnd.jupyter.widget-view+json": {
              "model_id": "4682ba6a440e49f9b0f87f99bde1f58f",
              "version_major": 2,
              "version_minor": 0
            },
            "text/plain": [
              "HTML(value='Query job 225b47d3-87bc-4c65-a796-95ff1bab83b4 is DONE. 24 Bytes processed. <a target=\"_blank\" hre…"
            ]
          },
          "metadata": {},
          "output_type": "display_data"
        },
        {
          "data": {
            "application/vnd.jupyter.widget-view+json": {
              "model_id": "a1ac7cca5dfd426bbe238ad5e6ab2656",
              "version_major": 2,
              "version_minor": 0
            },
            "text/plain": [
              "HTML(value='Query job 6e485900-d17f-43b6-8b61-58daa9c981dd is DONE. 0 Bytes processed. <a target=\"_blank\" href…"
            ]
          },
          "metadata": {},
          "output_type": "display_data"
        },
        {
          "data": {
            "text/html": [
              "<div>\n",
              "<style scoped>\n",
              "    .dataframe tbody tr th:only-of-type {\n",
              "        vertical-align: middle;\n",
              "    }\n",
              "\n",
              "    .dataframe tbody tr th {\n",
              "        vertical-align: top;\n",
              "    }\n",
              "\n",
              "    .dataframe thead th {\n",
              "        text-align: right;\n",
              "    }\n",
              "</style>\n",
              "<table border=\"1\" class=\"dataframe\">\n",
              "  <thead>\n",
              "    <tr style=\"text-align: right;\">\n",
              "      <th></th>\n",
              "      <th>davies_bouldin_index</th>\n",
              "      <th>mean_squared_distance</th>\n",
              "    </tr>\n",
              "  </thead>\n",
              "  <tbody>\n",
              "    <tr>\n",
              "      <th>0</th>\n",
              "      <td>2.035664</td>\n",
              "      <td>3.88733</td>\n",
              "    </tr>\n",
              "  </tbody>\n",
              "</table>\n",
              "<p>1 rows × 2 columns</p>\n",
              "</div>[1 rows x 2 columns in total]"
            ],
            "text/plain": [
              "   davies_bouldin_index  mean_squared_distance\n",
              "0              2.035664                3.88733\n",
              "\n",
              "[1 rows x 2 columns]"
            ]
          },
          "execution_count": 14,
          "metadata": {},
          "output_type": "execute_result"
        }
      ],
      "source": [
        "kmeans_model.score(df)"
      ]
    },
    {
      "cell_type": "markdown",
      "id": "saeHgIWdVvvF",
      "metadata": {
        "id": "saeHgIWdVvvF"
      },
      "source": [
        "Predict the centroid_id (cluster) for the trips Dataframe"
      ]
    },
    {
      "cell_type": "code",
      "execution_count": 15,
      "id": "UL0sVEpvLEOH",
      "metadata": {
        "colab": {
          "base_uri": "https://localhost:8080/",
          "height": 79,
          "referenced_widgets": [
            "3a4c22de868240259e8258343ab51a01",
            "c94688d382bd46379f8a70d3692d5489",
            "7593a1d1f572416fb23eedf555738bc7",
            "f5f021c09002415096319a629dedd25b",
            "c848daa7e6c946b5a8b9b2d3e19559c5",
            "3f102274ec5a45e0ad4f16ce84ce0032"
          ]
        },
        "executionInfo": {
          "elapsed": 81678,
          "status": "ok",
          "timestamp": 1694077399563,
          "user": {
            "displayName": "",
            "userId": ""
          },
          "user_tz": -120
        },
        "id": "UL0sVEpvLEOH",
        "outputId": "ad3c3205-96e1-43ff-9bb9-c4347e15c3c2"
      },
      "outputs": [
        {
          "data": {
            "application/vnd.jupyter.widget-view+json": {
              "model_id": "3a4c22de868240259e8258343ab51a01",
              "version_major": 2,
              "version_minor": 0
            },
            "text/plain": [
              "HTML(value='Query job 5d1f0d74-5a4b-4d70-b981-caa10c6e500c is RUNNING. <a target=\"_blank\" href=\"https://consol…"
            ]
          },
          "metadata": {},
          "output_type": "display_data"
        },
        {
          "data": {
            "application/vnd.jupyter.widget-view+json": {
              "model_id": "f5f021c09002415096319a629dedd25b",
              "version_major": 2,
              "version_minor": 0
            },
            "text/plain": [
              "HTML(value='Query job ba198661-09c6-4859-91a9-34c1ef3ed5ff is RUNNING. <a target=\"_blank\" href=\"https://consol…"
            ]
          },
          "metadata": {},
          "output_type": "display_data"
        }
      ],
      "source": [
        "centroid_id = kmeans_model.predict(df)"
      ]
    },
    {
      "cell_type": "markdown",
      "id": "Y_IGbq8HV2Gp",
      "metadata": {
        "id": "Y_IGbq8HV2Gp"
      },
      "source": [
        "Append the cluster information to the original dataframe"
      ]
    },
    {
      "cell_type": "code",
      "execution_count": 16,
      "id": "B7fj2kJcn22S",
      "metadata": {
        "executionInfo": {
          "elapsed": 20,
          "status": "ok",
          "timestamp": 1694077399564,
          "user": {
            "displayName": "",
            "userId": ""
          },
          "user_tz": -120
        },
        "id": "B7fj2kJcn22S"
      },
      "outputs": [],
      "source": [
        "df['centroid_id'] = centroid_id['CENTROID_ID']\n"
      ]
    },
    {
      "cell_type": "code",
      "execution_count": 17,
      "id": "VnnfI1-Lob5_",
      "metadata": {
        "colab": {
          "base_uri": "https://localhost:8080/",
          "height": 1000,
          "referenced_widgets": [
            "f0a876f0e4dd473f81ad3dfadad1c09b",
            "86f9f6766b114d0396dba51291e83cac",
            "0ad1041e983b4c0fac720d3d1bebbffa",
            "7ecc40a208024b4cb32e48a9f4d704c9",
            "18a04b9f37d54796aa7ffcf6f1f4dc88",
            "7994a4a85a6b4564b46985ee28fb5640",
            "2e56c0fb991a4f7ea97b85564f303d7a",
            "aded4f7f20ef4dd7afe5e17cdf269c44",
            "5640d79e5669468abcf9022e6c95498d"
          ]
        },
        "executionInfo": {
          "elapsed": 163850,
          "status": "ok",
          "timestamp": 1694077563395,
          "user": {
            "displayName": "",
            "userId": ""
          },
          "user_tz": -120
        },
        "id": "VnnfI1-Lob5_",
        "outputId": "0237c611-ece1-41d4-e6fe-42ae5ed886d1"
      },
      "outputs": [
        {
          "data": {
            "application/vnd.jupyter.widget-view+json": {
              "model_id": "f0a876f0e4dd473f81ad3dfadad1c09b",
              "version_major": 2,
              "version_minor": 0
            },
            "text/plain": [
              "HTML(value='Query job d101b1f1-47b5-4d08-bcba-23c6cb6f2327 is RUNNING. <a target=\"_blank\" href=\"https://consol…"
            ]
          },
          "metadata": {},
          "output_type": "display_data"
        },
        {
          "data": {
            "application/vnd.jupyter.widget-view+json": {
              "model_id": "7ecc40a208024b4cb32e48a9f4d704c9",
              "version_major": 2,
              "version_minor": 0
            },
            "text/plain": [
              "HTML(value='Query job 863fc379-c251-407e-b440-1c4be7e554e4 is RUNNING. <a target=\"_blank\" href=\"https://consol…"
            ]
          },
          "metadata": {},
          "output_type": "display_data"
        },
        {
          "data": {
            "application/vnd.jupyter.widget-view+json": {
              "model_id": "2e56c0fb991a4f7ea97b85564f303d7a",
              "version_major": 2,
              "version_minor": 0
            },
            "text/plain": [
              "HTML(value='Query job b7bfbf8f-4d7f-4ca4-a09b-6c8819b759dd is DONE. 0 Bytes processed. <a target=\"_blank\" href…"
            ]
          },
          "metadata": {},
          "output_type": "display_data"
        },
        {
          "data": {
            "text/html": [
              "<div>\n",
              "<style scoped>\n",
              "    .dataframe tbody tr th:only-of-type {\n",
              "        vertical-align: middle;\n",
              "    }\n",
              "\n",
              "    .dataframe tbody tr th {\n",
              "        vertical-align: top;\n",
              "    }\n",
              "\n",
              "    .dataframe thead th {\n",
              "        text-align: right;\n",
              "    }\n",
              "</style>\n",
              "<table border=\"1\" class=\"dataframe\">\n",
              "  <thead>\n",
              "    <tr style=\"text-align: right;\">\n",
              "      <th></th>\n",
              "      <th>pickup_location_id</th>\n",
              "      <th>pickup_datetime</th>\n",
              "      <th>dropoff_location_id</th>\n",
              "      <th>dropoff_datetime</th>\n",
              "      <th>ride_distance</th>\n",
              "      <th>is_airport</th>\n",
              "      <th>total_amount</th>\n",
              "      <th>centroid_id</th>\n",
              "    </tr>\n",
              "  </thead>\n",
              "  <tbody>\n",
              "    <tr>\n",
              "      <th>31788803</th>\n",
              "      <td>141</td>\n",
              "      <td>2020-01-07 00:01:12+00:00</td>\n",
              "      <td>256</td>\n",
              "      <td>2020-01-07 00:17:26+00:00</td>\n",
              "      <td>6.86</td>\n",
              "      <td>False</td>\n",
              "      <td>31.0</td>\n",
              "      <td>2</td>\n",
              "    </tr>\n",
              "    <tr>\n",
              "      <th>34848326</th>\n",
              "      <td>186</td>\n",
              "      <td>2022-07-28 20:04:17+00:00</td>\n",
              "      <td>4</td>\n",
              "      <td>2022-07-28 20:30:46+00:00</td>\n",
              "      <td>3.0</td>\n",
              "      <td>False</td>\n",
              "      <td>24.950001</td>\n",
              "      <td>3</td>\n",
              "    </tr>\n",
              "    <tr>\n",
              "      <th>6289096</th>\n",
              "      <td>116</td>\n",
              "      <td>2022-02-04 13:05:58+00:00</td>\n",
              "      <td>166</td>\n",
              "      <td>2022-02-04 13:15:23+00:00</td>\n",
              "      <td>1.58</td>\n",
              "      <td>False</td>\n",
              "      <td>9.3</td>\n",
              "      <td>3</td>\n",
              "    </tr>\n",
              "    <tr>\n",
              "      <th>2050367</th>\n",
              "      <td>48</td>\n",
              "      <td>2021-10-01 23:43:23+00:00</td>\n",
              "      <td>239</td>\n",
              "      <td>2021-10-01 23:57:03+00:00</td>\n",
              "      <td>3.86</td>\n",
              "      <td>False</td>\n",
              "      <td>19.299999</td>\n",
              "      <td>3</td>\n",
              "    </tr>\n",
              "    <tr>\n",
              "      <th>13697325</th>\n",
              "      <td>144</td>\n",
              "      <td>2021-05-22 18:46:21+00:00</td>\n",
              "      <td>68</td>\n",
              "      <td>2021-05-22 18:58:52+00:00</td>\n",
              "      <td>2.42</td>\n",
              "      <td>False</td>\n",
              "      <td>15.3</td>\n",
              "      <td>4</td>\n",
              "    </tr>\n",
              "    <tr>\n",
              "      <th>3357510</th>\n",
              "      <td>113</td>\n",
              "      <td>2022-08-19 11:08:31+00:00</td>\n",
              "      <td>231</td>\n",
              "      <td>2022-08-19 11:16:16+00:00</td>\n",
              "      <td>0.89</td>\n",
              "      <td>False</td>\n",
              "      <td>11.8</td>\n",
              "      <td>3</td>\n",
              "    </tr>\n",
              "    <tr>\n",
              "      <th>43980201</th>\n",
              "      <td>137</td>\n",
              "      <td>2021-05-20 22:13:00+00:00</td>\n",
              "      <td>74</td>\n",
              "      <td>2021-05-20 22:26:00+00:00</td>\n",
              "      <td>5.73</td>\n",
              "      <td>False</td>\n",
              "      <td>23.469999</td>\n",
              "      <td>4</td>\n",
              "    </tr>\n",
              "    <tr>\n",
              "      <th>31810276</th>\n",
              "      <td>233</td>\n",
              "      <td>2022-03-10 12:36:17+00:00</td>\n",
              "      <td>100</td>\n",
              "      <td>2022-03-10 12:52:00+00:00</td>\n",
              "      <td>1.0</td>\n",
              "      <td>False</td>\n",
              "      <td>16.0</td>\n",
              "      <td>3</td>\n",
              "    </tr>\n",
              "    <tr>\n",
              "      <th>50124132</th>\n",
              "      <td>236</td>\n",
              "      <td>2022-05-25 08:22:14+00:00</td>\n",
              "      <td>162</td>\n",
              "      <td>2022-05-25 08:35:36+00:00</td>\n",
              "      <td>1.5</td>\n",
              "      <td>False</td>\n",
              "      <td>15.3</td>\n",
              "      <td>3</td>\n",
              "    </tr>\n",
              "    <tr>\n",
              "      <th>23856329</th>\n",
              "      <td>107</td>\n",
              "      <td>2022-07-27 21:56:48+00:00</td>\n",
              "      <td>137</td>\n",
              "      <td>2022-07-27 22:01:48+00:00</td>\n",
              "      <td>0.9</td>\n",
              "      <td>False</td>\n",
              "      <td>11.15</td>\n",
              "      <td>3</td>\n",
              "    </tr>\n",
              "    <tr>\n",
              "      <th>14546419</th>\n",
              "      <td>141</td>\n",
              "      <td>2021-04-05 16:09:54+00:00</td>\n",
              "      <td>236</td>\n",
              "      <td>2021-04-05 16:18:56+00:00</td>\n",
              "      <td>1.5</td>\n",
              "      <td>False</td>\n",
              "      <td>14.15</td>\n",
              "      <td>1</td>\n",
              "    </tr>\n",
              "    <tr>\n",
              "      <th>91050346</th>\n",
              "      <td>238</td>\n",
              "      <td>2022-04-29 13:51:48+00:00</td>\n",
              "      <td>151</td>\n",
              "      <td>2022-04-29 13:57:33+00:00</td>\n",
              "      <td>0.7</td>\n",
              "      <td>False</td>\n",
              "      <td>9.8</td>\n",
              "      <td>3</td>\n",
              "    </tr>\n",
              "    <tr>\n",
              "      <th>66005250</th>\n",
              "      <td>143</td>\n",
              "      <td>2022-01-18 17:37:56+00:00</td>\n",
              "      <td>148</td>\n",
              "      <td>2022-01-18 18:02:32+00:00</td>\n",
              "      <td>4.95</td>\n",
              "      <td>False</td>\n",
              "      <td>29.16</td>\n",
              "      <td>3</td>\n",
              "    </tr>\n",
              "    <tr>\n",
              "      <th>5123878</th>\n",
              "      <td>186</td>\n",
              "      <td>2022-09-27 00:29:12+00:00</td>\n",
              "      <td>189</td>\n",
              "      <td>2022-09-27 00:53:38+00:00</td>\n",
              "      <td>6.2</td>\n",
              "      <td>False</td>\n",
              "      <td>31.299999</td>\n",
              "      <td>3</td>\n",
              "    </tr>\n",
              "    <tr>\n",
              "      <th>49472846</th>\n",
              "      <td>144</td>\n",
              "      <td>2021-11-18 15:51:20+00:00</td>\n",
              "      <td>234</td>\n",
              "      <td>2021-11-18 16:02:14+00:00</td>\n",
              "      <td>1.79</td>\n",
              "      <td>False</td>\n",
              "      <td>13.3</td>\n",
              "      <td>1</td>\n",
              "    </tr>\n",
              "    <tr>\n",
              "      <th>78508742</th>\n",
              "      <td>140</td>\n",
              "      <td>2021-05-25 08:21:45+00:00</td>\n",
              "      <td>233</td>\n",
              "      <td>2021-05-25 08:32:35+00:00</td>\n",
              "      <td>2.34</td>\n",
              "      <td>False</td>\n",
              "      <td>15.0</td>\n",
              "      <td>1</td>\n",
              "    </tr>\n",
              "    <tr>\n",
              "      <th>70570442</th>\n",
              "      <td>70</td>\n",
              "      <td>2022-03-18 11:03:15+00:00</td>\n",
              "      <td>90</td>\n",
              "      <td>2022-03-18 11:42:42+00:00</td>\n",
              "      <td>9.73</td>\n",
              "      <td>False</td>\n",
              "      <td>53.220001</td>\n",
              "      <td>3</td>\n",
              "    </tr>\n",
              "    <tr>\n",
              "      <th>40044068</th>\n",
              "      <td>75</td>\n",
              "      <td>2020-08-04 13:00:17+00:00</td>\n",
              "      <td>238</td>\n",
              "      <td>2020-08-04 13:23:50+00:00</td>\n",
              "      <td>2.5</td>\n",
              "      <td>False</td>\n",
              "      <td>23.16</td>\n",
              "      <td>2</td>\n",
              "    </tr>\n",
              "    <tr>\n",
              "      <th>90776874</th>\n",
              "      <td>43</td>\n",
              "      <td>2022-03-23 10:59:10+00:00</td>\n",
              "      <td>166</td>\n",
              "      <td>2022-03-23 11:06:43+00:00</td>\n",
              "      <td>1.12</td>\n",
              "      <td>False</td>\n",
              "      <td>7.8</td>\n",
              "      <td>3</td>\n",
              "    </tr>\n",
              "    <tr>\n",
              "      <th>89739399</th>\n",
              "      <td>79</td>\n",
              "      <td>2022-04-18 21:01:33+00:00</td>\n",
              "      <td>164</td>\n",
              "      <td>2022-04-18 21:10:47+00:00</td>\n",
              "      <td>1.77</td>\n",
              "      <td>False</td>\n",
              "      <td>13.3</td>\n",
              "      <td>3</td>\n",
              "    </tr>\n",
              "    <tr>\n",
              "      <th>78938792</th>\n",
              "      <td>230</td>\n",
              "      <td>2022-03-18 01:39:54+00:00</td>\n",
              "      <td>142</td>\n",
              "      <td>2022-03-18 01:48:50+00:00</td>\n",
              "      <td>1.83</td>\n",
              "      <td>False</td>\n",
              "      <td>17.799999</td>\n",
              "      <td>3</td>\n",
              "    </tr>\n",
              "    <tr>\n",
              "      <th>59619844</th>\n",
              "      <td>132</td>\n",
              "      <td>2022-10-29 00:26:34+00:00</td>\n",
              "      <td>263</td>\n",
              "      <td>2022-10-29 01:04:45+00:00</td>\n",
              "      <td>19.58</td>\n",
              "      <td>True</td>\n",
              "      <td>72.559998</td>\n",
              "      <td>3</td>\n",
              "    </tr>\n",
              "    <tr>\n",
              "      <th>90154174</th>\n",
              "      <td>237</td>\n",
              "      <td>2021-03-22 16:12:12+00:00</td>\n",
              "      <td>237</td>\n",
              "      <td>2021-03-22 16:15:49+00:00</td>\n",
              "      <td>0.54</td>\n",
              "      <td>False</td>\n",
              "      <td>11.0</td>\n",
              "      <td>1</td>\n",
              "    </tr>\n",
              "    <tr>\n",
              "      <th>14027488</th>\n",
              "      <td>90</td>\n",
              "      <td>2021-02-19 10:00:58+00:00</td>\n",
              "      <td>50</td>\n",
              "      <td>2021-02-19 10:11:06+00:00</td>\n",
              "      <td>2.64</td>\n",
              "      <td>False</td>\n",
              "      <td>17.940001</td>\n",
              "      <td>4</td>\n",
              "    </tr>\n",
              "    <tr>\n",
              "      <th>86927983</th>\n",
              "      <td>233</td>\n",
              "      <td>2020-03-06 20:16:03+00:00</td>\n",
              "      <td>79</td>\n",
              "      <td>2020-03-06 20:28:44+00:00</td>\n",
              "      <td>1.46</td>\n",
              "      <td>False</td>\n",
              "      <td>14.8</td>\n",
              "      <td>2</td>\n",
              "    </tr>\n",
              "  </tbody>\n",
              "</table>\n",
              "<p>25 rows × 8 columns</p>\n",
              "</div>[4603255 rows x 8 columns in total]"
            ],
            "text/plain": [
              "          pickup_location_id            pickup_datetime  dropoff_location_id  \\\n",
              "31788803                 141  2020-01-07 00:01:12+00:00                  256   \n",
              "34848326                 186  2022-07-28 20:04:17+00:00                    4   \n",
              "6289096                  116  2022-02-04 13:05:58+00:00                  166   \n",
              "2050367                   48  2021-10-01 23:43:23+00:00                  239   \n",
              "13697325                 144  2021-05-22 18:46:21+00:00                   68   \n",
              "3357510                  113  2022-08-19 11:08:31+00:00                  231   \n",
              "43980201                 137  2021-05-20 22:13:00+00:00                   74   \n",
              "31810276                 233  2022-03-10 12:36:17+00:00                  100   \n",
              "50124132                 236  2022-05-25 08:22:14+00:00                  162   \n",
              "23856329                 107  2022-07-27 21:56:48+00:00                  137   \n",
              "14546419                 141  2021-04-05 16:09:54+00:00                  236   \n",
              "91050346                 238  2022-04-29 13:51:48+00:00                  151   \n",
              "66005250                 143  2022-01-18 17:37:56+00:00                  148   \n",
              "5123878                  186  2022-09-27 00:29:12+00:00                  189   \n",
              "49472846                 144  2021-11-18 15:51:20+00:00                  234   \n",
              "78508742                 140  2021-05-25 08:21:45+00:00                  233   \n",
              "70570442                  70  2022-03-18 11:03:15+00:00                   90   \n",
              "40044068                  75  2020-08-04 13:00:17+00:00                  238   \n",
              "90776874                  43  2022-03-23 10:59:10+00:00                  166   \n",
              "89739399                  79  2022-04-18 21:01:33+00:00                  164   \n",
              "78938792                 230  2022-03-18 01:39:54+00:00                  142   \n",
              "59619844                 132  2022-10-29 00:26:34+00:00                  263   \n",
              "90154174                 237  2021-03-22 16:12:12+00:00                  237   \n",
              "14027488                  90  2021-02-19 10:00:58+00:00                   50   \n",
              "86927983                 233  2020-03-06 20:16:03+00:00                   79   \n",
              "\n",
              "                   dropoff_datetime  ride_distance  is_airport  total_amount  \\\n",
              "31788803  2020-01-07 00:17:26+00:00           6.86       False          31.0   \n",
              "34848326  2022-07-28 20:30:46+00:00            3.0       False     24.950001   \n",
              "6289096   2022-02-04 13:15:23+00:00           1.58       False           9.3   \n",
              "2050367   2021-10-01 23:57:03+00:00           3.86       False     19.299999   \n",
              "13697325  2021-05-22 18:58:52+00:00           2.42       False          15.3   \n",
              "3357510   2022-08-19 11:16:16+00:00           0.89       False          11.8   \n",
              "43980201  2021-05-20 22:26:00+00:00           5.73       False     23.469999   \n",
              "31810276  2022-03-10 12:52:00+00:00            1.0       False          16.0   \n",
              "50124132  2022-05-25 08:35:36+00:00            1.5       False          15.3   \n",
              "23856329  2022-07-27 22:01:48+00:00            0.9       False         11.15   \n",
              "14546419  2021-04-05 16:18:56+00:00            1.5       False         14.15   \n",
              "91050346  2022-04-29 13:57:33+00:00            0.7       False           9.8   \n",
              "66005250  2022-01-18 18:02:32+00:00           4.95       False         29.16   \n",
              "5123878   2022-09-27 00:53:38+00:00            6.2       False     31.299999   \n",
              "49472846  2021-11-18 16:02:14+00:00           1.79       False          13.3   \n",
              "78508742  2021-05-25 08:32:35+00:00           2.34       False          15.0   \n",
              "70570442  2022-03-18 11:42:42+00:00           9.73       False     53.220001   \n",
              "40044068  2020-08-04 13:23:50+00:00            2.5       False         23.16   \n",
              "90776874  2022-03-23 11:06:43+00:00           1.12       False           7.8   \n",
              "89739399  2022-04-18 21:10:47+00:00           1.77       False          13.3   \n",
              "78938792  2022-03-18 01:48:50+00:00           1.83       False     17.799999   \n",
              "59619844  2022-10-29 01:04:45+00:00          19.58        True     72.559998   \n",
              "90154174  2021-03-22 16:15:49+00:00           0.54       False          11.0   \n",
              "14027488  2021-02-19 10:11:06+00:00           2.64       False     17.940001   \n",
              "86927983  2020-03-06 20:28:44+00:00           1.46       False          14.8   \n",
              "\n",
              "          centroid_id  \n",
              "31788803            2  \n",
              "34848326            3  \n",
              "6289096             3  \n",
              "2050367             3  \n",
              "13697325            4  \n",
              "3357510             3  \n",
              "43980201            4  \n",
              "31810276            3  \n",
              "50124132            3  \n",
              "23856329            3  \n",
              "14546419            1  \n",
              "91050346            3  \n",
              "66005250            3  \n",
              "5123878             3  \n",
              "49472846            1  \n",
              "78508742            1  \n",
              "70570442            3  \n",
              "40044068            2  \n",
              "90776874            3  \n",
              "89739399            3  \n",
              "78938792            3  \n",
              "59619844            3  \n",
              "90154174            1  \n",
              "14027488            4  \n",
              "86927983            2  \n",
              "...\n",
              "\n",
              "[4603255 rows x 8 columns]"
            ]
          },
          "execution_count": 17,
          "metadata": {},
          "output_type": "execute_result"
        }
      ],
      "source": [
        "df"
      ]
    },
    {
      "cell_type": "markdown",
      "id": "Ps151ev9V6a_",
      "metadata": {
        "id": "Ps151ev9V6a_"
      },
      "source": [
        "Save the model to BigQuery"
      ]
    },
    {
      "cell_type": "code",
      "execution_count": 40,
      "id": "rKL2PhyrQ9jc",
      "metadata": {
        "colab": {
          "base_uri": "https://localhost:8080/"
        },
        "executionInfo": {
          "elapsed": 2301,
          "status": "ok",
          "timestamp": 1694083917192,
          "user": {
            "displayName": "",
            "userId": ""
          },
          "user_tz": -120
        },
        "id": "rKL2PhyrQ9jc",
        "outputId": "fa533f31-c49c-4708-f0a4-c24ddc02cca8"
      },
      "outputs": [
        {
          "data": {
            "text/plain": [
              "KMeans(n_clusters=4)"
            ]
          },
          "execution_count": 40,
          "metadata": {},
          "output_type": "execute_result"
        }
      ],
      "source": [
        "kmeans_model.to_gbq(model_name=\"${project_id}.${bigquery_rideshare_llm_enriched_dataset}.trips_cluster_model\")"
      ]
    },
    {
      "cell_type": "markdown",
      "id": "bpJHoBy2QuD0",
      "metadata": {
        "id": "bpJHoBy2QuD0"
      },
      "source": [
        "## **Step 04: LLM (Palm-2) inference**"
      ]
    },
    {
      "cell_type": "markdown",
      "id": "UuhPkG_VV85X",
      "metadata": {
        "id": "UuhPkG_VV85X"
      },
      "source": [
        "Construct a LLM prompt, attaching some information from the dataframe."
      ]
    },
    {
      "cell_type": "code",
      "execution_count": 60,
      "id": "ati5QXPyyZnP",
      "metadata": {
        "colab": {
          "base_uri": "https://localhost:8080/",
          "height": 139,
          "referenced_widgets": [
            "07aaff5084694aa99e045829d2c157ea",
            "9028b7d41c9542eba707c3b407922e05",
            "9413f7cfa3a54abca8ea0606ec2d714e",
            "d4fbfec798074dd8891505ee23db8498",
            "0203f122f3b249faa27c2cbff19b1416",
            "9efa59d2e7394c1b818681b1b4034452",
            "315810c0ea2b4099bc7d321cca98e60f",
            "e712cb226bdd47a5bf314fcee59c05cd",
            "29bf210e697a497ba9fcb2dc6f110b9d",
            "a395ee81368a4833b00b30402640a8a8",
            "3d6f7af794b748f58109e55be348b49f",
            "1ea84e1e12ce4cfeb1111d2ebbc34743"
          ]
        },
        "executionInfo": {
          "elapsed": 329194,
          "status": "ok",
          "timestamp": 1694088852457,
          "user": {
            "displayName": "",
            "userId": ""
          },
          "user_tz": -120
        },
        "id": "ati5QXPyyZnP",
        "outputId": "94b07db9-6608-4eca-af23-b0fdec446d41"
      },
      "outputs": [
        {
          "data": {
            "application/vnd.jupyter.widget-view+json": {
              "model_id": "07aaff5084694aa99e045829d2c157ea",
              "version_major": 2,
              "version_minor": 0
            },
            "text/plain": [
              "HTML(value='Query job a4d31e86-dc7c-430d-95cd-ee20c798e16b is RUNNING. <a target=\"_blank\" href=\"https://consol…"
            ]
          },
          "metadata": {},
          "output_type": "display_data"
        },
        {
          "data": {
            "application/vnd.jupyter.widget-view+json": {
              "model_id": "d4fbfec798074dd8891505ee23db8498",
              "version_major": 2,
              "version_minor": 0
            },
            "text/plain": [
              "HTML(value='Query job 731d77f8-5905-4fed-bd90-dd9e07825bb3 is RUNNING. <a target=\"_blank\" href=\"https://consol…"
            ]
          },
          "metadata": {},
          "output_type": "display_data"
        },
        {
          "data": {
            "application/vnd.jupyter.widget-view+json": {
              "model_id": "315810c0ea2b4099bc7d321cca98e60f",
              "version_major": 2,
              "version_minor": 0
            },
            "text/plain": [
              "HTML(value='Query job 877a6cae-c2cf-49ad-990e-502842a76e17 is RUNNING. <a target=\"_blank\" href=\"https://consol…"
            ]
          },
          "metadata": {},
          "output_type": "display_data"
        },
        {
          "data": {
            "application/vnd.jupyter.widget-view+json": {
              "model_id": "a395ee81368a4833b00b30402640a8a8",
              "version_major": 2,
              "version_minor": 0
            },
            "text/plain": [
              "HTML(value='Query job 18b174c5-37d3-4224-a521-ed9554e386c4 is RUNNING. <a target=\"_blank\" href=\"https://consol…"
            ]
          },
          "metadata": {},
          "output_type": "display_data"
        }
      ],
      "source": [
        "promtp_explain = \"Generate an explanation and give a representative name for the following clusters of trips for a ride sharing application in simple terms, answer in JSON format with the following format { clusters_summary: [ cluster_id: <CLUSTER_ID_HERE>, name: <CLUSTER_NAME_HERE>, description: <CLUSTER_DESCRIPTION_HERE>, ...] }\"\n",
        "for i in range(N_CLUSTERS):\n",
        "    promtp_explain = promtp_explain + f\"5 examples trips for Cluster {i+1} are : {df[df['centroid_id'] == i+1].sample(5).to_pandas().to_json(orient='split')}\" + \",\""
      ]
    },
    {
      "cell_type": "code",
      "execution_count": 61,
      "id": "L8fOZSCoffWT",
      "metadata": {
        "colab": {
          "base_uri": "https://localhost:8080/",
          "height": 191
        },
        "executionInfo": {
          "elapsed": 6,
          "status": "ok",
          "timestamp": 1694088852457,
          "user": {
            "displayName": "",
            "userId": ""
          },
          "user_tz": -120
        },
        "id": "L8fOZSCoffWT",
        "outputId": "f8623e76-2281-4412-bf12-ff87ec27e287"
      },
      "outputs": [
        {
          "data": {
            "application/vnd.google.colaboratory.intrinsic+json": {
              "type": "string"
            },
            "text/plain": [
              "'Generate an explanation and give a representative name for the following clusters of trips for a ride sharing application in simple terms, answer in JSON format with the following format { clusters_summary: [ cluster_id: <CLUSTER_ID_HERE>, name: <CLUSTER_NAME_HERE>, description: <CLUSTER_DESCRIPTION_HERE>, ...] }5 examples trips for Cluster 1 are : {\"columns\":[\"pickup_location_id\",\"pickup_datetime\",\"dropoff_location_id\",\"dropoff_datetime\",\"ride_distance\",\"is_airport\",\"total_amount\",\"centroid_id\"],\"index\":[31181016,88429264,67600119,10169417,18550742],\"data\":[[237,1634722584000,144,1634724139000,3.9700000286,false,23.7999992371,1],[239,1619722351000,142,1619722569000,0.5699999928,false,10.5600004196,1],[262,1633182744000,262,1633182906000,0.5799999833,false,9.1199998856,1],[236,1633620532000,163,1633621432000,1.6100000143,false,16.5599994659,1],[170,1622989470000,261,1622990522000,5.4800000191,false,26.7600002289,1]]},5 examples trips for Cluster 2 are : {\"columns\":[\"pickup_location_id\",\"pickup_datetime\",\"dropoff_location_id\",\"dropoff_datetime\",\"ride_distance\",\"is_airport\",\"total_amount\",\"centroid_id\"],\"index\":[91780651,67399340,73461754,25502777,52374151],\"data\":[[229,1579586351000,170,1579651200000,0.7099999785,false,9.5399999619,2],[161,1581367692000,113,1581368597000,2.4100000858,false,17.7999992371,2],[166,1583512190000,74,1583513183000,2.1900000572,false,18.5100002289,2],[236,1583624796000,263,1583624938000,0.7799999714,false,9.9600000381,2],[230,1579538491000,48,1579538648000,0.400000006,false,8.75,2]]},5 examples trips for Cluster 3 are : {\"columns\":[\"pickup_location_id\",\"pickup_datetime\",\"dropoff_location_id\",\"dropoff_datetime\",\"ride_distance\",\"is_airport\",\"total_amount\",\"centroid_id\"],\"index\":[62674451,38972336,68192517,9617498,44128434],\"data\":[[161,1665777936000,100,1665778444000,0.8000000119,false,10.8000001907,3],[162,1652093951000,238,1652095392000,3.2000000477,false,25.3500003815,3],[137,1653925153000,229,1653925707000,1.2999999523,false,13.5500001907,3],[79,1633804578000,231,1633805292000,1.5399999619,false,13.3000001907,3],[162,1664187970000,236,1664188489000,1.7000000477,false,13.5500001907,3]]},5 examples trips for Cluster 4 are : {\"columns\":[\"pickup_location_id\",\"pickup_datetime\",\"dropoff_location_id\",\"dropoff_datetime\",\"ride_distance\",\"is_airport\",\"total_amount\",\"centroid_id\"],\"index\":[56332650,65237222,73644456,12014931,22414883],\"data\":[[107,1597511402000,170,1597511693000,0.8899999857,false,10.5600004196,4],[140,1638883508000,48,1638884912000,2.7000000477,false,22.5599994659,4],[236,1608816631000,43,1608816918000,0.1000000015,false,7.8000001907,4],[100,1624868271000,79,1624869013000,2.4000000954,false,16.5499992371,4],[137,1610386454000,186,1610387004000,1.2300000191,false,14.1599998474,4]]},'"
            ]
          },
          "execution_count": 61,
          "metadata": {},
          "output_type": "execute_result"
        }
      ],
      "source": [
        "promtp_explain"
      ]
    },
    {
      "cell_type": "code",
      "execution_count": 62,
      "id": "Qog9YOnJu9Or",
      "metadata": {
        "executionInfo": {
          "elapsed": 1666,
          "status": "ok",
          "timestamp": 1694088854119,
          "user": {
            "displayName": "",
            "userId": ""
          },
          "user_tz": -120
        },
        "id": "Qog9YOnJu9Or"
      },
      "outputs": [],
      "source": [
        "llm_model = PaLM2TextGenerator(session=session, connection_name='us.vertex-ai')"
      ]
    },
    {
      "cell_type": "code",
      "execution_count": 63,
      "id": "sYC4MoL1vsMl",
      "metadata": {
        "colab": {
          "base_uri": "https://localhost:8080/",
          "height": 49,
          "referenced_widgets": [
            "f57b751072414938bf6980c307baeeef",
            "b6e1eae0c2164b3c843ef66c0936657a",
            "23a76e4121c543c08117ff221f0824b9"
          ]
        },
        "executionInfo": {
          "elapsed": 3919,
          "status": "ok",
          "timestamp": 1694088858036,
          "user": {
            "displayName": "",
            "userId": ""
          },
          "user_tz": -120
        },
        "id": "sYC4MoL1vsMl",
        "outputId": "7b66d705-f815-4183-d38d-0a3ff654418d"
      },
      "outputs": [
        {
          "data": {
            "application/vnd.jupyter.widget-view+json": {
              "model_id": "f57b751072414938bf6980c307baeeef",
              "version_major": 2,
              "version_minor": 0
            },
            "text/plain": [
              "HTML(value='Load job 0ef038b7-f709-4570-90f4-3fcd3fa4db84 is RUNNING. <a target=\"_blank\" href=\"https://console…"
            ]
          },
          "metadata": {},
          "output_type": "display_data"
        }
      ],
      "source": [
        "\n",
        "df_prompt = pd.DataFrame(\n",
        "        {\n",
        "            \"prompt\": [promtp_explain],\n",
        "        })\n",
        "bf_df_prompt = bpd.read_pandas(df_prompt)"
      ]
    },
    {
      "cell_type": "markdown",
      "id": "oazIawXHWC0h",
      "metadata": {
        "id": "oazIawXHWC0h"
      },
      "source": [
        "Call inference on the LLM model"
      ]
    },
    {
      "cell_type": "code",
      "execution_count": 64,
      "id": "NKbM5KLHw74n",
      "metadata": {
        "colab": {
          "base_uri": "https://localhost:8080/",
          "height": 109,
          "referenced_widgets": [
            "c65b8a9b59f0496bbce378d29eaa60a6",
            "d41c4addbfd14f5797a07eb36f40b59f",
            "985d90312c534afc8d71c0c56fffddc3",
            "1da79dadc82b48a0bf1a84379e1ab9d1",
            "ab01e888ba9a4a0491588a9289ab179b",
            "03b58ddbf52f4adf954e1dc335d95ac3",
            "35e15901c29a42969ba2ddb09f0c9376",
            "207842b4570742fe9d9517c979411da0",
            "5daf55b43d544be78636f4f9abf7b119"
          ]
        },
        "executionInfo": {
          "elapsed": 11073,
          "status": "ok",
          "timestamp": 1694088869107,
          "user": {
            "displayName": "",
            "userId": ""
          },
          "user_tz": -120
        },
        "id": "NKbM5KLHw74n",
        "outputId": "6849c617-a568-46af-d7d4-c1be3fc2f2bd"
      },
      "outputs": [
        {
          "data": {
            "application/vnd.jupyter.widget-view+json": {
              "model_id": "c65b8a9b59f0496bbce378d29eaa60a6",
              "version_major": 2,
              "version_minor": 0
            },
            "text/plain": [
              "HTML(value='Query job f37b3401-bf13-44ee-831b-9a450568e838 is RUNNING. <a target=\"_blank\" href=\"https://consol…"
            ]
          },
          "metadata": {},
          "output_type": "display_data"
        },
        {
          "data": {
            "application/vnd.jupyter.widget-view+json": {
              "model_id": "1da79dadc82b48a0bf1a84379e1ab9d1",
              "version_major": 2,
              "version_minor": 0
            },
            "text/plain": [
              "HTML(value='Query job fc03dbfc-c1ff-434f-a1ef-03ce159c6ee9 is DONE. 8 Bytes processed. <a target=\"_blank\" href…"
            ]
          },
          "metadata": {},
          "output_type": "display_data"
        },
        {
          "data": {
            "application/vnd.jupyter.widget-view+json": {
              "model_id": "35e15901c29a42969ba2ddb09f0c9376",
              "version_major": 2,
              "version_minor": 0
            },
            "text/plain": [
              "HTML(value='Query job f9afd8b5-20e1-4fd7-bec2-99361b239d7c is DONE. 593 Bytes processed. <a target=\"_blank\" hr…"
            ]
          },
          "metadata": {},
          "output_type": "display_data"
        }
      ],
      "source": [
        "pred = llm_model.predict(bf_df_prompt,max_output_tokens=1024).to_pandas()"
      ]
    },
    {
      "cell_type": "code",
      "execution_count": 79,
      "id": "sIk_gM2A7G54",
      "metadata": {
        "executionInfo": {
          "elapsed": 403,
          "status": "ok",
          "timestamp": 1694089155229,
          "user": {
            "displayName": "",
            "userId": ""
          },
          "user_tz": -120
        },
        "id": "sIk_gM2A7G54"
      },
      "outputs": [],
      "source": [
        "result = pred['ml_generate_text_llm_result'][0].replace(\"```JSON\\n\",\"\").replace(\"```\",\"\").replace(\"\\n\",\"\")"
      ]
    },
    {
      "cell_type": "code",
      "execution_count": 76,
      "id": "oCBksIKLkYgS",
      "metadata": {
        "executionInfo": {
          "elapsed": 934,
          "status": "ok",
          "timestamp": 1694089120101,
          "user": {
            "displayName": "",
            "userId": ""
          },
          "user_tz": -120
        },
        "id": "oCBksIKLkYgS"
      },
      "outputs": [],
      "source": [
        "result = result.replace(\"```JSON\\n\",\"\").replace(\"```\",\"\").replace(\"\\n\",\"\").replace(\" json\",\"\")"
      ]
    },
    {
      "cell_type": "code",
      "execution_count": 80,
      "id": "AjXMUhLWkUjH",
      "metadata": {
        "executionInfo": {
          "elapsed": 3,
          "status": "ok",
          "timestamp": 1694089157730,
          "user": {
            "displayName": "",
            "userId": ""
          },
          "user_tz": -120
        },
        "id": "AjXMUhLWkUjH"
      },
      "outputs": [],
      "source": [
        "json_result = json.loads(result)"
      ]
    },
    {
      "cell_type": "code",
      "execution_count": 81,
      "id": "oQGqy03ikWeX",
      "metadata": {
        "colab": {
          "base_uri": "https://localhost:8080/"
        },
        "executionInfo": {
          "elapsed": 3,
          "status": "ok",
          "timestamp": 1694089159197,
          "user": {
            "displayName": "",
            "userId": ""
          },
          "user_tz": -120
        },
        "id": "oQGqy03ikWeX",
        "outputId": "c61d917d-0678-4f0f-c00f-4d38483e0b85"
      },
      "outputs": [
        {
          "data": {
            "text/plain": [
              "{'clusters_summary': [{'cluster_id': 1,\n",
              "   'name': 'Short rides',\n",
              "   'description': 'Rides that are less than 2 miles and take less than 10 minutes.'},\n",
              "  {'cluster_id': 2,\n",
              "   'name': 'Medium rides',\n",
              "   'description': 'Rides that are between 2 and 5 miles and take between 10 and 20 minutes.'},\n",
              "  {'cluster_id': 3,\n",
              "   'name': 'Long rides',\n",
              "   'description': 'Rides that are more than 5 miles and take more than 20 minutes.'},\n",
              "  {'cluster_id': 4,\n",
              "   'name': 'Airport rides',\n",
              "   'description': 'Rides that start or end at an airport.'}]}"
            ]
          },
          "execution_count": 81,
          "metadata": {},
          "output_type": "execute_result"
        }
      ],
      "source": [
        "json_result"
      ]
    }
  ],
  "metadata": {
    "colab": {
      "provenance": []
    },
    "kernelspec": {
      "display_name": "Python 3 (ipykernel)",
      "language": "python",
      "name": "python3"
    },
    "language_info": {
      "codemirror_mode": {
        "name": "ipython",
        "version": 3
      },
      "file_extension": ".py",
      "mimetype": "text/x-python",
      "name": "python",
      "nbconvert_exporter": "python",
      "pygments_lexer": "ipython3",
      "version": "3.10.4"
    },
    "widgets": {
      "application/vnd.jupyter.widget-state+json": {
        "0203f122f3b249faa27c2cbff19b1416": {
          "model_module": "@jupyter-widgets/base",
          "model_module_version": "1.2.0",
          "model_name": "LayoutModel",
          "state": {
            "_model_module": "@jupyter-widgets/base",
            "_model_module_version": "1.2.0",
            "_model_name": "LayoutModel",
            "_view_count": null,
            "_view_module": "@jupyter-widgets/base",
            "_view_module_version": "1.2.0",
            "_view_name": "LayoutView",
            "align_content": null,
            "align_items": null,
            "align_self": null,
            "border": null,
            "bottom": null,
            "display": null,
            "flex": null,
            "flex_flow": null,
            "grid_area": null,
            "grid_auto_columns": null,
            "grid_auto_flow": null,
            "grid_auto_rows": null,
            "grid_column": null,
            "grid_gap": null,
            "grid_row": null,
            "grid_template_areas": null,
            "grid_template_columns": null,
            "grid_template_rows": null,
            "height": null,
            "justify_content": null,
            "justify_items": null,
            "left": null,
            "margin": null,
            "max_height": null,
            "max_width": null,
            "min_height": null,
            "min_width": null,
            "object_fit": null,
            "object_position": null,
            "order": null,
            "overflow": null,
            "overflow_x": null,
            "overflow_y": null,
            "padding": null,
            "right": null,
            "top": null,
            "visibility": null,
            "width": null
          }
        },
        "03b58ddbf52f4adf954e1dc335d95ac3": {
          "model_module": "@jupyter-widgets/controls",
          "model_module_version": "1.5.0",
          "model_name": "DescriptionStyleModel",
          "state": {
            "_model_module": "@jupyter-widgets/controls",
            "_model_module_version": "1.5.0",
            "_model_name": "DescriptionStyleModel",
            "_view_count": null,
            "_view_module": "@jupyter-widgets/base",
            "_view_module_version": "1.2.0",
            "_view_name": "StyleView",
            "description_width": ""
          }
        },
        "07aaff5084694aa99e045829d2c157ea": {
          "model_module": "@jupyter-widgets/controls",
          "model_module_version": "1.5.0",
          "model_name": "HTMLModel",
          "state": {
            "_dom_classes": [],
            "_model_module": "@jupyter-widgets/controls",
            "_model_module_version": "1.5.0",
            "_model_name": "HTMLModel",
            "_view_count": null,
            "_view_module": "@jupyter-widgets/controls",
            "_view_module_version": "1.5.0",
            "_view_name": "HTMLView",
            "description": "",
            "description_tooltip": null,
            "layout": "IPY_MODEL_9028b7d41c9542eba707c3b407922e05",
            "placeholder": "​",
            "style": "IPY_MODEL_9413f7cfa3a54abca8ea0606ec2d714e",
            "value": "Query job a4d31e86-dc7c-430d-95cd-ee20c798e16b is DONE. 5.3 GB processed. <a target=\"_blank\" href=\"https://console.cloud.google.com/bigquery?project=data-analytics-demo-utq9pd85r3&j=bq:US:a4d31e86-dc7c-430d-95cd-ee20c798e16b&page=queryresults\">Open Job</a>"
          }
        },
        "0ad1041e983b4c0fac720d3d1bebbffa": {
          "model_module": "@jupyter-widgets/controls",
          "model_module_version": "1.5.0",
          "model_name": "DescriptionStyleModel",
          "state": {
            "_model_module": "@jupyter-widgets/controls",
            "_model_module_version": "1.5.0",
            "_model_name": "DescriptionStyleModel",
            "_view_count": null,
            "_view_module": "@jupyter-widgets/base",
            "_view_module_version": "1.2.0",
            "_view_name": "StyleView",
            "description_width": ""
          }
        },
        "0ecba69465384d5ea139da31eaf4b5d6": {
          "model_module": "@jupyter-widgets/controls",
          "model_module_version": "1.5.0",
          "model_name": "DescriptionStyleModel",
          "state": {
            "_model_module": "@jupyter-widgets/controls",
            "_model_module_version": "1.5.0",
            "_model_name": "DescriptionStyleModel",
            "_view_count": null,
            "_view_module": "@jupyter-widgets/base",
            "_view_module_version": "1.2.0",
            "_view_name": "StyleView",
            "description_width": ""
          }
        },
        "18a04b9f37d54796aa7ffcf6f1f4dc88": {
          "model_module": "@jupyter-widgets/base",
          "model_module_version": "1.2.0",
          "model_name": "LayoutModel",
          "state": {
            "_model_module": "@jupyter-widgets/base",
            "_model_module_version": "1.2.0",
            "_model_name": "LayoutModel",
            "_view_count": null,
            "_view_module": "@jupyter-widgets/base",
            "_view_module_version": "1.2.0",
            "_view_name": "LayoutView",
            "align_content": null,
            "align_items": null,
            "align_self": null,
            "border": null,
            "bottom": null,
            "display": null,
            "flex": null,
            "flex_flow": null,
            "grid_area": null,
            "grid_auto_columns": null,
            "grid_auto_flow": null,
            "grid_auto_rows": null,
            "grid_column": null,
            "grid_gap": null,
            "grid_row": null,
            "grid_template_areas": null,
            "grid_template_columns": null,
            "grid_template_rows": null,
            "height": null,
            "justify_content": null,
            "justify_items": null,
            "left": null,
            "margin": null,
            "max_height": null,
            "max_width": null,
            "min_height": null,
            "min_width": null,
            "object_fit": null,
            "object_position": null,
            "order": null,
            "overflow": null,
            "overflow_x": null,
            "overflow_y": null,
            "padding": null,
            "right": null,
            "top": null,
            "visibility": null,
            "width": null
          }
        },
        "1da79dadc82b48a0bf1a84379e1ab9d1": {
          "model_module": "@jupyter-widgets/controls",
          "model_module_version": "1.5.0",
          "model_name": "HTMLModel",
          "state": {
            "_dom_classes": [],
            "_model_module": "@jupyter-widgets/controls",
            "_model_module_version": "1.5.0",
            "_model_name": "HTMLModel",
            "_view_count": null,
            "_view_module": "@jupyter-widgets/controls",
            "_view_module_version": "1.5.0",
            "_view_name": "HTMLView",
            "description": "",
            "description_tooltip": null,
            "layout": "IPY_MODEL_ab01e888ba9a4a0491588a9289ab179b",
            "placeholder": "​",
            "style": "IPY_MODEL_03b58ddbf52f4adf954e1dc335d95ac3",
            "value": "Query job fc03dbfc-c1ff-434f-a1ef-03ce159c6ee9 is DONE. 8 Bytes processed. <a target=\"_blank\" href=\"https://console.cloud.google.com/bigquery?project=data-analytics-demo-utq9pd85r3&j=bq:US:fc03dbfc-c1ff-434f-a1ef-03ce159c6ee9&page=queryresults\">Open Job</a>"
          }
        },
        "1dc63b12dcd14e44943cb6db201bcf3c": {
          "model_module": "@jupyter-widgets/controls",
          "model_module_version": "1.5.0",
          "model_name": "HTMLModel",
          "state": {
            "_dom_classes": [],
            "_model_module": "@jupyter-widgets/controls",
            "_model_module_version": "1.5.0",
            "_model_name": "HTMLModel",
            "_view_count": null,
            "_view_module": "@jupyter-widgets/controls",
            "_view_module_version": "1.5.0",
            "_view_name": "HTMLView",
            "description": "",
            "description_tooltip": null,
            "layout": "IPY_MODEL_7fe879f0d25e4f5f97ae68f7670b6112",
            "placeholder": "​",
            "style": "IPY_MODEL_d73b4f8cd28044bfaf6c3bca802b972d",
            "value": "Query job 952105f4-67ab-430f-9158-a6a242643a72 is DONE. 736.5 MB processed. <a target=\"_blank\" href=\"https://console.cloud.google.com/bigquery?project=data-analytics-demo-utq9pd85r3&j=bq:US:952105f4-67ab-430f-9158-a6a242643a72&page=queryresults\">Open Job</a>"
          }
        },
        "1ea84e1e12ce4cfeb1111d2ebbc34743": {
          "model_module": "@jupyter-widgets/controls",
          "model_module_version": "1.5.0",
          "model_name": "DescriptionStyleModel",
          "state": {
            "_model_module": "@jupyter-widgets/controls",
            "_model_module_version": "1.5.0",
            "_model_name": "DescriptionStyleModel",
            "_view_count": null,
            "_view_module": "@jupyter-widgets/base",
            "_view_module_version": "1.2.0",
            "_view_name": "StyleView",
            "description_width": ""
          }
        },
        "1f6ca249acd84111ad2b5479aad5e277": {
          "model_module": "@jupyter-widgets/controls",
          "model_module_version": "1.5.0",
          "model_name": "DescriptionStyleModel",
          "state": {
            "_model_module": "@jupyter-widgets/controls",
            "_model_module_version": "1.5.0",
            "_model_name": "DescriptionStyleModel",
            "_view_count": null,
            "_view_module": "@jupyter-widgets/base",
            "_view_module_version": "1.2.0",
            "_view_name": "StyleView",
            "description_width": ""
          }
        },
        "207842b4570742fe9d9517c979411da0": {
          "model_module": "@jupyter-widgets/base",
          "model_module_version": "1.2.0",
          "model_name": "LayoutModel",
          "state": {
            "_model_module": "@jupyter-widgets/base",
            "_model_module_version": "1.2.0",
            "_model_name": "LayoutModel",
            "_view_count": null,
            "_view_module": "@jupyter-widgets/base",
            "_view_module_version": "1.2.0",
            "_view_name": "LayoutView",
            "align_content": null,
            "align_items": null,
            "align_self": null,
            "border": null,
            "bottom": null,
            "display": null,
            "flex": null,
            "flex_flow": null,
            "grid_area": null,
            "grid_auto_columns": null,
            "grid_auto_flow": null,
            "grid_auto_rows": null,
            "grid_column": null,
            "grid_gap": null,
            "grid_row": null,
            "grid_template_areas": null,
            "grid_template_columns": null,
            "grid_template_rows": null,
            "height": null,
            "justify_content": null,
            "justify_items": null,
            "left": null,
            "margin": null,
            "max_height": null,
            "max_width": null,
            "min_height": null,
            "min_width": null,
            "object_fit": null,
            "object_position": null,
            "order": null,
            "overflow": null,
            "overflow_x": null,
            "overflow_y": null,
            "padding": null,
            "right": null,
            "top": null,
            "visibility": null,
            "width": null
          }
        },
        "23a76e4121c543c08117ff221f0824b9": {
          "model_module": "@jupyter-widgets/controls",
          "model_module_version": "1.5.0",
          "model_name": "DescriptionStyleModel",
          "state": {
            "_model_module": "@jupyter-widgets/controls",
            "_model_module_version": "1.5.0",
            "_model_name": "DescriptionStyleModel",
            "_view_count": null,
            "_view_module": "@jupyter-widgets/base",
            "_view_module_version": "1.2.0",
            "_view_name": "StyleView",
            "description_width": ""
          }
        },
        "29bf210e697a497ba9fcb2dc6f110b9d": {
          "model_module": "@jupyter-widgets/controls",
          "model_module_version": "1.5.0",
          "model_name": "DescriptionStyleModel",
          "state": {
            "_model_module": "@jupyter-widgets/controls",
            "_model_module_version": "1.5.0",
            "_model_name": "DescriptionStyleModel",
            "_view_count": null,
            "_view_module": "@jupyter-widgets/base",
            "_view_module_version": "1.2.0",
            "_view_name": "StyleView",
            "description_width": ""
          }
        },
        "2cf05d344d6748ab9350b4c76f027fd9": {
          "model_module": "@jupyter-widgets/controls",
          "model_module_version": "1.5.0",
          "model_name": "HTMLModel",
          "state": {
            "_dom_classes": [],
            "_model_module": "@jupyter-widgets/controls",
            "_model_module_version": "1.5.0",
            "_model_name": "HTMLModel",
            "_view_count": null,
            "_view_module": "@jupyter-widgets/controls",
            "_view_module_version": "1.5.0",
            "_view_name": "HTMLView",
            "description": "",
            "description_tooltip": null,
            "layout": "IPY_MODEL_2df784882c194c339d32195ac3c357dc",
            "placeholder": "​",
            "style": "IPY_MODEL_d1094d930dd241b3b9762b6411c99fe8",
            "value": "Query job c1e0f352-b3fc-47f1-a239-c14f2c017387 is DONE. 736.5 MB processed. <a target=\"_blank\" href=\"https://console.cloud.google.com/bigquery?project=data-analytics-demo-utq9pd85r3&j=bq:US:c1e0f352-b3fc-47f1-a239-c14f2c017387&page=queryresults\">Open Job</a>"
          }
        },
        "2df784882c194c339d32195ac3c357dc": {
          "model_module": "@jupyter-widgets/base",
          "model_module_version": "1.2.0",
          "model_name": "LayoutModel",
          "state": {
            "_model_module": "@jupyter-widgets/base",
            "_model_module_version": "1.2.0",
            "_model_name": "LayoutModel",
            "_view_count": null,
            "_view_module": "@jupyter-widgets/base",
            "_view_module_version": "1.2.0",
            "_view_name": "LayoutView",
            "align_content": null,
            "align_items": null,
            "align_self": null,
            "border": null,
            "bottom": null,
            "display": null,
            "flex": null,
            "flex_flow": null,
            "grid_area": null,
            "grid_auto_columns": null,
            "grid_auto_flow": null,
            "grid_auto_rows": null,
            "grid_column": null,
            "grid_gap": null,
            "grid_row": null,
            "grid_template_areas": null,
            "grid_template_columns": null,
            "grid_template_rows": null,
            "height": null,
            "justify_content": null,
            "justify_items": null,
            "left": null,
            "margin": null,
            "max_height": null,
            "max_width": null,
            "min_height": null,
            "min_width": null,
            "object_fit": null,
            "object_position": null,
            "order": null,
            "overflow": null,
            "overflow_x": null,
            "overflow_y": null,
            "padding": null,
            "right": null,
            "top": null,
            "visibility": null,
            "width": null
          }
        },
        "2e56c0fb991a4f7ea97b85564f303d7a": {
          "model_module": "@jupyter-widgets/controls",
          "model_module_version": "1.5.0",
          "model_name": "HTMLModel",
          "state": {
            "_dom_classes": [],
            "_model_module": "@jupyter-widgets/controls",
            "_model_module_version": "1.5.0",
            "_model_name": "HTMLModel",
            "_view_count": null,
            "_view_module": "@jupyter-widgets/controls",
            "_view_module_version": "1.5.0",
            "_view_name": "HTMLView",
            "description": "",
            "description_tooltip": null,
            "layout": "IPY_MODEL_aded4f7f20ef4dd7afe5e17cdf269c44",
            "placeholder": "​",
            "style": "IPY_MODEL_5640d79e5669468abcf9022e6c95498d",
            "value": "Query job b7bfbf8f-4d7f-4ca4-a09b-6c8819b759dd is DONE. 0 Bytes processed. <a target=\"_blank\" href=\"https://console.cloud.google.com/bigquery?project=data-analytics-demo-utq9pd85r3&j=bq:US:b7bfbf8f-4d7f-4ca4-a09b-6c8819b759dd&page=queryresults\">Open Job</a>"
          }
        },
        "315810c0ea2b4099bc7d321cca98e60f": {
          "model_module": "@jupyter-widgets/controls",
          "model_module_version": "1.5.0",
          "model_name": "HTMLModel",
          "state": {
            "_dom_classes": [],
            "_model_module": "@jupyter-widgets/controls",
            "_model_module_version": "1.5.0",
            "_model_name": "HTMLModel",
            "_view_count": null,
            "_view_module": "@jupyter-widgets/controls",
            "_view_module_version": "1.5.0",
            "_view_name": "HTMLView",
            "description": "",
            "description_tooltip": null,
            "layout": "IPY_MODEL_e712cb226bdd47a5bf314fcee59c05cd",
            "placeholder": "​",
            "style": "IPY_MODEL_29bf210e697a497ba9fcb2dc6f110b9d",
            "value": "Query job 877a6cae-c2cf-49ad-990e-502842a76e17 is DONE. 5.3 GB processed. <a target=\"_blank\" href=\"https://console.cloud.google.com/bigquery?project=data-analytics-demo-utq9pd85r3&j=bq:US:877a6cae-c2cf-49ad-990e-502842a76e17&page=queryresults\">Open Job</a>"
          }
        },
        "31ac5f8d1669476699f0038f8218eb08": {
          "model_module": "@jupyter-widgets/base",
          "model_module_version": "1.2.0",
          "model_name": "LayoutModel",
          "state": {
            "_model_module": "@jupyter-widgets/base",
            "_model_module_version": "1.2.0",
            "_model_name": "LayoutModel",
            "_view_count": null,
            "_view_module": "@jupyter-widgets/base",
            "_view_module_version": "1.2.0",
            "_view_name": "LayoutView",
            "align_content": null,
            "align_items": null,
            "align_self": null,
            "border": null,
            "bottom": null,
            "display": null,
            "flex": null,
            "flex_flow": null,
            "grid_area": null,
            "grid_auto_columns": null,
            "grid_auto_flow": null,
            "grid_auto_rows": null,
            "grid_column": null,
            "grid_gap": null,
            "grid_row": null,
            "grid_template_areas": null,
            "grid_template_columns": null,
            "grid_template_rows": null,
            "height": null,
            "justify_content": null,
            "justify_items": null,
            "left": null,
            "margin": null,
            "max_height": null,
            "max_width": null,
            "min_height": null,
            "min_width": null,
            "object_fit": null,
            "object_position": null,
            "order": null,
            "overflow": null,
            "overflow_x": null,
            "overflow_y": null,
            "padding": null,
            "right": null,
            "top": null,
            "visibility": null,
            "width": null
          }
        },
        "3297b3eb7ade47b69bc4f5828ecf81f4": {
          "model_module": "@jupyter-widgets/base",
          "model_module_version": "1.2.0",
          "model_name": "LayoutModel",
          "state": {
            "_model_module": "@jupyter-widgets/base",
            "_model_module_version": "1.2.0",
            "_model_name": "LayoutModel",
            "_view_count": null,
            "_view_module": "@jupyter-widgets/base",
            "_view_module_version": "1.2.0",
            "_view_name": "LayoutView",
            "align_content": null,
            "align_items": null,
            "align_self": null,
            "border": null,
            "bottom": null,
            "display": null,
            "flex": null,
            "flex_flow": null,
            "grid_area": null,
            "grid_auto_columns": null,
            "grid_auto_flow": null,
            "grid_auto_rows": null,
            "grid_column": null,
            "grid_gap": null,
            "grid_row": null,
            "grid_template_areas": null,
            "grid_template_columns": null,
            "grid_template_rows": null,
            "height": null,
            "justify_content": null,
            "justify_items": null,
            "left": null,
            "margin": null,
            "max_height": null,
            "max_width": null,
            "min_height": null,
            "min_width": null,
            "object_fit": null,
            "object_position": null,
            "order": null,
            "overflow": null,
            "overflow_x": null,
            "overflow_y": null,
            "padding": null,
            "right": null,
            "top": null,
            "visibility": null,
            "width": null
          }
        },
        "35e15901c29a42969ba2ddb09f0c9376": {
          "model_module": "@jupyter-widgets/controls",
          "model_module_version": "1.5.0",
          "model_name": "HTMLModel",
          "state": {
            "_dom_classes": [],
            "_model_module": "@jupyter-widgets/controls",
            "_model_module_version": "1.5.0",
            "_model_name": "HTMLModel",
            "_view_count": null,
            "_view_module": "@jupyter-widgets/controls",
            "_view_module_version": "1.5.0",
            "_view_name": "HTMLView",
            "description": "",
            "description_tooltip": null,
            "layout": "IPY_MODEL_207842b4570742fe9d9517c979411da0",
            "placeholder": "​",
            "style": "IPY_MODEL_5daf55b43d544be78636f4f9abf7b119",
            "value": "Query job f9afd8b5-20e1-4fd7-bec2-99361b239d7c is DONE. 593 Bytes processed. <a target=\"_blank\" href=\"https://console.cloud.google.com/bigquery?project=data-analytics-demo-utq9pd85r3&j=bq:US:f9afd8b5-20e1-4fd7-bec2-99361b239d7c&page=queryresults\">Open Job</a>"
          }
        },
        "36fc3371e19e40db8a81f5d07d1beaa3": {
          "model_module": "@jupyter-widgets/controls",
          "model_module_version": "1.5.0",
          "model_name": "HTMLModel",
          "state": {
            "_dom_classes": [],
            "_model_module": "@jupyter-widgets/controls",
            "_model_module_version": "1.5.0",
            "_model_name": "HTMLModel",
            "_view_count": null,
            "_view_module": "@jupyter-widgets/controls",
            "_view_module_version": "1.5.0",
            "_view_name": "HTMLView",
            "description": "",
            "description_tooltip": null,
            "layout": "IPY_MODEL_6ed7bcddcaef4c65a3df789b56dbb05f",
            "placeholder": "​",
            "style": "IPY_MODEL_ec42b2688c5640ae8d6d26af5a481f02",
            "value": "Query job 4bd51cb5-f7e6-48a7-8e88-501239c15266 is DONE. 0 Bytes processed. <a target=\"_blank\" href=\"https://console.cloud.google.com/bigquery?project=data-analytics-demo-utq9pd85r3&j=bq:US:4bd51cb5-f7e6-48a7-8e88-501239c15266&page=queryresults\">Open Job</a>"
          }
        },
        "37be64baed7d4f0790be42d78576c634": {
          "model_module": "@jupyter-widgets/controls",
          "model_module_version": "1.5.0",
          "model_name": "HTMLModel",
          "state": {
            "_dom_classes": [],
            "_model_module": "@jupyter-widgets/controls",
            "_model_module_version": "1.5.0",
            "_model_name": "HTMLModel",
            "_view_count": null,
            "_view_module": "@jupyter-widgets/controls",
            "_view_module_version": "1.5.0",
            "_view_name": "HTMLView",
            "description": "",
            "description_tooltip": null,
            "layout": "IPY_MODEL_4831906cd5da4aa6acece4fe9429ce98",
            "placeholder": "​",
            "style": "IPY_MODEL_d641b028e98f47b8bd3d46fb7121c56a",
            "value": "Query job 38b6de9c-e61b-4e0a-ad4f-1ab48b8efdaa is DONE. 5.2 GB processed. <a target=\"_blank\" href=\"https://console.cloud.google.com/bigquery?project=data-analytics-demo-utq9pd85r3&j=bq:US:38b6de9c-e61b-4e0a-ad4f-1ab48b8efdaa&page=queryresults\">Open Job</a>"
          }
        },
        "3a4c22de868240259e8258343ab51a01": {
          "model_module": "@jupyter-widgets/controls",
          "model_module_version": "1.5.0",
          "model_name": "HTMLModel",
          "state": {
            "_dom_classes": [],
            "_model_module": "@jupyter-widgets/controls",
            "_model_module_version": "1.5.0",
            "_model_name": "HTMLModel",
            "_view_count": null,
            "_view_module": "@jupyter-widgets/controls",
            "_view_module_version": "1.5.0",
            "_view_name": "HTMLView",
            "description": "",
            "description_tooltip": null,
            "layout": "IPY_MODEL_c94688d382bd46379f8a70d3692d5489",
            "placeholder": "​",
            "style": "IPY_MODEL_7593a1d1f572416fb23eedf555738bc7",
            "value": "Query job 5d1f0d74-5a4b-4d70-b981-caa10c6e500c is DONE. 5.2 GB processed. <a target=\"_blank\" href=\"https://console.cloud.google.com/bigquery?project=data-analytics-demo-utq9pd85r3&j=bq:US:5d1f0d74-5a4b-4d70-b981-caa10c6e500c&page=queryresults\">Open Job</a>"
          }
        },
        "3d6f7af794b748f58109e55be348b49f": {
          "model_module": "@jupyter-widgets/base",
          "model_module_version": "1.2.0",
          "model_name": "LayoutModel",
          "state": {
            "_model_module": "@jupyter-widgets/base",
            "_model_module_version": "1.2.0",
            "_model_name": "LayoutModel",
            "_view_count": null,
            "_view_module": "@jupyter-widgets/base",
            "_view_module_version": "1.2.0",
            "_view_name": "LayoutView",
            "align_content": null,
            "align_items": null,
            "align_self": null,
            "border": null,
            "bottom": null,
            "display": null,
            "flex": null,
            "flex_flow": null,
            "grid_area": null,
            "grid_auto_columns": null,
            "grid_auto_flow": null,
            "grid_auto_rows": null,
            "grid_column": null,
            "grid_gap": null,
            "grid_row": null,
            "grid_template_areas": null,
            "grid_template_columns": null,
            "grid_template_rows": null,
            "height": null,
            "justify_content": null,
            "justify_items": null,
            "left": null,
            "margin": null,
            "max_height": null,
            "max_width": null,
            "min_height": null,
            "min_width": null,
            "object_fit": null,
            "object_position": null,
            "order": null,
            "overflow": null,
            "overflow_x": null,
            "overflow_y": null,
            "padding": null,
            "right": null,
            "top": null,
            "visibility": null,
            "width": null
          }
        },
        "3f102274ec5a45e0ad4f16ce84ce0032": {
          "model_module": "@jupyter-widgets/controls",
          "model_module_version": "1.5.0",
          "model_name": "DescriptionStyleModel",
          "state": {
            "_model_module": "@jupyter-widgets/controls",
            "_model_module_version": "1.5.0",
            "_model_name": "DescriptionStyleModel",
            "_view_count": null,
            "_view_module": "@jupyter-widgets/base",
            "_view_module_version": "1.2.0",
            "_view_name": "StyleView",
            "description_width": ""
          }
        },
        "408133c5a17c4599b94b2a53e56039dd": {
          "model_module": "@jupyter-widgets/controls",
          "model_module_version": "1.5.0",
          "model_name": "DescriptionStyleModel",
          "state": {
            "_model_module": "@jupyter-widgets/controls",
            "_model_module_version": "1.5.0",
            "_model_name": "DescriptionStyleModel",
            "_view_count": null,
            "_view_module": "@jupyter-widgets/base",
            "_view_module_version": "1.2.0",
            "_view_name": "StyleView",
            "description_width": ""
          }
        },
        "4682ba6a440e49f9b0f87f99bde1f58f": {
          "model_module": "@jupyter-widgets/controls",
          "model_module_version": "1.5.0",
          "model_name": "HTMLModel",
          "state": {
            "_dom_classes": [],
            "_model_module": "@jupyter-widgets/controls",
            "_model_module_version": "1.5.0",
            "_model_name": "HTMLModel",
            "_view_count": null,
            "_view_module": "@jupyter-widgets/controls",
            "_view_module_version": "1.5.0",
            "_view_name": "HTMLView",
            "description": "",
            "description_tooltip": null,
            "layout": "IPY_MODEL_ff2dbbd4d5f04720b4038834b75e508e",
            "placeholder": "​",
            "style": "IPY_MODEL_408133c5a17c4599b94b2a53e56039dd",
            "value": "Query job 225b47d3-87bc-4c65-a796-95ff1bab83b4 is DONE. 24 Bytes processed. <a target=\"_blank\" href=\"https://console.cloud.google.com/bigquery?project=data-analytics-demo-utq9pd85r3&j=bq:US:225b47d3-87bc-4c65-a796-95ff1bab83b4&page=queryresults\">Open Job</a>"
          }
        },
        "4831906cd5da4aa6acece4fe9429ce98": {
          "model_module": "@jupyter-widgets/base",
          "model_module_version": "1.2.0",
          "model_name": "LayoutModel",
          "state": {
            "_model_module": "@jupyter-widgets/base",
            "_model_module_version": "1.2.0",
            "_model_name": "LayoutModel",
            "_view_count": null,
            "_view_module": "@jupyter-widgets/base",
            "_view_module_version": "1.2.0",
            "_view_name": "LayoutView",
            "align_content": null,
            "align_items": null,
            "align_self": null,
            "border": null,
            "bottom": null,
            "display": null,
            "flex": null,
            "flex_flow": null,
            "grid_area": null,
            "grid_auto_columns": null,
            "grid_auto_flow": null,
            "grid_auto_rows": null,
            "grid_column": null,
            "grid_gap": null,
            "grid_row": null,
            "grid_template_areas": null,
            "grid_template_columns": null,
            "grid_template_rows": null,
            "height": null,
            "justify_content": null,
            "justify_items": null,
            "left": null,
            "margin": null,
            "max_height": null,
            "max_width": null,
            "min_height": null,
            "min_width": null,
            "object_fit": null,
            "object_position": null,
            "order": null,
            "overflow": null,
            "overflow_x": null,
            "overflow_y": null,
            "padding": null,
            "right": null,
            "top": null,
            "visibility": null,
            "width": null
          }
        },
        "4b768b2200254c4ba2e8e4ce9ff6166c": {
          "model_module": "@jupyter-widgets/base",
          "model_module_version": "1.2.0",
          "model_name": "LayoutModel",
          "state": {
            "_model_module": "@jupyter-widgets/base",
            "_model_module_version": "1.2.0",
            "_model_name": "LayoutModel",
            "_view_count": null,
            "_view_module": "@jupyter-widgets/base",
            "_view_module_version": "1.2.0",
            "_view_name": "LayoutView",
            "align_content": null,
            "align_items": null,
            "align_self": null,
            "border": null,
            "bottom": null,
            "display": null,
            "flex": null,
            "flex_flow": null,
            "grid_area": null,
            "grid_auto_columns": null,
            "grid_auto_flow": null,
            "grid_auto_rows": null,
            "grid_column": null,
            "grid_gap": null,
            "grid_row": null,
            "grid_template_areas": null,
            "grid_template_columns": null,
            "grid_template_rows": null,
            "height": null,
            "justify_content": null,
            "justify_items": null,
            "left": null,
            "margin": null,
            "max_height": null,
            "max_width": null,
            "min_height": null,
            "min_width": null,
            "object_fit": null,
            "object_position": null,
            "order": null,
            "overflow": null,
            "overflow_x": null,
            "overflow_y": null,
            "padding": null,
            "right": null,
            "top": null,
            "visibility": null,
            "width": null
          }
        },
        "4fe751a5b1ad4812bf5483381385cbaf": {
          "model_module": "@jupyter-widgets/controls",
          "model_module_version": "1.5.0",
          "model_name": "HTMLModel",
          "state": {
            "_dom_classes": [],
            "_model_module": "@jupyter-widgets/controls",
            "_model_module_version": "1.5.0",
            "_model_name": "HTMLModel",
            "_view_count": null,
            "_view_module": "@jupyter-widgets/controls",
            "_view_module_version": "1.5.0",
            "_view_name": "HTMLView",
            "description": "",
            "description_tooltip": null,
            "layout": "IPY_MODEL_e71aacd291944aecb408c2bddaa2be49",
            "placeholder": "​",
            "style": "IPY_MODEL_fc46a7dab8de42eb97f4ccccc4d865f7",
            "value": "Query job 7ad20f88-bba3-47a2-a70f-cb51eab1d9da is DONE. 13.9 GB processed. <a target=\"_blank\" href=\"https://console.cloud.google.com/bigquery?project=data-analytics-demo-utq9pd85r3&j=bq:US:7ad20f88-bba3-47a2-a70f-cb51eab1d9da&page=queryresults\">Open Job</a>"
          }
        },
        "5082bd34826f46899e7f0c353af81edc": {
          "model_module": "@jupyter-widgets/controls",
          "model_module_version": "1.5.0",
          "model_name": "DescriptionStyleModel",
          "state": {
            "_model_module": "@jupyter-widgets/controls",
            "_model_module_version": "1.5.0",
            "_model_name": "DescriptionStyleModel",
            "_view_count": null,
            "_view_module": "@jupyter-widgets/base",
            "_view_module_version": "1.2.0",
            "_view_name": "StyleView",
            "description_width": ""
          }
        },
        "520204f2d640406fb6fbabc0b9bcfb1e": {
          "model_module": "@jupyter-widgets/controls",
          "model_module_version": "1.5.0",
          "model_name": "DescriptionStyleModel",
          "state": {
            "_model_module": "@jupyter-widgets/controls",
            "_model_module_version": "1.5.0",
            "_model_name": "DescriptionStyleModel",
            "_view_count": null,
            "_view_module": "@jupyter-widgets/base",
            "_view_module_version": "1.2.0",
            "_view_name": "StyleView",
            "description_width": ""
          }
        },
        "5640d79e5669468abcf9022e6c95498d": {
          "model_module": "@jupyter-widgets/controls",
          "model_module_version": "1.5.0",
          "model_name": "DescriptionStyleModel",
          "state": {
            "_model_module": "@jupyter-widgets/controls",
            "_model_module_version": "1.5.0",
            "_model_name": "DescriptionStyleModel",
            "_view_count": null,
            "_view_module": "@jupyter-widgets/base",
            "_view_module_version": "1.2.0",
            "_view_name": "StyleView",
            "description_width": ""
          }
        },
        "5b7fbcb4954f47309449bc234d93273f": {
          "model_module": "@jupyter-widgets/controls",
          "model_module_version": "1.5.0",
          "model_name": "HTMLModel",
          "state": {
            "_dom_classes": [],
            "_model_module": "@jupyter-widgets/controls",
            "_model_module_version": "1.5.0",
            "_model_name": "HTMLModel",
            "_view_count": null,
            "_view_module": "@jupyter-widgets/controls",
            "_view_module_version": "1.5.0",
            "_view_name": "HTMLView",
            "description": "",
            "description_tooltip": null,
            "layout": "IPY_MODEL_ce2e8cb9c47044da99318e2c274d615b",
            "placeholder": "​",
            "style": "IPY_MODEL_8d162689590b4303a65ac46629ef01a6",
            "value": "Query job 4c060a3a-508e-42f0-b276-66d23287e9bd is DONE. 736.5 MB processed. <a target=\"_blank\" href=\"https://console.cloud.google.com/bigquery?project=data-analytics-demo-utq9pd85r3&j=bq:US:4c060a3a-508e-42f0-b276-66d23287e9bd&page=queryresults\">Open Job</a>"
          }
        },
        "5b87b3e8aea544f8a8b8238f810383f6": {
          "model_module": "@jupyter-widgets/controls",
          "model_module_version": "1.5.0",
          "model_name": "HTMLModel",
          "state": {
            "_dom_classes": [],
            "_model_module": "@jupyter-widgets/controls",
            "_model_module_version": "1.5.0",
            "_model_name": "HTMLModel",
            "_view_count": null,
            "_view_module": "@jupyter-widgets/controls",
            "_view_module_version": "1.5.0",
            "_view_name": "HTMLView",
            "description": "",
            "description_tooltip": null,
            "layout": "IPY_MODEL_8fccb6acd0bb46839a413fb2f9d9a9eb",
            "placeholder": "​",
            "style": "IPY_MODEL_520204f2d640406fb6fbabc0b9bcfb1e",
            "value": "Query job dface5fb-a222-462a-a8d2-df2451af68b1 is DONE. 0 Bytes processed. <a target=\"_blank\" href=\"https://console.cloud.google.com/bigquery?project=data-analytics-demo-utq9pd85r3&j=bq:US:dface5fb-a222-462a-a8d2-df2451af68b1&page=queryresults\">Open Job</a>"
          }
        },
        "5dab5ee34d924638ba2e58aaf9eef1a3": {
          "model_module": "@jupyter-widgets/controls",
          "model_module_version": "1.5.0",
          "model_name": "HTMLModel",
          "state": {
            "_dom_classes": [],
            "_model_module": "@jupyter-widgets/controls",
            "_model_module_version": "1.5.0",
            "_model_name": "HTMLModel",
            "_view_count": null,
            "_view_module": "@jupyter-widgets/controls",
            "_view_module_version": "1.5.0",
            "_view_name": "HTMLView",
            "description": "",
            "description_tooltip": null,
            "layout": "IPY_MODEL_3297b3eb7ade47b69bc4f5828ecf81f4",
            "placeholder": "​",
            "style": "IPY_MODEL_d7ab676cf2aa4f79bb0d7b9a1778a6db",
            "value": "Query job acd7aefe-38fc-4bcd-a75f-8126e4988fb7 is DONE. 736.5 MB processed. <a target=\"_blank\" href=\"https://console.cloud.google.com/bigquery?project=data-analytics-demo-utq9pd85r3&j=bq:US:acd7aefe-38fc-4bcd-a75f-8126e4988fb7&page=queryresults\">Open Job</a>"
          }
        },
        "5daf55b43d544be78636f4f9abf7b119": {
          "model_module": "@jupyter-widgets/controls",
          "model_module_version": "1.5.0",
          "model_name": "DescriptionStyleModel",
          "state": {
            "_model_module": "@jupyter-widgets/controls",
            "_model_module_version": "1.5.0",
            "_model_name": "DescriptionStyleModel",
            "_view_count": null,
            "_view_module": "@jupyter-widgets/base",
            "_view_module_version": "1.2.0",
            "_view_name": "StyleView",
            "description_width": ""
          }
        },
        "6df81679183342e184ed088c98ee5fd9": {
          "model_module": "@jupyter-widgets/controls",
          "model_module_version": "1.5.0",
          "model_name": "DescriptionStyleModel",
          "state": {
            "_model_module": "@jupyter-widgets/controls",
            "_model_module_version": "1.5.0",
            "_model_name": "DescriptionStyleModel",
            "_view_count": null,
            "_view_module": "@jupyter-widgets/base",
            "_view_module_version": "1.2.0",
            "_view_name": "StyleView",
            "description_width": ""
          }
        },
        "6ed7bcddcaef4c65a3df789b56dbb05f": {
          "model_module": "@jupyter-widgets/base",
          "model_module_version": "1.2.0",
          "model_name": "LayoutModel",
          "state": {
            "_model_module": "@jupyter-widgets/base",
            "_model_module_version": "1.2.0",
            "_model_name": "LayoutModel",
            "_view_count": null,
            "_view_module": "@jupyter-widgets/base",
            "_view_module_version": "1.2.0",
            "_view_name": "LayoutView",
            "align_content": null,
            "align_items": null,
            "align_self": null,
            "border": null,
            "bottom": null,
            "display": null,
            "flex": null,
            "flex_flow": null,
            "grid_area": null,
            "grid_auto_columns": null,
            "grid_auto_flow": null,
            "grid_auto_rows": null,
            "grid_column": null,
            "grid_gap": null,
            "grid_row": null,
            "grid_template_areas": null,
            "grid_template_columns": null,
            "grid_template_rows": null,
            "height": null,
            "justify_content": null,
            "justify_items": null,
            "left": null,
            "margin": null,
            "max_height": null,
            "max_width": null,
            "min_height": null,
            "min_width": null,
            "object_fit": null,
            "object_position": null,
            "order": null,
            "overflow": null,
            "overflow_x": null,
            "overflow_y": null,
            "padding": null,
            "right": null,
            "top": null,
            "visibility": null,
            "width": null
          }
        },
        "73d7bc8cfe8b41ba8d4c14f6e8409f46": {
          "model_module": "@jupyter-widgets/controls",
          "model_module_version": "1.5.0",
          "model_name": "DescriptionStyleModel",
          "state": {
            "_model_module": "@jupyter-widgets/controls",
            "_model_module_version": "1.5.0",
            "_model_name": "DescriptionStyleModel",
            "_view_count": null,
            "_view_module": "@jupyter-widgets/base",
            "_view_module_version": "1.2.0",
            "_view_name": "StyleView",
            "description_width": ""
          }
        },
        "7593a1d1f572416fb23eedf555738bc7": {
          "model_module": "@jupyter-widgets/controls",
          "model_module_version": "1.5.0",
          "model_name": "DescriptionStyleModel",
          "state": {
            "_model_module": "@jupyter-widgets/controls",
            "_model_module_version": "1.5.0",
            "_model_name": "DescriptionStyleModel",
            "_view_count": null,
            "_view_module": "@jupyter-widgets/base",
            "_view_module_version": "1.2.0",
            "_view_name": "StyleView",
            "description_width": ""
          }
        },
        "7994a4a85a6b4564b46985ee28fb5640": {
          "model_module": "@jupyter-widgets/controls",
          "model_module_version": "1.5.0",
          "model_name": "DescriptionStyleModel",
          "state": {
            "_model_module": "@jupyter-widgets/controls",
            "_model_module_version": "1.5.0",
            "_model_name": "DescriptionStyleModel",
            "_view_count": null,
            "_view_module": "@jupyter-widgets/base",
            "_view_module_version": "1.2.0",
            "_view_name": "StyleView",
            "description_width": ""
          }
        },
        "7ecb1d2b721846bb9df091f7c4fb6473": {
          "model_module": "@jupyter-widgets/controls",
          "model_module_version": "1.5.0",
          "model_name": "HTMLModel",
          "state": {
            "_dom_classes": [],
            "_model_module": "@jupyter-widgets/controls",
            "_model_module_version": "1.5.0",
            "_model_name": "HTMLModel",
            "_view_count": null,
            "_view_module": "@jupyter-widgets/controls",
            "_view_module_version": "1.5.0",
            "_view_name": "HTMLView",
            "description": "",
            "description_tooltip": null,
            "layout": "IPY_MODEL_31ac5f8d1669476699f0038f8218eb08",
            "placeholder": "​",
            "style": "IPY_MODEL_6df81679183342e184ed088c98ee5fd9",
            "value": "Query job 5acb76f7-b70a-45a7-9392-9b7884f221a9 is DONE. 0 Bytes processed. <a target=\"_blank\" href=\"https://console.cloud.google.com/bigquery?project=data-analytics-demo-utq9pd85r3&j=bq:US:5acb76f7-b70a-45a7-9392-9b7884f221a9&page=queryresults\">Open Job</a>"
          }
        },
        "7ecc40a208024b4cb32e48a9f4d704c9": {
          "model_module": "@jupyter-widgets/controls",
          "model_module_version": "1.5.0",
          "model_name": "HTMLModel",
          "state": {
            "_dom_classes": [],
            "_model_module": "@jupyter-widgets/controls",
            "_model_module_version": "1.5.0",
            "_model_name": "HTMLModel",
            "_view_count": null,
            "_view_module": "@jupyter-widgets/controls",
            "_view_module_version": "1.5.0",
            "_view_name": "HTMLView",
            "description": "",
            "description_tooltip": null,
            "layout": "IPY_MODEL_18a04b9f37d54796aa7ffcf6f1f4dc88",
            "placeholder": "​",
            "style": "IPY_MODEL_7994a4a85a6b4564b46985ee28fb5640",
            "value": "Query job 863fc379-c251-407e-b440-1c4be7e554e4 is DONE. 5.3 GB processed. <a target=\"_blank\" href=\"https://console.cloud.google.com/bigquery?project=data-analytics-demo-utq9pd85r3&j=bq:US:863fc379-c251-407e-b440-1c4be7e554e4&page=queryresults\">Open Job</a>"
          }
        },
        "7fe879f0d25e4f5f97ae68f7670b6112": {
          "model_module": "@jupyter-widgets/base",
          "model_module_version": "1.2.0",
          "model_name": "LayoutModel",
          "state": {
            "_model_module": "@jupyter-widgets/base",
            "_model_module_version": "1.2.0",
            "_model_name": "LayoutModel",
            "_view_count": null,
            "_view_module": "@jupyter-widgets/base",
            "_view_module_version": "1.2.0",
            "_view_name": "LayoutView",
            "align_content": null,
            "align_items": null,
            "align_self": null,
            "border": null,
            "bottom": null,
            "display": null,
            "flex": null,
            "flex_flow": null,
            "grid_area": null,
            "grid_auto_columns": null,
            "grid_auto_flow": null,
            "grid_auto_rows": null,
            "grid_column": null,
            "grid_gap": null,
            "grid_row": null,
            "grid_template_areas": null,
            "grid_template_columns": null,
            "grid_template_rows": null,
            "height": null,
            "justify_content": null,
            "justify_items": null,
            "left": null,
            "margin": null,
            "max_height": null,
            "max_width": null,
            "min_height": null,
            "min_width": null,
            "object_fit": null,
            "object_position": null,
            "order": null,
            "overflow": null,
            "overflow_x": null,
            "overflow_y": null,
            "padding": null,
            "right": null,
            "top": null,
            "visibility": null,
            "width": null
          }
        },
        "86f9f6766b114d0396dba51291e83cac": {
          "model_module": "@jupyter-widgets/base",
          "model_module_version": "1.2.0",
          "model_name": "LayoutModel",
          "state": {
            "_model_module": "@jupyter-widgets/base",
            "_model_module_version": "1.2.0",
            "_model_name": "LayoutModel",
            "_view_count": null,
            "_view_module": "@jupyter-widgets/base",
            "_view_module_version": "1.2.0",
            "_view_name": "LayoutView",
            "align_content": null,
            "align_items": null,
            "align_self": null,
            "border": null,
            "bottom": null,
            "display": null,
            "flex": null,
            "flex_flow": null,
            "grid_area": null,
            "grid_auto_columns": null,
            "grid_auto_flow": null,
            "grid_auto_rows": null,
            "grid_column": null,
            "grid_gap": null,
            "grid_row": null,
            "grid_template_areas": null,
            "grid_template_columns": null,
            "grid_template_rows": null,
            "height": null,
            "justify_content": null,
            "justify_items": null,
            "left": null,
            "margin": null,
            "max_height": null,
            "max_width": null,
            "min_height": null,
            "min_width": null,
            "object_fit": null,
            "object_position": null,
            "order": null,
            "overflow": null,
            "overflow_x": null,
            "overflow_y": null,
            "padding": null,
            "right": null,
            "top": null,
            "visibility": null,
            "width": null
          }
        },
        "8d162689590b4303a65ac46629ef01a6": {
          "model_module": "@jupyter-widgets/controls",
          "model_module_version": "1.5.0",
          "model_name": "DescriptionStyleModel",
          "state": {
            "_model_module": "@jupyter-widgets/controls",
            "_model_module_version": "1.5.0",
            "_model_name": "DescriptionStyleModel",
            "_view_count": null,
            "_view_module": "@jupyter-widgets/base",
            "_view_module_version": "1.2.0",
            "_view_name": "StyleView",
            "description_width": ""
          }
        },
        "8fccb6acd0bb46839a413fb2f9d9a9eb": {
          "model_module": "@jupyter-widgets/base",
          "model_module_version": "1.2.0",
          "model_name": "LayoutModel",
          "state": {
            "_model_module": "@jupyter-widgets/base",
            "_model_module_version": "1.2.0",
            "_model_name": "LayoutModel",
            "_view_count": null,
            "_view_module": "@jupyter-widgets/base",
            "_view_module_version": "1.2.0",
            "_view_name": "LayoutView",
            "align_content": null,
            "align_items": null,
            "align_self": null,
            "border": null,
            "bottom": null,
            "display": null,
            "flex": null,
            "flex_flow": null,
            "grid_area": null,
            "grid_auto_columns": null,
            "grid_auto_flow": null,
            "grid_auto_rows": null,
            "grid_column": null,
            "grid_gap": null,
            "grid_row": null,
            "grid_template_areas": null,
            "grid_template_columns": null,
            "grid_template_rows": null,
            "height": null,
            "justify_content": null,
            "justify_items": null,
            "left": null,
            "margin": null,
            "max_height": null,
            "max_width": null,
            "min_height": null,
            "min_width": null,
            "object_fit": null,
            "object_position": null,
            "order": null,
            "overflow": null,
            "overflow_x": null,
            "overflow_y": null,
            "padding": null,
            "right": null,
            "top": null,
            "visibility": null,
            "width": null
          }
        },
        "9028b7d41c9542eba707c3b407922e05": {
          "model_module": "@jupyter-widgets/base",
          "model_module_version": "1.2.0",
          "model_name": "LayoutModel",
          "state": {
            "_model_module": "@jupyter-widgets/base",
            "_model_module_version": "1.2.0",
            "_model_name": "LayoutModel",
            "_view_count": null,
            "_view_module": "@jupyter-widgets/base",
            "_view_module_version": "1.2.0",
            "_view_name": "LayoutView",
            "align_content": null,
            "align_items": null,
            "align_self": null,
            "border": null,
            "bottom": null,
            "display": null,
            "flex": null,
            "flex_flow": null,
            "grid_area": null,
            "grid_auto_columns": null,
            "grid_auto_flow": null,
            "grid_auto_rows": null,
            "grid_column": null,
            "grid_gap": null,
            "grid_row": null,
            "grid_template_areas": null,
            "grid_template_columns": null,
            "grid_template_rows": null,
            "height": null,
            "justify_content": null,
            "justify_items": null,
            "left": null,
            "margin": null,
            "max_height": null,
            "max_width": null,
            "min_height": null,
            "min_width": null,
            "object_fit": null,
            "object_position": null,
            "order": null,
            "overflow": null,
            "overflow_x": null,
            "overflow_y": null,
            "padding": null,
            "right": null,
            "top": null,
            "visibility": null,
            "width": null
          }
        },
        "9413f7cfa3a54abca8ea0606ec2d714e": {
          "model_module": "@jupyter-widgets/controls",
          "model_module_version": "1.5.0",
          "model_name": "DescriptionStyleModel",
          "state": {
            "_model_module": "@jupyter-widgets/controls",
            "_model_module_version": "1.5.0",
            "_model_name": "DescriptionStyleModel",
            "_view_count": null,
            "_view_module": "@jupyter-widgets/base",
            "_view_module_version": "1.2.0",
            "_view_name": "StyleView",
            "description_width": ""
          }
        },
        "985d90312c534afc8d71c0c56fffddc3": {
          "model_module": "@jupyter-widgets/controls",
          "model_module_version": "1.5.0",
          "model_name": "DescriptionStyleModel",
          "state": {
            "_model_module": "@jupyter-widgets/controls",
            "_model_module_version": "1.5.0",
            "_model_name": "DescriptionStyleModel",
            "_view_count": null,
            "_view_module": "@jupyter-widgets/base",
            "_view_module_version": "1.2.0",
            "_view_name": "StyleView",
            "description_width": ""
          }
        },
        "9d919149d7394129a563e53f30225887": {
          "model_module": "@jupyter-widgets/controls",
          "model_module_version": "1.5.0",
          "model_name": "DescriptionStyleModel",
          "state": {
            "_model_module": "@jupyter-widgets/controls",
            "_model_module_version": "1.5.0",
            "_model_name": "DescriptionStyleModel",
            "_view_count": null,
            "_view_module": "@jupyter-widgets/base",
            "_view_module_version": "1.2.0",
            "_view_name": "StyleView",
            "description_width": ""
          }
        },
        "9efa59d2e7394c1b818681b1b4034452": {
          "model_module": "@jupyter-widgets/controls",
          "model_module_version": "1.5.0",
          "model_name": "DescriptionStyleModel",
          "state": {
            "_model_module": "@jupyter-widgets/controls",
            "_model_module_version": "1.5.0",
            "_model_name": "DescriptionStyleModel",
            "_view_count": null,
            "_view_module": "@jupyter-widgets/base",
            "_view_module_version": "1.2.0",
            "_view_name": "StyleView",
            "description_width": ""
          }
        },
        "a1ac7cca5dfd426bbe238ad5e6ab2656": {
          "model_module": "@jupyter-widgets/controls",
          "model_module_version": "1.5.0",
          "model_name": "HTMLModel",
          "state": {
            "_dom_classes": [],
            "_model_module": "@jupyter-widgets/controls",
            "_model_module_version": "1.5.0",
            "_model_name": "HTMLModel",
            "_view_count": null,
            "_view_module": "@jupyter-widgets/controls",
            "_view_module_version": "1.5.0",
            "_view_name": "HTMLView",
            "description": "",
            "description_tooltip": null,
            "layout": "IPY_MODEL_afe1c8cfdf0c439eacaf95199d1bf734",
            "placeholder": "​",
            "style": "IPY_MODEL_0ecba69465384d5ea139da31eaf4b5d6",
            "value": "Query job 6e485900-d17f-43b6-8b61-58daa9c981dd is DONE. 0 Bytes processed. <a target=\"_blank\" href=\"https://console.cloud.google.com/bigquery?project=data-analytics-demo-utq9pd85r3&j=bq:US:6e485900-d17f-43b6-8b61-58daa9c981dd&page=queryresults\">Open Job</a>"
          }
        },
        "a395ee81368a4833b00b30402640a8a8": {
          "model_module": "@jupyter-widgets/controls",
          "model_module_version": "1.5.0",
          "model_name": "HTMLModel",
          "state": {
            "_dom_classes": [],
            "_model_module": "@jupyter-widgets/controls",
            "_model_module_version": "1.5.0",
            "_model_name": "HTMLModel",
            "_view_count": null,
            "_view_module": "@jupyter-widgets/controls",
            "_view_module_version": "1.5.0",
            "_view_name": "HTMLView",
            "description": "",
            "description_tooltip": null,
            "layout": "IPY_MODEL_3d6f7af794b748f58109e55be348b49f",
            "placeholder": "​",
            "style": "IPY_MODEL_1ea84e1e12ce4cfeb1111d2ebbc34743",
            "value": "Query job 18b174c5-37d3-4224-a521-ed9554e386c4 is DONE. 5.3 GB processed. <a target=\"_blank\" href=\"https://console.cloud.google.com/bigquery?project=data-analytics-demo-utq9pd85r3&j=bq:US:18b174c5-37d3-4224-a521-ed9554e386c4&page=queryresults\">Open Job</a>"
          }
        },
        "a9649e29abbd4247a13ac0d090b7c0ca": {
          "model_module": "@jupyter-widgets/base",
          "model_module_version": "1.2.0",
          "model_name": "LayoutModel",
          "state": {
            "_model_module": "@jupyter-widgets/base",
            "_model_module_version": "1.2.0",
            "_model_name": "LayoutModel",
            "_view_count": null,
            "_view_module": "@jupyter-widgets/base",
            "_view_module_version": "1.2.0",
            "_view_name": "LayoutView",
            "align_content": null,
            "align_items": null,
            "align_self": null,
            "border": null,
            "bottom": null,
            "display": null,
            "flex": null,
            "flex_flow": null,
            "grid_area": null,
            "grid_auto_columns": null,
            "grid_auto_flow": null,
            "grid_auto_rows": null,
            "grid_column": null,
            "grid_gap": null,
            "grid_row": null,
            "grid_template_areas": null,
            "grid_template_columns": null,
            "grid_template_rows": null,
            "height": null,
            "justify_content": null,
            "justify_items": null,
            "left": null,
            "margin": null,
            "max_height": null,
            "max_width": null,
            "min_height": null,
            "min_width": null,
            "object_fit": null,
            "object_position": null,
            "order": null,
            "overflow": null,
            "overflow_x": null,
            "overflow_y": null,
            "padding": null,
            "right": null,
            "top": null,
            "visibility": null,
            "width": null
          }
        },
        "aae9956fe1a94825b6af514f296c9734": {
          "model_module": "@jupyter-widgets/base",
          "model_module_version": "1.2.0",
          "model_name": "LayoutModel",
          "state": {
            "_model_module": "@jupyter-widgets/base",
            "_model_module_version": "1.2.0",
            "_model_name": "LayoutModel",
            "_view_count": null,
            "_view_module": "@jupyter-widgets/base",
            "_view_module_version": "1.2.0",
            "_view_name": "LayoutView",
            "align_content": null,
            "align_items": null,
            "align_self": null,
            "border": null,
            "bottom": null,
            "display": null,
            "flex": null,
            "flex_flow": null,
            "grid_area": null,
            "grid_auto_columns": null,
            "grid_auto_flow": null,
            "grid_auto_rows": null,
            "grid_column": null,
            "grid_gap": null,
            "grid_row": null,
            "grid_template_areas": null,
            "grid_template_columns": null,
            "grid_template_rows": null,
            "height": null,
            "justify_content": null,
            "justify_items": null,
            "left": null,
            "margin": null,
            "max_height": null,
            "max_width": null,
            "min_height": null,
            "min_width": null,
            "object_fit": null,
            "object_position": null,
            "order": null,
            "overflow": null,
            "overflow_x": null,
            "overflow_y": null,
            "padding": null,
            "right": null,
            "top": null,
            "visibility": null,
            "width": null
          }
        },
        "ab01e888ba9a4a0491588a9289ab179b": {
          "model_module": "@jupyter-widgets/base",
          "model_module_version": "1.2.0",
          "model_name": "LayoutModel",
          "state": {
            "_model_module": "@jupyter-widgets/base",
            "_model_module_version": "1.2.0",
            "_model_name": "LayoutModel",
            "_view_count": null,
            "_view_module": "@jupyter-widgets/base",
            "_view_module_version": "1.2.0",
            "_view_name": "LayoutView",
            "align_content": null,
            "align_items": null,
            "align_self": null,
            "border": null,
            "bottom": null,
            "display": null,
            "flex": null,
            "flex_flow": null,
            "grid_area": null,
            "grid_auto_columns": null,
            "grid_auto_flow": null,
            "grid_auto_rows": null,
            "grid_column": null,
            "grid_gap": null,
            "grid_row": null,
            "grid_template_areas": null,
            "grid_template_columns": null,
            "grid_template_rows": null,
            "height": null,
            "justify_content": null,
            "justify_items": null,
            "left": null,
            "margin": null,
            "max_height": null,
            "max_width": null,
            "min_height": null,
            "min_width": null,
            "object_fit": null,
            "object_position": null,
            "order": null,
            "overflow": null,
            "overflow_x": null,
            "overflow_y": null,
            "padding": null,
            "right": null,
            "top": null,
            "visibility": null,
            "width": null
          }
        },
        "ad1b4bc766d44a718689b676a7ab3ddd": {
          "model_module": "@jupyter-widgets/base",
          "model_module_version": "1.2.0",
          "model_name": "LayoutModel",
          "state": {
            "_model_module": "@jupyter-widgets/base",
            "_model_module_version": "1.2.0",
            "_model_name": "LayoutModel",
            "_view_count": null,
            "_view_module": "@jupyter-widgets/base",
            "_view_module_version": "1.2.0",
            "_view_name": "LayoutView",
            "align_content": null,
            "align_items": null,
            "align_self": null,
            "border": null,
            "bottom": null,
            "display": null,
            "flex": null,
            "flex_flow": null,
            "grid_area": null,
            "grid_auto_columns": null,
            "grid_auto_flow": null,
            "grid_auto_rows": null,
            "grid_column": null,
            "grid_gap": null,
            "grid_row": null,
            "grid_template_areas": null,
            "grid_template_columns": null,
            "grid_template_rows": null,
            "height": null,
            "justify_content": null,
            "justify_items": null,
            "left": null,
            "margin": null,
            "max_height": null,
            "max_width": null,
            "min_height": null,
            "min_width": null,
            "object_fit": null,
            "object_position": null,
            "order": null,
            "overflow": null,
            "overflow_x": null,
            "overflow_y": null,
            "padding": null,
            "right": null,
            "top": null,
            "visibility": null,
            "width": null
          }
        },
        "aded4f7f20ef4dd7afe5e17cdf269c44": {
          "model_module": "@jupyter-widgets/base",
          "model_module_version": "1.2.0",
          "model_name": "LayoutModel",
          "state": {
            "_model_module": "@jupyter-widgets/base",
            "_model_module_version": "1.2.0",
            "_model_name": "LayoutModel",
            "_view_count": null,
            "_view_module": "@jupyter-widgets/base",
            "_view_module_version": "1.2.0",
            "_view_name": "LayoutView",
            "align_content": null,
            "align_items": null,
            "align_self": null,
            "border": null,
            "bottom": null,
            "display": null,
            "flex": null,
            "flex_flow": null,
            "grid_area": null,
            "grid_auto_columns": null,
            "grid_auto_flow": null,
            "grid_auto_rows": null,
            "grid_column": null,
            "grid_gap": null,
            "grid_row": null,
            "grid_template_areas": null,
            "grid_template_columns": null,
            "grid_template_rows": null,
            "height": null,
            "justify_content": null,
            "justify_items": null,
            "left": null,
            "margin": null,
            "max_height": null,
            "max_width": null,
            "min_height": null,
            "min_width": null,
            "object_fit": null,
            "object_position": null,
            "order": null,
            "overflow": null,
            "overflow_x": null,
            "overflow_y": null,
            "padding": null,
            "right": null,
            "top": null,
            "visibility": null,
            "width": null
          }
        },
        "afe1c8cfdf0c439eacaf95199d1bf734": {
          "model_module": "@jupyter-widgets/base",
          "model_module_version": "1.2.0",
          "model_name": "LayoutModel",
          "state": {
            "_model_module": "@jupyter-widgets/base",
            "_model_module_version": "1.2.0",
            "_model_name": "LayoutModel",
            "_view_count": null,
            "_view_module": "@jupyter-widgets/base",
            "_view_module_version": "1.2.0",
            "_view_name": "LayoutView",
            "align_content": null,
            "align_items": null,
            "align_self": null,
            "border": null,
            "bottom": null,
            "display": null,
            "flex": null,
            "flex_flow": null,
            "grid_area": null,
            "grid_auto_columns": null,
            "grid_auto_flow": null,
            "grid_auto_rows": null,
            "grid_column": null,
            "grid_gap": null,
            "grid_row": null,
            "grid_template_areas": null,
            "grid_template_columns": null,
            "grid_template_rows": null,
            "height": null,
            "justify_content": null,
            "justify_items": null,
            "left": null,
            "margin": null,
            "max_height": null,
            "max_width": null,
            "min_height": null,
            "min_width": null,
            "object_fit": null,
            "object_position": null,
            "order": null,
            "overflow": null,
            "overflow_x": null,
            "overflow_y": null,
            "padding": null,
            "right": null,
            "top": null,
            "visibility": null,
            "width": null
          }
        },
        "b620e5673bf147f68daa2f5ca416bd3c": {
          "model_module": "@jupyter-widgets/controls",
          "model_module_version": "1.5.0",
          "model_name": "HTMLModel",
          "state": {
            "_dom_classes": [],
            "_model_module": "@jupyter-widgets/controls",
            "_model_module_version": "1.5.0",
            "_model_name": "HTMLModel",
            "_view_count": null,
            "_view_module": "@jupyter-widgets/controls",
            "_view_module_version": "1.5.0",
            "_view_name": "HTMLView",
            "description": "",
            "description_tooltip": null,
            "layout": "IPY_MODEL_a9649e29abbd4247a13ac0d090b7c0ca",
            "placeholder": "​",
            "style": "IPY_MODEL_5082bd34826f46899e7f0c353af81edc",
            "value": "Query job 1fffa241-9a1f-45c2-a1c1-65af8e532087 is DONE. 736.5 MB processed. <a target=\"_blank\" href=\"https://console.cloud.google.com/bigquery?project=data-analytics-demo-utq9pd85r3&j=bq:US:1fffa241-9a1f-45c2-a1c1-65af8e532087&page=queryresults\">Open Job</a>"
          }
        },
        "b6e1eae0c2164b3c843ef66c0936657a": {
          "model_module": "@jupyter-widgets/base",
          "model_module_version": "1.2.0",
          "model_name": "LayoutModel",
          "state": {
            "_model_module": "@jupyter-widgets/base",
            "_model_module_version": "1.2.0",
            "_model_name": "LayoutModel",
            "_view_count": null,
            "_view_module": "@jupyter-widgets/base",
            "_view_module_version": "1.2.0",
            "_view_name": "LayoutView",
            "align_content": null,
            "align_items": null,
            "align_self": null,
            "border": null,
            "bottom": null,
            "display": null,
            "flex": null,
            "flex_flow": null,
            "grid_area": null,
            "grid_auto_columns": null,
            "grid_auto_flow": null,
            "grid_auto_rows": null,
            "grid_column": null,
            "grid_gap": null,
            "grid_row": null,
            "grid_template_areas": null,
            "grid_template_columns": null,
            "grid_template_rows": null,
            "height": null,
            "justify_content": null,
            "justify_items": null,
            "left": null,
            "margin": null,
            "max_height": null,
            "max_width": null,
            "min_height": null,
            "min_width": null,
            "object_fit": null,
            "object_position": null,
            "order": null,
            "overflow": null,
            "overflow_x": null,
            "overflow_y": null,
            "padding": null,
            "right": null,
            "top": null,
            "visibility": null,
            "width": null
          }
        },
        "c2519840d42f42db9108c8c235d6b0da": {
          "model_module": "@jupyter-widgets/controls",
          "model_module_version": "1.5.0",
          "model_name": "HTMLModel",
          "state": {
            "_dom_classes": [],
            "_model_module": "@jupyter-widgets/controls",
            "_model_module_version": "1.5.0",
            "_model_name": "HTMLModel",
            "_view_count": null,
            "_view_module": "@jupyter-widgets/controls",
            "_view_module_version": "1.5.0",
            "_view_name": "HTMLView",
            "description": "",
            "description_tooltip": null,
            "layout": "IPY_MODEL_ad1b4bc766d44a718689b676a7ab3ddd",
            "placeholder": "​",
            "style": "IPY_MODEL_9d919149d7394129a563e53f30225887",
            "value": "Query job 227f4d24-e018-44f1-ab81-59cf1586186d is DONE. 0 Bytes processed. <a target=\"_blank\" href=\"https://console.cloud.google.com/bigquery?project=data-analytics-demo-utq9pd85r3&j=bq:US:227f4d24-e018-44f1-ab81-59cf1586186d&page=queryresults\">Open Job</a>"
          }
        },
        "c65b8a9b59f0496bbce378d29eaa60a6": {
          "model_module": "@jupyter-widgets/controls",
          "model_module_version": "1.5.0",
          "model_name": "HTMLModel",
          "state": {
            "_dom_classes": [],
            "_model_module": "@jupyter-widgets/controls",
            "_model_module_version": "1.5.0",
            "_model_name": "HTMLModel",
            "_view_count": null,
            "_view_module": "@jupyter-widgets/controls",
            "_view_module_version": "1.5.0",
            "_view_name": "HTMLView",
            "description": "",
            "description_tooltip": null,
            "layout": "IPY_MODEL_d41c4addbfd14f5797a07eb36f40b59f",
            "placeholder": "​",
            "style": "IPY_MODEL_985d90312c534afc8d71c0c56fffddc3",
            "value": "Query job f37b3401-bf13-44ee-831b-9a450568e838 is DONE. 2.8 kB processed. <a target=\"_blank\" href=\"https://console.cloud.google.com/bigquery?project=data-analytics-demo-utq9pd85r3&j=bq:US:f37b3401-bf13-44ee-831b-9a450568e838&page=queryresults\">Open Job</a>"
          }
        },
        "c848daa7e6c946b5a8b9b2d3e19559c5": {
          "model_module": "@jupyter-widgets/base",
          "model_module_version": "1.2.0",
          "model_name": "LayoutModel",
          "state": {
            "_model_module": "@jupyter-widgets/base",
            "_model_module_version": "1.2.0",
            "_model_name": "LayoutModel",
            "_view_count": null,
            "_view_module": "@jupyter-widgets/base",
            "_view_module_version": "1.2.0",
            "_view_name": "LayoutView",
            "align_content": null,
            "align_items": null,
            "align_self": null,
            "border": null,
            "bottom": null,
            "display": null,
            "flex": null,
            "flex_flow": null,
            "grid_area": null,
            "grid_auto_columns": null,
            "grid_auto_flow": null,
            "grid_auto_rows": null,
            "grid_column": null,
            "grid_gap": null,
            "grid_row": null,
            "grid_template_areas": null,
            "grid_template_columns": null,
            "grid_template_rows": null,
            "height": null,
            "justify_content": null,
            "justify_items": null,
            "left": null,
            "margin": null,
            "max_height": null,
            "max_width": null,
            "min_height": null,
            "min_width": null,
            "object_fit": null,
            "object_position": null,
            "order": null,
            "overflow": null,
            "overflow_x": null,
            "overflow_y": null,
            "padding": null,
            "right": null,
            "top": null,
            "visibility": null,
            "width": null
          }
        },
        "c94688d382bd46379f8a70d3692d5489": {
          "model_module": "@jupyter-widgets/base",
          "model_module_version": "1.2.0",
          "model_name": "LayoutModel",
          "state": {
            "_model_module": "@jupyter-widgets/base",
            "_model_module_version": "1.2.0",
            "_model_name": "LayoutModel",
            "_view_count": null,
            "_view_module": "@jupyter-widgets/base",
            "_view_module_version": "1.2.0",
            "_view_name": "LayoutView",
            "align_content": null,
            "align_items": null,
            "align_self": null,
            "border": null,
            "bottom": null,
            "display": null,
            "flex": null,
            "flex_flow": null,
            "grid_area": null,
            "grid_auto_columns": null,
            "grid_auto_flow": null,
            "grid_auto_rows": null,
            "grid_column": null,
            "grid_gap": null,
            "grid_row": null,
            "grid_template_areas": null,
            "grid_template_columns": null,
            "grid_template_rows": null,
            "height": null,
            "justify_content": null,
            "justify_items": null,
            "left": null,
            "margin": null,
            "max_height": null,
            "max_width": null,
            "min_height": null,
            "min_width": null,
            "object_fit": null,
            "object_position": null,
            "order": null,
            "overflow": null,
            "overflow_x": null,
            "overflow_y": null,
            "padding": null,
            "right": null,
            "top": null,
            "visibility": null,
            "width": null
          }
        },
        "ce2e8cb9c47044da99318e2c274d615b": {
          "model_module": "@jupyter-widgets/base",
          "model_module_version": "1.2.0",
          "model_name": "LayoutModel",
          "state": {
            "_model_module": "@jupyter-widgets/base",
            "_model_module_version": "1.2.0",
            "_model_name": "LayoutModel",
            "_view_count": null,
            "_view_module": "@jupyter-widgets/base",
            "_view_module_version": "1.2.0",
            "_view_name": "LayoutView",
            "align_content": null,
            "align_items": null,
            "align_self": null,
            "border": null,
            "bottom": null,
            "display": null,
            "flex": null,
            "flex_flow": null,
            "grid_area": null,
            "grid_auto_columns": null,
            "grid_auto_flow": null,
            "grid_auto_rows": null,
            "grid_column": null,
            "grid_gap": null,
            "grid_row": null,
            "grid_template_areas": null,
            "grid_template_columns": null,
            "grid_template_rows": null,
            "height": null,
            "justify_content": null,
            "justify_items": null,
            "left": null,
            "margin": null,
            "max_height": null,
            "max_width": null,
            "min_height": null,
            "min_width": null,
            "object_fit": null,
            "object_position": null,
            "order": null,
            "overflow": null,
            "overflow_x": null,
            "overflow_y": null,
            "padding": null,
            "right": null,
            "top": null,
            "visibility": null,
            "width": null
          }
        },
        "d1094d930dd241b3b9762b6411c99fe8": {
          "model_module": "@jupyter-widgets/controls",
          "model_module_version": "1.5.0",
          "model_name": "DescriptionStyleModel",
          "state": {
            "_model_module": "@jupyter-widgets/controls",
            "_model_module_version": "1.5.0",
            "_model_name": "DescriptionStyleModel",
            "_view_count": null,
            "_view_module": "@jupyter-widgets/base",
            "_view_module_version": "1.2.0",
            "_view_name": "StyleView",
            "description_width": ""
          }
        },
        "d41c4addbfd14f5797a07eb36f40b59f": {
          "model_module": "@jupyter-widgets/base",
          "model_module_version": "1.2.0",
          "model_name": "LayoutModel",
          "state": {
            "_model_module": "@jupyter-widgets/base",
            "_model_module_version": "1.2.0",
            "_model_name": "LayoutModel",
            "_view_count": null,
            "_view_module": "@jupyter-widgets/base",
            "_view_module_version": "1.2.0",
            "_view_name": "LayoutView",
            "align_content": null,
            "align_items": null,
            "align_self": null,
            "border": null,
            "bottom": null,
            "display": null,
            "flex": null,
            "flex_flow": null,
            "grid_area": null,
            "grid_auto_columns": null,
            "grid_auto_flow": null,
            "grid_auto_rows": null,
            "grid_column": null,
            "grid_gap": null,
            "grid_row": null,
            "grid_template_areas": null,
            "grid_template_columns": null,
            "grid_template_rows": null,
            "height": null,
            "justify_content": null,
            "justify_items": null,
            "left": null,
            "margin": null,
            "max_height": null,
            "max_width": null,
            "min_height": null,
            "min_width": null,
            "object_fit": null,
            "object_position": null,
            "order": null,
            "overflow": null,
            "overflow_x": null,
            "overflow_y": null,
            "padding": null,
            "right": null,
            "top": null,
            "visibility": null,
            "width": null
          }
        },
        "d4fbfec798074dd8891505ee23db8498": {
          "model_module": "@jupyter-widgets/controls",
          "model_module_version": "1.5.0",
          "model_name": "HTMLModel",
          "state": {
            "_dom_classes": [],
            "_model_module": "@jupyter-widgets/controls",
            "_model_module_version": "1.5.0",
            "_model_name": "HTMLModel",
            "_view_count": null,
            "_view_module": "@jupyter-widgets/controls",
            "_view_module_version": "1.5.0",
            "_view_name": "HTMLView",
            "description": "",
            "description_tooltip": null,
            "layout": "IPY_MODEL_0203f122f3b249faa27c2cbff19b1416",
            "placeholder": "​",
            "style": "IPY_MODEL_9efa59d2e7394c1b818681b1b4034452",
            "value": "Query job 731d77f8-5905-4fed-bd90-dd9e07825bb3 is DONE. 5.3 GB processed. <a target=\"_blank\" href=\"https://console.cloud.google.com/bigquery?project=data-analytics-demo-utq9pd85r3&j=bq:US:731d77f8-5905-4fed-bd90-dd9e07825bb3&page=queryresults\">Open Job</a>"
          }
        },
        "d641b028e98f47b8bd3d46fb7121c56a": {
          "model_module": "@jupyter-widgets/controls",
          "model_module_version": "1.5.0",
          "model_name": "DescriptionStyleModel",
          "state": {
            "_model_module": "@jupyter-widgets/controls",
            "_model_module_version": "1.5.0",
            "_model_name": "DescriptionStyleModel",
            "_view_count": null,
            "_view_module": "@jupyter-widgets/base",
            "_view_module_version": "1.2.0",
            "_view_name": "StyleView",
            "description_width": ""
          }
        },
        "d73b4f8cd28044bfaf6c3bca802b972d": {
          "model_module": "@jupyter-widgets/controls",
          "model_module_version": "1.5.0",
          "model_name": "DescriptionStyleModel",
          "state": {
            "_model_module": "@jupyter-widgets/controls",
            "_model_module_version": "1.5.0",
            "_model_name": "DescriptionStyleModel",
            "_view_count": null,
            "_view_module": "@jupyter-widgets/base",
            "_view_module_version": "1.2.0",
            "_view_name": "StyleView",
            "description_width": ""
          }
        },
        "d7ab676cf2aa4f79bb0d7b9a1778a6db": {
          "model_module": "@jupyter-widgets/controls",
          "model_module_version": "1.5.0",
          "model_name": "DescriptionStyleModel",
          "state": {
            "_model_module": "@jupyter-widgets/controls",
            "_model_module_version": "1.5.0",
            "_model_name": "DescriptionStyleModel",
            "_view_count": null,
            "_view_module": "@jupyter-widgets/base",
            "_view_module_version": "1.2.0",
            "_view_name": "StyleView",
            "description_width": ""
          }
        },
        "da416bb1f4eb4613b138985a2bf36697": {
          "model_module": "@jupyter-widgets/controls",
          "model_module_version": "1.5.0",
          "model_name": "DescriptionStyleModel",
          "state": {
            "_model_module": "@jupyter-widgets/controls",
            "_model_module_version": "1.5.0",
            "_model_name": "DescriptionStyleModel",
            "_view_count": null,
            "_view_module": "@jupyter-widgets/base",
            "_view_module_version": "1.2.0",
            "_view_name": "StyleView",
            "description_width": ""
          }
        },
        "e35dd1a6a3b749c88f1ec43ba01d8acc": {
          "model_module": "@jupyter-widgets/controls",
          "model_module_version": "1.5.0",
          "model_name": "HTMLModel",
          "state": {
            "_dom_classes": [],
            "_model_module": "@jupyter-widgets/controls",
            "_model_module_version": "1.5.0",
            "_model_name": "HTMLModel",
            "_view_count": null,
            "_view_module": "@jupyter-widgets/controls",
            "_view_module_version": "1.5.0",
            "_view_name": "HTMLView",
            "description": "",
            "description_tooltip": null,
            "layout": "IPY_MODEL_aae9956fe1a94825b6af514f296c9734",
            "placeholder": "​",
            "style": "IPY_MODEL_da416bb1f4eb4613b138985a2bf36697",
            "value": "Query job 95f69bf3-654c-49f0-baba-c1b97245f18e is DONE. 0 Bytes processed. <a target=\"_blank\" href=\"https://console.cloud.google.com/bigquery?project=data-analytics-demo-utq9pd85r3&j=bq:US:95f69bf3-654c-49f0-baba-c1b97245f18e&page=queryresults\">Open Job</a>"
          }
        },
        "e4a020c6485247cd8d0d4bd56920fb2f": {
          "model_module": "@jupyter-widgets/controls",
          "model_module_version": "1.5.0",
          "model_name": "HTMLModel",
          "state": {
            "_dom_classes": [],
            "_model_module": "@jupyter-widgets/controls",
            "_model_module_version": "1.5.0",
            "_model_name": "HTMLModel",
            "_view_count": null,
            "_view_module": "@jupyter-widgets/controls",
            "_view_module_version": "1.5.0",
            "_view_name": "HTMLView",
            "description": "",
            "description_tooltip": null,
            "layout": "IPY_MODEL_fac058145279495a9886f434eb54f791",
            "placeholder": "​",
            "style": "IPY_MODEL_73d7bc8cfe8b41ba8d4c14f6e8409f46",
            "value": "Query job 8cc4ca36-d4f0-4964-977a-91ee4f84da85 is DONE. 14.7 GB processed. <a target=\"_blank\" href=\"https://console.cloud.google.com/bigquery?project=data-analytics-demo-utq9pd85r3&j=bq:US:8cc4ca36-d4f0-4964-977a-91ee4f84da85&page=queryresults\">Open Job</a>"
          }
        },
        "e712cb226bdd47a5bf314fcee59c05cd": {
          "model_module": "@jupyter-widgets/base",
          "model_module_version": "1.2.0",
          "model_name": "LayoutModel",
          "state": {
            "_model_module": "@jupyter-widgets/base",
            "_model_module_version": "1.2.0",
            "_model_name": "LayoutModel",
            "_view_count": null,
            "_view_module": "@jupyter-widgets/base",
            "_view_module_version": "1.2.0",
            "_view_name": "LayoutView",
            "align_content": null,
            "align_items": null,
            "align_self": null,
            "border": null,
            "bottom": null,
            "display": null,
            "flex": null,
            "flex_flow": null,
            "grid_area": null,
            "grid_auto_columns": null,
            "grid_auto_flow": null,
            "grid_auto_rows": null,
            "grid_column": null,
            "grid_gap": null,
            "grid_row": null,
            "grid_template_areas": null,
            "grid_template_columns": null,
            "grid_template_rows": null,
            "height": null,
            "justify_content": null,
            "justify_items": null,
            "left": null,
            "margin": null,
            "max_height": null,
            "max_width": null,
            "min_height": null,
            "min_width": null,
            "object_fit": null,
            "object_position": null,
            "order": null,
            "overflow": null,
            "overflow_x": null,
            "overflow_y": null,
            "padding": null,
            "right": null,
            "top": null,
            "visibility": null,
            "width": null
          }
        },
        "e71aacd291944aecb408c2bddaa2be49": {
          "model_module": "@jupyter-widgets/base",
          "model_module_version": "1.2.0",
          "model_name": "LayoutModel",
          "state": {
            "_model_module": "@jupyter-widgets/base",
            "_model_module_version": "1.2.0",
            "_model_name": "LayoutModel",
            "_view_count": null,
            "_view_module": "@jupyter-widgets/base",
            "_view_module_version": "1.2.0",
            "_view_name": "LayoutView",
            "align_content": null,
            "align_items": null,
            "align_self": null,
            "border": null,
            "bottom": null,
            "display": null,
            "flex": null,
            "flex_flow": null,
            "grid_area": null,
            "grid_auto_columns": null,
            "grid_auto_flow": null,
            "grid_auto_rows": null,
            "grid_column": null,
            "grid_gap": null,
            "grid_row": null,
            "grid_template_areas": null,
            "grid_template_columns": null,
            "grid_template_rows": null,
            "height": null,
            "justify_content": null,
            "justify_items": null,
            "left": null,
            "margin": null,
            "max_height": null,
            "max_width": null,
            "min_height": null,
            "min_width": null,
            "object_fit": null,
            "object_position": null,
            "order": null,
            "overflow": null,
            "overflow_x": null,
            "overflow_y": null,
            "padding": null,
            "right": null,
            "top": null,
            "visibility": null,
            "width": null
          }
        },
        "e969d07ea69942bd8590197ddb5d2496": {
          "model_module": "@jupyter-widgets/controls",
          "model_module_version": "1.5.0",
          "model_name": "HTMLModel",
          "state": {
            "_dom_classes": [],
            "_model_module": "@jupyter-widgets/controls",
            "_model_module_version": "1.5.0",
            "_model_name": "HTMLModel",
            "_view_count": null,
            "_view_module": "@jupyter-widgets/controls",
            "_view_module_version": "1.5.0",
            "_view_name": "HTMLView",
            "description": "",
            "description_tooltip": null,
            "layout": "IPY_MODEL_4b768b2200254c4ba2e8e4ce9ff6166c",
            "placeholder": "​",
            "style": "IPY_MODEL_1f6ca249acd84111ad2b5479aad5e277",
            "value": "Query job b196a745-c1c0-43f1-9ef7-7cb48d594f04 is DONE. 736.5 MB processed. <a target=\"_blank\" href=\"https://console.cloud.google.com/bigquery?project=data-analytics-demo-utq9pd85r3&j=bq:US:b196a745-c1c0-43f1-9ef7-7cb48d594f04&page=queryresults\">Open Job</a>"
          }
        },
        "ec42b2688c5640ae8d6d26af5a481f02": {
          "model_module": "@jupyter-widgets/controls",
          "model_module_version": "1.5.0",
          "model_name": "DescriptionStyleModel",
          "state": {
            "_model_module": "@jupyter-widgets/controls",
            "_model_module_version": "1.5.0",
            "_model_name": "DescriptionStyleModel",
            "_view_count": null,
            "_view_module": "@jupyter-widgets/base",
            "_view_module_version": "1.2.0",
            "_view_name": "StyleView",
            "description_width": ""
          }
        },
        "f0a876f0e4dd473f81ad3dfadad1c09b": {
          "model_module": "@jupyter-widgets/controls",
          "model_module_version": "1.5.0",
          "model_name": "HTMLModel",
          "state": {
            "_dom_classes": [],
            "_model_module": "@jupyter-widgets/controls",
            "_model_module_version": "1.5.0",
            "_model_name": "HTMLModel",
            "_view_count": null,
            "_view_module": "@jupyter-widgets/controls",
            "_view_module_version": "1.5.0",
            "_view_name": "HTMLView",
            "description": "",
            "description_tooltip": null,
            "layout": "IPY_MODEL_86f9f6766b114d0396dba51291e83cac",
            "placeholder": "​",
            "style": "IPY_MODEL_0ad1041e983b4c0fac720d3d1bebbffa",
            "value": "Query job d101b1f1-47b5-4d08-bcba-23c6cb6f2327 is DONE. 5.3 GB processed. <a target=\"_blank\" href=\"https://console.cloud.google.com/bigquery?project=data-analytics-demo-utq9pd85r3&j=bq:US:d101b1f1-47b5-4d08-bcba-23c6cb6f2327&page=queryresults\">Open Job</a>"
          }
        },
        "f57b751072414938bf6980c307baeeef": {
          "model_module": "@jupyter-widgets/controls",
          "model_module_version": "1.5.0",
          "model_name": "HTMLModel",
          "state": {
            "_dom_classes": [],
            "_model_module": "@jupyter-widgets/controls",
            "_model_module_version": "1.5.0",
            "_model_name": "HTMLModel",
            "_view_count": null,
            "_view_module": "@jupyter-widgets/controls",
            "_view_module_version": "1.5.0",
            "_view_name": "HTMLView",
            "description": "",
            "description_tooltip": null,
            "layout": "IPY_MODEL_b6e1eae0c2164b3c843ef66c0936657a",
            "placeholder": "​",
            "style": "IPY_MODEL_23a76e4121c543c08117ff221f0824b9",
            "value": "Load job 0ef038b7-f709-4570-90f4-3fcd3fa4db84 is DONE. <a target=\"_blank\" href=\"https://console.cloud.google.com/bigquery?project=data-analytics-demo-utq9pd85r3&j=bq:US:0ef038b7-f709-4570-90f4-3fcd3fa4db84&page=queryresults\">Open Job</a>"
          }
        },
        "f5f021c09002415096319a629dedd25b": {
          "model_module": "@jupyter-widgets/controls",
          "model_module_version": "1.5.0",
          "model_name": "HTMLModel",
          "state": {
            "_dom_classes": [],
            "_model_module": "@jupyter-widgets/controls",
            "_model_module_version": "1.5.0",
            "_model_name": "HTMLModel",
            "_view_count": null,
            "_view_module": "@jupyter-widgets/controls",
            "_view_module_version": "1.5.0",
            "_view_name": "HTMLView",
            "description": "",
            "description_tooltip": null,
            "layout": "IPY_MODEL_c848daa7e6c946b5a8b9b2d3e19559c5",
            "placeholder": "​",
            "style": "IPY_MODEL_3f102274ec5a45e0ad4f16ce84ce0032",
            "value": "Query job ba198661-09c6-4859-91a9-34c1ef3ed5ff is DONE. 36.8 MB processed. <a target=\"_blank\" href=\"https://console.cloud.google.com/bigquery?project=data-analytics-demo-utq9pd85r3&j=bq:US:ba198661-09c6-4859-91a9-34c1ef3ed5ff&page=queryresults\">Open Job</a>"
          }
        },
        "fac058145279495a9886f434eb54f791": {
          "model_module": "@jupyter-widgets/base",
          "model_module_version": "1.2.0",
          "model_name": "LayoutModel",
          "state": {
            "_model_module": "@jupyter-widgets/base",
            "_model_module_version": "1.2.0",
            "_model_name": "LayoutModel",
            "_view_count": null,
            "_view_module": "@jupyter-widgets/base",
            "_view_module_version": "1.2.0",
            "_view_name": "LayoutView",
            "align_content": null,
            "align_items": null,
            "align_self": null,
            "border": null,
            "bottom": null,
            "display": null,
            "flex": null,
            "flex_flow": null,
            "grid_area": null,
            "grid_auto_columns": null,
            "grid_auto_flow": null,
            "grid_auto_rows": null,
            "grid_column": null,
            "grid_gap": null,
            "grid_row": null,
            "grid_template_areas": null,
            "grid_template_columns": null,
            "grid_template_rows": null,
            "height": null,
            "justify_content": null,
            "justify_items": null,
            "left": null,
            "margin": null,
            "max_height": null,
            "max_width": null,
            "min_height": null,
            "min_width": null,
            "object_fit": null,
            "object_position": null,
            "order": null,
            "overflow": null,
            "overflow_x": null,
            "overflow_y": null,
            "padding": null,
            "right": null,
            "top": null,
            "visibility": null,
            "width": null
          }
        },
        "fc46a7dab8de42eb97f4ccccc4d865f7": {
          "model_module": "@jupyter-widgets/controls",
          "model_module_version": "1.5.0",
          "model_name": "DescriptionStyleModel",
          "state": {
            "_model_module": "@jupyter-widgets/controls",
            "_model_module_version": "1.5.0",
            "_model_name": "DescriptionStyleModel",
            "_view_count": null,
            "_view_module": "@jupyter-widgets/base",
            "_view_module_version": "1.2.0",
            "_view_name": "StyleView",
            "description_width": ""
          }
        },
        "ff2dbbd4d5f04720b4038834b75e508e": {
          "model_module": "@jupyter-widgets/base",
          "model_module_version": "1.2.0",
          "model_name": "LayoutModel",
          "state": {
            "_model_module": "@jupyter-widgets/base",
            "_model_module_version": "1.2.0",
            "_model_name": "LayoutModel",
            "_view_count": null,
            "_view_module": "@jupyter-widgets/base",
            "_view_module_version": "1.2.0",
            "_view_name": "LayoutView",
            "align_content": null,
            "align_items": null,
            "align_self": null,
            "border": null,
            "bottom": null,
            "display": null,
            "flex": null,
            "flex_flow": null,
            "grid_area": null,
            "grid_auto_columns": null,
            "grid_auto_flow": null,
            "grid_auto_rows": null,
            "grid_column": null,
            "grid_gap": null,
            "grid_row": null,
            "grid_template_areas": null,
            "grid_template_columns": null,
            "grid_template_rows": null,
            "height": null,
            "justify_content": null,
            "justify_items": null,
            "left": null,
            "margin": null,
            "max_height": null,
            "max_width": null,
            "min_height": null,
            "min_width": null,
            "object_fit": null,
            "object_position": null,
            "order": null,
            "overflow": null,
            "overflow_x": null,
            "overflow_y": null,
            "padding": null,
            "right": null,
            "top": null,
            "visibility": null,
            "width": null
          }
        }
      }
    }
  },
  "nbformat": 4,
  "nbformat_minor": 5
}
