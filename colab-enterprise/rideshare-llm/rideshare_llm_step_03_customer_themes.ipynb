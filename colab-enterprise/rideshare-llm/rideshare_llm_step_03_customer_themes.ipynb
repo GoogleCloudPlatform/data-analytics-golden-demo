{
  "nbformat": 4,
  "nbformat_minor": 0,
  "metadata": {
    "colab": {
      "name": "BigQuery table",
      "provenance": [],
      "private_outputs": true
    },
    "kernelspec": {
      "name": "python3",
      "display_name": "Python 3"
    },
    "language_info": {
      "name": "python"
    }
  },
  "cells": [
    {
      "cell_type": "markdown",
      "source": [
        "# Generate the Customer Profile (Enriched Zone: driver) using LLMs\n",
        "- Create a Qualitative data analysis for Customer Habits\n",
        "    - We have found some patterns that we want to dive deeper into:\n",
        "      - trunk space\n",
        "      - driving speed\n",
        "      - hours worked\n",
        "      - preferred pickup locations\n",
        "      - average trip distance\n",
        "      - crossing state lines\n",
        "      - speaks spanish\n",
        "      - vechicle cleanliness\n",
        "      - vechile temperature\n",
        "      - maximum passengers\n",
        "      - conversation with customer\n",
        "      - music playing\n",
        "      - distracted driver\n",
        "      - target pay"
      ],
      "metadata": {
        "id": "YUsBkE4F_iHn"
      }
    },
    {
      "cell_type": "markdown",
      "source": [
        "## Score all items in batches\n",
        "- Find all records that have not been scored\n",
        "- Score in a batch (we can do up to 10,000)\n",
        "- The LLM temperature, max_output_tokens, top_p and top_k parameters have been set (locked for a deterministic value)\n",
        "- Repeat until done"
      ],
      "metadata": {
        "id": "HIwZNFcFPnfW"
      }
    },
    {
      "cell_type": "code",
      "source": [
        "from google.cloud import bigquery\n",
        "import pandas as pd\n",
        "\n",
        "client = bigquery.Client()"
      ],
      "metadata": {
        "id": "vEOtezvfl-SG"
      },
      "execution_count": null,
      "outputs": []
    },
    {
      "cell_type": "code",
      "source": [
        "%%bigquery\n",
        "\n",
        "-- OPTIONAL: Reset all the fields to null\n",
        "-- If you need to reset you data back to fresh data run the stored procedure: CALL `${project_id}.${bigquery_rideshare_llm_curated_dataset}.sp_reset_demo`();\n",
        "\n",
        "/*\n",
        "UPDATE `${project_id}.${bigquery_rideshare_llm_enriched_dataset}.customer_review` AS customer_review\n",
        "   SET extracted_customer_theme_json = NULL,\n",
        "       extracted_customer_theme = NULL\n",
        " WHERE TRUE;\n",
        " */"
      ],
      "metadata": {
        "id": "P0pnkbK2njYZ"
      },
      "execution_count": null,
      "outputs": []
    },
    {
      "cell_type": "code",
      "source": [
        "# need quotes around each category; otherwise, we get part of the category text\n",
        "prompt = \"\"\"\n",
        "Classify the customer review as one of the following categories:\n",
        "- \"customer has small luggage\"\n",
        "- \"customer has large luggage\"\n",
        "- \"customer likes to drive fast\"\n",
        "- \"customer likes to drive slow\"\n",
        "- \"customer speaks spanish\"\n",
        "- \"customer does not speak spanish\"\n",
        "- \"customer likes a clean car\"\n",
        "- \"customer likes the temperature warm\"\n",
        "- \"customer likes the temperature cold\"\n",
        "- \"customer likes conversation\"\n",
        "- \"customer likes no conversation\"\n",
        "- \"customer likes music\"\n",
        "- \"customer likes quiet\"\n",
        "\n",
        "Review:\n",
        "\"\"\""
      ],
      "metadata": {
        "id": "NItw0Av6FS4Q"
      },
      "execution_count": null,
      "outputs": []
    },
    {
      "cell_type": "code",
      "source": [
        "# Process in batches\n",
        "batch_size = 100\n",
        "\n",
        "# Set the parameters so we are more deterministic and less creative/random responses\n",
        "llm_temperature = 1\n",
        "llm_max_output_tokens = 50\n",
        "llm_top_p = 0\n",
        "llm_top_k = 1\n",
        "\n",
        "update_sql=\"\"\"\n",
        "UPDATE `${project_id}.${bigquery_rideshare_llm_enriched_dataset}.customer_review` AS customer_review\n",
        "  SET extracted_customer_theme_json = child.ml_generate_text_result\n",
        "  FROM (SELECT *\n",
        "          FROM ML.GENERATE_TEXT(MODEL`${project_id}.${bigquery_rideshare_llm_enriched_dataset}.cloud_ai_llm_v1`,\n",
        "              (SELECT trip_id,\n",
        "                      customer_id,\n",
        "                      CONCAT(\\\"\\\"\\\"{prompt}\\\"\\\"\\\",customer_review_text) AS prompt\n",
        "                FROM `${project_id}.${bigquery_rideshare_llm_enriched_dataset}.customer_review`\n",
        "                WHERE (extracted_customer_theme_json IS NULL\n",
        "                       OR\n",
        "                       JSON_VALUE(extracted_customer_theme_json, '$.predictions[0].content') IS NULL\n",
        "                       )\n",
        "                  AND customer_review_text IS NOT NULL\n",
        "                LIMIT {batch_size}),\n",
        "              STRUCT(\n",
        "                {llm_temperature} AS temperature,\n",
        "                {llm_max_output_tokens} AS max_output_tokens,\n",
        "                {llm_top_p} AS top_p,\n",
        "                {llm_top_k} AS top_k\n",
        "                ))\n",
        "  ) AS child\n",
        "WHERE customer_review.trip_id = child.trip_id\n",
        "  AND customer_review.customer_id = child.customer_id;\n",
        "  \"\"\".format(batch_size = batch_size,\n",
        "             prompt = prompt,\n",
        "             llm_temperature = llm_temperature,\n",
        "             llm_max_output_tokens = llm_max_output_tokens,\n",
        "             llm_top_p = llm_top_p,\n",
        "             llm_top_k = llm_top_k)\n",
        "\n",
        "print(\"SQL: {update_sql}\".format(update_sql=update_sql))\n"
      ],
      "metadata": {
        "id": "uubVBImVl9Y_"
      },
      "execution_count": null,
      "outputs": []
    },
    {
      "cell_type": "code",
      "source": [
        "# Score while records remain\n",
        "# score in groups of batch_size records (we can do up to 10,000 at a time)\n",
        "import time\n",
        "\n",
        "done = False\n",
        "displayed_first_sql = False\n",
        "original_record_count = 0\n",
        "\n",
        "while done == False:\n",
        "  # Get the count of records to score\n",
        "  sql = \"\"\"\n",
        "        SELECT COUNT(*) AS cnt\n",
        "          FROM `${project_id}.${bigquery_rideshare_llm_enriched_dataset}.customer_review`\n",
        "         WHERE (extracted_customer_theme_json IS NULL\n",
        "                OR\n",
        "                JSON_VALUE(extracted_customer_theme_json, '$.predictions[0].content') IS NULL\n",
        "                )\n",
        "           AND customer_review_text IS NOT NULL;\n",
        "        \"\"\"\n",
        "\n",
        "  df_record_count = client.query(sql).to_dataframe()\n",
        "  cnt = df_record_count['cnt'].head(1).item()\n",
        "  if displayed_first_sql == False:\n",
        "    original_record_count = cnt\n",
        "    displayed_first_sql = True\n",
        "\n",
        "  print(\"Remaining records to process: \", cnt, \" out of\", original_record_count, \" batch_size: \", batch_size)\n",
        "\n",
        "  if cnt == 0:\n",
        "    done = True\n",
        "  else:\n",
        "    # https://github.com/googleapis/python-bigquery/tree/master/samples\n",
        "    job_config = bigquery.QueryJobConfig(priority=bigquery.QueryPriority.INTERACTIVE)\n",
        "    query_job = client.query(update_sql, job_config=job_config)\n",
        "\n",
        "    # Check on the progress by getting the job's updated state.\n",
        "    query_job = client.get_job(\n",
        "        query_job.job_id, location=query_job.location\n",
        "    )\n",
        "    print(\"Job {} is currently in state {}\".format(query_job.job_id, query_job.state))\n",
        "\n",
        "    while query_job.state != \"DONE\":\n",
        "      time.sleep(5)\n",
        "      query_job = client.get_job(\n",
        "          query_job.job_id, location=query_job.location\n",
        "          )\n",
        "      print(\"Job {} is currently in state {}\".format(query_job.job_id, query_job.state))\n"
      ],
      "metadata": {
        "id": "yNJYtvg1mIPY"
      },
      "execution_count": null,
      "outputs": []
    },
    {
      "cell_type": "markdown",
      "source": [
        "## Parse the LLM JSON results"
      ],
      "metadata": {
        "id": "ymDrniXkoTrx"
      }
    },
    {
      "cell_type": "code",
      "source": [
        "%%bigquery\n",
        "\n",
        "UPDATE `${project_id}.${bigquery_rideshare_llm_enriched_dataset}.customer_review` AS customer_review\n",
        "   SET extracted_customer_theme = JSON_VALUE(extracted_customer_theme_json, '$.predictions[0].content')\n",
        " WHERE extracted_customer_theme_json IS NOT NULL\n",
        "   AND extracted_customer_theme IS NULL;"
      ],
      "metadata": {
        "id": "eLhmYOSkoUAB"
      },
      "execution_count": null,
      "outputs": []
    },
    {
      "cell_type": "code",
      "source": [
        "%%bigquery\n",
        "\n",
        "SELECT trip_id, customer_review_text, extracted_customer_theme\n",
        "  FROM `${project_id}.${bigquery_rideshare_llm_enriched_dataset}.customer_review`\n",
        " WHERE extracted_customer_theme_json IS NOT NULL\n",
        "   AND extracted_customer_theme IS NOT NULL\n",
        "LIMIT 20;"
      ],
      "metadata": {
        "id": "2Ip7NyPVoT6g"
      },
      "execution_count": null,
      "outputs": []
    },
    {
      "cell_type": "code",
      "source": [
        "%%bigquery\n",
        "\n",
        "SELECT extracted_customer_theme, count(*) AS cnt\n",
        "  FROM `${project_id}.${bigquery_rideshare_llm_enriched_dataset}.customer_review`\n",
        " WHERE extracted_customer_theme_json IS NOT NULL\n",
        "   AND extracted_customer_theme IS NOT NULL\n",
        "GROUP BY 1;\n"
      ],
      "metadata": {
        "id": "zGERgQ4xdW9f"
      },
      "execution_count": null,
      "outputs": []
    }
  ]
}