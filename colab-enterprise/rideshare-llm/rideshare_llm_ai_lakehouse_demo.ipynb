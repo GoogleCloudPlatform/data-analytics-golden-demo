{
  "metadata": {
    "kernelspec": {
      "name": "python3",
      "display_name": "Python 3 (ipykernel)",
      "language": "python"
    },
    "language_info": {
      "name": "python",
      "version": "3.10.4",
      "mimetype": "text/x-python",
      "codemirror_mode": {
        "name": "ipython",
        "version": 3
      },
      "pygments_lexer": "ipython3",
      "nbconvert_exporter": "python",
      "file_extension": ".py"
    },
    "colab": {
      "provenance": [],
      "private_outputs": true
    }
  },
  "nbformat_minor": 5,
  "nbformat": 4,
  "cells": [
    {
      "cell_type": "markdown",
      "source": [
        "# <img src=\"https://lh3.googleusercontent.com/mUTbNK32c_DTSNrhqETT5aQJYFKok2HB1G2nk2MZHvG5bSs0v_lmDm_ArW7rgd6SDGHXo0Ak2uFFU96X6Xd0GQ=w160-h128\" width=\"45\" valign=\"top\" alt=\"BigQuery\"> Welcome to Rideshare AI Lakehouse powered by BigQuery\n"
      ],
      "metadata": {
        "id": "9mIA1BTRrphs"
      },
      "id": "9mIA1BTRrphs"
    },
    {
      "cell_type": "markdown",
      "source": [
        "## **Step 01: Overview**"
      ],
      "metadata": {
        "id": "LylylPEjaXrC"
      },
      "id": "LylylPEjaXrC"
    },
    {
      "cell_type": "markdown",
      "source": [
        "### Summary\n"
      ],
      "metadata": {
        "id": "9LeW2mN1s6sy"
      },
      "id": "9LeW2mN1s6sy"
    },
    {
      "cell_type": "markdown",
      "source": [
        "This portion of the demo will showcase how you can build an AI Lakehouse using Google Cloud's Data and Analytics stack.  The demo is for our fitcious company Rideshare Plus where we will use both qualitative and quantitative analysis to build a complete customer and driver profile.  This notebook will highlight:\n",
        "- Using LLMs to extract customer and driver preferences based upon customer reviews.\n",
        "- Using LLMs to understand our customers and to create a summarized customer understand to improve our interactions with our customers.\n",
        "- Using LLMs to understand our drivers and how they are interacting with our customers and an overall customer statisification summary.\n",
        "\n",
        "All code is located on GitHub: https://goo.gle/dagd\n",
        "\n",
        "Please check out the other part of the demo which uses AI, image object analysis and data at scale to predict the most profitable pickup locations."
      ],
      "metadata": {
        "id": "6HNmymbgtFWr"
      },
      "id": "6HNmymbgtFWr"
    },
    {
      "cell_type": "markdown",
      "source": [
        "### Details"
      ],
      "metadata": {
        "id": "U3gYlvLItPXU"
      },
      "id": "U3gYlvLItPXU"
    },
    {
      "cell_type": "markdown",
      "source": [
        "- For each customer review\n",
        "  - Speach to Text\n",
        "\n",
        "- Process the Customer Reviews (extract knowledge)\n",
        "  - Sentiment\n",
        "  - Extract Themes\n",
        "    - Driver view\n",
        "    - Customer view\n",
        "  - Summarize Themes\n",
        "    - For each Driver\n",
        "    - For each Customer\n",
        "  - Summarize All Reviews\n",
        "    - For each Driver\n",
        "      - We can use this as an Employee Review for the driver to suggust training.\n",
        "    - For each Customer\n",
        "      - We can use this to inform the driver of the customer preferences so the driver can taylor their ride for the customer.\n",
        "  - Perform Quantitative analysis and summarize with LLM\n",
        "     - For each Driver\n",
        "     - For each Customer\n",
        "\n",
        "- LLM (Other)\n",
        "  - LLM can be used to see if our LLM Summary is:\n",
        "    - Good Quality\n",
        "    - Correct for puncation and grammer"
      ],
      "metadata": {
        "id": "dpdULnrStPID"
      },
      "id": "dpdULnrStPID"
    },
    {
      "cell_type": "markdown",
      "source": [
        "## **Step 02: Customer Review**"
      ],
      "metadata": {
        "id": "WPtkAs20tXpx"
      },
      "id": "WPtkAs20tXpx"
    },
    {
      "cell_type": "markdown",
      "source": [
        "### Summary\n"
      ],
      "metadata": {
        "id": "H_svdrJqtrDS"
      },
      "id": "H_svdrJqtrDS"
    },
    {
      "cell_type": "markdown",
      "source": [
        "The first thing we need to do at scale is to process our audio files.  These can be processed through object tables which will monitor a storage account for new customer reviews. Upon detecting a review, BigQuery can ask Vertex AI Speach to Text for the extracted text."
      ],
      "metadata": {
        "id": "sTMN0fYGtzvj"
      },
      "id": "sTMN0fYGtzvj"
    },
    {
      "cell_type": "code",
      "source": [],
      "metadata": {
        "id": "-8PZ1L7wtsJD"
      },
      "id": "-8PZ1L7wtsJD",
      "execution_count": null,
      "outputs": []
    },
    {
      "cell_type": "markdown",
      "source": [
        "## **Step 03: Review Sentiment**"
      ],
      "metadata": {
        "id": "Z32uOzrquJml"
      },
      "id": "Z32uOzrquJml"
    },
    {
      "cell_type": "markdown",
      "source": [
        "### Summary"
      ],
      "metadata": {
        "id": "SYmSnDBduLOz"
      },
      "id": "SYmSnDBduLOz"
    },
    {
      "cell_type": "markdown",
      "source": [
        "For each customer review we run it through the LLM.\n",
        "1. First we construct a prompt and save this in a field in our table.\n",
        "2. Ask the LLM to score these in bulk.\n",
        "3. We then extract the scored text from the JSON result."
      ],
      "metadata": {
        "id": "CIAVjNIauMzN"
      },
      "id": "CIAVjNIauMzN"
    },
    {
      "cell_type": "markdown",
      "source": [
        "### Code"
      ],
      "metadata": {
        "id": "ywWde8bRuYwm"
      },
      "id": "ywWde8bRuYwm"
    },
    {
      "cell_type": "code",
      "source": [
        "%%bigquery\n",
        "\n",
        "-- Select a Positive Review from the Enriched Zone\n",
        "-- For each review we created a LLM prompt (llm_sentiment_prompt)\n",
        "  /* Sample Prompt:\n",
        "  For the given review classify the sentiment as Positive, Neutral or Negative.\n",
        "  Review: My rideshare driver was amazing! He was very professional and attentive.\n",
        "          He made sure to pay close attention to the road without any distractions. He also made sure to provide me with a comfortable and safe ride.\n",
        "          I would definitely recommend this driver to anyone looking for a rideshare.\n",
        "  */\n",
        "-- We will then use this prompt to pass to our LLM and receive the scored output\n",
        "\n",
        "SELECT customer.customer_name,\n",
        "       driver.driver_name,\n",
        "       customer_review.customer_review_text,\n",
        "       customer_review.llm_sentiment_prompt\n",
        "  FROM `data-analytics-demo-u0i2dr3u3j.rideshare_llm_enriched.customer_review` AS customer_review\n",
        "       INNER JOIN `data-analytics-demo-u0i2dr3u3j.rideshare_llm_enriched.customer` AS customer\n",
        "               ON customer_review.customer_id = customer.customer_id\n",
        "       INNER JOIN `data-analytics-demo-u0i2dr3u3j.rideshare_llm_enriched.driver` AS driver\n",
        "               ON customer_review.driver_id = driver.driver_id\n",
        " WHERE trip_id = 20857125;"
      ],
      "metadata": {
        "id": "9vCgj9k8ucH3"
      },
      "id": "9vCgj9k8ucH3",
      "execution_count": null,
      "outputs": []
    },
    {
      "cell_type": "markdown",
      "source": [
        "**ML.GENERATE_TEXT model**\n",
        "\n",
        "We will use the ML.GENERATE_TEXT model which is Google's PaLM 2 Large Language Model (LLM)\n",
        "- <a href=\"https://cloud.google.com/bigquery/docs/reference/standard-sql/bigqueryml-syntax-generate-text\">Documentation Link</a>"
      ],
      "metadata": {
        "id": "pvswIy14zy4d"
      },
      "id": "pvswIy14zy4d"
    },
    {
      "cell_type": "code",
      "source": [
        "%%bigquery\n",
        "\n",
        "-- Same query as above, but we will pass the prompt to the LLM along with setting our LLM model parameters\n",
        "SELECT JSON_VALUE(ml_generate_text_result, '$.predictions[0].content') AS result,\n",
        "       prompt,\n",
        "       ml_generate_text_result\n",
        "  FROM ML.GENERATE_TEXT(MODEL`data-analytics-demo-u0i2dr3u3j.rideshare_llm_curated.cloud_ai_llm_v1`,\n",
        "      (SELECT customer_review.llm_sentiment_prompt AS prompt\n",
        "         FROM `data-analytics-demo-u0i2dr3u3j.rideshare_llm_enriched.customer_review` AS customer_review\n",
        "              INNER JOIN `data-analytics-demo-u0i2dr3u3j.rideshare_llm_enriched.customer` AS customer\n",
        "                      ON customer_review.customer_id = customer.customer_id\n",
        "              INNER JOIN `data-analytics-demo-u0i2dr3u3j.rideshare_llm_enriched.driver` AS driver\n",
        "                      ON customer_review.driver_id = driver.driver_id\n",
        "       WHERE trip_id = 20857125),\n",
        "STRUCT(\n",
        "  1  AS temperature,\n",
        "  50 AS max_output_tokens,\n",
        "  0  AS top_p,\n",
        "  1  AS top_k\n",
        "  ));"
      ],
      "metadata": {
        "id": "OkuuZ0crwKyv"
      },
      "id": "OkuuZ0crwKyv",
      "execution_count": null,
      "outputs": []
    },
    {
      "cell_type": "markdown",
      "source": [
        "**Understanding our LLM parameters**\n",
        "- <a href=\"https://cloud.google.com/vertex-ai/docs/generative-ai/model-reference/text#request_body\">Documentation Link</a>\n",
        "\n",
        "|Parameter|Range|Description|\n",
        "|----|----|----|\n",
        "|temperature|0.0 -> 1.0|Lower temperature values are good for prompts that require a more deterministic/less open-ended or creative response. Higher temperature lead to more diverse/creative results.|\n",
        "|max_output_tokens|1 -> 1024|Sets the maximum number of tokens that the model outputs. Specify a lower value for shorter responses and a higher value for longer responses. The default is 50.|\n",
        "|top_p|0.0 -> 1.0|Specify a lower value for less random responses and a higher value for more random responses.|\n",
        "|top_k|1 -> 40|Specify a lower value for less random responses and a higher value for more random responses.|\n"
      ],
      "metadata": {
        "id": "2NVlNOYsxZUK"
      },
      "id": "2NVlNOYsxZUK"
    },
    {
      "cell_type": "markdown",
      "source": [],
      "metadata": {
        "id": "ccfXzEVH1CyV"
      },
      "id": "ccfXzEVH1CyV"
    },
    {
      "cell_type": "markdown",
      "source": [
        "## **Step 04: Extract Themes from Customer Reviews**"
      ],
      "metadata": {
        "id": "mUcOlBni1PMv"
      },
      "id": "mUcOlBni1PMv"
    },
    {
      "cell_type": "markdown",
      "source": [
        "### Summary"
      ],
      "metadata": {
        "id": "bMZli9Or1WQd"
      },
      "id": "bMZli9Or1WQd"
    },
    {
      "cell_type": "markdown",
      "source": [
        "- We want to use our customer reviews to understand our customer preferences.  - At the same time we can use this information to understand what our drivers are doing.  \n",
        "- For instance if customers consistently complain about a driver's car being too cold, we can extract that the driver keeps their car cold.  \n",
        "- If the same customer mentions that they are typically cold we can extract that the customer likes a warmer car."
      ],
      "metadata": {
        "id": "xfP_7XWi1XV-"
      },
      "id": "xfP_7XWi1XV-"
    },
    {
      "cell_type": "markdown",
      "source": [
        "### Code (Driver Theme Extraction)"
      ],
      "metadata": {
        "id": "K4SlVuD51Y7e"
      },
      "id": "K4SlVuD51Y7e"
    },
    {
      "cell_type": "markdown",
      "source": [
        "Create a **Qualitative** data analysis for **Driver** Habits\n",
        "  - We have found some patterns that we want to dive deeper into:\n",
        "    - trunk space\n",
        "    - driving speed\n",
        "    - hours worked\n",
        "    - preferred pickup locations\n",
        "    - average trip distance\n",
        "    - crossing state lines\n",
        "    - vechicle cleanliness\n",
        "    - vechile temperature\n",
        "    - maximum passengers\n",
        "    - conversation with customer\n",
        "    - music playing\n",
        "    - distracted driver\n",
        "    - target pay"
      ],
      "metadata": {
        "id": "JBARFNJYBIiV"
      },
      "id": "JBARFNJYBIiV"
    },
    {
      "cell_type": "code",
      "source": [
        "%%bigquery\n",
        "\n",
        "-- View the customer review\n",
        "\n",
        "SELECT customer.customer_name,\n",
        "       driver.driver_name,\n",
        "       customer_review.customer_review_text,\n",
        "  FROM `data-analytics-demo-u0i2dr3u3j.rideshare_llm_enriched.customer_review` AS customer_review\n",
        "       INNER JOIN `data-analytics-demo-u0i2dr3u3j.rideshare_llm_enriched.customer` AS customer\n",
        "               ON customer_review.customer_id = customer.customer_id\n",
        "       INNER JOIN `data-analytics-demo-u0i2dr3u3j.rideshare_llm_enriched.driver` AS driver\n",
        "               ON customer_review.driver_id = driver.driver_id\n",
        " WHERE trip_id = 15369855;"
      ],
      "metadata": {
        "id": "m9n3rfLb2wIl"
      },
      "id": "m9n3rfLb2wIl",
      "execution_count": null,
      "outputs": []
    },
    {
      "cell_type": "code",
      "source": [
        "%%bigquery\n",
        "\n",
        "SELECT JSON_VALUE(ml_generate_text_result, '$.predictions[0].content') AS result,\n",
        "       prompt,\n",
        "       ml_generate_text_result\n",
        "  FROM ML.GENERATE_TEXT(MODEL`data-analytics-demo-u0i2dr3u3j.rideshare_llm_curated.cloud_ai_llm_v1`,\n",
        "       (SELECT CONCAT(\n",
        "\"\"\"\n",
        "Classify the text as one of the following categories:\n",
        "- \"trunk space small\"\n",
        "- \"trunk space large\"\n",
        "- \"driving too fast\"\n",
        "- \"driving too slow\"\n",
        "- \"driver speaks spanish\"\n",
        "- \"driver does not speak spanish\"\n",
        "- \"clean car\"\n",
        "- \"dirty car\"\n",
        "- \"car too hot\"\n",
        "- \"car too cold\"\n",
        "- \"driver likes conversation\"\n",
        "- \"driver likes no conversation\"\n",
        "- \"driver likes music\"\n",
        "- \"driver likes no music\"\n",
        "- \"distracted driver\"\n",
        "\n",
        "Text:\n",
        "\"\"\", customer_review_text) AS prompt\n",
        "          FROM `data-analytics-demo-u0i2dr3u3j.rideshare_llm_enriched.customer_review`\n",
        "         WHERE trip_id = 15369855),\n",
        "STRUCT(\n",
        "  1  AS temperature,\n",
        "  50 AS max_output_tokens,\n",
        "  0  AS top_p,\n",
        "  1  AS top_k\n",
        "  ))"
      ],
      "metadata": {
        "id": "UZx7T3WE9Kej"
      },
      "id": "UZx7T3WE9Kej",
      "execution_count": null,
      "outputs": []
    },
    {
      "cell_type": "markdown",
      "source": [
        "### Code (Customer Theme Extraction)"
      ],
      "metadata": {
        "id": "nZH_mOGIAW48"
      },
      "id": "nZH_mOGIAW48"
    },
    {
      "cell_type": "markdown",
      "source": [
        "Create a **Qualitative** data analysis for **Customer** Habits\n",
        "  - We have found some patterns that we want to dive deeper into:\n",
        "    - trunk space\n",
        "    - driving speed\n",
        "    - vechicle cleanliness\n",
        "    - vechile temperature\n",
        "    - conversation\n",
        "    - music playing\n",
        "    - distracted driver\n"
      ],
      "metadata": {
        "id": "06c1gEAm_o87"
      },
      "id": "06c1gEAm_o87"
    },
    {
      "cell_type": "code",
      "source": [
        "%%bigquery\n",
        "\n",
        "-- Same review as the driver, but now from the customers standpoint of view\n",
        "\n",
        "SELECT JSON_VALUE(ml_generate_text_result, '$.predictions[0].content') AS result,\n",
        "       prompt,\n",
        "       ml_generate_text_result\n",
        "  FROM ML.GENERATE_TEXT(MODEL`data-analytics-demo-u0i2dr3u3j.rideshare_llm_curated.cloud_ai_llm_v1`,\n",
        "       (SELECT CONCAT(\n",
        "\"\"\"\n",
        "Classify the customer review as one of the following categories:\n",
        "- \"customer has small luggage\"\n",
        "- \"customer has large luggage\"\n",
        "- \"customer likes to drive fast\"\n",
        "- \"customer likes to drive slow\"\n",
        "- \"customer speaks spanish\"\n",
        "- \"customer does not speak spanish\"\n",
        "- \"customer likes a clean car\"\n",
        "- \"customer likes the temperature warm\"\n",
        "- \"customer likes the temperature cold\"\n",
        "- \"customer likes conversation\"\n",
        "- \"customer likes no conversation\"\n",
        "- \"customer likes music\"\n",
        "- \"customer likes quiet\"\n",
        "\n",
        "Review:\n",
        "\"\"\", customer_review_text) AS prompt\n",
        "          FROM `data-analytics-demo-u0i2dr3u3j.rideshare_llm_enriched.customer_review`\n",
        "         WHERE trip_id = 15369855),\n",
        "STRUCT(\n",
        "  1  AS temperature,\n",
        "  50 AS max_output_tokens,\n",
        "  0  AS top_p,\n",
        "  1  AS top_k\n",
        "  ))"
      ],
      "metadata": {
        "id": "dgj6URxuAPq7"
      },
      "id": "dgj6URxuAPq7",
      "execution_count": null,
      "outputs": []
    },
    {
      "cell_type": "markdown",
      "source": [
        "## **Step 05: Summarize Themes**"
      ],
      "metadata": {
        "id": "LksdqAMuB25B"
      },
      "id": "LksdqAMuB25B"
    },
    {
      "cell_type": "markdown",
      "source": [
        "### Summary"
      ],
      "metadata": {
        "id": "3wmau8B7DDsi"
      },
      "id": "3wmau8B7DDsi"
    },
    {
      "cell_type": "markdown",
      "source": [
        "Now that we have extracted all the themes for both the driver and customer poiint of view:\n",
        "- Each theme needs to mapped to a category (e.g. music)\n",
        "  - We might have 10 \"likes music on\"\n",
        "  - We might have 50 \"likes music off\"\n",
        "- For each category (music) determine the prevailing preference\n",
        "  - Since we have 50 \"likes music off\" we will use that as our \"winner\"\n",
        "- Write a summary using the LLM to process this data so we can review in just a few sentences."
      ],
      "metadata": {
        "id": "qbSsJzHIDFfT"
      },
      "id": "qbSsJzHIDFfT"
    },
    {
      "cell_type": "markdown",
      "source": [
        "### Code (Driver Theme Summary)"
      ],
      "metadata": {
        "id": "EIJWNWHKDGG_"
      },
      "id": "EIJWNWHKDGG_"
    },
    {
      "cell_type": "markdown",
      "source": [
        "Process the themes for each driver by passing their attibutes to the LLM."
      ],
      "metadata": {
        "id": "dgapHJDlIpxt"
      },
      "id": "dgapHJDlIpxt"
    },
    {
      "cell_type": "code",
      "source": [
        "%%bigquery\n",
        "\n",
        "-- After we have determined the prevailing attribute for our Driver, combine them so we can create a LLM Prompt\n",
        "\n",
        "SELECT driver_id,\n",
        "       STRING_AGG(\n",
        "       CASE WHEN TRIM(extracted_driver_attribute) = 'driver likes music'           THEN 'Attribute: the driver likes the radio on\\n'\n",
        "            WHEN TRIM(extracted_driver_attribute) = 'driver likes no music'        THEN 'Attribute: the driver likes the radio off\\n'\n",
        "            WHEN TRIM(extracted_driver_attribute) = 'trunk space large'            THEN 'Attribute: the driver has a large amount of trunk space\\n'\n",
        "            WHEN TRIM(extracted_driver_attribute) = 'trunk space small'            THEN 'Attribute: the driver has a small trunk\\n'\n",
        "            WHEN TRIM(extracted_driver_attribute) = 'Category: trunk space small'  THEN 'Attribute: the driver has a small trunk\\n'\n",
        "            WHEN TRIM(extracted_driver_attribute) = 'driver likes conversation'    THEN 'Attribute: the driver likes to have a conversation with the passengers\\n'\n",
        "            WHEN TRIM(extracted_driver_attribute) = 'driver likes no conversation' THEN 'Attribute: the driver does not like to talk to the passengers\\n'\n",
        "            WHEN TRIM(extracted_driver_attribute) = 'driving too fast'             THEN 'Attribute: the driver tends to drive too fast\\n'\n",
        "            WHEN TRIM(extracted_driver_attribute) = 'driving too slow'             THEN 'Attribute: the driver drives too slow\\n'\n",
        "            WHEN TRIM(extracted_driver_attribute) = 'clean car'                    THEN 'Attribute: the driver keeps their car clean on the inside and out\\n'\n",
        "            WHEN TRIM(extracted_driver_attribute) = 'dirty car'                    THEN 'Attribute: the driver has a dirty car\\n'\n",
        "            WHEN TRIM(extracted_driver_attribute) = 'car too hot'                  THEN 'Attribute: the driver has a keeps their car too warm inside\\n'\n",
        "            WHEN TRIM(extracted_driver_attribute) = 'car too cold'                 THEN 'Attribute: the driver keeps their car too cold\\n'\n",
        "            WHEN TRIM(extracted_driver_attribute) = 'driver speaks spanish'        THEN 'Attribute: the driver is bilingual\\n'\n",
        "            WHEN TRIM(extracted_driver_attribute) = 'distracted driver'            THEN 'Attribute: the driver is a distracted driver\\n'\n",
        "            WHEN TRIM(extracted_driver_attribute) = 'safe driver'                  THEN 'Attribute: the driver is a safe driver\\n'\n",
        "            ELSE ''\n",
        "       END,'') AS driver_attribute_agg\n",
        "  FROM `data-analytics-demo-u0i2dr3u3j.rideshare_llm_enriched.driver_attribute`\n",
        "GROUP BY driver_id\n",
        "LIMIT 5;"
      ],
      "metadata": {
        "id": "i0mA2PKIDvO9"
      },
      "id": "i0mA2PKIDvO9",
      "execution_count": null,
      "outputs": []
    },
    {
      "cell_type": "markdown",
      "source": [
        "Create the Driver Attibute Summary"
      ],
      "metadata": {
        "id": "eClNNTAeO3HJ"
      },
      "id": "eClNNTAeO3HJ"
    },
    {
      "cell_type": "code",
      "source": [
        "%%bigquery\n",
        "\n",
        "-- We will take the concatenated list of attributes and run them through our LLM to create a Driver Theme/Attibute Summary\n",
        "\n",
        "SELECT JSON_VALUE(ml_generate_text_result, '$.predictions[0].content') AS result,\n",
        "  FROM ML.GENERATE_TEXT(MODEL`data-analytics-demo-u0i2dr3u3j.rideshare_llm_curated.cloud_ai_llm_v1`,\n",
        "       (SELECT\n",
        "\"\"\"\n",
        "Write a 20 to 500 word summary for the following attributes.\n",
        "1. Randomly sort the attributes\n",
        "2. Select the first 3 to 5 attributes\n",
        "3. Write the summary in present tense for only the first 3 to 5 attributes\n",
        "4. The driver's name is Danilo Gottardi\n",
        "5. Use sentences with varying lengths\n",
        "6. Write 2 to 5 sentences\n",
        "\n",
        "Attribute: the driver likes the radio off\n",
        "Attribute: the driver has a small trunk\n",
        "Attribute: the driver does not like to talk to the passengers\n",
        "Attribute: the driver drives too slow\n",
        "Attribute: the driver has a dirty car\n",
        "Attribute: the driver keeps their car too cold\n",
        "Attribute: the driver is a distracted driver\n",
        "\"\"\" AS prompt),\n",
        "STRUCT(\n",
        "  -- Set the parameters for a more creative/random responses\n",
        "  -- You can adjust these during the demo\n",
        "  .5   AS temperature,  -- Change this to Zero and One to see the results (demo default is .5)\n",
        "  1024 AS max_output_tokens,\n",
        "  1    AS top_p,\n",
        "  40   AS top_k\n",
        "  ));"
      ],
      "metadata": {
        "id": "Y9NHt32RElaQ"
      },
      "id": "Y9NHt32RElaQ",
      "execution_count": null,
      "outputs": []
    },
    {
      "cell_type": "markdown",
      "source": [
        "**Demo:** Rerun the above SQL changing the temperature parameter to see the varying responses."
      ],
      "metadata": {
        "id": "hmMmFaFWHsHi"
      },
      "id": "hmMmFaFWHsHi"
    },
    {
      "cell_type": "markdown",
      "source": [
        "### Code (Customer Theme Summary)"
      ],
      "metadata": {
        "id": "WorrEPQzIg4r"
      },
      "id": "WorrEPQzIg4r"
    },
    {
      "cell_type": "markdown",
      "source": [
        "Process the themes for each customer by passing their attibutes to the LLM."
      ],
      "metadata": {
        "id": "UCA2FrhpI4q1"
      },
      "id": "UCA2FrhpI4q1"
    },
    {
      "cell_type": "code",
      "source": [
        "%%bigquery\n",
        "\n",
        "-- View our aggregated customer preferences\n",
        "\n",
        "SELECT customer_id,\n",
        "       STRING_AGG(extracted_customer_attribute,', ') AS customer_attribute_agg\n",
        "  FROM `data-analytics-demo-u0i2dr3u3j.rideshare_llm_enriched.customer_attribute`\n",
        "WHERE customer_id IN (3760, 549, 2672, 3025)\n",
        "GROUP BY customer_id;"
      ],
      "metadata": {
        "id": "eu5zWoWeI478"
      },
      "id": "eu5zWoWeI478",
      "execution_count": null,
      "outputs": []
    },
    {
      "cell_type": "markdown",
      "source": [
        "Create the Customer Attibute Summary"
      ],
      "metadata": {
        "id": "bNeLnSMtO-M6"
      },
      "id": "bNeLnSMtO-M6"
    },
    {
      "cell_type": "code",
      "source": [
        "%%bigquery\n",
        "\n",
        "-- We will take the concatenated list of attributes and run them through our LLM to create a Customer Theme/Attibute Summary\n",
        "-- Customer Id: 3760\n",
        "\n",
        "SELECT JSON_VALUE(ml_generate_text_result, '$.predictions[0].content') AS result,\n",
        "  FROM ML.GENERATE_TEXT(MODEL`data-analytics-demo-u0i2dr3u3j.rideshare_llm_curated.cloud_ai_llm_v1`,\n",
        "       (SELECT\n",
        "\"\"\"\n",
        "Write a 50 to 600 word summary for the following customer preferences.\n",
        "1. The customer's name is Paulina Peruzzi.\n",
        "2. Write the summary in present tense.\n",
        "3. Write the summary from the customers prespective.\n",
        "4. Do not repeat the same subject in the summary.\n",
        "5. Write 3 to 6 sentences.\n",
        "\n",
        "Preference: likes a clean car.\n",
        "Preference: likes a warm vehicle inside.\n",
        "Preference: likes to have a conversation.\n",
        "Preference: likes their driver to drive slow.\n",
        "Preference: prefers the radio off.\n",
        "\"\"\" AS prompt),\n",
        "STRUCT(\n",
        "  -- Set the parameters for a more creative/random responses\n",
        "  -- You can adjust these during the demo\n",
        "  .75  AS temperature,  -- Change this to Zero and One to see the results (demo default is .75)\n",
        "  1024 AS max_output_tokens,\n",
        "  1    AS top_p,\n",
        "  40   AS top_k\n",
        "  ));"
      ],
      "metadata": {
        "id": "Ry0xtGVgJ7p4"
      },
      "id": "Ry0xtGVgJ7p4",
      "execution_count": null,
      "outputs": []
    },
    {
      "cell_type": "markdown",
      "source": [
        "**Demo:** Rerun the above SQL changing the temperature parameter to see the varying responses."
      ],
      "metadata": {
        "id": "gOgqG_F2MVcv"
      },
      "id": "gOgqG_F2MVcv"
    },
    {
      "cell_type": "markdown",
      "source": [
        "## **Step 06: Summarize All Reviews**"
      ],
      "metadata": {
        "id": "s3L2_59nPG3H"
      },
      "id": "s3L2_59nPG3H"
    },
    {
      "cell_type": "markdown",
      "source": [
        "### Summary"
      ],
      "metadata": {
        "id": "DEO76K_IPQdx"
      },
      "id": "DEO76K_IPQdx"
    },
    {
      "cell_type": "markdown",
      "source": [
        "For each Driver summarize all the customer reviews for that driver.\n",
        "\n",
        "For each Customer summarize all their reviews for their various drivers."
      ],
      "metadata": {
        "id": "4y33SqPYPUzP"
      },
      "id": "4y33SqPYPUzP"
    },
    {
      "cell_type": "markdown",
      "source": [
        "### Code (Driver Review Summary)"
      ],
      "metadata": {
        "id": "Ms2Bus35PUfJ"
      },
      "id": "Ms2Bus35PUfJ"
    },
    {
      "cell_type": "code",
      "source": [
        "%%bigquery\n",
        "\n",
        "SELECT CONCAT('Write a 100 to 600 word summary for the following customer reviews.\\n',\n",
        "              '1. Write the summary in present tense.\\n',\n",
        "              '2. Write the summary from the customers prespective.\\n',\n",
        "              '3. Do not repeat the same subject in the summary.\\n',\n",
        "              '4. The reviews are for the driver ', driver_name, ' at a rideshare company.\\n',\n",
        "              '5. The reviews are written by different customers.\\n',\n",
        "              '6. Write 3 to 6 sentences.\\n',\n",
        "               customer_review_agg) AS prompt\n",
        "  FROM (\n",
        "    SELECT customer_review.driver_id,\n",
        "               STRING_AGG(CONCAT(\"Review: \",customer_review_text),'\\n') AS customer_review_agg\n",
        "          FROM (SELECT driver_id,\n",
        "                       customer_review_text\n",
        "                  FROM (SELECT trip.driver_id,\n",
        "                               trip.pickup_time,\n",
        "                               customer_review.customer_review_text,\n",
        "                               ROW_NUMBER() OVER (PARTITION BY trip.driver_id ORDER BY trip.pickup_time) AS row_nbr\n",
        "                          FROM `data-analytics-demo-u0i2dr3u3j.rideshare_llm_enriched.customer_review` AS customer_review\n",
        "                               INNER JOIN `data-analytics-demo-u0i2dr3u3j.rideshare_llm_enriched.trip` AS trip\n",
        "                                       ON customer_review.trip_id = trip.trip_id\n",
        "                                      AND customer_review.driver_id = 23 -- Change this for demoing different drivers\n",
        "                       ) AS reviews\n",
        "                 WHERE row_nbr < 50 -- top 50 most recent\n",
        "               ) AS customer_review\n",
        "        GROUP BY driver_id\n",
        "\n",
        "        ) AS top_reviews\n",
        "        INNER JOIN `data-analytics-demo-u0i2dr3u3j.rideshare_llm_enriched.driver` AS driver\n",
        "                ON driver.driver_id = top_reviews.driver_id;"
      ],
      "metadata": {
        "id": "ulwJl82wPyGZ"
      },
      "id": "ulwJl82wPyGZ",
      "execution_count": null,
      "outputs": []
    },
    {
      "cell_type": "code",
      "source": [
        "%%bigquery\n",
        "\n",
        "-- Driver\n",
        "\n",
        "SELECT JSON_VALUE(ml_generate_text_result, '$.predictions[0].content') AS result,\n",
        "  FROM ML.GENERATE_TEXT(MODEL`data-analytics-demo-u0i2dr3u3j.rideshare_llm_curated.cloud_ai_llm_v1`,\n",
        "       (\n",
        "        SELECT CONCAT('Write a 100 to 600 word summary for the following customer reviews.\\n',\n",
        "                      '1. Write the summary in present tense.\\n',\n",
        "                      '2. Write the summary from the customers prespective.\\n',\n",
        "                      '3. Do not repeat the same subject in the summary.\\n',\n",
        "                      '4. The reviews are for the driver ', driver_name, ' at a rideshare company.\\n',\n",
        "                      '5. The reviews are written by different customers.\\n',\n",
        "                      '6. Write 3 to 6 sentences.\\n',\n",
        "                       customer_review_agg) AS prompt\n",
        "          FROM (\n",
        "            SELECT customer_review.driver_id,\n",
        "                       STRING_AGG(CONCAT(\"Review: \",customer_review_text),'\\n') AS customer_review_agg\n",
        "                  FROM (SELECT driver_id,\n",
        "                               customer_review_text\n",
        "                          FROM (SELECT trip.driver_id,\n",
        "                                       trip.pickup_time,\n",
        "                                       customer_review.customer_review_text,\n",
        "                                       ROW_NUMBER() OVER (PARTITION BY trip.driver_id ORDER BY trip.pickup_time) AS row_nbr\n",
        "                                  FROM `data-analytics-demo-u0i2dr3u3j.rideshare_llm_enriched.customer_review` AS customer_review\n",
        "                                       INNER JOIN `data-analytics-demo-u0i2dr3u3j.rideshare_llm_enriched.trip` AS trip\n",
        "                                               ON customer_review.trip_id = trip.trip_id\n",
        "                                              AND customer_review.driver_id = 23 -- Change this for demoing different drivers\n",
        "                               ) AS reviews\n",
        "                         WHERE row_nbr < 50 -- top 50 most recent\n",
        "                       ) AS customer_review\n",
        "                GROUP BY driver_id\n",
        "                ) AS top_reviews\n",
        "                INNER JOIN `data-analytics-demo-u0i2dr3u3j.rideshare_llm_enriched.driver` AS driver\n",
        "                        ON driver.driver_id = top_reviews.driver_id),\n",
        "STRUCT(\n",
        "  -- Set the parameters for a more creative/random responses\n",
        "  -- You can adjust these during the demo\n",
        "  .75  AS temperature,  -- Change this to Zero and One to see the results (demo default is .75)\n",
        "  1024 AS max_output_tokens,\n",
        "  1    AS top_p,\n",
        "  40   AS top_k\n",
        "  ));"
      ],
      "metadata": {
        "id": "fBL1ycN_P8GL"
      },
      "id": "fBL1ycN_P8GL",
      "execution_count": null,
      "outputs": []
    },
    {
      "cell_type": "markdown",
      "source": [
        "### Code (Customer Review Summary)"
      ],
      "metadata": {
        "id": "44Kx1w_qPeDz"
      },
      "id": "44Kx1w_qPeDz"
    },
    {
      "cell_type": "code",
      "source": [
        "%%bigquery\n",
        "\n",
        "SELECT CONCAT('Write a 100 to 600 word summary for the following customer reviews.\\n',\n",
        "              '1. The reviews are written by ', customer.customer_name, '.\\n',\n",
        "              '2. Write the summary in present tense.\\n',\n",
        "              '3. Do not repeat the same subject in the summary.\\n',\n",
        "              '4. The reviews are for different drivers.\\n',\n",
        "              '5. The reviews are a single rideshare company.\\n',\n",
        "              '6. The drivers all work for the rideshare company.\\n',\n",
        "              '7. Write 3 to 6 sentences.\\n',\n",
        "               customer_review_agg)\n",
        "  FROM (SELECT customer_id,\n",
        "               STRING_AGG(CONCAT('Review: ',customer_review_text,'\\n'),'') AS customer_review_agg\n",
        "          FROM `data-analytics-demo-u0i2dr3u3j.rideshare_llm_enriched.customer_review`\n",
        "         WHERE customer_id = 3556\n",
        "         GROUP BY customer_id) AS customer_review\n",
        "       INNER JOIN `data-analytics-demo-u0i2dr3u3j.rideshare_llm_enriched.customer` AS customer\n",
        "               ON customer.customer_id = customer_review.customer_id;"
      ],
      "metadata": {
        "id": "RADTgOuKPzCS"
      },
      "id": "RADTgOuKPzCS",
      "execution_count": null,
      "outputs": []
    },
    {
      "cell_type": "code",
      "source": [
        "%%bigquery\n",
        "\n",
        "-- Customer\n",
        "\n",
        "SELECT JSON_VALUE(ml_generate_text_result, '$.predictions[0].content') AS result,\n",
        "  FROM ML.GENERATE_TEXT(MODEL`data-analytics-demo-u0i2dr3u3j.rideshare_llm_curated.cloud_ai_llm_v1`,\n",
        "       (SELECT CONCAT('Write a 100 to 600 word summary for the following customer reviews.\\n',\n",
        "                      '1. The reviews are written by ', customer.customer_name, '.\\n',\n",
        "                      '2. Write the summary in present tense.\\n',\n",
        "                      '3. Do not repeat the same subject in the summary.\\n',\n",
        "                      '4. The reviews are for different drivers.\\n',\n",
        "                      '5. The reviews are a single rideshare company.\\n',\n",
        "                      '6. The drivers all work for the rideshare company.\\n',\n",
        "                      '7. Write 3 to 6 sentences.\\n',\n",
        "                      customer_review_agg) AS prompt\n",
        "         FROM (SELECT customer_id,\n",
        "                      STRING_AGG(CONCAT('Review: ',customer_review_text,'\\n'),'') AS customer_review_agg\n",
        "                 FROM `data-analytics-demo-u0i2dr3u3j.rideshare_llm_enriched.customer_review`\n",
        "                WHERE customer_id = 3556\n",
        "                GROUP BY customer_id) AS customer_review\n",
        "              INNER JOIN `data-analytics-demo-u0i2dr3u3j.rideshare_llm_enriched.customer` AS customer\n",
        "                      ON customer.customer_id = customer_review.customer_id),\n",
        "STRUCT(\n",
        "  -- Set the parameters for a more creative/random responses\n",
        "  -- You can adjust these during the demo\n",
        "  1    AS temperature,  -- Change this to 0, .75 and 1 to see the results (demo default is 1)\n",
        "  1024 AS max_output_tokens,\n",
        "  1    AS top_p,\n",
        "  40   AS top_k\n",
        "  ));"
      ],
      "metadata": {
        "id": "f4x2LGjfSinV"
      },
      "id": "f4x2LGjfSinV",
      "execution_count": null,
      "outputs": []
    },
    {
      "cell_type": "markdown",
      "source": [
        "## **Step 07: Perform Quantitative analysis and summarize with LLM**"
      ],
      "metadata": {
        "id": "iUg7kigqTlh1"
      },
      "id": "iUg7kigqTlh1"
    },
    {
      "cell_type": "markdown",
      "source": [
        "### Summary"
      ],
      "metadata": {
        "id": "wos_HI-OT3Df"
      },
      "id": "wos_HI-OT3Df"
    },
    {
      "cell_type": "markdown",
      "source": [
        "Using a our trip data, it was summed, averaged and analyized to find some common patterns of drivers.  The data is then passed to the LLM to create a summary.\n",
        "\n",
        "To see how the quanitative data was created please see the stored procedure\n",
        "- data-analytics-demo-u0i2dr3u3j.rideshare_llm_enriched.sp_step_01_quantitative_analysis"
      ],
      "metadata": {
        "id": "jbPArD7HT6pP"
      },
      "id": "jbPArD7HT6pP"
    },
    {
      "cell_type": "markdown",
      "source": [
        "### Code (Driver Quantitative Analysis)"
      ],
      "metadata": {
        "id": "1tpCXW_1T7mu"
      },
      "id": "1tpCXW_1T7mu"
    },
    {
      "cell_type": "code",
      "source": [
        "%%bigquery\n",
        "SELECT driver_quantitative_analysis_prompt\n",
        "  FROM `data-analytics-demo-u0i2dr3u3j.rideshare_llm_enriched.driver` AS driver\n",
        " WHERE driver_id = 66;"
      ],
      "metadata": {
        "id": "HnArKqNOTzlY"
      },
      "id": "HnArKqNOTzlY",
      "execution_count": null,
      "outputs": []
    },
    {
      "cell_type": "code",
      "source": [
        "%%bigquery\n",
        "\n",
        "SELECT JSON_VALUE(ml_generate_text_result, '$.predictions[0].content') AS result,\n",
        "  FROM ML.GENERATE_TEXT(MODEL`data-analytics-demo-u0i2dr3u3j.rideshare_llm_curated.cloud_ai_llm_v1`,\n",
        "       (SELECT\n",
        "\"\"\"\n",
        "Write a 3 to 8 sentence summary of the following attributes of a driver in third person gender neutral form:\n",
        "- The driver picks up customers at 4 pickup locations. This is an average number. These locations are: Midtown South, Elmhurst, University Heights/Morris Heights, Brownsville.\n",
        "- The driver is not willing to drive accross state lines.\n",
        "- The driver typically does not pickup or dropoff at the airport.\n",
        "- The driver only works on weekdays.\n",
        "- The driver likes to work a split shift which appears to target rush hour.\n",
        "\"\"\" AS prompt),\n",
        "STRUCT(\n",
        "  -- Set the parameters for a more creative/random responses\n",
        "  -- You can adjust these during the demo\n",
        "  .8   AS temperature,  -- Change this to Zero and One to see the results (demo default is .8)\n",
        "  1024 AS max_output_tokens,\n",
        "  .70  AS top_p,\n",
        "  25   AS top_k\n",
        "  ));"
      ],
      "metadata": {
        "id": "cqkfn7MIUUl2"
      },
      "id": "cqkfn7MIUUl2",
      "execution_count": null,
      "outputs": []
    },
    {
      "cell_type": "markdown",
      "source": [
        "### Code (Customer Quantitative Analysis)"
      ],
      "metadata": {
        "id": "rMlYOIw0Vg2n"
      },
      "id": "rMlYOIw0Vg2n"
    },
    {
      "cell_type": "code",
      "source": [
        "%%bigquery\n",
        "\n",
        "SELECT customer_quantitative_analysis_prompt\n",
        "  FROM `data-analytics-demo-u0i2dr3u3j.rideshare_llm_enriched.customer` AS customer\n",
        " WHERE customer_id  = 3219;"
      ],
      "metadata": {
        "id": "c1BsBoU4VlD_"
      },
      "id": "c1BsBoU4VlD_",
      "execution_count": null,
      "outputs": []
    },
    {
      "cell_type": "code",
      "source": [
        "%%bigquery\n",
        "\n",
        "SELECT JSON_VALUE(ml_generate_text_result, '$.predictions[0].content') AS result,\n",
        "  FROM ML.GENERATE_TEXT(MODEL`data-analytics-demo-u0i2dr3u3j.rideshare_llm_curated.cloud_ai_llm_v1`,\n",
        "       (SELECT\n",
        "\"\"\"\n",
        "Write a 2 to 3 sentence summary of the following attributes of a customer who uses a rideshare services.\n",
        "- Martin Hernandez uses the service on weekdays.\n",
        "- Martin Hernandez likes to use the service during the morning and afternoon rush hours.\n",
        "\"\"\" AS prompt),\n",
        "STRUCT(\n",
        "  -- Set the parameters for a more creative/random responses\n",
        "  -- You can adjust these during the demo\n",
        "  .8   AS temperature,  -- Change this to Zero and One to see the results (demo default is .8)\n",
        "  1024 AS max_output_tokens,\n",
        "  .70  AS top_p,\n",
        "  25   AS top_k\n",
        "  ));"
      ],
      "metadata": {
        "id": "HWbs3wpGWgJR"
      },
      "id": "HWbs3wpGWgJR",
      "execution_count": null,
      "outputs": []
    }
  ]
}